{
 "cells": [
  {
   "cell_type": "code",
   "execution_count": 3,
   "id": "633ea52e",
   "metadata": {},
   "outputs": [
    {
     "name": "stdout",
     "output_type": "stream",
     "text": [
      "Enter a num1 :10\n",
      "Enter a num2 :20\n",
      "After swapping 20\n",
      "After swapping 10\n"
     ]
    }
   ],
   "source": [
    "# Swap two numbers\n",
    "\n",
    "# num1=10\n",
    "# num2=20\n",
    "\n",
    "num1=int(input(\"Enter a num1 :\"))\n",
    "num2=int(input(\"Enter a num2 :\"))\n",
    "\n",
    "temp=num1   # 10\n",
    "num1=num2   # 20\n",
    "num2=temp   # 10\n",
    "\n",
    "num1,num2=num2,num1\n",
    "\n",
    "print(f\"After swapping {num1}\")\n",
    "print(f\"After swapping {num2}\")"
   ]
  },
  {
   "cell_type": "code",
   "execution_count": 2,
   "id": "c32b048f",
   "metadata": {},
   "outputs": [
    {
     "name": "stdout",
     "output_type": "stream",
     "text": [
      "Enter a number :10\n",
      "10 is prime number\n"
     ]
    }
   ],
   "source": [
    "# Prime Number \n",
    "\n",
    "num=int(input(\"Enter a number :\"))\n",
    "\n",
    "count=0\n",
    "\n",
    "if num>1:\n",
    "    for i in range(2,num+1):\n",
    "        if(num%i)==0:\n",
    "            count=count+1\n",
    "            \n",
    "    if count==2:\n",
    "        print(f\"{num} not a prime number\")\n",
    "        \n",
    "    else:\n",
    "        print(f\"{num} is prime number\")"
   ]
  },
  {
   "cell_type": "code",
   "execution_count": 25,
   "id": "28f3f92e",
   "metadata": {},
   "outputs": [
    {
     "name": "stdout",
     "output_type": "stream",
     "text": [
      "Enter a number :10\n",
      "10  is not a prime number\n"
     ]
    }
   ],
   "source": [
    "num=int(input(\"Enter a number :\"))\n",
    "\n",
    "for i in range(2,num):\n",
    "    if(num%i==0):\n",
    "        print(num,\" is not a prime number\")\n",
    "        break\n",
    "        \n",
    "    else:\n",
    "        print(\"Prime Number\")"
   ]
  },
  {
   "cell_type": "code",
   "execution_count": 28,
   "id": "0a81c66b",
   "metadata": {},
   "outputs": [
    {
     "name": "stdout",
     "output_type": "stream",
     "text": [
      "Enter a number :5\n",
      "The given fact number is 120\n"
     ]
    }
   ],
   "source": [
    "# Factorial of a given number \n",
    "\n",
    "num=int(input(\"Enter a number :\"))\n",
    "\n",
    "fact=1\n",
    "\n",
    "if num<0:\n",
    "    print(\"Enter a positive number \")\n",
    "    \n",
    "elif num==0:\n",
    "    print(\"The factorial of 0 is 1\")\n",
    "    \n",
    "else:\n",
    "    for i in range(1,num+1):\n",
    "        fact=fact*i\n",
    "        \n",
    "    print(f\"The given fact number is {fact}\")"
   ]
  },
  {
   "cell_type": "code",
   "execution_count": 30,
   "id": "20ac06f4",
   "metadata": {},
   "outputs": [
    {
     "name": "stdout",
     "output_type": "stream",
     "text": [
      "Enter a number :5\n",
      "The given factorial number is 120\n"
     ]
    }
   ],
   "source": [
    "def fact(n):\n",
    "    if (n==0 or n==1):\n",
    "        return 1\n",
    "    \n",
    "    else:\n",
    "        return n*fact(n-1)\n",
    "    \n",
    "num=int(input(\"Enter a number :\"))\n",
    "\n",
    "out=fact(num)\n",
    "print(f\"The given factorial number is {out}\")"
   ]
  },
  {
   "cell_type": "code",
   "execution_count": 3,
   "id": "e64e5381",
   "metadata": {},
   "outputs": [
    {
     "name": "stdout",
     "output_type": "stream",
     "text": [
      "0\n",
      "1\n",
      "1\n",
      "2\n",
      "3\n",
      "5\n",
      "8\n",
      "13\n",
      "21\n",
      "34\n"
     ]
    }
   ],
   "source": [
    "# Fibonacci Series\n",
    "\n",
    "# 0 1 1 2 3 5 8 13\n",
    "\n",
    "n1=0\n",
    "n2=1\n",
    "\n",
    "print(n1)\n",
    "print(n2)\n",
    "\n",
    "sum=0\n",
    "\n",
    "for i in range(2,10):\n",
    "    sum=n1+n2   # 1\n",
    "    print(sum)  # 1 sum\n",
    "    n1=n2\n",
    "    n2=sum"
   ]
  },
  {
   "cell_type": "code",
   "execution_count": 3,
   "id": "2d43335b",
   "metadata": {},
   "outputs": [
    {
     "name": "stdout",
     "output_type": "stream",
     "text": [
      "Enter a number :5\n",
      "0\n",
      "1\n",
      "2\n",
      "3\n",
      "5\n"
     ]
    }
   ],
   "source": [
    "num=int(input(\"Enter a number :\"))\n",
    "\n",
    "n1=0\n",
    "n2=1\n",
    "\n",
    "sum=0\n",
    "\n",
    "for i in range(0,num):\n",
    "    print(sum)\n",
    "    \n",
    "    sum=n1+n2\n",
    "    n1=n2\n",
    "    n2=sum"
   ]
  },
  {
   "cell_type": "code",
   "execution_count": 45,
   "id": "88de05e5",
   "metadata": {},
   "outputs": [
    {
     "ename": "TypeError",
     "evalue": "'int' object is not callable",
     "output_type": "error",
     "traceback": [
      "\u001b[1;31m---------------------------------------------------------------------------\u001b[0m",
      "\u001b[1;31mTypeError\u001b[0m                                 Traceback (most recent call last)",
      "\u001b[1;32m~\\AppData\\Local\\Temp\\ipykernel_8248\\776100266.py\u001b[0m in \u001b[0;36m<module>\u001b[1;34m\u001b[0m\n\u001b[0;32m      3\u001b[0m \u001b[1;33m\u001b[0m\u001b[0m\n\u001b[0;32m      4\u001b[0m \u001b[0marr\u001b[0m\u001b[1;33m=\u001b[0m\u001b[1;33m[\u001b[0m\u001b[1;36m1\u001b[0m\u001b[1;33m,\u001b[0m\u001b[1;36m2\u001b[0m\u001b[1;33m,\u001b[0m\u001b[1;36m3\u001b[0m\u001b[1;33m,\u001b[0m\u001b[1;36m4\u001b[0m\u001b[1;33m,\u001b[0m\u001b[1;36m5\u001b[0m\u001b[1;33m]\u001b[0m\u001b[1;33m\u001b[0m\u001b[1;33m\u001b[0m\u001b[0m\n\u001b[1;32m----> 5\u001b[1;33m \u001b[0mprint\u001b[0m\u001b[1;33m(\u001b[0m\u001b[0msum\u001b[0m\u001b[1;33m(\u001b[0m\u001b[0marr\u001b[0m\u001b[1;33m)\u001b[0m\u001b[1;33m)\u001b[0m\u001b[1;33m\u001b[0m\u001b[1;33m\u001b[0m\u001b[0m\n\u001b[0m",
      "\u001b[1;31mTypeError\u001b[0m: 'int' object is not callable"
     ]
    }
   ],
   "source": [
    "# Sum of elements in array\n",
    "import math\n",
    "\n",
    "arr=[1,2,3,4,5]\n",
    "print(sum(arr))"
   ]
  },
  {
   "cell_type": "code",
   "execution_count": 46,
   "id": "01bcbc34",
   "metadata": {},
   "outputs": [
    {
     "ename": "TypeError",
     "evalue": "'int' object is not callable",
     "output_type": "error",
     "traceback": [
      "\u001b[1;31m---------------------------------------------------------------------------\u001b[0m",
      "\u001b[1;31mTypeError\u001b[0m                                 Traceback (most recent call last)",
      "\u001b[1;32m~\\AppData\\Local\\Temp\\ipykernel_8248\\2912832493.py\u001b[0m in \u001b[0;36m<module>\u001b[1;34m\u001b[0m\n\u001b[0;32m      1\u001b[0m \u001b[1;31m# Now I will add 10\u001b[0m\u001b[1;33m\u001b[0m\u001b[1;33m\u001b[0m\u001b[0m\n\u001b[0;32m      2\u001b[0m \u001b[1;33m\u001b[0m\u001b[0m\n\u001b[1;32m----> 3\u001b[1;33m \u001b[0mprint\u001b[0m\u001b[1;33m(\u001b[0m\u001b[0msum\u001b[0m\u001b[1;33m(\u001b[0m\u001b[0marr\u001b[0m\u001b[1;33m,\u001b[0m\u001b[1;36m10\u001b[0m\u001b[1;33m)\u001b[0m\u001b[1;33m)\u001b[0m\u001b[1;33m\u001b[0m\u001b[1;33m\u001b[0m\u001b[0m\n\u001b[0m",
      "\u001b[1;31mTypeError\u001b[0m: 'int' object is not callable"
     ]
    }
   ],
   "source": [
    "# Now I will add 10\n",
    "\n",
    "print(sum(arr,10))\n",
    "print(sum(arr,-10))"
   ]
  },
  {
   "cell_type": "code",
   "execution_count": 67,
   "id": "13dd4e2c",
   "metadata": {},
   "outputs": [
    {
     "name": "stdout",
     "output_type": "stream",
     "text": [
      "55  Maximum element\n"
     ]
    }
   ],
   "source": [
    "# Max and Min elements in array\n",
    "# Mulitple appoarch is available\n",
    "\n",
    "# Logic appoarch\n",
    "arr=[1,2,3,4,5,55]\n",
    "\n",
    "max=arr[0]\n",
    "n=len(arr)\n",
    "\n",
    "for i in range(1,n):\n",
    "    if arr[i]>max:\n",
    "        max=arr[i]\n",
    "print(max,\" Maximum element\")"
   ]
  },
  {
   "cell_type": "code",
   "execution_count": 66,
   "id": "2edcc658",
   "metadata": {},
   "outputs": [
    {
     "name": "stdout",
     "output_type": "stream",
     "text": [
      "5 Minimum element\n"
     ]
    }
   ],
   "source": [
    "# Finding Minimum element\n",
    "\n",
    "arr=[10,20,30,44,5,6,7,10]\n",
    "\n",
    "min=arr[0]\n",
    "n=len(arr)\n",
    "\n",
    "for i in range(n):\n",
    "    if arr[i]<min:\n",
    "        min=arr[i]\n",
    "print(min,\"Minimum element\")"
   ]
  },
  {
   "cell_type": "code",
   "execution_count": 76,
   "id": "0e58c6ed",
   "metadata": {},
   "outputs": [
    {
     "name": "stdout",
     "output_type": "stream",
     "text": [
      "[1, 4, 6, 7, 8]\n",
      "5\n",
      "\n",
      "Find lenght using len func 5\n"
     ]
    }
   ],
   "source": [
    "# Find Length of a List \n",
    "\n",
    "lst=[1,4,6,7,8]\n",
    "print(lst)\n",
    "\n",
    "count=0\n",
    "\n",
    "for i in lst:\n",
    "    count+=1\n",
    "    \n",
    "print(count)\n",
    "\n",
    "print()\n",
    "\n",
    "# Using length function\n",
    "\n",
    "mylist=[1,2,3,4,5]\n",
    "print(f\"Find lenght using len func {len(mylist)}\")"
   ]
  },
  {
   "cell_type": "code",
   "execution_count": 2,
   "id": "8a019ba7",
   "metadata": {},
   "outputs": [
    {
     "name": "stdout",
     "output_type": "stream",
     "text": [
      "After swapping :[24, 35, 9, 56, 12]\n"
     ]
    }
   ],
   "source": [
    "# Swap first and last element in a list\n",
    "\n",
    "# Apprch 1 : Temporarary variable \n",
    "list=[12,35,9,56,24]\n",
    "\n",
    "size=len(list)   # 5 ! Index value starting from 0\n",
    "\n",
    "temp=list[0]\n",
    "list[0]=list[size-1]\n",
    "list[size-1]=temp\n",
    "\n",
    "print(f\"After swapping :{list}\")"
   ]
  },
  {
   "cell_type": "code",
   "execution_count": 5,
   "id": "0b72262c",
   "metadata": {},
   "outputs": [
    {
     "name": "stdout",
     "output_type": "stream",
     "text": [
      "After swapping [24, 35, 9, 56, 12]\n"
     ]
    }
   ],
   "source": [
    "# Diff approach\n",
    "\n",
    "list=[12,35,9,56,24]\n",
    "\n",
    "list[0],list[-1]=list[-1],list[0]\n",
    "print(f\"After swapping {list}\")"
   ]
  },
  {
   "cell_type": "code",
   "execution_count": 8,
   "id": "5301b41b",
   "metadata": {},
   "outputs": [
    {
     "name": "stdout",
     "output_type": "stream",
     "text": [
      "[23, 65, 19, 90]\n",
      "After swapping : [23, 90, 19, 65]\n"
     ]
    }
   ],
   "source": [
    "# Swap any elements in a list\n",
    "\n",
    "mylist=[23,65,19,90]   # Index start from 0\n",
    "print(mylist)\n",
    "\n",
    "pos1,pos2=1,3\n",
    "\n",
    "mylist[pos1],mylist[pos2]=mylist[pos2],mylist[pos1]\n",
    "\n",
    "print(f\"After swapping : {mylist}\")"
   ]
  },
  {
   "cell_type": "code",
   "execution_count": 9,
   "id": "f293f4bb",
   "metadata": {},
   "outputs": [
    {
     "name": "stdout",
     "output_type": "stream",
     "text": [
      "[23, 90, 19, 65]\n"
     ]
    }
   ],
   "source": [
    "mylist=[23,65,19,90] \n",
    "pos1,pos2=1,3\n",
    "\n",
    "frst_elem=mylist.pop(pos1)   # 65\n",
    "Sec_elem=mylist.pop(pos2-1)  # 23,19,90 \n",
    "\n",
    "mylist.insert(pos1,Sec_elem)\n",
    "mylist.insert(pos2,frst_elem)\n",
    "\n",
    "print(mylist)"
   ]
  },
  {
   "cell_type": "code",
   "execution_count": 15,
   "id": "3ae8d44e",
   "metadata": {},
   "outputs": [
    {
     "name": "stdout",
     "output_type": "stream",
     "text": [
      "['geeks', 'for']\n"
     ]
    }
   ],
   "source": [
    "# Remove N-th occurenece of given word\n",
    "\n",
    "lst=[\"geeks\",\"for\",\"geeks\"]\n",
    "\n",
    "word=\"geeks\"\n",
    "n=2\n",
    "\n",
    "count=0\n",
    "\n",
    "for i in range(0,len(lst)):\n",
    "    if (lst[i]==word):\n",
    "        count=count+1\n",
    "        if(count==n):\n",
    "            del lst[i]\n",
    "print(lst)"
   ]
  },
  {
   "cell_type": "code",
   "execution_count": 4,
   "id": "475b9073",
   "metadata": {},
   "outputs": [
    {
     "name": "stdout",
     "output_type": "stream",
     "text": [
      "Element Found :4\n"
     ]
    }
   ],
   "source": [
    "# Search an element in list\n",
    "\n",
    "mylist=[1,3,5,3,4]\n",
    "\n",
    "ele=4\n",
    "\n",
    "for i in mylist:\n",
    "    if(i==ele):\n",
    "        print(f\"Element Found :{i}\")"
   ]
  },
  {
   "cell_type": "code",
   "execution_count": 6,
   "id": "760c6e0b",
   "metadata": {},
   "outputs": [
    {
     "name": "stdout",
     "output_type": "stream",
     "text": [
      "Element not found\n"
     ]
    }
   ],
   "source": [
    "\n",
    "mylist=[1,3,5,3,4]\n",
    "\n",
    "ele=100\n",
    "flag=0\n",
    "\n",
    "for i in mylist:\n",
    "    if(i==ele):\n",
    "        print(f\"Element Found :{i}\")\n",
    "        flag=1\n",
    "        break\n",
    "        \n",
    "if(flag==0):\n",
    "    print(\"Element not found\")"
   ]
  },
  {
   "cell_type": "code",
   "execution_count": 8,
   "id": "137deae0",
   "metadata": {},
   "outputs": [
    {
     "name": "stdout",
     "output_type": "stream",
     "text": [
      "Element not Found\n"
     ]
    }
   ],
   "source": [
    "mylist=[1,3,5,3,4]\n",
    "\n",
    "ele=100\n",
    "\n",
    "if (ele in mylist):\n",
    "    print(\"Element Found\")\n",
    "    \n",
    "else:\n",
    "    print(\"Element not Found\")\n"
   ]
  },
  {
   "cell_type": "code",
   "execution_count": 9,
   "id": "c934fb9d",
   "metadata": {},
   "outputs": [
    {
     "name": "stdout",
     "output_type": "stream",
     "text": [
      "Mylist before clear :[3, 5, 7, 10]\n",
      "Mylist after clear :[]\n"
     ]
    }
   ],
   "source": [
    "# How to clear a list\n",
    "\n",
    "mylist=[3,5,7,10]\n",
    "print(f\"Mylist before clear :{mylist}\")\n",
    "\n",
    "mylist.clear()\n",
    "print(f\"Mylist after clear :{mylist}\")"
   ]
  },
  {
   "cell_type": "code",
   "execution_count": 10,
   "id": "e8e30341",
   "metadata": {},
   "outputs": [
    {
     "name": "stdout",
     "output_type": "stream",
     "text": [
      "Mylist before clear :[3, 4, 5, 7, 3, 1]\n",
      "Mylist after clear :[]\n"
     ]
    }
   ],
   "source": [
    "mylist=[3,4,5,7,3,1]\n",
    "print(f\"Mylist before clear :{mylist}\")\n",
    "\n",
    "mylist *=0   # It will use to delete list\n",
    "print(f\"Mylist after clear :{mylist}\")"
   ]
  },
  {
   "cell_type": "code",
   "execution_count": 20,
   "id": "99412f0b",
   "metadata": {},
   "outputs": [
    {
     "name": "stdout",
     "output_type": "stream",
     "text": [
      "Mylist before clear :[3, 4, 5, 7, 3, 1]\n",
      "[]\n"
     ]
    }
   ],
   "source": [
    "mylist=[3,4,5,7,3,1]\n",
    "print(f\"Mylist before clear :{mylist}\")\n",
    "\n",
    "del mylist[0:5]\n",
    "del mylist[:]   # It will remove everything from list\n",
    "print(mylist)"
   ]
  },
  {
   "cell_type": "code",
   "execution_count": 23,
   "id": "8058ba30",
   "metadata": {},
   "outputs": [
    {
     "name": "stdout",
     "output_type": "stream",
     "text": [
      "Before reversing :[11, 12, 13, 14, 15]\n",
      "After reversing :[15, 14, 13, 12, 11]\n"
     ]
    }
   ],
   "source": [
    "# Reverse a List\n",
    "\n",
    "mylist=[11,12,13,14,15]\n",
    "print(f\"Before reversing :{mylist}\")\n",
    "\n",
    "mylist.reverse()\n",
    "print(f\"After reversing :{mylist}\")"
   ]
  },
  {
   "cell_type": "code",
   "execution_count": 24,
   "id": "f8d87393",
   "metadata": {},
   "outputs": [
    {
     "name": "stdout",
     "output_type": "stream",
     "text": [
      "Before reversing :[11, 12, 13, 14, 15]\n"
     ]
    },
    {
     "data": {
      "text/plain": [
       "[15, 14, 13, 12, 11]"
      ]
     },
     "execution_count": 24,
     "metadata": {},
     "output_type": "execute_result"
    }
   ],
   "source": [
    "mylist=[11,12,13,14,15]\n",
    "print(f\"Before reversing :{mylist}\")\n",
    "\n",
    "mylist[::-1]"
   ]
  },
  {
   "cell_type": "code",
   "execution_count": 28,
   "id": "a69ab3e7",
   "metadata": {},
   "outputs": [
    {
     "name": "stdout",
     "output_type": "stream",
     "text": [
      "Before reversing :[11, 12, 13, 14, 15]\n",
      "[15, 14, 13, 12, 11]\n"
     ]
    }
   ],
   "source": [
    "mylist=[11,12,13,14,15]\n",
    "print(f\"Before reversing :{mylist}\")\n",
    "\n",
    "mylist2=mylist[::-1]\n",
    "print(mylist2)"
   ]
  },
  {
   "cell_type": "code",
   "execution_count": 3,
   "id": "38eeb26f",
   "metadata": {},
   "outputs": [
    {
     "name": "stdout",
     "output_type": "stream",
     "text": [
      "[4, 7, 2, 10, 15, 18]\n"
     ]
    }
   ],
   "source": [
    "# How to Clone Or Copy a List\n",
    "\n",
    "mylist=[4,7,2,10,15,18]\n",
    "\n",
    "list_copy=mylist[:]\n",
    "print(list_copy)"
   ]
  },
  {
   "cell_type": "code",
   "execution_count": 4,
   "id": "eb18cdac",
   "metadata": {},
   "outputs": [
    {
     "name": "stdout",
     "output_type": "stream",
     "text": [
      "[4, 7, 2, 10, 15, 18]\n"
     ]
    }
   ],
   "source": [
    "mylist=[4,7,2,10,15,18]\n",
    "\n",
    "empty_list=[]\n",
    "empty_list.extend(mylist)\n",
    "print(empty_list)"
   ]
  },
  {
   "cell_type": "code",
   "execution_count": 6,
   "id": "f53187e0",
   "metadata": {},
   "outputs": [
    {
     "name": "stdout",
     "output_type": "stream",
     "text": [
      "[4, 7, 2, 10, 15, 18]\n"
     ]
    }
   ],
   "source": [
    "mylist=[4,7,2,10,15,18]\n",
    "\n",
    "list_copy=list(mylist)\n",
    "print(list_copy)"
   ]
  },
  {
   "cell_type": "code",
   "execution_count": 8,
   "id": "cfecd43e",
   "metadata": {},
   "outputs": [
    {
     "name": "stdout",
     "output_type": "stream",
     "text": [
      "[4, 7, 2, 10, 15, 18]\n"
     ]
    }
   ],
   "source": [
    "mylist=[4,7,2,10,15,18]\n",
    "\n",
    "cpy_list=mylist.copy()\n",
    "print(cpy_list)"
   ]
  },
  {
   "cell_type": "code",
   "execution_count": 12,
   "id": "6d190896",
   "metadata": {},
   "outputs": [
    {
     "name": "stdout",
     "output_type": "stream",
     "text": [
      "Enter a number :3\n",
      "3 has occurence 5 of times\n"
     ]
    }
   ],
   "source": [
    "# Occurence of an element in a list\n",
    "\n",
    "mylist=[1,2,3,2,3,3,4,3,3,10,5,7]\n",
    "\n",
    "num=int(input(\"Enter a number :\"))\n",
    "count=0\n",
    "\n",
    "for x in mylist:\n",
    "    if x==num:\n",
    "        count+=1\n",
    "        \n",
    "print(f\"{num} has occurence {count} of times\")"
   ]
  },
  {
   "cell_type": "code",
   "execution_count": 15,
   "id": "94ed229b",
   "metadata": {},
   "outputs": [
    {
     "name": "stdout",
     "output_type": "stream",
     "text": [
      "Enter a number :3\n",
      "3 has occurence 5 of times\n"
     ]
    }
   ],
   "source": [
    "mylist=[1,2,3,2,3,3,4,3,3,10,5,7]\n",
    "\n",
    "num=int(input(\"Enter a number :\"))\n",
    "res=mylist.count(num)\n",
    "print(f\"{num} has occurence {res} of times\")"
   ]
  },
  {
   "cell_type": "code",
   "execution_count": 20,
   "id": "e6fb0403",
   "metadata": {},
   "outputs": [
    {
     "name": "stdout",
     "output_type": "stream",
     "text": [
      "3 has occurence 5 of times\n"
     ]
    }
   ],
   "source": [
    "from collections import Counter   # Using counter method - Counter()\n",
    "\n",
    "mylist=[1,2,3,2,3,3,4,3,3,10,5,7]\n",
    "\n",
    "num=3\n",
    "\n",
    "dic=Counter(mylist)\n",
    "#print(dic)\n",
    "\n",
    "print(f\"{num} has occurence {dic[num]} of times\")"
   ]
  },
  {
   "cell_type": "code",
   "execution_count": 23,
   "id": "651641b3",
   "metadata": {},
   "outputs": [
    {
     "name": "stdout",
     "output_type": "stream",
     "text": [
      "Sum of all elements in given list :35\n"
     ]
    }
   ],
   "source": [
    "# Find sum of elements in List\n",
    "\n",
    "mylist=[10,5,20]\n",
    "\n",
    "total=0\n",
    "\n",
    "for i in range(0,len(mylist)):\n",
    "    total=total+mylist[i]\n",
    "    \n",
    "print(f\"Sum of all elements in given list :{total}\")"
   ]
  },
  {
   "cell_type": "code",
   "execution_count": 26,
   "id": "908aa806",
   "metadata": {},
   "outputs": [
    {
     "name": "stdout",
     "output_type": "stream",
     "text": [
      "Sum of all elements :35\n"
     ]
    }
   ],
   "source": [
    "mylist=[10,5,20]\n",
    "\n",
    "res=sum(mylist)  # Using sum method\n",
    "print(f\"Sum of all elements :{res}\")"
   ]
  },
  {
   "cell_type": "code",
   "execution_count": 28,
   "id": "a6634e70",
   "metadata": {},
   "outputs": [
    {
     "name": "stdout",
     "output_type": "stream",
     "text": [
      "Multiple of all elements :24\n"
     ]
    }
   ],
   "source": [
    "# Multiply all elements in a List\n",
    "\n",
    "mylist=[2,3,4]\n",
    "\n",
    "res=1\n",
    "\n",
    "for i in mylist:\n",
    "    res=res*i    # 2\n",
    "    \n",
    "print(f\"Multiple of all elements :{res}\")"
   ]
  },
  {
   "cell_type": "code",
   "execution_count": 30,
   "id": "0550f40b",
   "metadata": {},
   "outputs": [
    {
     "name": "stdout",
     "output_type": "stream",
     "text": [
      "Multiple of all elements :24\n"
     ]
    }
   ],
   "source": [
    "import numpy \n",
    "\n",
    "mylist=[2,3,4]\n",
    "\n",
    "res=numpy.prod(mylist)\n",
    "print(f\"Multiple of all elements :{res}\")"
   ]
  },
  {
   "cell_type": "code",
   "execution_count": 35,
   "id": "1c7013ce",
   "metadata": {},
   "outputs": [
    {
     "name": "stdout",
     "output_type": "stream",
     "text": [
      "[1, 10, 20, 20, 100]\n",
      "Smallest Element : 1\n",
      "largest Element  : 100\n"
     ]
    }
   ],
   "source": [
    "#  Find Smallest and Largest element in a list\n",
    "\n",
    "mylist=[20,100,1,20,10]\n",
    "\n",
    "mylist.sort()\n",
    "print(mylist)\n",
    "\n",
    "print(\"Smallest Element :\",mylist[0])\n",
    "print(\"largest Element  :\",mylist[-1])"
   ]
  },
  {
   "cell_type": "code",
   "execution_count": 37,
   "id": "d3827b5e",
   "metadata": {},
   "outputs": [
    {
     "name": "stdout",
     "output_type": "stream",
     "text": [
      "Smallest element : 1\n",
      "Largest element  : 100\n"
     ]
    }
   ],
   "source": [
    "mylist=[20,100,1,20,10]\n",
    "\n",
    "print(\"Smallest element :\",min(mylist))\n",
    "print(\"Largest element  :\",max(mylist))"
   ]
  },
  {
   "cell_type": "code",
   "execution_count": 42,
   "id": "5863e963",
   "metadata": {},
   "outputs": [
    {
     "name": "stdout",
     "output_type": "stream",
     "text": [
      "[4, 11, 20, 70, 100]\n",
      "\n",
      "Second largest number : 70\n"
     ]
    }
   ],
   "source": [
    "# Find Second largest element in a list\n",
    "\n",
    "mylist=[70,11,20,4,100]\n",
    "\n",
    "mylist.sort()\n",
    "print(mylist)\n",
    "\n",
    "print()\n",
    "\n",
    "print(\"Second largest number :\",mylist[-2])"
   ]
  },
  {
   "cell_type": "code",
   "execution_count": 46,
   "id": "9f5ded7f",
   "metadata": {},
   "outputs": [
    {
     "name": "stdout",
     "output_type": "stream",
     "text": [
      "Second largest element : 70\n"
     ]
    }
   ],
   "source": [
    "mylist=[70,11,20,4,100]\n",
    "\n",
    "new_list=set(mylist)\n",
    "\n",
    "new_list.remove(max(new_list))\n",
    "\n",
    "print(\"Second largest element :\",max(new_list))"
   ]
  },
  {
   "cell_type": "code",
   "execution_count": 52,
   "id": "dbb7a5e6",
   "metadata": {},
   "outputs": [
    {
     "name": "stdout",
     "output_type": "stream",
     "text": [
      "Enter a String :madam\n",
      "Reverse String :madam\n",
      "Palindrome\n"
     ]
    }
   ],
   "source": [
    "# Palindrome Or Not Palindrome\n",
    "\n",
    "value=input(\"Enter a String :\")\n",
    "\n",
    "reverse=value[::-1]\n",
    "print(f\"Reverse String :{reverse}\")\n",
    "\n",
    "if reverse==value:\n",
    "    print(\"Palindrome\")\n",
    "    \n",
    "else:\n",
    "    print(\"Not a Palindrome\")"
   ]
  },
  {
   "cell_type": "code",
   "execution_count": 11,
   "id": "7834a427",
   "metadata": {},
   "outputs": [
    {
     "name": "stdout",
     "output_type": "stream",
     "text": [
      "['Welcome', 'to', 'Python', 'Programming']\n",
      "['Programming', 'Python', 'to', 'Welcome']\n",
      "\n",
      "Programming Python to Welcome\n"
     ]
    }
   ],
   "source": [
    "# Reverse words in a String\n",
    "\n",
    "str=\"Welcome to Python Programming\"\n",
    "\n",
    "words=str.split(\" \")\n",
    "print(words)      #  ['Welcome', 'to', 'Python', 'Programming']\n",
    "\n",
    "wrds=words[-1::-1]\n",
    "print(wrds)\n",
    "\n",
    "print()\n",
    "\n",
    "outputstr=' '.join(wrds)\n",
    "print(outputstr)"
   ]
  },
  {
   "cell_type": "code",
   "execution_count": 16,
   "id": "e024365d",
   "metadata": {},
   "outputs": [
    {
     "name": "stdout",
     "output_type": "stream",
     "text": [
      "11\n",
      "Found\n"
     ]
    }
   ],
   "source": [
    "# Substring Presence in a given string\n",
    "\n",
    "\n",
    "# The find() method finds the first occurence of the specified value.\n",
    "# The find() method returns -1 if the value is not found.\n",
    "\n",
    "str=\"Welcome to Python Programming\"\n",
    "\n",
    "sub_str=\"Python\"\n",
    "\n",
    "print(str.find(sub_str))   # 11\n",
    "\n",
    "if str.find(sub_str)==-1:\n",
    "    print(\"Found\")\n",
    "    \n",
    "else:\n",
    "    print(\"Found\")"
   ]
  },
  {
   "cell_type": "code",
   "execution_count": 17,
   "id": "dc712762",
   "metadata": {},
   "outputs": [
    {
     "name": "stdout",
     "output_type": "stream",
     "text": [
      "Length : 7\n"
     ]
    }
   ],
   "source": [
    "# Find length of a string\n",
    "\n",
    "str=\"Welcome\"\n",
    "\n",
    "count=0\n",
    "\n",
    "for i in str:\n",
    "    count +=1\n",
    "    \n",
    "print(\"Length :\",count)"
   ]
  },
  {
   "cell_type": "code",
   "execution_count": 20,
   "id": "66f7e458",
   "metadata": {},
   "outputs": [
    {
     "name": "stdout",
     "output_type": "stream",
     "text": [
      "7\n"
     ]
    }
   ],
   "source": [
    "# While loop and Slicing technique\n",
    "\n",
    "str=\"Welcome\"\n",
    "\n",
    "count=0\n",
    "\n",
    "while str[count:]:\n",
    "    count=count+1\n",
    "    \n",
    "print(count)"
   ]
  },
  {
   "cell_type": "code",
   "execution_count": 21,
   "id": "fa0676c5",
   "metadata": {},
   "outputs": [
    {
     "name": "stdout",
     "output_type": "stream",
     "text": [
      "11\n"
     ]
    }
   ],
   "source": [
    "str=\"Programming\"\n",
    "\n",
    "print(len(str))"
   ]
  },
  {
   "cell_type": "code",
   "execution_count": 22,
   "id": "f92e34dc",
   "metadata": {},
   "outputs": [],
   "source": [
    "# Check string contains special characters\n",
    "\n",
    "str=\"welcome@@2To%%Python**Programming@!!%%@$\""
   ]
  },
  {
   "cell_type": "code",
   "execution_count": 8,
   "id": "b7e75eb2",
   "metadata": {},
   "outputs": [
    {
     "name": "stdout",
     "output_type": "stream",
     "text": [
      "string contains special characters\n"
     ]
    }
   ],
   "source": [
    "import re\n",
    "\n",
    "str=\"welcome@@2To%%Python**Programming@!!%%@$\"\n",
    "\n",
    "reg=re.compile('!\"£$%@&*/()')\n",
    "\n",
    "if reg.search(str) == 0:\n",
    "    print(\"No special characters present in a string\")\n",
    "    \n",
    "else:\n",
    "    print(\"string contains special characters\")"
   ]
  },
  {
   "cell_type": "code",
   "execution_count": 6,
   "id": "041053f4",
   "metadata": {},
   "outputs": [
    {
     "name": "stdout",
     "output_type": "stream",
     "text": [
      "[]\n"
     ]
    }
   ],
   "source": [
    "# Check URl in a string \n",
    "\n",
    "import re\n",
    "\n",
    "str=\"I'm blogger att http://www.sandysanthosh.com/\"\n",
    "\n",
    "\n",
    "# Website name : uriregex.com\n",
    "\n",
    "url=re.findall(\"copy and paste\",str)\n",
    "print(url)"
   ]
  },
  {
   "cell_type": "code",
   "execution_count": null,
   "id": "904cc2e0",
   "metadata": {},
   "outputs": [],
   "source": []
  }
 ],
 "metadata": {
  "kernelspec": {
   "display_name": "Python 3 (ipykernel)",
   "language": "python",
   "name": "python3"
  },
  "language_info": {
   "codemirror_mode": {
    "name": "ipython",
    "version": 3
   },
   "file_extension": ".py",
   "mimetype": "text/x-python",
   "name": "python",
   "nbconvert_exporter": "python",
   "pygments_lexer": "ipython3",
   "version": "3.9.13"
  }
 },
 "nbformat": 4,
 "nbformat_minor": 5
}
