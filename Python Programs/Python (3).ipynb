{
 "cells": [
  {
   "cell_type": "code",
   "execution_count": null,
   "id": "26478bbd",
   "metadata": {},
   "outputs": [],
   "source": []
  },
  {
   "cell_type": "code",
   "execution_count": null,
   "id": "83fda0b7",
   "metadata": {},
   "outputs": [],
   "source": []
  },
  {
   "cell_type": "code",
   "execution_count": null,
   "id": "b50103a5",
   "metadata": {},
   "outputs": [],
   "source": []
  },
  {
   "cell_type": "code",
   "execution_count": null,
   "id": "0238f04e",
   "metadata": {},
   "outputs": [],
   "source": []
  },
  {
   "cell_type": "code",
   "execution_count": null,
   "id": "4cf43c39",
   "metadata": {},
   "outputs": [],
   "source": []
  },
  {
   "cell_type": "code",
   "execution_count": 1,
   "id": "4d049791",
   "metadata": {},
   "outputs": [
    {
     "name": "stdout",
     "output_type": "stream",
     "text": [
      "['False', 'None', 'True', '__peg_parser__', 'and', 'as', 'assert', 'async', 'await', 'break', 'class', 'continue', 'def', 'del', 'elif', 'else', 'except', 'finally', 'for', 'from', 'global', 'if', 'import', 'in', 'is', 'lambda', 'nonlocal', 'not', 'or', 'pass', 'raise', 'return', 'try', 'while', 'with', 'yield']\n"
     ]
    }
   ],
   "source": [
    "import keyword\n",
    "print(keyword.kwlist)"
   ]
  },
  {
   "cell_type": "code",
   "execution_count": 3,
   "id": "f38bdd59",
   "metadata": {},
   "outputs": [
    {
     "name": "stdout",
     "output_type": "stream",
     "text": [
      "Enter a name :Santhosh\n",
      "Santhosh\n",
      "<class 'str'>\n"
     ]
    }
   ],
   "source": [
    "name=input(\"Enter a name :\")\n",
    "print(name)\n",
    "print(type(name))"
   ]
  },
  {
   "cell_type": "code",
   "execution_count": 5,
   "id": "99a2728e",
   "metadata": {},
   "outputs": [
    {
     "name": "stdout",
     "output_type": "stream",
     "text": [
      "Enter a number A :3\n",
      "Enter a number B :2\n",
      "32\n",
      "<class 'str'>\n"
     ]
    }
   ],
   "source": [
    "a=input(\"Enter a number A :\")\n",
    "b=input(\"Enter a number B :\")\n",
    "c=a+b\n",
    "print(c)\n",
    "print(type(c))"
   ]
  },
  {
   "cell_type": "code",
   "execution_count": 6,
   "id": "9feaace3",
   "metadata": {},
   "outputs": [
    {
     "name": "stdout",
     "output_type": "stream",
     "text": [
      "Enter a number A :2\n",
      "Enter a number B :3\n",
      "5\n",
      "<class 'int'>\n"
     ]
    }
   ],
   "source": [
    "a=int(input(\"Enter a number A :\"))\n",
    "b=int(input(\"Enter a number B :\"))\n",
    "c=a+b\n",
    "print(c)\n",
    "print(type(c))"
   ]
  },
  {
   "cell_type": "code",
   "execution_count": 9,
   "id": "c57c44b3",
   "metadata": {},
   "outputs": [
    {
     "name": "stdout",
     "output_type": "stream",
     "text": [
      "Enter a Number A :2.5\n",
      "Enter a number B :3\n",
      "5.5\n",
      "<class 'float'>\n",
      "<class 'float'>\n"
     ]
    }
   ],
   "source": [
    "a=float(input(\"Enter a Number A :\"))\n",
    "b=float(input(\"Enter a number B :\"))\n",
    "c=a+b\n",
    "print(c)\n",
    "print(type(c))\n",
    "print(type(b))"
   ]
  },
  {
   "cell_type": "code",
   "execution_count": 2,
   "id": "0576a86f",
   "metadata": {},
   "outputs": [
    {
     "name": "stdout",
     "output_type": "stream",
     "text": [
      "Enter a 3 name :Santhosh\n"
     ]
    },
    {
     "ename": "ValueError",
     "evalue": "too many values to unpack (expected 3)",
     "output_type": "error",
     "traceback": [
      "\u001b[1;31m---------------------------------------------------------------------------\u001b[0m",
      "\u001b[1;31mValueError\u001b[0m                                Traceback (most recent call last)",
      "\u001b[1;32m~\\AppData\\Local\\Temp\\ipykernel_7268\\609682465.py\u001b[0m in \u001b[0;36m<module>\u001b[1;34m\u001b[0m\n\u001b[1;32m----> 1\u001b[1;33m \u001b[0mname1\u001b[0m\u001b[1;33m,\u001b[0m\u001b[0mname2\u001b[0m\u001b[1;33m,\u001b[0m\u001b[0mname3\u001b[0m\u001b[1;33m=\u001b[0m\u001b[0minput\u001b[0m\u001b[1;33m(\u001b[0m\u001b[1;34m\"Enter a 3 name :\"\u001b[0m\u001b[1;33m)\u001b[0m\u001b[1;33m\u001b[0m\u001b[1;33m\u001b[0m\u001b[0m\n\u001b[0m\u001b[0;32m      2\u001b[0m \u001b[0mprint\u001b[0m\u001b[1;33m(\u001b[0m\u001b[0mname1\u001b[0m\u001b[1;33m)\u001b[0m\u001b[1;33m\u001b[0m\u001b[1;33m\u001b[0m\u001b[0m\n\u001b[0;32m      3\u001b[0m \u001b[0mprint\u001b[0m\u001b[1;33m(\u001b[0m\u001b[0mname2\u001b[0m\u001b[1;33m)\u001b[0m\u001b[1;33m\u001b[0m\u001b[1;33m\u001b[0m\u001b[0m\n\u001b[0;32m      4\u001b[0m \u001b[0mprint\u001b[0m\u001b[1;33m(\u001b[0m\u001b[0mname3\u001b[0m\u001b[1;33m)\u001b[0m\u001b[1;33m\u001b[0m\u001b[1;33m\u001b[0m\u001b[0m\n",
      "\u001b[1;31mValueError\u001b[0m: too many values to unpack (expected 3)"
     ]
    }
   ],
   "source": [
    "name1,name2,name3=input(\"Enter a 3 name :\")\n",
    "print(name1)\n",
    "print(name2)\n",
    "print(name3)"
   ]
  },
  {
   "cell_type": "code",
   "execution_count": 3,
   "id": "6dc08187",
   "metadata": {},
   "outputs": [
    {
     "ename": "SyntaxError",
     "evalue": "invalid syntax (441316626.py, line 2)",
     "output_type": "error",
     "traceback": [
      "\u001b[1;36m  File \u001b[1;32m\"C:\\Users\\DEVIKA.K\\AppData\\Local\\Temp\\ipykernel_3360\\441316626.py\"\u001b[1;36m, line \u001b[1;32m2\u001b[0m\n\u001b[1;33m    .split('')\u001b[0m\n\u001b[1;37m    ^\u001b[0m\n\u001b[1;31mSyntaxError\u001b[0m\u001b[1;31m:\u001b[0m invalid syntax\n"
     ]
    }
   ],
   "source": [
    "name1,name2,name3=input(\"Enter a 3 name :\")\n",
    ".split('')\n",
    "print(name1)\n",
    "print(name2)\n",
    "print(name3)"
   ]
  },
  {
   "cell_type": "code",
   "execution_count": 5,
   "id": "a3f58fc4",
   "metadata": {},
   "outputs": [
    {
     "ename": "SyntaxError",
     "evalue": "invalid syntax (901079936.py, line 2)",
     "output_type": "error",
     "traceback": [
      "\u001b[1;36m  File \u001b[1;32m\"C:\\Users\\DEVIKA.K\\AppData\\Local\\Temp\\ipykernel_3360\\901079936.py\"\u001b[1;36m, line \u001b[1;32m2\u001b[0m\n\u001b[1;33m    .Split(',')\u001b[0m\n\u001b[1;37m    ^\u001b[0m\n\u001b[1;31mSyntaxError\u001b[0m\u001b[1;31m:\u001b[0m invalid syntax\n"
     ]
    }
   ],
   "source": [
    "name1,name2,name3=input(\"Enter a 3 name :\")\n",
    ".split(',')\n",
    "print(\"Name 1 :\",name1)\n",
    "print(\"Name 2 :\",name2)\n",
    "print(\"Name 3 :\",name3)"
   ]
  },
  {
   "cell_type": "code",
   "execution_count": 19,
   "id": "41ce1633",
   "metadata": {},
   "outputs": [
    {
     "name": "stdout",
     "output_type": "stream",
     "text": [
      "<class 'str'>\n",
      "\n",
      "    Lorem sport of the authority of a coming tool of the games and follow a name and being a to be a accomodate of the current \n",
      "    Enginerring of the given test of the right hand side of the given solution for a problem of the particular solution.\n",
      "    \n"
     ]
    }
   ],
   "source": [
    "a=  \"\"\"\n",
    "    Lorem sport of the authority of a coming tool of the games and follow a name and being a to be a accomodate of the current \n",
    "    Enginerring of the given test of the right hand side of the given solution for a problem of the particular solution.\n",
    "    \"\"\"\n",
    "print(type(a))\n",
    "print(a)"
   ]
  },
  {
   "cell_type": "code",
   "execution_count": 20,
   "id": "0dc26bc5",
   "metadata": {},
   "outputs": [
    {
     "name": "stdout",
     "output_type": "stream",
     "text": [
      "[10, 20, 30, 40, 50]\n"
     ]
    }
   ],
   "source": [
    "para=[10,20,30,40,50]\n",
    "print(para)"
   ]
  },
  {
   "cell_type": "code",
   "execution_count": 3,
   "id": "2c873fb2",
   "metadata": {},
   "outputs": [
    {
     "name": "stdout",
     "output_type": "stream",
     "text": [
      "10,20,30,40\n"
     ]
    }
   ],
   "source": [
    "# Without show a List Symbols\n",
    "\n",
    "para=[\"10\",\"20\",\"30\",\"40\"]\n",
    "print(','.join(para))\n"
   ]
  },
  {
   "cell_type": "code",
   "execution_count": 30,
   "id": "61f75d6d",
   "metadata": {},
   "outputs": [
    {
     "name": "stdout",
     "output_type": "stream",
     "text": [
      "Enter a Para :\n",
      "Ramu is a Good Boy\n",
      "Seenu is a comedy Boy\n",
      "\n",
      "['Ramu is a Good Boy', 'Seenu is a comedy Boy']\n"
     ]
    }
   ],
   "source": [
    "# Now values adding into a List using a while loop\n",
    "\n",
    "Para=[]\n",
    "print(\"Enter a Para :\")\n",
    "\n",
    "while True:\n",
    "    paravalues=input()\n",
    "    if paravalues:\n",
    "        Para.append(paravalues)\n",
    "    \n",
    "    else:\n",
    "        break\n",
    "        \n",
    "print(Para)"
   ]
  },
  {
   "cell_type": "code",
   "execution_count": 6,
   "id": "d1d6cb07",
   "metadata": {},
   "outputs": [
    {
     "name": "stdout",
     "output_type": "stream",
     "text": [
      "Enter a paragraph :\n",
      "Ramu is a good Boy\n",
      "Seenu is a comedy Boy\n",
      "\n",
      "['Ramu is a good Boy', 'Seenu is a comedy Boy']\n",
      "\n",
      "Ramu is a good Boy/nSeenu is a comedy Boy\n"
     ]
    }
   ],
   "source": [
    "Paragraph=[]\n",
    "print(\"Enter a paragraph :\")\n",
    "\n",
    "while True:\n",
    "    paravalues=input()\n",
    "    \n",
    "    if paravalues:\n",
    "        Paragraph.append(paravalues)\n",
    "    \n",
    "    else:\n",
    "        break\n",
    "print(Paragraph)\n",
    "\n",
    "print()\n",
    "\n",
    "output=\"/n\".join(Paragraph)\n",
    "print(output)"
   ]
  },
  {
   "cell_type": "code",
   "execution_count": 31,
   "id": "6346d427",
   "metadata": {},
   "outputs": [
    {
     "name": "stdout",
     "output_type": "stream",
     "text": [
      "8\n"
     ]
    }
   ],
   "source": [
    "# Basic programs in Python\n",
    "\n",
    "a=5\n",
    "b=3\n",
    "c=a+b\n",
    "print(c)"
   ]
  },
  {
   "cell_type": "code",
   "execution_count": 33,
   "id": "2c6cb96d",
   "metadata": {},
   "outputs": [
    {
     "name": "stdout",
     "output_type": "stream",
     "text": [
      "5\n",
      "<class 'int'>\n"
     ]
    }
   ],
   "source": [
    "print(a)\n",
    "print(type(a))"
   ]
  },
  {
   "cell_type": "code",
   "execution_count": 34,
   "id": "1f974e65",
   "metadata": {},
   "outputs": [
    {
     "name": "stdout",
     "output_type": "stream",
     "text": [
      "3\n",
      "<class 'int'>\n"
     ]
    }
   ],
   "source": [
    "print(b)\n",
    "print(type(b))"
   ]
  },
  {
   "cell_type": "code",
   "execution_count": 35,
   "id": "50649527",
   "metadata": {},
   "outputs": [
    {
     "name": "stdout",
     "output_type": "stream",
     "text": [
      "Enter a number A :10\n",
      "Enter a number B :5\n",
      "Total : 105\n"
     ]
    }
   ],
   "source": [
    "a=input(\"Enter a number A :\")\n",
    "b=input(\"Enter a number B :\")\n",
    "c=a+b\n",
    "print(\"Total :\",c)"
   ]
  },
  {
   "cell_type": "code",
   "execution_count": 37,
   "id": "0ef4aee4",
   "metadata": {},
   "outputs": [
    {
     "name": "stdout",
     "output_type": "stream",
     "text": [
      "Enter a number A :3\n",
      "Enter a number B :2\n",
      "Total : 5\n"
     ]
    }
   ],
   "source": [
    "# Integer value convert into a string value\n",
    "\n",
    "a=int(input(\"Enter a number A :\"))\n",
    "b=int(input(\"Enter a number B :\"))\n",
    "c=a+b\n",
    "print(\"Total :\",str(c))\n"
   ]
  },
  {
   "cell_type": "code",
   "execution_count": 42,
   "id": "bbf4072c",
   "metadata": {},
   "outputs": [
    {
     "name": "stdout",
     "output_type": "stream",
     "text": [
      "Sam Santhosh\n"
     ]
    }
   ],
   "source": [
    "# String and string functions\n",
    "\n",
    "# Lowercase convert into Uppercase\n",
    "\n",
    "s=\"Sam Santhosh\"\n",
    "print(s)"
   ]
  },
  {
   "cell_type": "code",
   "execution_count": 39,
   "id": "08b1504c",
   "metadata": {},
   "outputs": [
    {
     "name": "stdout",
     "output_type": "stream",
     "text": [
      "<class 'str'>\n"
     ]
    }
   ],
   "source": [
    "print(type(s))"
   ]
  },
  {
   "cell_type": "code",
   "execution_count": 53,
   "id": "a11105a5",
   "metadata": {},
   "outputs": [
    {
     "name": "stdout",
     "output_type": "stream",
     "text": [
      "SAM SANTHOSH\n",
      "sam santhosh\n",
      "Sam santhosh\n",
      "Sam Santhosh\n",
      "2\n",
      "False\n",
      "9\n",
      "9\n",
      "Sam Santhesh\n"
     ]
    }
   ],
   "source": [
    "print(s.upper())\n",
    "print(s.lower())\n",
    "print(s.capitalize())      # Used to print first letter capital\n",
    "print(s.title())           # Used to print each first letter print to a Captial#\n",
    "print(s.count('a'))\n",
    "print(s.endswith(\"es\"))\n",
    "print(s.find('o'))\n",
    "print(s.find('o',3))\n",
    "print(s.replace('o','e'))"
   ]
  },
  {
   "cell_type": "code",
   "execution_count": 5,
   "id": "fa055a61",
   "metadata": {},
   "outputs": [
    {
     "name": "stdout",
     "output_type": "stream",
     "text": [
      "Is Upper : False\n",
      "Is Lower : False\n",
      "Is Alpa Numeric : True\n",
      "Is Alpa : False\n"
     ]
    }
   ],
   "source": [
    "a=\"Christroper12\"\n",
    "print(\"Is Upper :\",a.isupper())\n",
    "print(\"Is Lower :\",a.islower())\n",
    "print(\"Is Alpa Numeric :\",a.isalnum())\n",
    "print(\"Is Alpa :\",a.isalpha())"
   ]
  },
  {
   "cell_type": "code",
   "execution_count": 6,
   "id": "82beb88c",
   "metadata": {},
   "outputs": [
    {
     "name": "stdout",
     "output_type": "stream",
     "text": [
      "He \n",
      " is \n",
      " good\n",
      "['He ', ' is ', ' good']\n",
      "['He \\n', ' is \\n', ' good']\n"
     ]
    }
   ],
   "source": [
    "s=\"He \\n is \\n good\"\n",
    "print(s)\n",
    "print(s.splitlines())\n",
    "print(s.splitlines(True))"
   ]
  },
  {
   "cell_type": "code",
   "execution_count": 8,
   "id": "ca0d43eb",
   "metadata": {},
   "outputs": [
    {
     "name": "stdout",
     "output_type": "stream",
     "text": [
      "['Tutor', 'Joes', 'computer', 'education']\n"
     ]
    }
   ],
   "source": [
    "a=\"Tutor Joes computer education\"\n",
    "print(a.split(\" \"))"
   ]
  },
  {
   "cell_type": "code",
   "execution_count": 7,
   "id": "e412770d",
   "metadata": {},
   "outputs": [
    {
     "name": "stdout",
     "output_type": "stream",
     "text": [
      "['Tutor Joes computer education']\n"
     ]
    }
   ],
   "source": [
    "a=\"Tutor Joes computer education\"\n",
    "print(a.split(\",\"))"
   ]
  },
  {
   "cell_type": "code",
   "execution_count": 7,
   "id": "0dd1e230",
   "metadata": {},
   "outputs": [
    {
     "name": "stdout",
     "output_type": "stream",
     "text": [
      " Santhosh    \n",
      "13\n",
      "Santhosh\n",
      "8\n",
      "9\n",
      "12\n"
     ]
    }
   ],
   "source": [
    "a=\" Santhosh    \"\n",
    "print(a)\n",
    "print(len(a))\n",
    "print(a.strip())\n",
    "print(len(a.strip()))\n",
    "print(len(a.rstrip()))\n",
    "print(len(a.lstrip()))"
   ]
  },
  {
   "cell_type": "code",
   "execution_count": 10,
   "id": "994b116d",
   "metadata": {},
   "outputs": [
    {
     "name": "stdout",
     "output_type": "stream",
     "text": [
      "12-05-2002\n",
      "('12', '-', '05-2002')\n"
     ]
    }
   ],
   "source": [
    "s=\"12-05-2002\"\n",
    "print(s)\n",
    "print(s.partition(\"-\"))"
   ]
  },
  {
   "cell_type": "markdown",
   "id": "cecd0004",
   "metadata": {},
   "source": [
    "# String Manipulation\n"
   ]
  },
  {
   "cell_type": "code",
   "execution_count": 25,
   "id": "04ee2f5b",
   "metadata": {},
   "outputs": [
    {
     "name": "stdout",
     "output_type": "stream",
     "text": [
      "Sample\n",
      "Sam\n",
      "Sampl\n",
      "ample\n"
     ]
    }
   ],
   "source": [
    "s=\"Sample\"\n",
    "print(s)\n",
    "print(s[0:3])\n",
    "print(s[:5])\n",
    "print(s[1:])"
   ]
  },
  {
   "cell_type": "code",
   "execution_count": 29,
   "id": "93eb238a",
   "metadata": {},
   "outputs": [
    {
     "name": "stdout",
     "output_type": "stream",
     "text": [
      "e\n",
      "l\n",
      "Sampl\n",
      "elpmaS\n"
     ]
    }
   ],
   "source": [
    "print(s[-1])\n",
    "print(s[-2:-1])\n",
    "print(s[:-1])\n",
    "print(s[::-1])    # Used to Reverse"
   ]
  },
  {
   "cell_type": "markdown",
   "id": "3025a9d9",
   "metadata": {},
   "source": [
    "# Arithmetic Operations"
   ]
  },
  {
   "cell_type": "code",
   "execution_count": 31,
   "id": "d03ab416",
   "metadata": {},
   "outputs": [
    {
     "name": "stdout",
     "output_type": "stream",
     "text": [
      "122\n",
      "118\n",
      "240\n",
      "60.0\n",
      "0\n",
      "60\n",
      "8\n"
     ]
    }
   ],
   "source": [
    "a=120\n",
    "b=2\n",
    "print(a+b)\n",
    "print(a-b)\n",
    "print(a*b)\n",
    "print(a/b)\n",
    "print(a%b)    # Used to find a Remainder.\n",
    "print(a//b)   # Used to find a Quotient.\n",
    "print(2**3)   # Used to find a power value."
   ]
  },
  {
   "cell_type": "markdown",
   "id": "658b6bf8",
   "metadata": {},
   "source": [
    "# Assignment Operators"
   ]
  },
  {
   "cell_type": "code",
   "execution_count": 32,
   "id": "9de45297",
   "metadata": {},
   "outputs": [
    {
     "name": "stdout",
     "output_type": "stream",
     "text": [
      "125\n"
     ]
    }
   ],
   "source": [
    "a=125\n",
    "print(a)"
   ]
  },
  {
   "cell_type": "code",
   "execution_count": 33,
   "id": "9883ade8",
   "metadata": {},
   "outputs": [
    {
     "name": "stdout",
     "output_type": "stream",
     "text": [
      "130\n"
     ]
    }
   ],
   "source": [
    "a+=5    # a=a+5\n",
    "print(a)"
   ]
  },
  {
   "cell_type": "code",
   "execution_count": 39,
   "id": "416f8aa1",
   "metadata": {},
   "outputs": [
    {
     "name": "stdout",
     "output_type": "stream",
     "text": [
      "90\n",
      "900\n",
      "90.0\n",
      "0.0\n",
      "0.0\n"
     ]
    }
   ],
   "source": [
    "\n",
    "a=100\n",
    "\n",
    "a-=10\n",
    "print(a)\n",
    "\n",
    "a*=10\n",
    "print(a)\n",
    "\n",
    "a/=10\n",
    "print(a)\n",
    "\n",
    "a%=10\n",
    "print(a)\n",
    "\n",
    "# a//=10\n",
    "# print(a)\n"
   ]
  },
  {
   "cell_type": "markdown",
   "id": "2733d6c8",
   "metadata": {},
   "source": [
    "# Comparsion Operators Or Relation Operators"
   ]
  },
  {
   "cell_type": "code",
   "execution_count": null,
   "id": "c2f37163",
   "metadata": {},
   "outputs": [],
   "source": [
    "\"\"\"\n",
    "== Equal\n",
    "\n",
    "!= Not equal\n",
    "\n",
    "> Greater than\n",
    "\n",
    "< Lesser than\n",
    "\n",
    ">= Greater than (or) Equal to\n",
    "\n",
    "<= Lesser than (or) Equal to\n",
    "\n",
    "\"\"\""
   ]
  },
  {
   "cell_type": "code",
   "execution_count": null,
   "id": "35b7b94d",
   "metadata": {},
   "outputs": [],
   "source": []
  },
  {
   "cell_type": "markdown",
   "id": "227b5a15",
   "metadata": {},
   "source": [
    "# Logical operation In pyhton"
   ]
  },
  {
   "cell_type": "code",
   "execution_count": null,
   "id": "60c2622a",
   "metadata": {},
   "outputs": [],
   "source": [
    "\"\"\"\n",
    "and  &&\n",
    "\n",
    "or   //\n",
    "\n",
    "not  /\n",
    "\n",
    "\"\"\""
   ]
  },
  {
   "cell_type": "code",
   "execution_count": 42,
   "id": "f4507e29",
   "metadata": {},
   "outputs": [
    {
     "name": "stdout",
     "output_type": "stream",
     "text": [
      "False\n",
      "True\n",
      "True\n"
     ]
    }
   ],
   "source": [
    "a=25\n",
    "\n",
    "print(a>=10 and a<=20)\n",
    "print(a>=10 or a<=20)\n",
    "print(not(a>=10 and a<=20))"
   ]
  },
  {
   "cell_type": "markdown",
   "id": "5c6d056a",
   "metadata": {},
   "source": [
    "# Bitwise Operators"
   ]
  },
  {
   "cell_type": "code",
   "execution_count": null,
   "id": "11b83ca7",
   "metadata": {},
   "outputs": [],
   "source": [
    "\"\"\"\n",
    "&  AND\n",
    "\n",
    "/  OR\n",
    "\n",
    "^  XOR\n",
    "\n",
    "~  NOT\n",
    "\n",
    "<<  LEFT SHIFT\n",
    "\n",
    ">>  RIGHT SHIFT\n",
    "\n",
    "\"\"\""
   ]
  },
  {
   "cell_type": "code",
   "execution_count": 50,
   "id": "fd53c755",
   "metadata": {},
   "outputs": [
    {
     "name": "stdout",
     "output_type": "stream",
     "text": [
      "9\n",
      "52\n",
      "Using a Pipe symbol a/b\n",
      "-26\n",
      "100\n",
      "6\n"
     ]
    }
   ],
   "source": [
    "a=25\n",
    "b=45\n",
    "\n",
    "print(a&b)\n",
    "print(a^b)\n",
    "print(\"Using a Pipe symbol a/b\")\n",
    "print(~a)\n",
    "print(a<<2)\n",
    "print(a>>2)"
   ]
  },
  {
   "cell_type": "markdown",
   "id": "f975a8ab",
   "metadata": {},
   "source": [
    "# If statement in Pyhton\n"
   ]
  },
  {
   "cell_type": "code",
   "execution_count": 11,
   "id": "f4ea5f93",
   "metadata": {},
   "outputs": [
    {
     "data": {
      "text/plain": [
       "'\\nWrite a program to check the given number is Even number\\n\\n'"
      ]
     },
     "execution_count": 11,
     "metadata": {},
     "output_type": "execute_result"
    }
   ],
   "source": [
    "\"\"\"\n",
    "Write a program to check the given number is Even number\n",
    "\n",
    "\"\"\""
   ]
  },
  {
   "cell_type": "code",
   "execution_count": 53,
   "id": "b4d17b0a",
   "metadata": {},
   "outputs": [
    {
     "name": "stdout",
     "output_type": "stream",
     "text": [
      "Enter a Number :3\n",
      "3 is a Odd number \n"
     ]
    }
   ],
   "source": [
    "n=int(input(\"Enter a Number :\"))\n",
    "\n",
    "if n%2==0:\n",
    "    print(n, \"is a Even number \")\n",
    "    \n",
    "else:\n",
    "    print(n, \"is a Odd number \")\n"
   ]
  },
  {
   "cell_type": "code",
   "execution_count": null,
   "id": "f7859020",
   "metadata": {},
   "outputs": [],
   "source": [
    "\"\"\" Write a progrma for eligibility of a vote by enter his name his/her and age \"\"\""
   ]
  },
  {
   "cell_type": "code",
   "execution_count": 55,
   "id": "b2236ab4",
   "metadata": {},
   "outputs": [
    {
     "name": "stdout",
     "output_type": "stream",
     "text": [
      "Enter a name :Santhosh\n",
      "Enter a age :20\n",
      "Santhosh age is 20 Eligible for vote\n"
     ]
    }
   ],
   "source": [
    "name=input(\"Enter a name :\")\n",
    "age=int(input(\"Enter a age :\"))\n",
    "\n",
    "if age>=18:\n",
    "    print(name,\"age is\",age,\"Eligible for vote.\")\n",
    "    \n",
    "else:\n",
    "    print(name,\"age is\",age,\"not eligible for vote.\")"
   ]
  },
  {
   "cell_type": "markdown",
   "id": "60c8a5fb",
   "metadata": {},
   "source": [
    "# elif statement\n"
   ]
  },
  {
   "cell_type": "code",
   "execution_count": null,
   "id": "7b31fe88",
   "metadata": {},
   "outputs": [],
   "source": [
    "\"\"\"\n",
    "\n",
    "0       No fine\n",
    "1-5     0.5\n",
    "5-10    1\n",
    "10-30   5\n",
    ">30     Membership Cancel\n",
    "\n",
    "\"\"\""
   ]
  },
  {
   "cell_type": "code",
   "execution_count": 58,
   "id": "e4fa1a5a",
   "metadata": {},
   "outputs": [
    {
     "name": "stdout",
     "output_type": "stream",
     "text": [
      "Enter a number of days :32\n",
      "Membership Cancelled\n"
     ]
    }
   ],
   "source": [
    "number=int(input(\"Enter a number of days :\"))\n",
    "\n",
    "if(number==0):\n",
    "    print(\"Good no fine\")\n",
    "    \n",
    "elif(number>=1 and number<=5):\n",
    "    print(\"Fine amount :\",0.5*number)\n",
    "    \n",
    "elif(number>5 and number<=10):\n",
    "    print(\"Fine amount :\",1*number)\n",
    "    \n",
    "elif(number>10 and number<=30):\n",
    "    print(\"Fine amount :\",5*number)\n",
    "    \n",
    "else:\n",
    "    print(\"Membership Cancelled\")"
   ]
  },
  {
   "cell_type": "markdown",
   "id": "ebb1dcba",
   "metadata": {},
   "source": [
    "# Nestedif Statement"
   ]
  },
  {
   "cell_type": "code",
   "execution_count": null,
   "id": "c5ffb6b5",
   "metadata": {},
   "outputs": [],
   "source": [
    "\"\"\"\n",
    "Result \n",
    "\n",
    "If pass grade\n",
    "\n",
    "   90-100  A\n",
    "   \n",
    "   80-89   B\n",
    "   \n",
    "   70-79   c\n",
    "   \n",
    "   else D\n",
    "   \n",
    "\"\"\""
   ]
  },
  {
   "cell_type": "code",
   "execution_count": 2,
   "id": "831016b8",
   "metadata": {},
   "outputs": [
    {
     "name": "stdout",
     "output_type": "stream",
     "text": [
      "Enter a mark1 :45\n",
      "Enter a mark2 :45\n",
      "Enter a mark3 :45\n",
      "Total Marks : 135\n",
      "Average Marks : 45.0\n",
      "Yu are pass \n"
     ]
    }
   ],
   "source": [
    "num1=int(input(\"Enter a mark1 :\"))\n",
    "num2=int(input(\"Enter a mark2 :\"))\n",
    "num3=int(input(\"Enter a mark3 :\"))\n",
    "\n",
    "Total=num1+num2+num3\n",
    "\n",
    "Average=Total/3.0\n",
    "\n",
    "print(\"Total Marks :\",Total)\n",
    "print(\"Average Marks :\",Average)\n",
    "\n",
    "if num1>=40 and num2>=40 and num3>=40 :\n",
    "    print(\"Yu are pass \")\n",
    "    \n",
    "else:\n",
    "    print(\"Fail\")"
   ]
  },
  {
   "cell_type": "code",
   "execution_count": 4,
   "id": "cb3197ed",
   "metadata": {},
   "outputs": [
    {
     "name": "stdout",
     "output_type": "stream",
     "text": [
      "Enter a mark1 :67\n",
      "Enter a mark2 :67\n",
      "Enter a mark3 :67\n",
      "Total Marks : 201\n",
      "Average Marks : 67.0\n",
      "Yu are pass \n",
      "Grade D\n"
     ]
    }
   ],
   "source": [
    "num1=int(input(\"Enter a mark1 :\"))\n",
    "num2=int(input(\"Enter a mark2 :\"))\n",
    "num3=int(input(\"Enter a mark3 :\"))\n",
    "\n",
    "Total=num1+num2+num3\n",
    "\n",
    "Average=Total/3\n",
    "\n",
    "print(\"Total Marks :\",Total)\n",
    "print(\"Average Marks :\",Average)\n",
    "\n",
    "if num1>=40 and num2>=40 and num3>=40 :\n",
    "    print(\"Yu are pass \")\n",
    "    if Average>=90 and Average<=100:\n",
    "        print(\"Grade A\")\n",
    "    elif Average>=80 and Average<90:\n",
    "        print(\"Grade B\")\n",
    "    elif Average>=70 and Average<80:\n",
    "        print(\"Grade C\")\n",
    "    elif Average>=60 and Average<70:\n",
    "        print(\"Grade D\")\n",
    "    \n",
    "else:\n",
    "    print(\"Fail\")\n",
    "    print(\"Grade\")"
   ]
  },
  {
   "cell_type": "markdown",
   "id": "3f5281cd",
   "metadata": {},
   "source": [
    "# While Loop"
   ]
  },
  {
   "cell_type": "code",
   "execution_count": 5,
   "id": "636559d9",
   "metadata": {},
   "outputs": [
    {
     "name": "stdout",
     "output_type": "stream",
     "text": [
      "1\n",
      "2\n",
      "3\n",
      "4\n",
      "5\n",
      "6\n",
      "7\n",
      "8\n",
      "9\n",
      "10\n",
      "11\n",
      "12\n",
      "13\n",
      "14\n",
      "15\n",
      "16\n",
      "17\n",
      "18\n",
      "19\n",
      "20\n"
     ]
    }
   ],
   "source": [
    "i=1\n",
    "\n",
    "while i<=20:\n",
    "    print(i)\n",
    "    i+=1"
   ]
  },
  {
   "cell_type": "code",
   "execution_count": 6,
   "id": "29a4b9f1",
   "metadata": {},
   "outputs": [
    {
     "name": "stdout",
     "output_type": "stream",
     "text": [
      "1\n",
      "3\n",
      "5\n",
      "7\n",
      "9\n",
      "11\n",
      "13\n",
      "15\n",
      "17\n",
      "19\n"
     ]
    }
   ],
   "source": [
    "# Print a Odd Numbers \n",
    "\n",
    "n=20\n",
    "i=1\n",
    "\n",
    "while i<=n:\n",
    "    print(i)\n",
    "    i+=2"
   ]
  },
  {
   "cell_type": "code",
   "execution_count": 8,
   "id": "9b1c25f4",
   "metadata": {},
   "outputs": [
    {
     "name": "stdout",
     "output_type": "stream",
     "text": [
      "2\n",
      "4\n",
      "6\n",
      "8\n",
      "10\n",
      "12\n",
      "14\n",
      "16\n",
      "18\n",
      "20\n"
     ]
    }
   ],
   "source": [
    "# Print a Even Numbers \n",
    "\n",
    "n=20\n",
    "i=2\n",
    "\n",
    "while i<=n:\n",
    "    print(i)\n",
    "    i+=2"
   ]
  },
  {
   "cell_type": "markdown",
   "id": "cdb5f698",
   "metadata": {},
   "source": [
    "# Continue Statement"
   ]
  },
  {
   "cell_type": "code",
   "execution_count": 13,
   "id": "46f5e4a4",
   "metadata": {},
   "outputs": [
    {
     "name": "stdout",
     "output_type": "stream",
     "text": [
      "1\n",
      "3\n",
      "5\n",
      "7\n",
      "9\n",
      "11\n",
      "13\n",
      "15\n",
      "17\n",
      "19\n"
     ]
    }
   ],
   "source": [
    "i=1\n",
    "\n",
    "while i<=20:\n",
    "    if i%2==0:\n",
    "        i+=1\n",
    "        continue;\n",
    "    print(i)\n",
    "    i+=1                 \n",
    "        "
   ]
  },
  {
   "cell_type": "code",
   "execution_count": 1,
   "id": "f4a46abb",
   "metadata": {},
   "outputs": [
    {
     "name": "stdout",
     "output_type": "stream",
     "text": [
      "1\n",
      "2\n",
      "3\n",
      "4\n",
      "5\n",
      "6\n",
      "7\n",
      "8\n",
      "9\n"
     ]
    }
   ],
   "source": [
    "i=1\n",
    "while i<=20:\n",
    "    if i==10:\n",
    "        break;\n",
    "        \n",
    "    print(i)\n",
    "    i+=1"
   ]
  },
  {
   "cell_type": "markdown",
   "id": "39844417",
   "metadata": {},
   "source": [
    "# Range in Python\n"
   ]
  },
  {
   "cell_type": "code",
   "execution_count": 3,
   "id": "081e14bd",
   "metadata": {},
   "outputs": [
    {
     "name": "stdout",
     "output_type": "stream",
     "text": [
      "[0, 1, 2, 3, 4]\n",
      "<class 'list'>\n"
     ]
    }
   ],
   "source": [
    "a=list(range(5))\n",
    "print(a)\n",
    "print(type(a))"
   ]
  },
  {
   "cell_type": "code",
   "execution_count": 4,
   "id": "92f68270",
   "metadata": {},
   "outputs": [
    {
     "name": "stdout",
     "output_type": "stream",
     "text": [
      "[0, 1, 2, 3, 4]\n",
      "[2, 3, 4]\n",
      "[1, 2, 3, 4, 5, 6, 7, 8, 9]\n"
     ]
    }
   ],
   "source": [
    "print(list(range(5)))\n",
    "\n",
    "print(list(range(2,5)))   # For last value (n-1)\n",
    "\n",
    "print(list(range(1,10,1)))  # For this last value is Incremental value "
   ]
  },
  {
   "cell_type": "code",
   "execution_count": 5,
   "id": "bfa4250f",
   "metadata": {},
   "outputs": [
    {
     "name": "stdout",
     "output_type": "stream",
     "text": [
      "[1, 3, 5, 7, 9, 11, 13, 15, 17, 19]\n",
      "[1, 4, 7, 10, 13, 16, 19]\n"
     ]
    }
   ],
   "source": [
    "print(list(range(1,20,2)))\n",
    "\n",
    "print(list(range(1,20,3)))"
   ]
  },
  {
   "cell_type": "markdown",
   "id": "81117190",
   "metadata": {},
   "source": [
    "\n",
    "# For Loop"
   ]
  },
  {
   "cell_type": "code",
   "execution_count": 6,
   "id": "68f8946a",
   "metadata": {},
   "outputs": [
    {
     "name": "stdout",
     "output_type": "stream",
     "text": [
      "0\n",
      "1\n",
      "2\n",
      "3\n",
      "4\n"
     ]
    }
   ],
   "source": [
    "for i in range(5):\n",
    "    print(i)"
   ]
  },
  {
   "cell_type": "code",
   "execution_count": 7,
   "id": "8314096f",
   "metadata": {},
   "outputs": [
    {
     "name": "stdout",
     "output_type": "stream",
     "text": [
      "1\n",
      "2\n",
      "3\n",
      "4\n"
     ]
    }
   ],
   "source": [
    "for i in range(1,5):\n",
    "    print(i)"
   ]
  },
  {
   "cell_type": "code",
   "execution_count": 8,
   "id": "4dce4cd8",
   "metadata": {},
   "outputs": [
    {
     "name": "stdout",
     "output_type": "stream",
     "text": [
      "1\n",
      "3\n",
      "5\n",
      "7\n",
      "9\n"
     ]
    }
   ],
   "source": [
    "for i in range(1,10,2):\n",
    "    print(i)"
   ]
  },
  {
   "cell_type": "code",
   "execution_count": 9,
   "id": "37c2d879",
   "metadata": {},
   "outputs": [
    {
     "name": "stdout",
     "output_type": "stream",
     "text": [
      "Enter a number :1\n",
      "Enter a number :2\n",
      "3\n",
      "Enter a number :2\n",
      "Enter a number :3\n",
      "5\n",
      "Enter a number :3\n",
      "Enter a number :4\n",
      "7\n",
      "Enter a number :45\n",
      "Enter a number :54\n",
      "99\n",
      "Enter a number :3\n",
      "Enter a number :2\n",
      "5\n"
     ]
    }
   ],
   "source": [
    "for i in range(5):\n",
    "    a=int(input(\"Enter a number :\"))\n",
    "    b=int(input(\"Enter a number :\"))\n",
    "    print(a+b)"
   ]
  },
  {
   "cell_type": "markdown",
   "id": "9d510c21",
   "metadata": {},
   "source": [
    "# Pattern Sums"
   ]
  },
  {
   "cell_type": "code",
   "execution_count": null,
   "id": "e33d8743",
   "metadata": {},
   "outputs": [],
   "source": [
    "\"\"\"\n",
    "   j\n",
    "i  *\n",
    "   **\n",
    "   ***\n",
    "   ****\n",
    "   *****\n",
    "   \n",
    "   (i rows) (j columns)\n",
    "   \n",
    "\"\"\""
   ]
  },
  {
   "cell_type": "code",
   "execution_count": 11,
   "id": "0fd42475",
   "metadata": {},
   "outputs": [
    {
     "name": "stdout",
     "output_type": "stream",
     "text": [
      "\n",
      "0\n",
      "\n",
      "0\n",
      "1\n",
      "\n",
      "0\n",
      "1\n",
      "2\n",
      "\n",
      "0\n",
      "1\n",
      "2\n",
      "3\n",
      "\n"
     ]
    }
   ],
   "source": [
    "for i in range(5):\n",
    "    for j in range(i):\n",
    "        print(j)\n",
    "    print()"
   ]
  },
  {
   "cell_type": "code",
   "execution_count": 18,
   "id": "89f8556e",
   "metadata": {},
   "outputs": [
    {
     "name": "stdout",
     "output_type": "stream",
     "text": [
      "\n",
      " * \n",
      " *  * \n",
      " *  *  * \n",
      " *  *  *  * \n"
     ]
    }
   ],
   "source": [
    "for i in range(5):\n",
    "    for j in range(i):\n",
    "        print(\" * \",end=\"\")\n",
    "    print( )"
   ]
  },
  {
   "cell_type": "code",
   "execution_count": 19,
   "id": "efaa9242",
   "metadata": {},
   "outputs": [
    {
     "name": "stdout",
     "output_type": "stream",
     "text": [
      "\n",
      "* \n",
      "* * \n",
      "* * * \n",
      "* * * * \n",
      "* * * * * \n"
     ]
    }
   ],
   "source": [
    "for i in range(6):\n",
    "    for j in range(i):\n",
    "        print(\"*\",end=\" \")\n",
    "    print()"
   ]
  },
  {
   "cell_type": "code",
   "execution_count": 22,
   "id": "f52b4a67",
   "metadata": {},
   "outputs": [
    {
     "name": "stdout",
     "output_type": "stream",
     "text": [
      "* * * * * \n",
      "* * * * \n",
      "* * * \n",
      "* * \n",
      "* \n"
     ]
    }
   ],
   "source": [
    "for i in range(5,0,-1):\n",
    "    for j in range(i):\n",
    "        print(\"*\",end=\" \")\n",
    "    print( )"
   ]
  },
  {
   "cell_type": "code",
   "execution_count": 24,
   "id": "459fd6ba",
   "metadata": {},
   "outputs": [
    {
     "name": "stdout",
     "output_type": "stream",
     "text": [
      "A\n",
      "B\n",
      "C\n",
      "D\n",
      "E\n"
     ]
    }
   ],
   "source": [
    "for i in range(65,70,1):\n",
    "    print(chr(i))"
   ]
  },
  {
   "cell_type": "code",
   "execution_count": 26,
   "id": "40aa476b",
   "metadata": {},
   "outputs": [
    {
     "name": "stdout",
     "output_type": "stream",
     "text": [
      "AAAAA\n",
      "BBBBB\n",
      "CCCCC\n",
      "DDDDD\n",
      "EEEEE\n"
     ]
    }
   ],
   "source": [
    "for i in range(65,70,1):\n",
    "    for j in range(65,70,1):\n",
    "        print(chr(i),end=\"\")\n",
    "    print()"
   ]
  },
  {
   "cell_type": "markdown",
   "id": "7d96ebc1",
   "metadata": {},
   "source": [
    "# While else and for else"
   ]
  },
  {
   "cell_type": "code",
   "execution_count": 28,
   "id": "ed0cec93",
   "metadata": {},
   "outputs": [
    {
     "name": "stdout",
     "output_type": "stream",
     "text": [
      "1\n",
      "2\n",
      "3\n",
      "4\n",
      "5\n",
      "Loop completed\n"
     ]
    }
   ],
   "source": [
    "i=1\n",
    "\n",
    "while i<=5:\n",
    "    print(i)\n",
    "    i+=1\n",
    "    \n",
    "else:\n",
    "    print(\"Loop completed\")"
   ]
  },
  {
   "cell_type": "code",
   "execution_count": 30,
   "id": "da12d744",
   "metadata": {},
   "outputs": [
    {
     "name": "stdout",
     "output_type": "stream",
     "text": [
      "0\n",
      "1\n",
      "2\n"
     ]
    }
   ],
   "source": [
    "i=0\n",
    "\n",
    "while i<=5:\n",
    "    if i==3:\n",
    "        break;\n",
    "    print(i)\n",
    "    i+=1\n",
    "    \n",
    "else:\n",
    "    print(\"Loop completed\")"
   ]
  },
  {
   "cell_type": "code",
   "execution_count": 31,
   "id": "276627fe",
   "metadata": {},
   "outputs": [
    {
     "name": "stdout",
     "output_type": "stream",
     "text": [
      "0\n",
      "1\n",
      "2\n",
      "3\n",
      "4\n",
      "5\n",
      "Loop Completed\n"
     ]
    }
   ],
   "source": [
    "for i in range(0,6):\n",
    "    print(i)\n",
    "    \n",
    "else:\n",
    "    print(\"Loop Completed\")"
   ]
  },
  {
   "cell_type": "code",
   "execution_count": 32,
   "id": "29f1aa96",
   "metadata": {},
   "outputs": [
    {
     "name": "stdout",
     "output_type": "stream",
     "text": [
      "0\n",
      "1\n",
      "2\n",
      "3\n"
     ]
    }
   ],
   "source": [
    "for i in range(0,6):\n",
    "    if i==4:\n",
    "        break;\n",
    "    print(i)\n",
    "    \n",
    "else:\n",
    "    print(\"Loop Completed\")"
   ]
  },
  {
   "cell_type": "markdown",
   "id": "e16faab4",
   "metadata": {},
   "source": [
    "# List in Python"
   ]
  },
  {
   "cell_type": "code",
   "execution_count": null,
   "id": "5b85ae17",
   "metadata": {},
   "outputs": [],
   "source": [
    "\n",
    "\"\"\"\n",
    "  Sequence type\n",
    "  \n",
    "  Mutuable\n",
    "  \n",
    "\"\"\""
   ]
  },
  {
   "cell_type": "code",
   "execution_count": 8,
   "id": "7906d9b6",
   "metadata": {},
   "outputs": [
    {
     "name": "stdout",
     "output_type": "stream",
     "text": [
      "[1, 2, 3, 4, 5]\n",
      "<class 'list'>\n"
     ]
    }
   ],
   "source": [
    "a=[1,2,3,4,5]\n",
    "print(a)\n",
    "print(type(a))"
   ]
  },
  {
   "cell_type": "code",
   "execution_count": 9,
   "id": "a371050f",
   "metadata": {},
   "outputs": [
    {
     "name": "stdout",
     "output_type": "stream",
     "text": [
      "[100, 2, 3, 4, 5]\n"
     ]
    }
   ],
   "source": [
    "a[0]=100     # Assign a value to 0 th index\n",
    "print(a)"
   ]
  },
  {
   "cell_type": "code",
   "execution_count": 10,
   "id": "90c7ff83",
   "metadata": {},
   "outputs": [
    {
     "name": "stdout",
     "output_type": "stream",
     "text": [
      "2\n",
      "[2, 3, 4, 5]\n",
      "[100, 2, 3, 4]\n",
      "[2, 3, 4, 5]\n",
      "5\n",
      "[100, 2, 3, 4]\n",
      "[3, 4]\n"
     ]
    }
   ],
   "source": [
    "# Now try to Slicing\n",
    "\n",
    "print(a[1])\n",
    "\n",
    "print(a[1:5])\n",
    "\n",
    "print(a[:4])\n",
    "\n",
    "print(a[1:])\n",
    "\n",
    "print(a[-1])\n",
    "\n",
    "print(a[:-1])\n",
    "\n",
    "print(a[2:-1])"
   ]
  },
  {
   "cell_type": "code",
   "execution_count": 38,
   "id": "b0329902",
   "metadata": {},
   "outputs": [
    {
     "name": "stdout",
     "output_type": "stream",
     "text": [
      "[1, 'Santhosh', 2, 3]\n",
      "<class 'list'>\n"
     ]
    }
   ],
   "source": [
    "a=[1,\"Santhosh\",2,3]\n",
    "print(a)\n",
    "print(type(a))"
   ]
  },
  {
   "cell_type": "code",
   "execution_count": 39,
   "id": "fe2a8fee",
   "metadata": {},
   "outputs": [
    {
     "name": "stdout",
     "output_type": "stream",
     "text": [
      "1 type is <class 'int'>\n",
      "Santhosh type is <class 'str'>\n"
     ]
    }
   ],
   "source": [
    "print(a[0],\"type is\",type(a[0]))\n",
    "\n",
    "print(a[1],\"type is\",type(a[1]))"
   ]
  },
  {
   "cell_type": "code",
   "execution_count": 42,
   "id": "211ec419",
   "metadata": {},
   "outputs": [
    {
     "name": "stdout",
     "output_type": "stream",
     "text": [
      "['Sam', 'Ram'] is type <class 'list'>\n",
      "Ram\n"
     ]
    }
   ],
   "source": [
    "a=[1,\"Santhosh\",2,3,[\"Sam\",\"Ram\"]]\n",
    "\n",
    "print(a[4],\"is type\",type(a[4]))\n",
    "\n",
    "print(a[4][1])   # Now try to find index in a list\n"
   ]
  },
  {
   "cell_type": "code",
   "execution_count": 43,
   "id": "e955f6c7",
   "metadata": {},
   "outputs": [
    {
     "name": "stdout",
     "output_type": "stream",
     "text": [
      "[10, 20, 30, 40]\n",
      "[]\n"
     ]
    }
   ],
   "source": [
    "a=[10,20,30,40]\n",
    "print(a)\n",
    "\n",
    "a.clear()\n",
    "print(a)"
   ]
  },
  {
   "cell_type": "code",
   "execution_count": 45,
   "id": "c742c7cb",
   "metadata": {},
   "outputs": [
    {
     "name": "stdout",
     "output_type": "stream",
     "text": [
      "[10, 20, 30, 40]\n"
     ]
    }
   ],
   "source": [
    "a=[10,20,30,40]\n",
    "\n",
    "b=a.copy()\n",
    "print(b)\n"
   ]
  },
  {
   "cell_type": "code",
   "execution_count": 46,
   "id": "4e394618",
   "metadata": {},
   "outputs": [
    {
     "name": "stdout",
     "output_type": "stream",
     "text": [
      "3\n"
     ]
    }
   ],
   "source": [
    "a=[10,20,30,40,20,30,20,40]\n",
    "print(a.count(20))"
   ]
  },
  {
   "cell_type": "code",
   "execution_count": 47,
   "id": "04b13ac4",
   "metadata": {},
   "outputs": [
    {
     "name": "stdout",
     "output_type": "stream",
     "text": [
      "2\n"
     ]
    }
   ],
   "source": [
    "print(a.index(30))"
   ]
  },
  {
   "cell_type": "code",
   "execution_count": 48,
   "id": "98ccf3de",
   "metadata": {},
   "outputs": [
    {
     "name": "stdout",
     "output_type": "stream",
     "text": [
      "8\n",
      "40\n",
      "10\n"
     ]
    }
   ],
   "source": [
    "print(len(a))\n",
    "\n",
    "print(max(a))\n",
    "\n",
    "print(min(a))"
   ]
  },
  {
   "cell_type": "code",
   "execution_count": 50,
   "id": "1e168011",
   "metadata": {},
   "outputs": [
    {
     "name": "stdout",
     "output_type": "stream",
     "text": [
      "[10, 20, 30, 40]\n",
      "[10, 20, 30]\n"
     ]
    }
   ],
   "source": [
    "a=[10,20,30,40]\n",
    "print(a)\n",
    "\n",
    "a.pop()  # pop func is used to Delete a last element\n",
    "print(a)"
   ]
  },
  {
   "cell_type": "code",
   "execution_count": 51,
   "id": "f2a198f7",
   "metadata": {},
   "outputs": [
    {
     "name": "stdout",
     "output_type": "stream",
     "text": [
      "[10, 20, 30, 40]\n",
      "[20, 30, 40]\n"
     ]
    }
   ],
   "source": [
    "a=[10,20,30,40]\n",
    "print(a)\n",
    "\n",
    "a.pop(0)  # pop func is used to Delete a Index element\n",
    "print(a)"
   ]
  },
  {
   "cell_type": "code",
   "execution_count": 52,
   "id": "4b4098ab",
   "metadata": {},
   "outputs": [
    {
     "name": "stdout",
     "output_type": "stream",
     "text": [
      "[10, 20, 30, 40]\n",
      "[10, 30, 40]\n"
     ]
    }
   ],
   "source": [
    "a=[10,20,30,40]\n",
    "print(a)\n",
    "\n",
    "a.remove(20)  # remove func() is used to remove a value\n",
    "print(a)"
   ]
  },
  {
   "cell_type": "code",
   "execution_count": 53,
   "id": "10803d27",
   "metadata": {},
   "outputs": [
    {
     "name": "stdout",
     "output_type": "stream",
     "text": [
      "['Santhosh']\n"
     ]
    }
   ],
   "source": [
    "name=[\"Santhosh\"]\n",
    "print(name)"
   ]
  },
  {
   "cell_type": "code",
   "execution_count": 55,
   "id": "c774280c",
   "metadata": {},
   "outputs": [
    {
     "name": "stdout",
     "output_type": "stream",
     "text": [
      "['Santhosh', 'Ramu', 'Seenu', 'Sommu', 'Ramu', 'Seenu', 'Sommu']\n"
     ]
    }
   ],
   "source": [
    "name.append(\"Ramu\")\n",
    "\n",
    "name.append(\"Seenu\")\n",
    "\n",
    "name.append(\"Sommu\")\n",
    "\n",
    "print(name)"
   ]
  },
  {
   "cell_type": "code",
   "execution_count": 56,
   "id": "8b9e3479",
   "metadata": {},
   "outputs": [
    {
     "ename": "TypeError",
     "evalue": "list.append() takes exactly one argument (2 given)",
     "output_type": "error",
     "traceback": [
      "\u001b[1;31m---------------------------------------------------------------------------\u001b[0m",
      "\u001b[1;31mTypeError\u001b[0m                                 Traceback (most recent call last)",
      "\u001b[1;32m~\\AppData\\Local\\Temp\\ipykernel_9176\\1920240841.py\u001b[0m in \u001b[0;36m<module>\u001b[1;34m\u001b[0m\n\u001b[1;32m----> 1\u001b[1;33m \u001b[0mname\u001b[0m\u001b[1;33m.\u001b[0m\u001b[0mappend\u001b[0m\u001b[1;33m(\u001b[0m\u001b[1;34m\"Raju\"\u001b[0m\u001b[1;33m,\u001b[0m\u001b[1;34m\"Bheem\"\u001b[0m\u001b[1;33m)\u001b[0m\u001b[1;33m\u001b[0m\u001b[1;33m\u001b[0m\u001b[0m\n\u001b[0m\u001b[0;32m      2\u001b[0m \u001b[0mprint\u001b[0m\u001b[1;33m(\u001b[0m\u001b[0mname\u001b[0m\u001b[1;33m)\u001b[0m\u001b[1;33m\u001b[0m\u001b[1;33m\u001b[0m\u001b[0m\n",
      "\u001b[1;31mTypeError\u001b[0m: list.append() takes exactly one argument (2 given)"
     ]
    }
   ],
   "source": [
    "name.append(\"Raju\",\"Bheem\")\n",
    "print(name)"
   ]
  },
  {
   "cell_type": "code",
   "execution_count": 58,
   "id": "66d71e2e",
   "metadata": {},
   "outputs": [
    {
     "name": "stdout",
     "output_type": "stream",
     "text": [
      "['Santhosh', 'Ramu', 'Seenu', 'Sommu', 'Ramu', 'Seenu', 'Sommu', 'Raju', 'Bheem']\n"
     ]
    }
   ],
   "source": [
    "nameval=[\"Raju\",\"Bheem\"]\n",
    "name.extend(nameval)\n",
    "print(name)"
   ]
  },
  {
   "cell_type": "code",
   "execution_count": 3,
   "id": "c3415f7c",
   "metadata": {},
   "outputs": [
    {
     "name": "stdout",
     "output_type": "stream",
     "text": [
      "['Santhosh', 'Ramu', 'Seenu', 'Sommu', 'Ramu', 'Seenu', 'Sommu']\n",
      "------------------\n",
      "['Santhosh', 'Suriya', 'Ramu', 'Seenu', 'Sommu', 'Ramu', 'Seenu', 'Sommu']\n"
     ]
    }
   ],
   "source": [
    "name=['Santhosh', 'Ramu', 'Seenu', 'Sommu', 'Ramu', 'Seenu', 'Sommu']\n",
    "print(name)\n",
    "\n",
    "print(\"------------------\")\n",
    "\n",
    "name.insert(1,\"Suriya\")\n",
    "print(name)"
   ]
  },
  {
   "cell_type": "code",
   "execution_count": 4,
   "id": "9014162d",
   "metadata": {},
   "outputs": [
    {
     "name": "stdout",
     "output_type": "stream",
     "text": [
      "[0, 1, 2, 3, 4]\n"
     ]
    }
   ],
   "source": [
    "print(list(range(5)))"
   ]
  },
  {
   "cell_type": "code",
   "execution_count": 6,
   "id": "a6ada3f7",
   "metadata": {},
   "outputs": [
    {
     "name": "stdout",
     "output_type": "stream",
     "text": [
      "['S', 'a', 'n', 't', 'h', 'o', 's', 'h']\n"
     ]
    }
   ],
   "source": [
    "print(list(\"Santhosh\"))"
   ]
  },
  {
   "cell_type": "code",
   "execution_count": 7,
   "id": "32c29e5b",
   "metadata": {},
   "outputs": [
    {
     "name": "stdout",
     "output_type": "stream",
     "text": [
      "[10, 20, 30, 40, 50, 60, 90]\n"
     ]
    }
   ],
   "source": [
    "a=[10,20,50,30,40,60,90]\n",
    "a.sort()\n",
    "print(a)"
   ]
  },
  {
   "cell_type": "code",
   "execution_count": 13,
   "id": "f4aee5e1",
   "metadata": {},
   "outputs": [
    {
     "name": "stdout",
     "output_type": "stream",
     "text": [
      "[90, 60, 50, 40, 30, 20, 10]\n"
     ]
    }
   ],
   "source": [
    "\n",
    "a.sort(reverse=True)\n",
    "print(a)"
   ]
  },
  {
   "cell_type": "code",
   "execution_count": 15,
   "id": "3ff65527",
   "metadata": {},
   "outputs": [
    {
     "name": "stdout",
     "output_type": "stream",
     "text": [
      "['Leaf', 'apple', 'Mango']\n"
     ]
    }
   ],
   "source": [
    "a=[\"apple\",\"Mango\",\"Leaf\"]\n",
    "a.sort(key=len)\n",
    "print(a)"
   ]
  },
  {
   "cell_type": "markdown",
   "id": "c2284124",
   "metadata": {},
   "source": [
    "# Tuple in Python"
   ]
  },
  {
   "cell_type": "code",
   "execution_count": null,
   "id": "9af9788d",
   "metadata": {},
   "outputs": [],
   "source": [
    "\"\"\"\n",
    "    Tuple in pyhton\n",
    "    \n",
    "    Immutable\n",
    "    \n",
    "    Suroounded by Round Brackets ()\n",
    "    \n",
    "\"\"\""
   ]
  },
  {
   "cell_type": "code",
   "execution_count": 18,
   "id": "4af177ec",
   "metadata": {},
   "outputs": [
    {
     "name": "stdout",
     "output_type": "stream",
     "text": [
      "(1, 3, 'Ram', True)\n",
      "<class 'tuple'>\n",
      "<class 'bool'>\n",
      "3\n",
      "True\n",
      "(1, 3)\n"
     ]
    }
   ],
   "source": [
    "a=(1,3,\"Ram\",True)\n",
    "print(a)\n",
    "print(type(a))\n",
    "print(type(a[3]))\n",
    "\n",
    "print(a[1])\n",
    "print(a[-1])\n",
    "print(a[0:2])"
   ]
  },
  {
   "cell_type": "code",
   "execution_count": 21,
   "id": "3388a3aa",
   "metadata": {},
   "outputs": [
    {
     "name": "stdout",
     "output_type": "stream",
     "text": [
      "[1, 3, 'Ram', True]\n",
      "[1, 3, 'Ram', True, 'Raju']\n",
      "<class 'list'>\n"
     ]
    }
   ],
   "source": [
    "# We didnt add a any values in tuple .So,we can convert into list ,then we can add a elements and again convret into tuple.\n",
    "\n",
    "b=list(a)\n",
    "print(b)\n",
    "\n",
    "b.append(\"Raju\")\n",
    "print(b)\n",
    "print(type(b))"
   ]
  },
  {
   "cell_type": "code",
   "execution_count": 23,
   "id": "0edd1c36",
   "metadata": {},
   "outputs": [
    {
     "name": "stdout",
     "output_type": "stream",
     "text": [
      "(1, 3, 'Ram', True, 'Raju')\n",
      "<class 'tuple'>\n"
     ]
    }
   ],
   "source": [
    "a=tuple(b)\n",
    "print(a)\n",
    "print(type(a))"
   ]
  },
  {
   "cell_type": "code",
   "execution_count": 24,
   "id": "3210ca63",
   "metadata": {},
   "outputs": [
    {
     "name": "stdout",
     "output_type": "stream",
     "text": [
      "1\n",
      "3\n",
      "Ram\n",
      "True\n",
      "Raju\n"
     ]
    }
   ],
   "source": [
    "for i in a:\n",
    "    print(i)"
   ]
  },
  {
   "cell_type": "code",
   "execution_count": 25,
   "id": "f3491e7d",
   "metadata": {},
   "outputs": [
    {
     "name": "stdout",
     "output_type": "stream",
     "text": [
      "Raju found...\n"
     ]
    }
   ],
   "source": [
    "if \"Raju\" in a:\n",
    "    print(\"Raju found...\")\n",
    "    \n",
    "else:\n",
    "    print(\"Raju not found....\")"
   ]
  },
  {
   "cell_type": "code",
   "execution_count": 26,
   "id": "ce9d8bc3",
   "metadata": {},
   "outputs": [
    {
     "name": "stdout",
     "output_type": "stream",
     "text": [
      "Raju found...\n",
      "5\n"
     ]
    }
   ],
   "source": [
    "if \"Raju\" in a:\n",
    "    print(\"Raju found...\")\n",
    "    \n",
    "else:\n",
    "    print(\"Raju not found....\")\n",
    "    \n",
    "print(len(a))"
   ]
  },
  {
   "cell_type": "code",
   "execution_count": 27,
   "id": "5eb73618",
   "metadata": {},
   "outputs": [
    {
     "name": "stdout",
     "output_type": "stream",
     "text": [
      "1\n",
      "<class 'int'>\n"
     ]
    }
   ],
   "source": [
    "a=(1)\n",
    "print(a)\n",
    "print(type(a))"
   ]
  },
  {
   "cell_type": "code",
   "execution_count": 28,
   "id": "8161cf97",
   "metadata": {},
   "outputs": [
    {
     "name": "stdout",
     "output_type": "stream",
     "text": [
      "(1,)\n",
      "<class 'tuple'>\n"
     ]
    }
   ],
   "source": [
    "a=(1,)\n",
    "print(a)\n",
    "print(type(a))"
   ]
  },
  {
   "cell_type": "code",
   "execution_count": 29,
   "id": "44ac77cd",
   "metadata": {},
   "outputs": [],
   "source": [
    "del(a)"
   ]
  },
  {
   "cell_type": "code",
   "execution_count": 2,
   "id": "eaeae41e",
   "metadata": {},
   "outputs": [
    {
     "name": "stdout",
     "output_type": "stream",
     "text": [
      "(1, 2, 3, 4, 5, 3, 6, 7, 8, 9)\n"
     ]
    }
   ],
   "source": [
    "a=(1,2,3,4,5)\n",
    "b=(3,6,7,8,9)\n",
    "c=a+b\n",
    "print(c)\n"
   ]
  },
  {
   "cell_type": "code",
   "execution_count": 4,
   "id": "ee8386b9",
   "metadata": {},
   "outputs": [
    {
     "name": "stdout",
     "output_type": "stream",
     "text": [
      "((1, 2, 3, 4, 5), (3, 6, 7, 8, 9))\n"
     ]
    }
   ],
   "source": [
    "a=(1,2,3,4,5)\n",
    "b=(3,6,7,8,9)\n",
    "c=(a,b)\n",
    "print(c)\n"
   ]
  },
  {
   "cell_type": "code",
   "execution_count": 36,
   "id": "132a29bd",
   "metadata": {},
   "outputs": [
    {
     "name": "stdout",
     "output_type": "stream",
     "text": [
      "(1, 2, 3, 4, 5)\n",
      "3\n"
     ]
    }
   ],
   "source": [
    "print(c[0])\n",
    "print(c[0][2])"
   ]
  },
  {
   "cell_type": "code",
   "execution_count": 38,
   "id": "851f4cab",
   "metadata": {},
   "outputs": [
    {
     "name": "stdout",
     "output_type": "stream",
     "text": [
      "Santhosh Santhosh Santhosh Santhosh Santhosh Santhosh Santhosh Santhosh Santhosh Santhosh \n"
     ]
    }
   ],
   "source": [
    "x=('Santhosh ')*10\n",
    "print(x)"
   ]
  },
  {
   "cell_type": "code",
   "execution_count": 39,
   "id": "f5f1d043",
   "metadata": {},
   "outputs": [
    {
     "name": "stdout",
     "output_type": "stream",
     "text": [
      "10\n",
      "40\n"
     ]
    }
   ],
   "source": [
    "a=(10,20,30,40)\n",
    "print(min(a))\n",
    "print(max(a))"
   ]
  },
  {
   "cell_type": "code",
   "execution_count": 43,
   "id": "cfc77a50",
   "metadata": {},
   "outputs": [
    {
     "name": "stdout",
     "output_type": "stream",
     "text": [
      "tharmapaithiyam\n",
      "tharmaporampoku\n",
      "tharmabemani\n"
     ]
    }
   ],
   "source": [
    "def func(loosu):\n",
    "    print(\"tharma\" + loosu)\n",
    "func(\"paithiyam\")\n",
    "func(\"porampoku\")\n",
    "func(\"bemani\")"
   ]
  },
  {
   "cell_type": "markdown",
   "id": "ab200437",
   "metadata": {},
   "source": [
    "# Set in pyhton"
   ]
  },
  {
   "cell_type": "code",
   "execution_count": 44,
   "id": "aeeb148f",
   "metadata": {},
   "outputs": [
    {
     "name": "stdout",
     "output_type": "stream",
     "text": [
      "{'Ram', 'Ravi', 'Sam'}\n",
      "<class 'set'>\n"
     ]
    }
   ],
   "source": [
    "names={'Ram','Sam','Ravi'}\n",
    "print(names)\n",
    "print(type(names))"
   ]
  },
  {
   "cell_type": "code",
   "execution_count": 45,
   "id": "dac5baf5",
   "metadata": {},
   "outputs": [
    {
     "name": "stdout",
     "output_type": "stream",
     "text": [
      "Ram\n",
      "Ravi\n",
      "Sam\n"
     ]
    }
   ],
   "source": [
    "# Access values using for loop\n",
    "\n",
    "for name in names:\n",
    "    print(name)"
   ]
  },
  {
   "cell_type": "code",
   "execution_count": 46,
   "id": "35df8975",
   "metadata": {},
   "outputs": [
    {
     "name": "stdout",
     "output_type": "stream",
     "text": [
      "{'Ram', 'Somu', 'Ravi', 'Sam'}\n"
     ]
    }
   ],
   "source": [
    "# Adding New element\n",
    "\n",
    "names.add('Somu')\n",
    "print(names)"
   ]
  },
  {
   "cell_type": "code",
   "execution_count": 47,
   "id": "649a384b",
   "metadata": {},
   "outputs": [
    {
     "name": "stdout",
     "output_type": "stream",
     "text": [
      "{'Somu', 'Ravi', 'Kumar', 'Ram', 'Suresh', 'Sundar', 'Sam'}\n"
     ]
    }
   ],
   "source": [
    "\n",
    "# Update another set of data\n",
    "\n",
    "a={'Kumar','Sundar','Suresh'}\n",
    "names.update(a)\n",
    "print(names)"
   ]
  },
  {
   "cell_type": "code",
   "execution_count": 55,
   "id": "3bcec2f7",
   "metadata": {},
   "outputs": [
    {
     "name": "stdout",
     "output_type": "stream",
     "text": [
      "{'Somu', 'Kumar', 'Ram', 'Suresh', 'Sundar', 'Sam'}\n",
      "{'Somu', 'Ram', 'Suresh', 'Sundar', 'Sam'}\n"
     ]
    }
   ],
   "source": [
    "print(names)\n",
    "\n",
    "names.remove('Kumar') #  Remove a elemnt\n",
    "print(names)"
   ]
  },
  {
   "cell_type": "code",
   "execution_count": 57,
   "id": "00d33d78",
   "metadata": {},
   "outputs": [
    {
     "name": "stdout",
     "output_type": "stream",
     "text": [
      "{'Somu', 'Ram', 'Sundar', 'Sam'}\n"
     ]
    }
   ],
   "source": [
    "names.discard('Suresh')\n",
    "print(names)"
   ]
  },
  {
   "cell_type": "code",
   "execution_count": 60,
   "id": "1954b873",
   "metadata": {},
   "outputs": [
    {
     "name": "stdout",
     "output_type": "stream",
     "text": [
      "{'Sundar', 'Sam'}\n"
     ]
    }
   ],
   "source": [
    "names.pop()\n",
    "print(names)"
   ]
  },
  {
   "cell_type": "code",
   "execution_count": 61,
   "id": "b92b1a31",
   "metadata": {},
   "outputs": [
    {
     "name": "stdout",
     "output_type": "stream",
     "text": [
      "set()\n"
     ]
    }
   ],
   "source": [
    "names.clear()\n",
    "print(names)"
   ]
  },
  {
   "cell_type": "code",
   "execution_count": 64,
   "id": "e90ec2ff",
   "metadata": {},
   "outputs": [
    {
     "ename": "NameError",
     "evalue": "name 'names' is not defined",
     "output_type": "error",
     "traceback": [
      "\u001b[1;31m---------------------------------------------------------------------------\u001b[0m",
      "\u001b[1;31mNameError\u001b[0m                                 Traceback (most recent call last)",
      "\u001b[1;32m~\\AppData\\Local\\Temp\\ipykernel_10572\\1604081103.py\u001b[0m in \u001b[0;36m<module>\u001b[1;34m\u001b[0m\n\u001b[1;32m----> 1\u001b[1;33m \u001b[0mprint\u001b[0m\u001b[1;33m(\u001b[0m\u001b[0mnames\u001b[0m\u001b[1;33m)\u001b[0m\u001b[1;33m\u001b[0m\u001b[1;33m\u001b[0m\u001b[0m\n\u001b[0m\u001b[0;32m      2\u001b[0m \u001b[1;32mdel\u001b[0m \u001b[0mnames\u001b[0m\u001b[1;33m\u001b[0m\u001b[1;33m\u001b[0m\u001b[0m\n\u001b[0;32m      3\u001b[0m \u001b[0mprint\u001b[0m\u001b[1;33m(\u001b[0m\u001b[0mnames\u001b[0m\u001b[1;33m)\u001b[0m\u001b[1;33m\u001b[0m\u001b[1;33m\u001b[0m\u001b[0m\n",
      "\u001b[1;31mNameError\u001b[0m: name 'names' is not defined"
     ]
    }
   ],
   "source": [
    "del names\n",
    "print(names)"
   ]
  },
  {
   "cell_type": "code",
   "execution_count": 67,
   "id": "d04b275d",
   "metadata": {},
   "outputs": [
    {
     "name": "stdout",
     "output_type": "stream",
     "text": [
      "{1, 2, 3, 4, 5, 6, 7, 's', 'f', 'a', 'd'}\n"
     ]
    }
   ],
   "source": [
    "a={1,3,2,5,4,6,7}\n",
    "b={'a','s','f','d'}\n",
    "\n",
    "c=a.union(b)\n",
    "print(c)"
   ]
  },
  {
   "cell_type": "code",
   "execution_count": 68,
   "id": "bbe77860",
   "metadata": {},
   "outputs": [
    {
     "name": "stdout",
     "output_type": "stream",
     "text": [
      "{1, 2, 3, 4, 5, 6, 7, 's', 'f', 'a', 'd'}\n"
     ]
    }
   ],
   "source": [
    "a.update(b)\n",
    "print(a)"
   ]
  },
  {
   "cell_type": "code",
   "execution_count": 69,
   "id": "97398293",
   "metadata": {},
   "outputs": [
    {
     "name": "stdout",
     "output_type": "stream",
     "text": [
      "{1, 2, 4, 5}\n"
     ]
    }
   ],
   "source": [
    "a={1,3,2,4,5}\n",
    "b={99,8,2,1,4,5}\n",
    "\n",
    "c=a.intersection(b)\n",
    "print(c)"
   ]
  },
  {
   "cell_type": "code",
   "execution_count": 70,
   "id": "2281373e",
   "metadata": {},
   "outputs": [
    {
     "name": "stdout",
     "output_type": "stream",
     "text": [
      "{1, 2, 4, 5}\n"
     ]
    }
   ],
   "source": [
    "a.intersection_update(b)\n",
    "print(a)"
   ]
  },
  {
   "cell_type": "code",
   "execution_count": 71,
   "id": "6f87512f",
   "metadata": {},
   "outputs": [
    {
     "name": "stdout",
     "output_type": "stream",
     "text": [
      "{99, 8}\n"
     ]
    }
   ],
   "source": [
    "c=a.symmetric_difference(b)\n",
    "print(c)"
   ]
  },
  {
   "cell_type": "code",
   "execution_count": 72,
   "id": "08307698",
   "metadata": {},
   "outputs": [
    {
     "name": "stdout",
     "output_type": "stream",
     "text": [
      "{99, 8}\n"
     ]
    }
   ],
   "source": [
    "a.symmetric_difference_update(b)\n",
    "print(a)\n"
   ]
  },
  {
   "cell_type": "code",
   "execution_count": 74,
   "id": "1ff09820",
   "metadata": {},
   "outputs": [
    {
     "name": "stdout",
     "output_type": "stream",
     "text": [
      "True\n"
     ]
    }
   ],
   "source": [
    "a={1,2,3,4}\n",
    "b={5,6,7,8,}\n",
    "\n",
    "c=a.isdisjoint(b)\n",
    "print(c)"
   ]
  },
  {
   "cell_type": "code",
   "execution_count": 75,
   "id": "59463273",
   "metadata": {},
   "outputs": [
    {
     "name": "stdout",
     "output_type": "stream",
     "text": [
      "False\n"
     ]
    }
   ],
   "source": [
    "a={1,2,3,4}\n",
    "b={5,6,7,8,4}\n",
    "\n",
    "c=a.isdisjoint(b)\n",
    "print(c)"
   ]
  },
  {
   "cell_type": "code",
   "execution_count": 76,
   "id": "82b6696f",
   "metadata": {},
   "outputs": [
    {
     "name": "stdout",
     "output_type": "stream",
     "text": [
      "False\n"
     ]
    }
   ],
   "source": [
    "c=a.issubset(b)\n",
    "print(c)"
   ]
  },
  {
   "cell_type": "code",
   "execution_count": 77,
   "id": "6d66e70a",
   "metadata": {},
   "outputs": [
    {
     "name": "stdout",
     "output_type": "stream",
     "text": [
      "False\n"
     ]
    }
   ],
   "source": [
    "c=a.issuperset(b)\n",
    "print(c)"
   ]
  },
  {
   "cell_type": "markdown",
   "id": "70580a7d",
   "metadata": {},
   "source": [
    "# Dict in python"
   ]
  },
  {
   "cell_type": "code",
   "execution_count": 78,
   "id": "2748a584",
   "metadata": {},
   "outputs": [
    {
     "name": "stdout",
     "output_type": "stream",
     "text": [
      "{'name': 'Santhosh', 'Age': 20, 'Gender': 'Male'}\n"
     ]
    }
   ],
   "source": [
    "user={\n",
    "    \"name\":\"Santhosh\",\n",
    "    \"Age\":20,\n",
    "    \"Gender\":\"Male\"\n",
    "}\n",
    "print(user)"
   ]
  },
  {
   "cell_type": "code",
   "execution_count": 79,
   "id": "d7d90d83",
   "metadata": {},
   "outputs": [
    {
     "name": "stdout",
     "output_type": "stream",
     "text": [
      "<class 'dict'>\n",
      "Santhosh\n"
     ]
    }
   ],
   "source": [
    "print(type(user))\n",
    "print(user[\"name\"])"
   ]
  },
  {
   "cell_type": "code",
   "execution_count": 82,
   "id": "114255a0",
   "metadata": {},
   "outputs": [
    {
     "name": "stdout",
     "output_type": "stream",
     "text": [
      "20\n",
      "dict_keys(['name', 'Age', 'Gender'])\n",
      "dict_values(['Santhosh', 20, 'Male'])\n",
      "dict_items([('name', 'Santhosh'), ('Age', 20), ('Gender', 'Male')])\n"
     ]
    }
   ],
   "source": [
    "print(user.get('Age'))\n",
    "print(user.keys())\n",
    "print(user.values())\n",
    "print(user.items())\n"
   ]
  },
  {
   "cell_type": "code",
   "execution_count": 83,
   "id": "52c59f99",
   "metadata": {},
   "outputs": [
    {
     "name": "stdout",
     "output_type": "stream",
     "text": [
      "name\n",
      "Age\n",
      "Gender\n"
     ]
    }
   ],
   "source": [
    "for x in user:\n",
    "    print(x)\n",
    "    "
   ]
  },
  {
   "cell_type": "code",
   "execution_count": 84,
   "id": "747db1a7",
   "metadata": {},
   "outputs": [
    {
     "name": "stdout",
     "output_type": "stream",
     "text": [
      "name\n",
      "Santhosh\n",
      "Age\n",
      "20\n",
      "Gender\n",
      "Male\n"
     ]
    }
   ],
   "source": [
    "for x in user:\n",
    "    print(x)\n",
    "    print(user[x])\n",
    "    "
   ]
  },
  {
   "cell_type": "code",
   "execution_count": 85,
   "id": "0e933e3c",
   "metadata": {},
   "outputs": [
    {
     "name": "stdout",
     "output_type": "stream",
     "text": [
      "name   Santhosh\n",
      "Age   20\n",
      "Gender   Male\n"
     ]
    }
   ],
   "source": [
    "for x in user:\n",
    "    print(x,\" \",user[x])"
   ]
  },
  {
   "cell_type": "code",
   "execution_count": 87,
   "id": "e7bd7a44",
   "metadata": {},
   "outputs": [
    {
     "name": "stdout",
     "output_type": "stream",
     "text": [
      "name\n",
      "Age\n",
      "Gender\n"
     ]
    }
   ],
   "source": [
    "for x in user.keys():\n",
    "    print(x)\n",
    "    "
   ]
  },
  {
   "cell_type": "code",
   "execution_count": 88,
   "id": "e19da91f",
   "metadata": {},
   "outputs": [
    {
     "name": "stdout",
     "output_type": "stream",
     "text": [
      "Santhosh\n",
      "20\n",
      "Male\n"
     ]
    }
   ],
   "source": [
    "for x in user.values():\n",
    "    print(x)\n",
    "    "
   ]
  },
  {
   "cell_type": "code",
   "execution_count": 89,
   "id": "d8bf7df4",
   "metadata": {},
   "outputs": [
    {
     "name": "stdout",
     "output_type": "stream",
     "text": [
      "name Santhosh\n",
      "Age 20\n",
      "Gender Male\n"
     ]
    }
   ],
   "source": [
    "for x,y in user.items():\n",
    "    print(x,y)\n",
    "    "
   ]
  },
  {
   "cell_type": "code",
   "execution_count": 91,
   "id": "ccb7f6b7",
   "metadata": {},
   "outputs": [
    {
     "name": "stdout",
     "output_type": "stream",
     "text": [
      "Not Present\n"
     ]
    }
   ],
   "source": [
    "if \"age\" in user:\n",
    "    print(\"Present\")\n",
    "    \n",
    "else:\n",
    "    print(\"Not Present\")"
   ]
  },
  {
   "cell_type": "code",
   "execution_count": 92,
   "id": "39b2db4a",
   "metadata": {},
   "outputs": [
    {
     "name": "stdout",
     "output_type": "stream",
     "text": [
      "Present\n"
     ]
    }
   ],
   "source": [
    "if \"Age\" in user:\n",
    "    print(\"Present\")\n",
    "    \n",
    "else:\n",
    "    print(\"Not Present\")"
   ]
  },
  {
   "cell_type": "code",
   "execution_count": 93,
   "id": "d520d9e3",
   "metadata": {},
   "outputs": [
    {
     "name": "stdout",
     "output_type": "stream",
     "text": [
      "{'name': 'Santhosh', 'Age': 20, 'Gender': 'Male', 'Married': 'True'}\n"
     ]
    }
   ],
   "source": [
    "# Changing value\n",
    "\n",
    "user.update({\"Married\":\"True\"})\n",
    "print(user)"
   ]
  },
  {
   "cell_type": "code",
   "execution_count": 94,
   "id": "14acde6a",
   "metadata": {},
   "outputs": [
    {
     "name": "stdout",
     "output_type": "stream",
     "text": [
      "{'name': 'Santhosh', 'Age': 35, 'Gender': 'Male', 'Married': 'True'}\n"
     ]
    }
   ],
   "source": [
    "user[\"Age\"]=35\n",
    "print(user)"
   ]
  },
  {
   "cell_type": "code",
   "execution_count": 95,
   "id": "83c61c18",
   "metadata": {},
   "outputs": [
    {
     "name": "stdout",
     "output_type": "stream",
     "text": [
      "{'name': 'Santhosh', 'Age': 35, 'Gender': 'Male', 'Married': 'True'}\n",
      "{'name': 'Santhosh', 'Gender': 'Male', 'Married': 'True'}\n"
     ]
    }
   ],
   "source": [
    "print(user)\n",
    "\n",
    "user.pop(\"Age\")\n",
    "print(user)"
   ]
  },
  {
   "cell_type": "code",
   "execution_count": 96,
   "id": "9a4cfff9",
   "metadata": {},
   "outputs": [
    {
     "name": "stdout",
     "output_type": "stream",
     "text": [
      "{}\n"
     ]
    }
   ],
   "source": [
    "user.clear()\n",
    "print(user)"
   ]
  },
  {
   "cell_type": "code",
   "execution_count": 97,
   "id": "57e3254c",
   "metadata": {},
   "outputs": [
    {
     "ename": "NameError",
     "evalue": "name 'user' is not defined",
     "output_type": "error",
     "traceback": [
      "\u001b[1;31m---------------------------------------------------------------------------\u001b[0m",
      "\u001b[1;31mNameError\u001b[0m                                 Traceback (most recent call last)",
      "\u001b[1;32m~\\AppData\\Local\\Temp\\ipykernel_10572\\4216149554.py\u001b[0m in \u001b[0;36m<module>\u001b[1;34m\u001b[0m\n\u001b[0;32m      1\u001b[0m \u001b[1;32mdel\u001b[0m \u001b[0muser\u001b[0m\u001b[1;33m\u001b[0m\u001b[1;33m\u001b[0m\u001b[0m\n\u001b[1;32m----> 2\u001b[1;33m \u001b[0mprint\u001b[0m\u001b[1;33m(\u001b[0m\u001b[0muser\u001b[0m\u001b[1;33m)\u001b[0m\u001b[1;33m\u001b[0m\u001b[1;33m\u001b[0m\u001b[0m\n\u001b[0m",
      "\u001b[1;31mNameError\u001b[0m: name 'user' is not defined"
     ]
    }
   ],
   "source": [
    "del user\n",
    "print(user)"
   ]
  },
  {
   "cell_type": "code",
   "execution_count": 98,
   "id": "297dceb7",
   "metadata": {},
   "outputs": [
    {
     "name": "stdout",
     "output_type": "stream",
     "text": [
      "{'user1': {'name': 'Ram', 'age': 23, 'Gender': 'Male'}, 'user2': {'name': 'Sam', 'age': 25, 'Gender': 'mle'}}\n"
     ]
    }
   ],
   "source": [
    "users={\n",
    "    \"user1\":{\n",
    "        \"name\":\"Ram\",\n",
    "        \"age\":23,\n",
    "        \"Gender\":\"Male\"\n",
    "    },\n",
    "    \"user2\":{\n",
    "        \"name\":\"Sam\",\n",
    "        \"age\":25,\n",
    "        \"Gender\":\"mle\"\n",
    "    }\n",
    "}\n",
    "print(users)"
   ]
  },
  {
   "cell_type": "code",
   "execution_count": null,
   "id": "66c0b8a4",
   "metadata": {},
   "outputs": [],
   "source": [
    "\"\"\"\n",
    "    is\n",
    "    \n",
    "    is not\n",
    "    \n",
    "\"\"\""
   ]
  },
  {
   "cell_type": "code",
   "execution_count": 99,
   "id": "c4c482d4",
   "metadata": {},
   "outputs": [
    {
     "name": "stdout",
     "output_type": "stream",
     "text": [
      "2809367011200\n",
      "2809367011200\n",
      "2809367062784\n"
     ]
    }
   ],
   "source": [
    "a=[1,2]\n",
    "b=[1,2]\n",
    "\n",
    "c=a\n",
    "\n",
    "print(id(a))\n",
    "print(id(c))\n",
    "print(id(b))"
   ]
  },
  {
   "cell_type": "code",
   "execution_count": 100,
   "id": "f1d7397a",
   "metadata": {},
   "outputs": [
    {
     "name": "stdout",
     "output_type": "stream",
     "text": [
      "True\n",
      "False\n",
      "True\n"
     ]
    }
   ],
   "source": [
    "print(a is c)\n",
    "print(a is b)\n",
    "print(a==b)"
   ]
  },
  {
   "cell_type": "code",
   "execution_count": 101,
   "id": "679279ad",
   "metadata": {},
   "outputs": [
    {
     "name": "stdout",
     "output_type": "stream",
     "text": [
      "False\n",
      "True\n",
      "False\n"
     ]
    }
   ],
   "source": [
    "print(a is not c)\n",
    "print(a is not b)\n",
    "print(a!=b)"
   ]
  },
  {
   "cell_type": "code",
   "execution_count": 102,
   "id": "4d493d3d",
   "metadata": {},
   "outputs": [
    {
     "name": "stdout",
     "output_type": "stream",
     "text": [
      "True\n"
     ]
    }
   ],
   "source": [
    "# Example\n",
    "\n",
    "a=[10,24,45,88]\n",
    "print(10 in a)"
   ]
  },
  {
   "cell_type": "code",
   "execution_count": 103,
   "id": "ce4ef2e5",
   "metadata": {},
   "outputs": [
    {
     "name": "stdout",
     "output_type": "stream",
     "text": [
      "False\n"
     ]
    }
   ],
   "source": [
    "\n",
    "a=[10,24,45,88]\n",
    "print(10 not in a)"
   ]
  },
  {
   "cell_type": "markdown",
   "id": "b0e6b3da",
   "metadata": {},
   "source": [
    "# Functions in Python\n"
   ]
  },
  {
   "cell_type": "code",
   "execution_count": 4,
   "id": "8f2ce5d3",
   "metadata": {},
   "outputs": [
    {
     "name": "stdout",
     "output_type": "stream",
     "text": [
      "Enter the value of A :1\n",
      "Enter the value of B :2\n",
      "Total : 3\n"
     ]
    }
   ],
   "source": [
    "# No return type without Argument functions in python.\n",
    "\n",
    "def add():\n",
    "    a=int(input(\"Enter the value of A :\"))\n",
    "    b=int(input(\"Enter the value of B :\"))\n",
    "    c=a+b\n",
    "    print(\"Total :\",c)\n",
    "    \n",
    "add()"
   ]
  },
  {
   "cell_type": "code",
   "execution_count": 5,
   "id": "d25ff03e",
   "metadata": {},
   "outputs": [
    {
     "name": "stdout",
     "output_type": "stream",
     "text": [
      "Difference : 2\n"
     ]
    }
   ],
   "source": [
    "# No return type with argument function in python\n",
    "\n",
    "def sub(a,b):\n",
    "    c=a-b\n",
    "    print(\"Difference :\",c)\n",
    "\n",
    "sub(3,1)"
   ]
  },
  {
   "cell_type": "code",
   "execution_count": 6,
   "id": "9b5800ae",
   "metadata": {},
   "outputs": [
    {
     "name": "stdout",
     "output_type": "stream",
     "text": [
      "Enter a number A :2\n",
      "Enter a number B :3\n",
      "Multiplication value : 6\n"
     ]
    }
   ],
   "source": [
    "# Return type without argument function in python\n",
    " \n",
    "def mul():\n",
    "    a=int(input(\"Enter a number A :\"))\n",
    "    b=int(input(\"Enter a number B :\"))\n",
    "    c=a*b\n",
    "    return c\n",
    "\n",
    "x=mul()\n",
    "print(\"Multiplication value :\",x)\n"
   ]
  },
  {
   "cell_type": "code",
   "execution_count": 7,
   "id": "0c51053f",
   "metadata": {},
   "outputs": [
    {
     "name": "stdout",
     "output_type": "stream",
     "text": [
      "Your value is : 0.6666666666666666\n"
     ]
    }
   ],
   "source": [
    "# Return type with argument function in Python\n",
    "\n",
    "def div(a,b):\n",
    "    c=a/b\n",
    "    return c\n",
    "\n",
    "x=div(2,3)\n",
    "print(\"Your value is :\",x)"
   ]
  },
  {
   "cell_type": "code",
   "execution_count": 8,
   "id": "36e3a144",
   "metadata": {},
   "outputs": [
    {
     "name": "stdout",
     "output_type": "stream",
     "text": [
      "('Ram', 'Sam', 'Elen', 'Alan', 'Trons')\n",
      "Ram\n",
      "Sam\n",
      "Elen\n",
      "Alan\n",
      "Trons\n"
     ]
    }
   ],
   "source": [
    "# Arbitary arguments function in python(*)\n",
    "\n",
    "def class_10(*students):\n",
    "    print(students)\n",
    "    \n",
    "    for user in students:\n",
    "        print(user)\n",
    "        \n",
    "class_10(\"Ram\",\"Sam\",\"Elen\",\"Alan\",\"Trons\")"
   ]
  },
  {
   "cell_type": "code",
   "execution_count": 9,
   "id": "975eb552",
   "metadata": {},
   "outputs": [
    {
     "name": "stdout",
     "output_type": "stream",
     "text": [
      "Santhosh age is 20\n"
     ]
    }
   ],
   "source": [
    "# Key Arguments Functionin Python\n",
    "\n",
    "def message(name,age):\n",
    "    print(name,\"age is\",age)\n",
    "    \n",
    "message(\"Santhosh\",20)"
   ]
  },
  {
   "cell_type": "code",
   "execution_count": 10,
   "id": "e335eb0b",
   "metadata": {},
   "outputs": [
    {
     "name": "stdout",
     "output_type": "stream",
     "text": [
      "Santhosh age is 20\n"
     ]
    }
   ],
   "source": [
    "def message(name,age):\n",
    "    print(name,\"age is\",age)\n",
    "    \n",
    "message(age=20,name=\"Santhosh\")"
   ]
  },
  {
   "cell_type": "code",
   "execution_count": 11,
   "id": "291ae889",
   "metadata": {},
   "outputs": [
    {
     "name": "stdout",
     "output_type": "stream",
     "text": [
      "{'Name': 'Ram', 'Age': 20, 'Gender': 'male'}\n"
     ]
    }
   ],
   "source": [
    "# Arbitary keyword Arguments in Python\n",
    "\n",
    "def biodata(**data):\n",
    "    print(data)\n",
    "    \n",
    "biodata(Name=\"Ram\",Age=20,Gender=\"male\")"
   ]
  },
  {
   "cell_type": "code",
   "execution_count": 12,
   "id": "a5ce0e9e",
   "metadata": {},
   "outputs": [
    {
     "name": "stdout",
     "output_type": "stream",
     "text": [
      "Santhosh from Karur\n"
     ]
    }
   ],
   "source": [
    "# Default parameter function in python\n",
    "\n",
    "def user(name,city=\"Karur\"):\n",
    "    print(name,\"from\",city)\n",
    "    \n",
    "user(\"Santhosh\")"
   ]
  },
  {
   "cell_type": "code",
   "execution_count": 14,
   "id": "077e6950",
   "metadata": {},
   "outputs": [
    {
     "name": "stdout",
     "output_type": "stream",
     "text": [
      "Santhosh from Trichy\n",
      "Tharma from Karur\n"
     ]
    }
   ],
   "source": [
    "def user(name,city=\"Karur\"):\n",
    "    print(name,\"from\",city)\n",
    "    \n",
    "user(\"Santhosh\",\"Trichy\")\n",
    "user(\"Tharma\")"
   ]
  },
  {
   "cell_type": "code",
   "execution_count": 17,
   "id": "ab2fc93c",
   "metadata": {},
   "outputs": [
    {
     "name": "stdout",
     "output_type": "stream",
     "text": [
      "Total : 302\n"
     ]
    }
   ],
   "source": [
    "# Passing a list as an argument in function python\n",
    "\n",
    "def total(marks):\n",
    "    return sum(marks)\n",
    "\n",
    "x=total([56,67,78,45,56])\n",
    "print(\"Total :\",x)"
   ]
  },
  {
   "cell_type": "code",
   "execution_count": 27,
   "id": "b063bc55",
   "metadata": {},
   "outputs": [
    {
     "data": {
      "text/plain": [
       "120"
      ]
     },
     "execution_count": 27,
     "metadata": {},
     "output_type": "execute_result"
    }
   ],
   "source": [
    "# Recursive function\n",
    "\n",
    "# Factorial 1*2*3*4*5=120\n",
    "\n",
    "def factorial(x):\n",
    "    if x==1:\n",
    "        return 1\n",
    "    \n",
    "    else:\n",
    "        return(x * factorial(x-1))\n",
    "\n",
    "factorial(5)\n",
    "\n",
    "print(\"Factorial values :\",factorial(5))"
   ]
  },
  {
   "cell_type": "code",
   "execution_count": null,
   "id": "838541b6",
   "metadata": {},
   "outputs": [],
   "source": []
  },
  {
   "cell_type": "markdown",
   "id": "39f7674b",
   "metadata": {},
   "source": [
    "# lambda func..."
   ]
  },
  {
   "cell_type": "code",
   "execution_count": 28,
   "id": "6bc4f052",
   "metadata": {},
   "outputs": [
    {
     "name": "stdout",
     "output_type": "stream",
     "text": [
      "55\n"
     ]
    }
   ],
   "source": [
    "c=lambda a:a+50\n",
    "print(c(5))"
   ]
  },
  {
   "cell_type": "code",
   "execution_count": 29,
   "id": "0fe70f8c",
   "metadata": {},
   "outputs": [
    {
     "name": "stdout",
     "output_type": "stream",
     "text": [
      "6\n"
     ]
    }
   ],
   "source": [
    "c=lambda a,b:a*b\n",
    "print(c(2,3))"
   ]
  },
  {
   "cell_type": "markdown",
   "id": "dceaa665",
   "metadata": {},
   "source": [
    "# Date Time Package in Python\n"
   ]
  },
  {
   "cell_type": "code",
   "execution_count": 33,
   "id": "611d75c6",
   "metadata": {},
   "outputs": [
    {
     "name": "stdout",
     "output_type": "stream",
     "text": [
      "Current date is : 2023-01-26\n"
     ]
    }
   ],
   "source": [
    "import datetime as dt\n",
    "    \n",
    "current_date=dt.date.today()\n",
    "print(\"Current date is :\",current_date)"
   ]
  },
  {
   "cell_type": "code",
   "execution_count": 36,
   "id": "84f19b39",
   "metadata": {},
   "outputs": [
    {
     "name": "stdout",
     "output_type": "stream",
     "text": [
      "2021-11-11\n",
      "\n",
      "Year : 2021\n",
      "Month : 11\n",
      "Day : 11\n"
     ]
    }
   ],
   "source": [
    "new_date=dt.date(2021,11,11)\n",
    "print(new_date)\n",
    "\n",
    "print()\n",
    "\n",
    "print(\"Year :\",new_date.year)\n",
    "print(\"Month :\",new_date.month)\n",
    "print(\"Day :\",new_date.day)"
   ]
  },
  {
   "cell_type": "code",
   "execution_count": 40,
   "id": "359c3a4b",
   "metadata": {},
   "outputs": [
    {
     "name": "stdout",
     "output_type": "stream",
     "text": [
      "10:45:54.067445\n",
      "\n",
      "Hour : 10\n",
      "Minute : 45\n",
      "Second : 54\n",
      "Micro second : 67445\n"
     ]
    }
   ],
   "source": [
    "# Now ,let us see time in python\n",
    "\n",
    "t=dt.time(10,45,54,67445)\n",
    "print(t)\n",
    "\n",
    "print()\n",
    "\n",
    "print(\"Hour :\",t.hour)\n",
    "print(\"Minute :\",t.minute)\n",
    "print(\"Second :\",t.second)\n",
    "print(\"Micro second :\",t.microsecond)"
   ]
  },
  {
   "cell_type": "code",
   "execution_count": 41,
   "id": "2fb5de23",
   "metadata": {},
   "outputs": [
    {
     "name": "stdout",
     "output_type": "stream",
     "text": [
      "Current date and time : 2023-01-26 20:05:22.136238\n"
     ]
    }
   ],
   "source": [
    "# Now,we will print both time and date\n",
    "\n",
    "current_time=dt.datetime.now()\n",
    "print(\"Current date and time :\",current_time)"
   ]
  },
  {
   "cell_type": "code",
   "execution_count": 47,
   "id": "baff3dbf",
   "metadata": {},
   "outputs": [
    {
     "name": "stdout",
     "output_type": "stream",
     "text": [
      "2021-04-05 05:45:59.000789\n",
      "\n",
      "2021-04-05\n",
      "05:45:59.000789\n"
     ]
    }
   ],
   "source": [
    "new=dt.datetime(2021,4,5,5,45,59,789)\n",
    "print(new)\n",
    "\n",
    "print()\n",
    "\n",
    "print(new.date())\n",
    "print(new.time())"
   ]
  },
  {
   "cell_type": "code",
   "execution_count": 52,
   "id": "37e70d3e",
   "metadata": {},
   "outputs": [
    {
     "name": "stdout",
     "output_type": "stream",
     "text": [
      "339 days, 3:46:45.611885\n"
     ]
    }
   ],
   "source": [
    "current=dt.datetime.now()\n",
    "\n",
    "new_year=dt.datetime(2024,1,1)\n",
    "\n",
    "difference=new_year-current    # To calculate a number of days to nxt year\n",
    "\n",
    "print(difference)"
   ]
  },
  {
   "cell_type": "code",
   "execution_count": 53,
   "id": "f3e7853b",
   "metadata": {},
   "outputs": [
    {
     "name": "stdout",
     "output_type": "stream",
     "text": [
      "2023-01-26 20:13:41.726996\n"
     ]
    }
   ],
   "source": [
    "current=dt.datetime.now()\n",
    "print(current)"
   ]
  },
  {
   "cell_type": "code",
   "execution_count": 56,
   "id": "17eb3423",
   "metadata": {},
   "outputs": [
    {
     "name": "stdout",
     "output_type": "stream",
     "text": [
      "Thursday Jan 01/26/23\n"
     ]
    }
   ],
   "source": [
    "s=current.strftime(\"%A %b %D\")   # There are available number of varients\n",
    "print(s)"
   ]
  },
  {
   "cell_type": "markdown",
   "id": "a324610b",
   "metadata": {},
   "source": [
    "# Math func in Python"
   ]
  },
  {
   "cell_type": "code",
   "execution_count": 62,
   "id": "00049bf8",
   "metadata": {},
   "outputs": [
    {
     "name": "stdout",
     "output_type": "stream",
     "text": [
      "2.0\n",
      "2\n",
      "1\n",
      "120\n",
      "5.0\n",
      "8.0\n",
      "1.0\n",
      "0.3010299956639812\n",
      "3.141592653589793\n",
      "2.718281828459045\n"
     ]
    }
   ],
   "source": [
    "import math\n",
    "\n",
    "print(math.sqrt(4))\n",
    "\n",
    "print(math.ceil(1.555))\n",
    "\n",
    "print(math.floor(1.555))\n",
    "\n",
    "# Factorial 5! = 5*4*3*2*1\n",
    "\n",
    "print(math.factorial(5))\n",
    "\n",
    "print(math.fabs(-5))\n",
    "\n",
    "print(math.pow(2,3))\n",
    "\n",
    "print(math.log2(2))\n",
    "\n",
    "print(math.log10(2))\n",
    "\n",
    "print(math.pi)\n",
    "\n",
    "print(math.e)"
   ]
  },
  {
   "cell_type": "markdown",
   "id": "1ec94f03",
   "metadata": {},
   "source": [
    "# Try Block in Python"
   ]
  },
  {
   "cell_type": "code",
   "execution_count": 63,
   "id": "a339e14a",
   "metadata": {},
   "outputs": [
    {
     "name": "stdout",
     "output_type": "stream",
     "text": [
      "division by zero\n"
     ]
    }
   ],
   "source": [
    "try:\n",
    "    a=10/0\n",
    "    \n",
    "except Exception as e:\n",
    "    print(e)"
   ]
  },
  {
   "cell_type": "code",
   "execution_count": 66,
   "id": "249055fc",
   "metadata": {},
   "outputs": [
    {
     "name": "stdout",
     "output_type": "stream",
     "text": [
      "A value is  5.0\n"
     ]
    }
   ],
   "source": [
    "try:\n",
    "    a=10/2\n",
    "    \n",
    "except Exception as e:\n",
    "    print(e)\n",
    "    \n",
    "else:\n",
    "    print(\"A value is \",a)"
   ]
  },
  {
   "cell_type": "code",
   "execution_count": 67,
   "id": "4ec0bfdc",
   "metadata": {},
   "outputs": [
    {
     "name": "stdout",
     "output_type": "stream",
     "text": [
      "A value is  5.0\n",
      "Thank You...\n"
     ]
    }
   ],
   "source": [
    "try:\n",
    "    a=10/2\n",
    "    \n",
    "except Exception as e:\n",
    "    print(e)\n",
    "    \n",
    "else:\n",
    "    print(\"A value is \",a)\n",
    "    \n",
    "finally:\n",
    "    print(\"Thank You...\")"
   ]
  },
  {
   "cell_type": "markdown",
   "id": "90722f48",
   "metadata": {},
   "source": [
    "# PYHTON OOPS"
   ]
  },
  {
   "cell_type": "code",
   "execution_count": null,
   "id": "afd232b2",
   "metadata": {},
   "outputs": [],
   "source": [
    "\"\"\"\n",
    "    Class and Objects :\n",
    "    \n",
    "        A class is a blueprint or services as a template from which individual objects are created.\n",
    "        \n",
    "        A object is an instance of a class which consists of method and properties.\n",
    "\"\"\""
   ]
  },
  {
   "cell_type": "code",
   "execution_count": null,
   "id": "070242b5",
   "metadata": {},
   "outputs": [],
   "source": [
    "\"\"\"\n",
    "    class car:\n",
    "    \n",
    "    Data member(states):\n",
    "    model \n",
    "    color\n",
    "    Brand\n",
    "    \n",
    "    Member Function or Method(Behaviour)\n",
    "    Start\n",
    "    Accelerate\n",
    "    Brake\n",
    "    \n",
    "\"\"\""
   ]
  },
  {
   "cell_type": "code",
   "execution_count": 3,
   "id": "215f6061",
   "metadata": {},
   "outputs": [
    {
     "name": "stdout",
     "output_type": "stream",
     "text": [
      "<class 'int'>\n",
      "<class 'type'>\n",
      "True\n",
      "True\n",
      "<class '__main__.car'>\n"
     ]
    }
   ],
   "source": [
    "class car:\n",
    "    pass\n",
    "\n",
    "a=10\n",
    "print(type(a))\n",
    "\n",
    "print(type(car))\n",
    "\n",
    "swift=car()                   #  Instance\n",
    "print(isinstance(swift,car))\n",
    "\n",
    "print(isinstance(a,int))\n",
    "\n",
    "print(type(swift))"
   ]
  },
  {
   "cell_type": "markdown",
   "id": "9de78459",
   "metadata": {},
   "source": [
    "# Create Attributes in Python"
   ]
  },
  {
   "cell_type": "code",
   "execution_count": 4,
   "id": "9428f3f9",
   "metadata": {},
   "outputs": [
    {
     "name": "stdout",
     "output_type": "stream",
     "text": [
      "Santhosh\n",
      "25\n"
     ]
    }
   ],
   "source": [
    "class student():\n",
    "    name=\"Santhosh\"\n",
    "    age=25\n",
    "    \n",
    "    \n",
    "# getattr method\n",
    "\n",
    "print(getattr(student,'name'))\n",
    "print(getattr(student,'age'))"
   ]
  },
  {
   "cell_type": "code",
   "execution_count": 6,
   "id": "3bfe840f",
   "metadata": {},
   "outputs": [
    {
     "name": "stdout",
     "output_type": "stream",
     "text": [
      "Santhosh\n",
      "25\n"
     ]
    },
    {
     "ename": "AttributeError",
     "evalue": "type object 'student' has no attribute 'gender'",
     "output_type": "error",
     "traceback": [
      "\u001b[1;31m---------------------------------------------------------------------------\u001b[0m",
      "\u001b[1;31mAttributeError\u001b[0m                            Traceback (most recent call last)",
      "\u001b[1;32m~\\AppData\\Local\\Temp\\ipykernel_6008\\2899785359.py\u001b[0m in \u001b[0;36m<module>\u001b[1;34m\u001b[0m\n\u001b[0;32m      9\u001b[0m \u001b[0mprint\u001b[0m\u001b[1;33m(\u001b[0m\u001b[0mgetattr\u001b[0m\u001b[1;33m(\u001b[0m\u001b[0mstudent\u001b[0m\u001b[1;33m,\u001b[0m\u001b[1;34m'age'\u001b[0m\u001b[1;33m)\u001b[0m\u001b[1;33m)\u001b[0m\u001b[1;33m\u001b[0m\u001b[1;33m\u001b[0m\u001b[0m\n\u001b[0;32m     10\u001b[0m \u001b[1;33m\u001b[0m\u001b[0m\n\u001b[1;32m---> 11\u001b[1;33m \u001b[0mprint\u001b[0m\u001b[1;33m(\u001b[0m\u001b[0mgetattr\u001b[0m\u001b[1;33m(\u001b[0m\u001b[0mstudent\u001b[0m\u001b[1;33m,\u001b[0m\u001b[1;34m'gender'\u001b[0m\u001b[1;33m)\u001b[0m\u001b[1;33m)\u001b[0m\u001b[1;33m\u001b[0m\u001b[1;33m\u001b[0m\u001b[0m\n\u001b[0m",
      "\u001b[1;31mAttributeError\u001b[0m: type object 'student' has no attribute 'gender'"
     ]
    }
   ],
   "source": [
    "class student():\n",
    "    name=\"Santhosh\"\n",
    "    age=25\n",
    "    \n",
    "    \n",
    "# getattr method\n",
    "\n",
    "print(getattr(student,'name'))\n",
    "print(getattr(student,'age'))\n",
    "\n",
    "print(getattr(student,'gender'))   # Here,We call the object ,but has a no attribute (means no value,no output)."
   ]
  },
  {
   "cell_type": "code",
   "execution_count": 13,
   "id": "aac272c9",
   "metadata": {},
   "outputs": [
    {
     "name": "stdout",
     "output_type": "stream",
     "text": [
      "Santhosh\n",
      "25\n",
      "No attribute value is found....\n",
      "\n",
      "Santhosh\n",
      "25\n",
      "\n",
      "Sandy\n",
      "Male\n",
      "\n",
      "Karur\n"
     ]
    }
   ],
   "source": [
    "class student():\n",
    "    name=\"Santhosh\"\n",
    "    age=25\n",
    "    \n",
    "    \n",
    "# getattr method\n",
    "\n",
    "print(getattr(student,'name'))\n",
    "print(getattr(student,'age'))\n",
    "\n",
    "print(getattr(student,'gender','No attribute value is found....'))\n",
    "\n",
    "print()\n",
    "\n",
    "# And we also used (Dot Notation)\n",
    "\n",
    "print(student.name)\n",
    "print(student.age)\n",
    "\n",
    "print()\n",
    "\n",
    "# setattr (means add a new value ,that is called setattr(Set Attribute))\n",
    "\n",
    "setattr(student,'name','Sandy')\n",
    "print(student.name)\n",
    "\n",
    "setattr(student,'gender','Male')\n",
    "print(student.gender)\n",
    "\n",
    "print()\n",
    "\n",
    "#Another way...\n",
    "\n",
    "student.city=\"Karur\"\n",
    "print(student.city)"
   ]
  },
  {
   "cell_type": "markdown",
   "id": "119220ac",
   "metadata": {},
   "source": [
    "# Instance Attribute in Python"
   ]
  },
  {
   "cell_type": "code",
   "execution_count": 18,
   "id": "290551f3",
   "metadata": {},
   "outputs": [
    {
     "name": "stdout",
     "output_type": "stream",
     "text": [
      "Java\n",
      "Java\n",
      "\n",
      "{'__module__': '__main__', 'course': 'Java', '__dict__': <attribute '__dict__' of 'user' objects>, '__weakref__': <attribute '__weakref__' of 'user' objects>, '__doc__': None}\n"
     ]
    }
   ],
   "source": [
    "class user:\n",
    "    course='Java'\n",
    "    \n",
    "o=user()             # Now,we create the instance that means object.\n",
    "print(user.course)   # print class attribute.\n",
    "\n",
    "print(o.course)\n",
    "\n",
    "print()\n",
    "\n",
    "print(user.__dict__)"
   ]
  },
  {
   "cell_type": "code",
   "execution_count": 19,
   "id": "e56ddb08",
   "metadata": {},
   "outputs": [
    {
     "name": "stdout",
     "output_type": "stream",
     "text": [
      "Java\n",
      "Java\n"
     ]
    }
   ],
   "source": [
    "class user:\n",
    "    course='Java'\n",
    "    \n",
    "o1=user()  \n",
    "print(o1.course)\n",
    "\n",
    "o2=user()\n",
    "print(o2.course)\n"
   ]
  },
  {
   "cell_type": "markdown",
   "id": "eb966e9c",
   "metadata": {},
   "source": [
    "# Class method in Python"
   ]
  },
  {
   "cell_type": "code",
   "execution_count": 21,
   "id": "58741f8f",
   "metadata": {},
   "outputs": [
    {
     "name": "stdout",
     "output_type": "stream",
     "text": [
      "Name : Santhosh\n",
      "Age : 20\n",
      "<function student.printall at 0x000001DDCC113550>\n",
      "<class '__main__.student'> printall\n"
     ]
    }
   ],
   "source": [
    "class student:\n",
    "    name=\"Santhosh\"\n",
    "    age=20\n",
    "    \n",
    "    def printall():\n",
    "        print('Name :',student.name)\n",
    "        print('Age :',student.age)\n",
    "        \n",
    "student.printall()\n",
    "\n",
    "print(getattr(student,'printall'))\n",
    "\n",
    "print(student,\"printall\")"
   ]
  },
  {
   "cell_type": "code",
   "execution_count": 23,
   "id": "f7131fda",
   "metadata": {},
   "outputs": [
    {
     "name": "stdout",
     "output_type": "stream",
     "text": [
      "Name : Santhosh\n",
      "Age : 20\n",
      "<function student.printall at 0x000001DDCC113820>\n"
     ]
    }
   ],
   "source": [
    "class student:\n",
    "    name=\"Santhosh\"\n",
    "    age=20\n",
    "    \n",
    "    def printall():\n",
    "        print('Name :',student.name)\n",
    "        print('Age :',student.age)\n",
    "        \n",
    "student.printall()\n",
    "\n",
    "print(getattr(student,'printall'))\n",
    "\n",
    "# print(student,\"printall\")()\n"
   ]
  },
  {
   "cell_type": "code",
   "execution_count": 24,
   "id": "4b691f29",
   "metadata": {},
   "outputs": [
    {
     "ename": "TypeError",
     "evalue": "printall() takes 0 positional arguments but 1 was given",
     "output_type": "error",
     "traceback": [
      "\u001b[1;31m---------------------------------------------------------------------------\u001b[0m",
      "\u001b[1;31mTypeError\u001b[0m                                 Traceback (most recent call last)",
      "\u001b[1;32m~\\AppData\\Local\\Temp\\ipykernel_6008\\1161366991.py\u001b[0m in \u001b[0;36m<module>\u001b[1;34m\u001b[0m\n\u001b[0;32m      9\u001b[0m \u001b[0mobj\u001b[0m\u001b[1;33m=\u001b[0m\u001b[0mstudent\u001b[0m\u001b[1;33m(\u001b[0m\u001b[1;33m)\u001b[0m\u001b[1;33m\u001b[0m\u001b[1;33m\u001b[0m\u001b[0m\n\u001b[0;32m     10\u001b[0m \u001b[1;33m\u001b[0m\u001b[0m\n\u001b[1;32m---> 11\u001b[1;33m \u001b[0mobj\u001b[0m\u001b[1;33m.\u001b[0m\u001b[0mprintall\u001b[0m\u001b[1;33m(\u001b[0m\u001b[1;33m)\u001b[0m\u001b[1;33m\u001b[0m\u001b[1;33m\u001b[0m\u001b[0m\n\u001b[0m",
      "\u001b[1;31mTypeError\u001b[0m: printall() takes 0 positional arguments but 1 was given"
     ]
    }
   ],
   "source": [
    "class student:\n",
    "    name=\"Praveen\"\n",
    "    age=25\n",
    "    \n",
    "    def printall():\n",
    "        print('Name :',student.name)\n",
    "        print('Age :',student.age)\n",
    "        \n",
    "obj=student()\n",
    "\n",
    "obj.printall()"
   ]
  },
  {
   "cell_type": "code",
   "execution_count": 26,
   "id": "a52b9e6f",
   "metadata": {},
   "outputs": [
    {
     "name": "stdout",
     "output_type": "stream",
     "text": [
      "Name : Praveen\n",
      "Age : 25\n"
     ]
    }
   ],
   "source": [
    "class student:\n",
    "    name=\"Praveen\"\n",
    "    age=25\n",
    "    \n",
    "    def printall(self):               # self means constructor (Be like constructor)\n",
    "        print('Name :',student.name)\n",
    "        print('Age :',student.age)\n",
    "        \n",
    "obj=student()\n",
    "\n",
    "student.printall(obj)"
   ]
  },
  {
   "cell_type": "code",
   "execution_count": 28,
   "id": "b77ba23e",
   "metadata": {},
   "outputs": [
    {
     "name": "stdout",
     "output_type": "stream",
     "text": [
      "Name : Praveen\n",
      "Age : 25\n"
     ]
    }
   ],
   "source": [
    "class student:\n",
    "    name=\"Praveen\"\n",
    "    age=25\n",
    "    \n",
    "    def printall(self):               # Now,we have to adding the new value(\"Gender\") by using the constructor.\n",
    "        print('Name :',student.name)\n",
    "        print('Age :',student.age)\n",
    "        \n",
    "obj=student()\n",
    "\n",
    "# student.printall(obj)\n",
    "\n",
    "obj.printall()"
   ]
  },
  {
   "cell_type": "code",
   "execution_count": 31,
   "id": "f7a4494f",
   "metadata": {},
   "outputs": [
    {
     "name": "stdout",
     "output_type": "stream",
     "text": [
      "Name : Praveen\n",
      "Age : 25\n",
      "Gender : Male\n"
     ]
    }
   ],
   "source": [
    "class student:\n",
    "    name=\"Praveen\"\n",
    "    age=25\n",
    "    \n",
    "    def printall(self,gender):               # Now,we have to adding the new value(\"Gender\") by using the constructor.\n",
    "        print('Name :',student.name)\n",
    "        print('Age :',student.age)\n",
    "        print('Gender :',gender)\n",
    "        \n",
    "obj=student()\n",
    "\n",
    "# student.printall(obj)\n",
    "\n",
    "obj.printall('Male')   # We pass the value ,but didnt give the print statement.\n"
   ]
  },
  {
   "cell_type": "code",
   "execution_count": 33,
   "id": "fe1b2508",
   "metadata": {},
   "outputs": [
    {
     "name": "stdout",
     "output_type": "stream",
     "text": [
      "Name : Praveen\n",
      "Age : 25\n",
      "Gender : Male\n",
      "Name : Praveen\n",
      "Age : 25\n",
      "Gender : Male\n"
     ]
    }
   ],
   "source": [
    "class student:\n",
    "    name=\"Praveen\"\n",
    "    age=25\n",
    "    \n",
    "    def printall(self,gender):               # Now,we have to adding the new value(\"Gender\") by using the constructor.\n",
    "        print('Name :',student.name)\n",
    "        print('Age :',student.age)\n",
    "        print('Gender :',gender)\n",
    "        \n",
    "obj=student()\n",
    "\n",
    "# student.printall(obj)\n",
    "\n",
    "obj.printall('Male')   \n",
    "\n",
    "student.printall(obj,\"Male\")  # And we also print like this.\n"
   ]
  },
  {
   "cell_type": "markdown",
   "id": "9b0fb5bc",
   "metadata": {},
   "source": [
    "# init method in python\n"
   ]
  },
  {
   "cell_type": "code",
   "execution_count": 2,
   "id": "87781fab",
   "metadata": {},
   "outputs": [
    {
     "name": "stdout",
     "output_type": "stream",
     "text": [
      "Call When new instance created...\n"
     ]
    }
   ],
   "source": [
    "class user:\n",
    "    def __init__(self):\n",
    "        print(\"Call When new instance created...\")\n",
    "        \n",
    "obj1=user()\n"
   ]
  },
  {
   "cell_type": "code",
   "execution_count": 3,
   "id": "7fe23772",
   "metadata": {},
   "outputs": [
    {
     "name": "stdout",
     "output_type": "stream",
     "text": [
      "Call When new instance created...\n",
      "Call When new instance created...\n"
     ]
    }
   ],
   "source": [
    "class user:\n",
    "    def __init__(self):\n",
    "        print(\"Call When new instance created...\")\n",
    "        \n",
    "obj1=user()\n",
    "\n",
    "obj2=user()  # Be like another instance also access it.\n"
   ]
  },
  {
   "cell_type": "code",
   "execution_count": 1,
   "id": "3dcc664c",
   "metadata": {},
   "outputs": [
    {
     "ename": "TypeError",
     "evalue": "__init__() missing 1 required positional argument: 'name'",
     "output_type": "error",
     "traceback": [
      "\u001b[1;31m---------------------------------------------------------------------------\u001b[0m",
      "\u001b[1;31mTypeError\u001b[0m                                 Traceback (most recent call last)",
      "\u001b[1;32m~\\AppData\\Local\\Temp\\ipykernel_11080\\1855582197.py\u001b[0m in \u001b[0;36m<module>\u001b[1;34m\u001b[0m\n\u001b[0;32m      7\u001b[0m         \u001b[0mprint\u001b[0m\u001b[1;33m(\u001b[0m\u001b[1;34m\"Name :\"\u001b[0m\u001b[1;33m,\u001b[0m\u001b[0mself\u001b[0m\u001b[1;33m.\u001b[0m\u001b[0mname\u001b[0m\u001b[1;33m)\u001b[0m\u001b[1;33m\u001b[0m\u001b[1;33m\u001b[0m\u001b[0m\n\u001b[0;32m      8\u001b[0m \u001b[1;33m\u001b[0m\u001b[0m\n\u001b[1;32m----> 9\u001b[1;33m \u001b[0mo1\u001b[0m\u001b[1;33m=\u001b[0m\u001b[0muser\u001b[0m\u001b[1;33m(\u001b[0m\u001b[1;33m)\u001b[0m\u001b[1;33m\u001b[0m\u001b[1;33m\u001b[0m\u001b[0m\n\u001b[0m\u001b[0;32m     10\u001b[0m \u001b[0mo1\u001b[0m\u001b[1;33m.\u001b[0m\u001b[0mprintall\u001b[0m\u001b[1;33m(\u001b[0m\u001b[1;33m)\u001b[0m\u001b[1;33m\u001b[0m\u001b[1;33m\u001b[0m\u001b[0m\n",
      "\u001b[1;31mTypeError\u001b[0m: __init__() missing 1 required positional argument: 'name'"
     ]
    }
   ],
   "source": [
    "class user:\n",
    "    def __init__(self,name):      # Passing a argument\n",
    "        print(\"Call when new instance is created\")\n",
    "        self.name=name\n",
    "        \n",
    "    def printall(self):\n",
    "        print(\"Name :\",self.name)\n",
    "        \n",
    "o1=user()\n",
    "o1.printall()"
   ]
  },
  {
   "cell_type": "code",
   "execution_count": 11,
   "id": "4259824a",
   "metadata": {},
   "outputs": [
    {
     "name": "stdout",
     "output_type": "stream",
     "text": [
      "Call when new instance is created\n",
      "Name : Santhosh\n",
      "Call when new instance is created\n",
      "Name : Sandy\n"
     ]
    }
   ],
   "source": [
    "class user:\n",
    "    def __init__(self,name):      # Passing a argument\n",
    "        print(\"Call when new instance is created\")\n",
    "        self.name=name\n",
    "        \n",
    "    def printall(self):\n",
    "        print(\"Name :\",self.name)\n",
    "        \n",
    "o1=user('Santhosh')\n",
    "o1.printall()\n",
    "\n",
    "obj2=user(\"Sandy\")\n",
    "obj2.printall()"
   ]
  },
  {
   "cell_type": "markdown",
   "id": "88a7c90a",
   "metadata": {},
   "source": [
    "# Property Decorator"
   ]
  },
  {
   "cell_type": "code",
   "execution_count": 14,
   "id": "af39302c",
   "metadata": {},
   "outputs": [
    {
     "name": "stdout",
     "output_type": "stream",
     "text": [
      "Santhosh\n",
      "20\n",
      "Santhoshis20\n"
     ]
    }
   ],
   "source": [
    "class user:\n",
    "    def __init__(self,name,age):\n",
    "        self.name=name\n",
    "        self.age=age\n",
    "        self.msg=self.name + \"is\" +str(self.age)\n",
    "        \n",
    "obj=user(\"Santhosh\",20)\n",
    "print(obj.name)\n",
    "print(obj.age)\n",
    "print(obj.msg)"
   ]
  },
  {
   "cell_type": "code",
   "execution_count": 20,
   "id": "2309583f",
   "metadata": {},
   "outputs": [
    {
     "name": "stdout",
     "output_type": "stream",
     "text": [
      "Santhosh\n",
      "20\n",
      "Santhosh is 45 years old. \n"
     ]
    }
   ],
   "source": [
    "class user:\n",
    "    def __init__(self,name,age):\n",
    "        self.name=name\n",
    "        self.age=age \n",
    "#         self.msg=self.name + \" is \" + str(self.age)+\" years old. \"\n",
    "        \n",
    "    def msg(self):\n",
    "        return self.name + \" is \" + str(self.age)+\" years old. \"\n",
    "        \n",
    "obj=user(\"Santhosh\",20)\n",
    "print(obj.name)\n",
    "print(obj.age)\n",
    "\n",
    "obj.age=45\n",
    "print(obj.msg())"
   ]
  },
  {
   "cell_type": "code",
   "execution_count": 21,
   "id": "9a49efa9",
   "metadata": {},
   "outputs": [
    {
     "name": "stdout",
     "output_type": "stream",
     "text": [
      "Santhosh\n",
      "20\n",
      "Santhosh is 45 years old. \n"
     ]
    }
   ],
   "source": [
    "class user:\n",
    "    def __init__(self,name,age):\n",
    "        self.name=name\n",
    "        self.age=age \n",
    "#       self.msg=self.name + \" is \" + str(self.age)+\" years old. \"\n",
    "      \n",
    "    @property\n",
    "    def msg(self):\n",
    "        return self.name + \" is \" + str(self.age)+\" years old. \"\n",
    "        \n",
    "obj=user(\"Santhosh\",20)\n",
    "print(obj.name)\n",
    "print(obj.age)\n",
    "\n",
    "obj.age=45\n",
    "print(obj.msg)  # Now we have to use no function property.Because,you have to use property."
   ]
  },
  {
   "cell_type": "markdown",
   "id": "a011aba5",
   "metadata": {},
   "source": [
    "# Property Decorator getter setter"
   ]
  },
  {
   "cell_type": "code",
   "execution_count": 25,
   "id": "b89ab31b",
   "metadata": {},
   "outputs": [
    {
     "name": "stdout",
     "output_type": "stream",
     "text": [
      "450\n",
      "90.0\n"
     ]
    }
   ],
   "source": [
    "class student:\n",
    "    def __init__(self,total):\n",
    "        self.total=total\n",
    "        \n",
    "    def average(self):\n",
    "        return self.total/5\n",
    "    \n",
    "obj=student(450)\n",
    "print(obj.total)\n",
    "print(obj.average())\n",
    "        "
   ]
  },
  {
   "cell_type": "code",
   "execution_count": 31,
   "id": "3382d190",
   "metadata": {},
   "outputs": [
    {
     "name": "stdout",
     "output_type": "stream",
     "text": [
      "450\n",
      "90.0\n",
      "\n",
      "350\n",
      "70.0\n"
     ]
    }
   ],
   "source": [
    "class student:\n",
    "    def __init__(self,total):\n",
    "        self.total=total\n",
    "        \n",
    "    def average(self):\n",
    "        return self.total/5\n",
    "    \n",
    "obj=student(450)\n",
    "print(obj.total)\n",
    "print(obj.average())\n",
    "\n",
    "print()\n",
    "\n",
    "obj.total=350\n",
    "print(obj.total)\n",
    "print(obj.average())   # Doubt correct output"
   ]
  },
  {
   "cell_type": "code",
   "execution_count": 1,
   "id": "432f1bba",
   "metadata": {},
   "outputs": [
    {
     "name": "stdout",
     "output_type": "stream",
     "text": [
      "450\n",
      "90.0\n"
     ]
    },
    {
     "ename": "AttributeError",
     "evalue": "can't set attribute",
     "output_type": "error",
     "traceback": [
      "\u001b[1;31m---------------------------------------------------------------------------\u001b[0m",
      "\u001b[1;31mAttributeError\u001b[0m                            Traceback (most recent call last)",
      "\u001b[1;32m~\\AppData\\Local\\Temp\\ipykernel_9604\\985825917.py\u001b[0m in \u001b[0;36m<module>\u001b[1;34m\u001b[0m\n\u001b[0;32m     14\u001b[0m \u001b[0mprint\u001b[0m\u001b[1;33m(\u001b[0m\u001b[0mobj\u001b[0m\u001b[1;33m.\u001b[0m\u001b[0maverage\u001b[0m\u001b[1;33m(\u001b[0m\u001b[1;33m)\u001b[0m\u001b[1;33m)\u001b[0m\u001b[1;33m\u001b[0m\u001b[1;33m\u001b[0m\u001b[0m\n\u001b[0;32m     15\u001b[0m \u001b[1;33m\u001b[0m\u001b[0m\n\u001b[1;32m---> 16\u001b[1;33m \u001b[0mobj\u001b[0m\u001b[1;33m.\u001b[0m\u001b[0mtotal\u001b[0m\u001b[1;33m=\u001b[0m\u001b[1;36m350\u001b[0m\u001b[1;33m\u001b[0m\u001b[1;33m\u001b[0m\u001b[0m\n\u001b[0m\u001b[0;32m     17\u001b[0m \u001b[0mprint\u001b[0m\u001b[1;33m(\u001b[0m\u001b[0mobj\u001b[0m\u001b[1;33m.\u001b[0m\u001b[0mtotal\u001b[0m\u001b[1;33m)\u001b[0m\u001b[1;33m\u001b[0m\u001b[1;33m\u001b[0m\u001b[0m\n\u001b[0;32m     18\u001b[0m \u001b[0mprint\u001b[0m\u001b[1;33m(\u001b[0m\u001b[0mobj\u001b[0m\u001b[1;33m.\u001b[0m\u001b[0maverage\u001b[0m\u001b[1;33m(\u001b[0m\u001b[1;33m)\u001b[0m\u001b[1;33m)\u001b[0m\u001b[1;33m\u001b[0m\u001b[1;33m\u001b[0m\u001b[0m\n",
      "\u001b[1;31mAttributeError\u001b[0m: can't set attribute"
     ]
    }
   ],
   "source": [
    "class student:\n",
    "    def __init__(self,total):\n",
    "        self._total=total          # Now,we have to use setter operator\n",
    "        \n",
    "    def average(self):\n",
    "        return self._total/5\n",
    "    \n",
    "    @property\n",
    "    def total(self):\n",
    "        return self._total\n",
    "    \n",
    "obj=student(450)\n",
    "print(obj.total)\n",
    "print(obj.average())\n",
    "\n",
    "obj.total=350\n",
    "print(obj.total())\n",
    "print(obj.average())"
   ]
  },
  {
   "cell_type": "code",
   "execution_count": 34,
   "id": "ac167ca7",
   "metadata": {},
   "outputs": [
    {
     "name": "stdout",
     "output_type": "stream",
     "text": [
      "450\n",
      "90.0\n",
      "550\n",
      "110.0\n"
     ]
    }
   ],
   "source": [
    "class student:\n",
    "    def __init__(self,total):\n",
    "        self._total=total          # Now,we have to use setter operator\n",
    "        \n",
    "    def average(self):\n",
    "        return self._total/5\n",
    "    \n",
    "    @property\n",
    "    def total(self):\n",
    "        return self._total\n",
    "    \n",
    "    @total.setter\n",
    "    def total(self,t):\n",
    "        self._total=t\n",
    "    \n",
    "obj=student(450)\n",
    "print(obj.total)\n",
    "print(obj.average())\n",
    "\n",
    "obj.total=550\n",
    "print(obj.total)\n",
    "print(obj.average())"
   ]
  },
  {
   "cell_type": "raw",
   "id": "fdf12cb3",
   "metadata": {},
   "source": []
  },
  {
   "cell_type": "code",
   "execution_count": 41,
   "id": "b9e9a901",
   "metadata": {},
   "outputs": [
    {
     "name": "stdout",
     "output_type": "stream",
     "text": [
      "450\n",
      "90.0\n",
      "\n",
      "Total : 500\n",
      "Average : 100.0\n"
     ]
    }
   ],
   "source": [
    "# Another way ,we have to set the (Setter value)\n",
    "\n",
    "class student:\n",
    "    def __init__(self,total):\n",
    "        self._total=total\n",
    "        \n",
    "    def average(self):\n",
    "        return self._total/5.0\n",
    "    \n",
    "    def getter(self):\n",
    "        return self._total\n",
    "        \n",
    "    def setter(self,t):\n",
    "        if t<0 or t>500:\n",
    "            print(\"Invalid total and cant change\")\n",
    "            \n",
    "        else:\n",
    "            self._total=t\n",
    "            \n",
    "    total=property(getter,setter)\n",
    "        \n",
    "obj=student(450)\n",
    "print(obj.total)\n",
    "print(obj.average())\n",
    "\n",
    "print()\n",
    "\n",
    "obj.total=500\n",
    "print(\"Total :\",obj.total)\n",
    "print(\"Average :\",obj.average())\n",
    "        "
   ]
  },
  {
   "cell_type": "code",
   "execution_count": 47,
   "id": "097158d7",
   "metadata": {},
   "outputs": [
    {
     "name": "stdout",
     "output_type": "stream",
     "text": [
      "Santhosh is 23 years old. \n"
     ]
    }
   ],
   "source": [
    "class student:\n",
    "    def __init__(self,name,age):\n",
    "        self.name=name\n",
    "        self.age=age\n",
    "        \n",
    "    def printDetail(self):\n",
    "        print(self.name + \" is \"+str(self.age)+\" years old. \")\n",
    "        \n",
    "obj=student('Santhosh',23)\n",
    "# print(obj.printDetail())\n",
    "\n",
    "obj.printDetail()\n"
   ]
  },
  {
   "cell_type": "code",
   "execution_count": 56,
   "id": "234f4c37",
   "metadata": {},
   "outputs": [
    {
     "name": "stdout",
     "output_type": "stream",
     "text": [
      "Name : Santhosh Age : 20\n",
      "Name : Raja Age : 18\n",
      "Total Admission : 2\n",
      "Total Admission : 2\n"
     ]
    }
   ],
   "source": [
    "class student:\n",
    "    count=0\n",
    "    \n",
    "    def __init__(self,name,age):\n",
    "        self.name=name\n",
    "        self.age=age\n",
    "        student.count +=1\n",
    "        \n",
    "    def printdetail(self):\n",
    "        print(\"Name :\",self.name,\"Age :\",self.age)\n",
    "        \n",
    "    @classmethod\n",
    "    def total(cls):\n",
    "        return cls.count\n",
    "    \n",
    "obj=student(\"Santhosh\",20)\n",
    "obj.printdetail()\n",
    "\n",
    "obj1=student(\"Raja\",18)\n",
    "obj1.printdetail()\n",
    "\n",
    "print(\"Total Admission :\",student.total())  # (or)\n",
    "print(\"Total Admission :\",obj1.total())"
   ]
  },
  {
   "cell_type": "markdown",
   "id": "22bc5bd9",
   "metadata": {},
   "source": [
    "# Static method in Python"
   ]
  },
  {
   "cell_type": "code",
   "execution_count": 61,
   "id": "6742759e",
   "metadata": {},
   "outputs": [
    {
     "name": "stdout",
     "output_type": "stream",
     "text": [
      "Name : Joesph Age : 19\n",
      "Welcome to our Progrma training...\n",
      "Name : Raja Age : 29\n",
      "Welcome to our Progrma training...\n"
     ]
    }
   ],
   "source": [
    "class student:\n",
    "    def __init__(self,name,age):\n",
    "        self.name=name\n",
    "        self.age=age\n",
    "    \n",
    "    def printdetail(self):\n",
    "        print('Name :',self.name,'Age :',self.age)\n",
    "        \n",
    "    @staticmethod\n",
    "    def welcome():\n",
    "        print(\"Welcome to our Progrma training...\")  # Automatically print\n",
    "        \n",
    "s1=student(\"Joesph\",19)\n",
    "s1.printdetail()\n",
    "s1.welcome()\n",
    "\n",
    "s2=student(\"Raja\",29)\n",
    "s2.printdetail()\n",
    "s2.welcome()\n",
    "        "
   ]
  },
  {
   "cell_type": "markdown",
   "id": "54baf671",
   "metadata": {},
   "source": [
    "# Data Abstraction"
   ]
  },
  {
   "cell_type": "code",
   "execution_count": null,
   "id": "c411c3ff",
   "metadata": {},
   "outputs": [],
   "source": [
    "\"\"\"\n",
    "    Data abstraction refers to providing only essential information to the outside world\n",
    "    and hiding their background details.\n",
    "    \n",
    "    To represents the needed information in program without presenting the details.\n",
    "    \n",
    "    Data Encapsulation:\n",
    "    \n",
    "    Encapsulation is a process of wrapping code and data together into a single unit.\n",
    "    \n",
    "\"\"\""
   ]
  },
  {
   "cell_type": "code",
   "execution_count": null,
   "id": "9d1c1a3a",
   "metadata": {},
   "outputs": [],
   "source": [
    "class library:\n",
    "    def __init__(self,Books):\n",
    "        self.Books=Books\n",
    "        \n",
    "    def list_books(self):\n",
    "        print(\"Available Books\")\n",
    "        for book in self.Books:\n",
    "            print(book)\n",
    "            \n",
    "    def barrow_book(self,barrow_books):\n",
    "        if barrow_books in self.Books:\n",
    "            print(\"Get Your Book...\")\n",
    "            self.Books.remove(barrow_books)\n",
    "            \n",
    "        else:\n",
    "            print(\"Book is not available...\")\n",
    "            \n",
    "    def recevie_book(self,recevie_book):\n",
    "        print(\"You have the return the Book....\")\n",
    "        self.Books.append(recevie_book)\n",
    "        \n",
    "        \n",
    "Books=['Java','C Sharp','Python','Orcale']\n",
    "\n",
    "obj=library(Books)\n",
    "\n",
    "msg=\"\"\"\n",
    "        1.Display Book\n",
    "        2.Barrow Book\n",
    "        3.return Book\n",
    "    \"\"\"\n",
    "  print(msg)\n",
    "    \n",
    "    \n",
    "while True:\n",
    "  \n",
    "    ch=int(input(\"Please enter the option :\"))\n",
    "    \n",
    "    if ch==1:\n",
    "        print(\"The available Books are\")\n",
    "        obj.list_books()\n",
    "        \n",
    "    elif ch==2:\n",
    "        print(\"Which book are you want???\")\n",
    "        obj.barrow_book(Books)\n",
    "        \n",
    "    elif ch==3:\n",
    "        print(\"Enter the book to return...\")\n",
    "        obj.recevie_book(Books)\n",
    "        \n",
    "    else:\n",
    "        print(\"Thank You...\")\n",
    "        Quit()\n",
    "    \n",
    "            \n",
    "    "
   ]
  },
  {
   "cell_type": "code",
   "execution_count": null,
   "id": "4a424acc",
   "metadata": {},
   "outputs": [],
   "source": [
    "class library:\n",
    "    def __init__(self,Books):\n",
    "        self.Books=Books\n",
    "        \n",
    "    def list_books(self):\n",
    "        print(\"Available Books\")\n",
    "        for book in self.Books:\n",
    "            print(book)\n",
    "            \n",
    "    def barrow_book(self,barrow_books):\n",
    "        if barrow_books in self.Books:\n",
    "            print(\"Get Your Book...\")\n",
    "            self.Books.remove(barrow_books)\n",
    "            \n",
    "        else:\n",
    "            print(\"Book is not available...\")\n",
    "            \n",
    "    def recevie_book(self,recevie_book):\n",
    "        print(\"You have the return the Book....\")\n",
    "        self.Books.append(recevie_book)\n",
    "        \n",
    "        \n",
    "Books=['Java','C Sharp','Python','Orcale']\n",
    "\n",
    "obj=library(Books)\n",
    "\n",
    "msg=\"\"\"\n",
    "        1.Display Book\n",
    "        2.Barrow Book\n",
    "        3.return Book\n",
    "    \"\"\"\n",
    "  print(msg)\n",
    "    \n",
    "    \n",
    "while True:\n",
    "  \n",
    "    ch=int(input(\"Please enter the option :\"))\n",
    "    \n",
    "    if ch==1:\n",
    "        print(\"The available Books are\")\n",
    "        obj.list_books()\n",
    "        \n",
    "    elif ch==2:\n",
    "        print(\"Which book are you want???\")\n",
    "        obj.barrow_book(Books)\n",
    "        \n",
    "    elif ch==3:\n",
    "        print(\"Enter the book to return...\")\n",
    "        obj.recevie_book(Books)\n",
    "        \n",
    "    else:\n",
    "        print(\"Thank You...\")\n",
    "    \n",
    "    "
   ]
  },
  {
   "cell_type": "code",
   "execution_count": 3,
   "id": "cba92ff9",
   "metadata": {},
   "outputs": [
    {
     "name": "stdout",
     "output_type": "stream",
     "text": [
      "\n",
      "        1.Display Book\n",
      "        2.Barrow Book\n",
      "        3.return Book\n",
      "    \n",
      "Please enter the option :2\n",
      "Which book are you want???\n",
      "Book is not available...\n",
      "Please enter the option :3\n",
      "Enter the book to return...\n",
      "You have the return the Book....\n",
      "Please enter the option :2\n",
      "Which book are you want???\n",
      "Get Your Book...\n",
      "Please enter the option :2\n",
      "Which book are you want???\n",
      "Book is not available...\n",
      "Please enter the option :1\n",
      "The available Books are\n",
      "Available Books\n",
      "Java\n",
      "C Sharp\n",
      "Python\n",
      "Orcale\n",
      "Please enter the option :\n"
     ]
    },
    {
     "ename": "ValueError",
     "evalue": "invalid literal for int() with base 10: ''",
     "output_type": "error",
     "traceback": [
      "\u001b[1;31m---------------------------------------------------------------------------\u001b[0m",
      "\u001b[1;31mValueError\u001b[0m                                Traceback (most recent call last)",
      "\u001b[1;32m~\\AppData\\Local\\Temp\\ipykernel_8820\\2875040494.py\u001b[0m in \u001b[0;36m<module>\u001b[1;34m\u001b[0m\n\u001b[0;32m     35\u001b[0m \u001b[1;32mwhile\u001b[0m \u001b[1;32mTrue\u001b[0m\u001b[1;33m:\u001b[0m\u001b[1;33m\u001b[0m\u001b[1;33m\u001b[0m\u001b[0m\n\u001b[0;32m     36\u001b[0m \u001b[1;33m\u001b[0m\u001b[0m\n\u001b[1;32m---> 37\u001b[1;33m     \u001b[0mchoose\u001b[0m\u001b[1;33m=\u001b[0m\u001b[0mint\u001b[0m\u001b[1;33m(\u001b[0m\u001b[0minput\u001b[0m\u001b[1;33m(\u001b[0m\u001b[1;34m\"Please enter the option :\"\u001b[0m\u001b[1;33m)\u001b[0m\u001b[1;33m)\u001b[0m\u001b[1;33m\u001b[0m\u001b[1;33m\u001b[0m\u001b[0m\n\u001b[0m\u001b[0;32m     38\u001b[0m \u001b[1;33m\u001b[0m\u001b[0m\n\u001b[0;32m     39\u001b[0m     \u001b[1;32mif\u001b[0m \u001b[0mchoose\u001b[0m\u001b[1;33m==\u001b[0m\u001b[1;36m1\u001b[0m\u001b[1;33m:\u001b[0m\u001b[1;33m\u001b[0m\u001b[1;33m\u001b[0m\u001b[0m\n",
      "\u001b[1;31mValueError\u001b[0m: invalid literal for int() with base 10: ''"
     ]
    }
   ],
   "source": [
    "class library:\n",
    "    def __init__(self,Books):\n",
    "        self.Books=Books\n",
    "        \n",
    "    def list_books(self):\n",
    "        print(\"Available Books\")\n",
    "        for book in self.Books:\n",
    "            print(book)\n",
    "            \n",
    "    def barrow_book(self,barrow_books):\n",
    "        if barrow_books in self.Books:\n",
    "            print(\"Get Your Book...\")\n",
    "            self.Books.remove(barrow_books)\n",
    "            \n",
    "        else:\n",
    "            print(\"Book is not available...\")\n",
    "            \n",
    "    def recevie_book(self,recevie_book):\n",
    "        print(\"You have the return the Book....\")\n",
    "        self.Books.append(recevie_book)\n",
    "        \n",
    "        \n",
    "Books=['Java','C Sharp','Python','Orcale']\n",
    "\n",
    "obj=library(Books)\n",
    "\n",
    "msg=\"\"\"\n",
    "        1.Display Book\n",
    "        2.Barrow Book\n",
    "        3.return Book\n",
    "    \"\"\"\n",
    "print(msg)\n",
    "    \n",
    "    \n",
    "while True:\n",
    "  \n",
    "    choose=int(input(\"Please enter the option :\"))\n",
    "    \n",
    "    if choose==1:\n",
    "        print(\"The available Books are\")\n",
    "        obj.list_books()\n",
    "        \n",
    "    elif choose==2:\n",
    "        print(\"Which book are you want???\")\n",
    "        obj.barrow_book(Books)\n",
    "        \n",
    "    elif choose==3:\n",
    "        print(\"Enter the book to return...\")\n",
    "        obj.recevie_book(Books)\n",
    "        \n",
    "    else:\n",
    "        print(\"Thank You...\")\n",
    "    \n",
    "    "
   ]
  },
  {
   "cell_type": "markdown",
   "id": "30210668",
   "metadata": {},
   "source": [
    "\"\"\" \n",
    "    Single Inheritance:\n",
    "        \n",
    "        Inheritance is a process in which one object acquries all the properities\n",
    "        and behaviour of its parent object automatically.\n",
    "        \n",
    "        Single Inheritance is defined as the inheritance in which a derived class is\n",
    "        Inherited from the only one base class.\n",
    "        \n",
    " \"\"\""
   ]
  },
  {
   "cell_type": "markdown",
   "id": "0d324364",
   "metadata": {},
   "source": [
    "# Single Inheritance In Python"
   ]
  },
  {
   "cell_type": "code",
   "execution_count": 5,
   "id": "a54d08b8",
   "metadata": {},
   "outputs": [
    {
     "name": "stdout",
     "output_type": "stream",
     "text": [
      "Name : Nokia 1100\n",
      "year : 2021\n",
      "Company : Nokia India\n",
      "Website : www.nokia-india.com\n",
      "Address : Cherry Road,Near Bus stand,Trichy-32\n"
     ]
    }
   ],
   "source": [
    "class Nokia:\n",
    "    company=\"Nokia India\"\n",
    "    website=\"www.nokia-india.com\"\n",
    "    \n",
    "    def printdetail(self):\n",
    "        print(\"Address : Cherry Road,Near Bus stand,Trichy-32\")\n",
    "        \n",
    "class Nokia1100(Nokia):\n",
    "    def __init__(self):\n",
    "        self.name=\"Nokia 1100\"\n",
    "        self.year=2021\n",
    "        \n",
    "    def product_details(self):\n",
    "        print(\"Name :\",self.name)\n",
    "        print(\"year :\",self.year)\n",
    "        print(\"Company :\",self.company)\n",
    "        print(\"Website :\",self.website)\n",
    "        \n",
    "        \n",
    "obj=Nokia1100()\n",
    "obj.product_details()\n",
    "                "
   ]
  },
  {
   "cell_type": "code",
   "execution_count": 6,
   "id": "127b17a0",
   "metadata": {},
   "outputs": [
    {
     "name": "stdout",
     "output_type": "stream",
     "text": [
      "Name : Nokia 1100\n",
      "year : 2021\n",
      "Company : Nokia India\n",
      "Website : www.nokia-india.com\n",
      "Address : Cherry Road,Near Bus stand,Trichy-32\n"
     ]
    }
   ],
   "source": [
    "class Nokia:\n",
    "    company=\"Nokia India\"\n",
    "    website=\"www.nokia-india.com\"\n",
    "    \n",
    "    def printdetail(self):\n",
    "        print(\"Address : Cherry Road,Near Bus stand,Trichy-32\")\n",
    "        \n",
    "class Nokia1100(Nokia):\n",
    "    def __init__(self):\n",
    "        self.name=\"Nokia 1100\"\n",
    "        self.year=2021\n",
    "        \n",
    "    def product_details(self):\n",
    "        print(\"Name :\",self.name)\n",
    "        print(\"year :\",self.year)\n",
    "        print(\"Company :\",self.company)\n",
    "        print(\"Website :\",self.website)\n",
    "        \n",
    "        \n",
    "obj=Nokia1100()\n",
    "obj.product_details()\n",
    "obj. printdetail()"
   ]
  },
  {
   "cell_type": "code",
   "execution_count": null,
   "id": "38ffaf1a",
   "metadata": {},
   "outputs": [],
   "source": [
    "\"\"\"\n",
    "    Multiple Inheritance :\n",
    "        \n",
    "        Multiple Inheritance is a feature of Object Orientd concept,where a class can inherit \n",
    "        properities of more than one parent class.\n",
    "        \n",
    "\"\"\""
   ]
  },
  {
   "cell_type": "code",
   "execution_count": 7,
   "id": "9e6bd8f3",
   "metadata": {},
   "outputs": [
    {
     "name": "stdout",
     "output_type": "stream",
     "text": [
      "Riding the Bike....\n",
      "Cooking Food...\n",
      "Fishing in river....\n"
     ]
    }
   ],
   "source": [
    "class father:\n",
    "    def fishing(self):\n",
    "        print(\"Fishing in river....\")\n",
    "        \n",
    "    def chess(self):\n",
    "        print(\"Playing chess from father....\")\n",
    "        \n",
    "class mother:\n",
    "    def cooking(self):\n",
    "        print(\"Cooking Food...\")\n",
    "        \n",
    "    def chess(self):\n",
    "        print(\"Playing chess from mother....\")\n",
    "        \n",
    "class son(father,mother):\n",
    "    def ride(self):\n",
    "        print(\"Riding the Bike....\")\n",
    "        \n",
    "obj=son()\n",
    "obj.ride()\n",
    "obj.cooking()\n",
    "obj.fishing()"
   ]
  },
  {
   "cell_type": "markdown",
   "id": "feaf91f1",
   "metadata": {},
   "source": [
    "# Multilevel Inheritance"
   ]
  },
  {
   "cell_type": "code",
   "execution_count": 11,
   "id": "fb7a266b",
   "metadata": {},
   "outputs": [
    {
     "name": "stdout",
     "output_type": "stream",
     "text": [
      "Son have a Book...\n",
      "Father Bike....\n",
      "Grand father house...\n"
     ]
    }
   ],
   "source": [
    "class Grandfather:\n",
    "    def Ownhouse(self):\n",
    "        print(\"Grand father house...\")\n",
    "        \n",
    "class father(Grandfather):\n",
    "    def Ownbike(self):\n",
    "        print(\"Father Bike....\")\n",
    "        \n",
    "class son(father):\n",
    "    def OwnBook(self):\n",
    "        print(\"Son have a Book...\")\n",
    "        \n",
    "obj=son()\n",
    "obj.OwnBook()\n",
    "obj.Ownbike()\n",
    "obj.Ownhouse()"
   ]
  },
  {
   "cell_type": "markdown",
   "id": "807f5c57",
   "metadata": {},
   "source": [
    "# Function Overriding...."
   ]
  },
  {
   "cell_type": "code",
   "execution_count": 17,
   "id": "f1e5e7ba",
   "metadata": {},
   "outputs": [
    {
     "name": "stdout",
     "output_type": "stream",
     "text": [
      "Total working Hrs : 50\n"
     ]
    }
   ],
   "source": [
    "class Employee:\n",
    "    def workingHrs(self):\n",
    "        self.hrs=50\n",
    "        \n",
    "    def printHrs(self):\n",
    "        print(\"Total working Hrs :\",self.hrs)\n",
    "        \n",
    "emply=Employee()\n",
    "emply.workingHrs()\n",
    "emply.printHrs()"
   ]
  },
  {
   "cell_type": "code",
   "execution_count": 19,
   "id": "5d90b8c6",
   "metadata": {},
   "outputs": [
    {
     "name": "stdout",
     "output_type": "stream",
     "text": [
      "Total working Hrs : 50\n",
      "Total working Hrs : 60\n"
     ]
    }
   ],
   "source": [
    "class Employee:\n",
    "    def workingHrs(self):\n",
    "        self.hrs=50\n",
    "        \n",
    "    def printHrs(self):\n",
    "        print(\"Total working Hrs :\",self.hrs)\n",
    "        \n",
    "# Now use a function Overriding.\n",
    "\n",
    "class Traineer(Employee):\n",
    "    def workingHrs(self):\n",
    "          self.hrs=60\n",
    "    \n",
    "\n",
    "        \n",
    "emply=Employee()\n",
    "emply.workingHrs()\n",
    "emply.printHrs()\n",
    "\n",
    "training=Traineer()\n",
    "training.workingHrs()\n",
    "training.printHrs()"
   ]
  },
  {
   "cell_type": "code",
   "execution_count": 39,
   "id": "a6de8e6f",
   "metadata": {},
   "outputs": [
    {
     "name": "stdout",
     "output_type": "stream",
     "text": [
      "Total working Hours : 50\n",
      "Total working Hours : 60\n",
      "Total working Hours : 50\n"
     ]
    }
   ],
   "source": [
    "class Employee:\n",
    "    def workingHrs(self):\n",
    "        self.hrs=50\n",
    "        \n",
    "    def printHrs(self):\n",
    "        print(\"Total working Hours :\",self.hrs)\n",
    "        \n",
    "class Traineer(Employee):\n",
    "    def workingHrs(self):\n",
    "        self.hrs=60\n",
    "            \n",
    "    # Traineer Upgrade into employee\n",
    "            \n",
    "    def resetHrs(self):\n",
    "        super().workingHrs()\n",
    "        \n",
    "emp=Employee()\n",
    "emp. workingHrs()\n",
    "emp.printHrs()\n",
    "\n",
    "trn=Traineer()\n",
    "trn.workingHrs()\n",
    "trn.printHrs()\n",
    "\n",
    "# Reset Traineer Hrs\n",
    "\n",
    "trn.resetHrs()\n",
    "trn.printHrs()"
   ]
  },
  {
   "cell_type": "markdown",
   "id": "f5d43a13",
   "metadata": {},
   "source": [
    "# Handing Diamond Problem in Python"
   ]
  },
  {
   "cell_type": "code",
   "execution_count": 2,
   "id": "baa42f16",
   "metadata": {},
   "outputs": [
    {
     "name": "stdout",
     "output_type": "stream",
     "text": [
      "I am display the class D\n"
     ]
    }
   ],
   "source": [
    "class A:\n",
    "    def display(self):\n",
    "        print(\"I am display the class A\")\n",
    "        \n",
    "class B(A):\n",
    "    def display(self):\n",
    "        print(\"I am display of the class B\")\n",
    "        \n",
    "class C(B):\n",
    "    def display(self):\n",
    "        print(\"I am display the class C\")\n",
    "        \n",
    "class D():\n",
    "    def display(self):\n",
    "        print(\"I am display the class D\")\n",
    "        \n",
    "        \n",
    "obj=D()\n",
    "obj.display()\n",
    "        "
   ]
  },
  {
   "cell_type": "code",
   "execution_count": 13,
   "id": "7c3cff12",
   "metadata": {},
   "outputs": [
    {
     "name": "stdout",
     "output_type": "stream",
     "text": [
      "I am display the class C\n"
     ]
    }
   ],
   "source": [
    "class A:\n",
    "    def display(self):\n",
    "        print(\"I am display the class A\")\n",
    "        \n",
    "class B(A):\n",
    "    def display(self):\n",
    "        print(\"I am display of the class B\")\n",
    "        \n",
    "class C(B):\n",
    "    def display(self):\n",
    "        print(\"I am display the class C\")\n",
    "        \n",
    "class D(C,B):\n",
    "    pass \n",
    "\n",
    "#     def display(self):\n",
    "#         print(\"I am display the class D\")\n",
    "        \n",
    "        \n",
    "obj=D()\n",
    "obj.display()"
   ]
  },
  {
   "cell_type": "markdown",
   "id": "57959724",
   "metadata": {},
   "source": [
    "# Operator Overloading in Python"
   ]
  },
  {
   "cell_type": "code",
   "execution_count": null,
   "id": "981bf0d6",
   "metadata": {},
   "outputs": [],
   "source": [
    "\"\"\"\n",
    "    a=10\n",
    "    b=20\n",
    "    print(a+b)\n",
    "    \n",
    "    a=\"Santhosh\"\n",
    "    b=\"Sandy\"\n",
    "    print(a+b)\n",
    "    \n",
    "\"\"\""
   ]
  },
  {
   "cell_type": "code",
   "execution_count": 16,
   "id": "50ecf20e",
   "metadata": {},
   "outputs": [
    {
     "ename": "TypeError",
     "evalue": "unsupported operand type(s) for +: 'Addition' and 'Addition'",
     "output_type": "error",
     "traceback": [
      "\u001b[1;31m---------------------------------------------------------------------------\u001b[0m",
      "\u001b[1;31mTypeError\u001b[0m                                 Traceback (most recent call last)",
      "\u001b[1;32m~\\AppData\\Local\\Temp\\ipykernel_11144\\3668537315.py\u001b[0m in \u001b[0;36m<module>\u001b[1;34m\u001b[0m\n\u001b[0;32m      6\u001b[0m \u001b[0mo2\u001b[0m\u001b[1;33m=\u001b[0m\u001b[0mAddition\u001b[0m\u001b[1;33m(\u001b[0m\u001b[1;36m10\u001b[0m\u001b[1;33m)\u001b[0m\u001b[1;33m\u001b[0m\u001b[1;33m\u001b[0m\u001b[0m\n\u001b[0;32m      7\u001b[0m \u001b[1;33m\u001b[0m\u001b[0m\n\u001b[1;32m----> 8\u001b[1;33m \u001b[0mprint\u001b[0m\u001b[1;33m(\u001b[0m\u001b[1;34m\"Total :\"\u001b[0m\u001b[1;33m,\u001b[0m\u001b[1;33m(\u001b[0m\u001b[0mo1\u001b[0m \u001b[1;33m+\u001b[0m \u001b[0mo2\u001b[0m\u001b[1;33m)\u001b[0m\u001b[1;33m)\u001b[0m\u001b[1;33m\u001b[0m\u001b[1;33m\u001b[0m\u001b[0m\n\u001b[0m",
      "\u001b[1;31mTypeError\u001b[0m: unsupported operand type(s) for +: 'Addition' and 'Addition'"
     ]
    }
   ],
   "source": [
    "class Addition:\n",
    "    def __init__(self,a):\n",
    "        self.a=a\n",
    "        \n",
    "o1=Addition(5)\n",
    "o2=Addition(10)\n",
    "\n",
    "print(\"Total :\",(o1+o2))"
   ]
  },
  {
   "cell_type": "code",
   "execution_count": 17,
   "id": "554140ce",
   "metadata": {},
   "outputs": [
    {
     "name": "stdout",
     "output_type": "stream",
     "text": [
      "Total : 15\n"
     ]
    }
   ],
   "source": [
    "class Addition:\n",
    "    def __init__(self,a):\n",
    "        self.a=a\n",
    "        \n",
    "    def __add__(o1,o2):\n",
    "        return o1.a+o2.a\n",
    "        \n",
    "o1=Addition(5)\n",
    "o2=Addition(10)\n",
    "\n",
    "print(\"Total :\",(o1+o2))"
   ]
  },
  {
   "cell_type": "code",
   "execution_count": 19,
   "id": "33428382",
   "metadata": {},
   "outputs": [
    {
     "name": "stdout",
     "output_type": "stream",
     "text": [
      "Total : 15\n",
      "Total : -5\n"
     ]
    }
   ],
   "source": [
    "class Addition:\n",
    "    def __init__(self,a):\n",
    "        self.a=a\n",
    "        \n",
    "    def __add__(o1,o2):\n",
    "        return o1.a+o2.a\n",
    "    \n",
    "    def __sub__(o1,o2):\n",
    "        return o1.a-o2.a\n",
    "        \n",
    "o1=Addition(5)\n",
    "o2=Addition(10)\n",
    "\n",
    "print(\"Total :\",(o1+o2))\n",
    "print(\"Total :\", (o1-o2))"
   ]
  },
  {
   "cell_type": "markdown",
   "id": "8057c7a3",
   "metadata": {},
   "source": [
    "# Abstract Base class in Python"
   ]
  },
  {
   "cell_type": "code",
   "execution_count": 26,
   "id": "4a5efd53",
   "metadata": {},
   "outputs": [
    {
     "ename": "NameError",
     "evalue": "name 'ABC' is not defined",
     "output_type": "error",
     "traceback": [
      "\u001b[1;31m---------------------------------------------------------------------------\u001b[0m",
      "\u001b[1;31mNameError\u001b[0m                                 Traceback (most recent call last)",
      "\u001b[1;32m~\\AppData\\Local\\Temp\\ipykernel_11144\\408094427.py\u001b[0m in \u001b[0;36m<module>\u001b[1;34m\u001b[0m\n\u001b[1;32m----> 1\u001b[1;33m \u001b[1;32mclass\u001b[0m \u001b[0mBank\u001b[0m\u001b[1;33m(\u001b[0m\u001b[0mABC\u001b[0m\u001b[1;33m)\u001b[0m\u001b[1;33m:\u001b[0m\u001b[1;33m\u001b[0m\u001b[1;33m\u001b[0m\u001b[0m\n\u001b[0m\u001b[0;32m      2\u001b[0m     \u001b[1;33m@\u001b[0m\u001b[0mabstractmethod\u001b[0m\u001b[1;33m\u001b[0m\u001b[1;33m\u001b[0m\u001b[0m\n\u001b[0;32m      3\u001b[0m     \u001b[1;32mdef\u001b[0m \u001b[0mloan\u001b[0m\u001b[1;33m(\u001b[0m\u001b[0mself\u001b[0m\u001b[1;33m)\u001b[0m\u001b[1;33m:\u001b[0m \u001b[1;32mpass\u001b[0m\u001b[1;33m\u001b[0m\u001b[1;33m\u001b[0m\u001b[0m\n\u001b[0;32m      4\u001b[0m \u001b[1;33m\u001b[0m\u001b[0m\n\u001b[0;32m      5\u001b[0m     \u001b[1;33m@\u001b[0m\u001b[0mabstractmethod\u001b[0m\u001b[1;33m\u001b[0m\u001b[1;33m\u001b[0m\u001b[0m\n",
      "\u001b[1;31mNameError\u001b[0m: name 'ABC' is not defined"
     ]
    }
   ],
   "source": [
    "class Bank(ABC):\n",
    "    @abstractmethod\n",
    "    def loan(self): pass\n",
    "    \n",
    "    @abstractmethod\n",
    "    def credit(self): pass\n",
    "    \n",
    "    @abstractmethod\n",
    "    def debit(self): pass\n",
    "    \n",
    "class HDFC(Bank):\n",
    "    def loan(self):\n",
    "        print(\"We can provide 7.5% Interest loan...\")\n",
    "        \n",
    "    def credit(self):\n",
    "        print(\"HDFC provide credit...\")\n",
    "        \n",
    "    def debit(self):\n",
    "        print(\"HDFC provide Debit\")\n",
    "        \n",
    "obj=HDFC()\n",
    "obj.loan()\n",
    "obj.credit()\n",
    "obj.debit()"
   ]
  },
  {
   "cell_type": "code",
   "execution_count": 22,
   "id": "99e9a25b",
   "metadata": {},
   "outputs": [
    {
     "ename": "NameError",
     "evalue": "name 'ABC' is not defined",
     "output_type": "error",
     "traceback": [
      "\u001b[1;31m---------------------------------------------------------------------------\u001b[0m",
      "\u001b[1;31mNameError\u001b[0m                                 Traceback (most recent call last)",
      "\u001b[1;32m~\\AppData\\Local\\Temp\\ipykernel_11144\\1125719418.py\u001b[0m in \u001b[0;36m<module>\u001b[1;34m\u001b[0m\n\u001b[1;32m----> 1\u001b[1;33m \u001b[1;32mclass\u001b[0m \u001b[0mBank\u001b[0m\u001b[1;33m(\u001b[0m\u001b[0mABC\u001b[0m\u001b[1;33m)\u001b[0m\u001b[1;33m:\u001b[0m\u001b[1;33m\u001b[0m\u001b[1;33m\u001b[0m\u001b[0m\n\u001b[0m\u001b[0;32m      2\u001b[0m     \u001b[1;33m@\u001b[0m\u001b[0mabstractmethod\u001b[0m\u001b[1;33m\u001b[0m\u001b[1;33m\u001b[0m\u001b[0m\n\u001b[0;32m      3\u001b[0m     \u001b[1;32mdef\u001b[0m \u001b[0mloan\u001b[0m\u001b[1;33m(\u001b[0m\u001b[0mself\u001b[0m\u001b[1;33m)\u001b[0m\u001b[1;33m:\u001b[0m\u001b[1;32mpass\u001b[0m\u001b[1;33m\u001b[0m\u001b[1;33m\u001b[0m\u001b[0m\n\u001b[0;32m      4\u001b[0m \u001b[1;33m\u001b[0m\u001b[0m\n\u001b[0;32m      5\u001b[0m     \u001b[1;33m@\u001b[0m\u001b[0mabstractmethod\u001b[0m\u001b[1;33m\u001b[0m\u001b[1;33m\u001b[0m\u001b[0m\n",
      "\u001b[1;31mNameError\u001b[0m: name 'ABC' is not defined"
     ]
    }
   ],
   "source": [
    "class Bank():\n",
    "    @abstractmethod\n",
    "    def loan(self):pass\n",
    "    \n",
    "    @abstractmethod\n",
    "    def credit(self):pass\n",
    "    \n",
    "    @abstractmethod\n",
    "    def debit(self):pass\n",
    "    \n",
    "class HDFC(ABC):\n",
    "    def loan(self):\n",
    "        print(\"We can provide 7.5% Interest loan...\")\n",
    "        \n",
    "    def credit(self):\n",
    "        print(\"HDFC provide credit...\")\n",
    "        \n",
    "    def debit(self):\n",
    "        print(\"HDFC provide Debit\")\n",
    "        \n",
    "    # We can addition function also....\n",
    "        \n",
    "obj=HDFC()\n",
    "obj.loan()\n",
    "obj.credit()\n",
    "obj.debit()\n",
    "obj.card()"
   ]
  },
  {
   "cell_type": "markdown",
   "id": "f42b9444",
   "metadata": {},
   "source": [
    "# Read a Text file in python"
   ]
  },
  {
   "cell_type": "code",
   "execution_count": 29,
   "id": "6b93cfef",
   "metadata": {},
   "outputs": [
    {
     "ename": "FileNotFoundError",
     "evalue": "[Errno 2] No such file or directory: 'Desktop//Txt.txt'",
     "output_type": "error",
     "traceback": [
      "\u001b[1;31m---------------------------------------------------------------------------\u001b[0m",
      "\u001b[1;31mFileNotFoundError\u001b[0m                         Traceback (most recent call last)",
      "\u001b[1;32m~\\AppData\\Local\\Temp\\ipykernel_11144\\3407242786.py\u001b[0m in \u001b[0;36m<module>\u001b[1;34m\u001b[0m\n\u001b[1;32m----> 1\u001b[1;33m \u001b[0mfile\u001b[0m\u001b[1;33m=\u001b[0m\u001b[0mopen\u001b[0m\u001b[1;33m(\u001b[0m\u001b[1;34m\"Desktop//Txt.txt\"\u001b[0m\u001b[1;33m,\u001b[0m\u001b[1;34m\"r\"\u001b[0m\u001b[1;33m)\u001b[0m\u001b[1;33m\u001b[0m\u001b[1;33m\u001b[0m\u001b[0m\n\u001b[0m\u001b[0;32m      2\u001b[0m \u001b[0mprint\u001b[0m\u001b[1;33m(\u001b[0m\u001b[0mfile\u001b[0m\u001b[1;33m.\u001b[0m\u001b[0mread\u001b[0m\u001b[1;33m(\u001b[0m\u001b[1;33m)\u001b[0m\u001b[1;33m)\u001b[0m\u001b[1;33m\u001b[0m\u001b[1;33m\u001b[0m\u001b[0m\n",
      "\u001b[1;31mFileNotFoundError\u001b[0m: [Errno 2] No such file or directory: 'Desktop//Txt.txt'"
     ]
    }
   ],
   "source": [
    "file=open(\"Desktop//Txt.txt\",\"r\")\n",
    "print(file.read())"
   ]
  },
  {
   "cell_type": "code",
   "execution_count": null,
   "id": "ab01abf4",
   "metadata": {},
   "outputs": [],
   "source": [
    "try:\n",
    "    file=open(File Location,\"r\")\n",
    "    print(file.read())\n",
    "    \n",
    "except Exception:\n",
    "    print(\"Eror\")\n",
    "    \n",
    "else:\n",
    "    file.close()"
   ]
  },
  {
   "cell_type": "markdown",
   "id": "332f1e7a",
   "metadata": {},
   "source": [
    "# Readline & readline in Python"
   ]
  },
  {
   "cell_type": "code",
   "execution_count": 30,
   "id": "2ebf67be",
   "metadata": {},
   "outputs": [
    {
     "name": "stdout",
     "output_type": "stream",
     "text": [
      "Error\n"
     ]
    }
   ],
   "source": [
    "try:\n",
    "    file=open(\"File Location\",'r')\n",
    "    print(file.readline())  # It is used to print to single line.\n",
    "    \n",
    "except FileNotFoundError:\n",
    "    print(\"Error\")\n",
    "\n",
    "else:\n",
    "    file.close()"
   ]
  },
  {
   "cell_type": "code",
   "execution_count": null,
   "id": "a3e553a8",
   "metadata": {},
   "outputs": [],
   "source": [
    "try:\n",
    "    file=open(\"File Location\",'r')\n",
    "    print(file.readline()) \n",
    "    print(file.readline(2))   # It is used to print first 2 letters.\n",
    "    \n",
    "except FileNotFoundError:\n",
    "    print(\"Error\")\n",
    "\n",
    "else:\n",
    "    file.close()"
   ]
  },
  {
   "cell_type": "code",
   "execution_count": null,
   "id": "a7460ae7",
   "metadata": {},
   "outputs": [],
   "source": [
    "try:\n",
    "    file=open(\"File Location\",'r')\n",
    "    print(file.readline()) \n",
    "    print(file.readline(5))   # It is used to print first 5 letters.\n",
    "    \n",
    "except FileNotFoundError:\n",
    "    print(\"Error\")\n",
    "\n",
    "else:\n",
    "    file.close()"
   ]
  },
  {
   "cell_type": "code",
   "execution_count": null,
   "id": "8953ddef",
   "metadata": {},
   "outputs": [],
   "source": [
    "try:\n",
    "    file=open(\"File Location\",'r')\n",
    "    print(file.readline()) \n",
    "    print(file.readline(5))   # It is used to print first 5 letters.\n",
    "    print(file.readlines())\n",
    "    \n",
    "except FileNotFoundError:\n",
    "    print(\"Error\")\n",
    "\n",
    "else:\n",
    "    file.close()"
   ]
  },
  {
   "cell_type": "markdown",
   "id": "ce798abf",
   "metadata": {},
   "source": [
    "# Loop line by in Python File concept"
   ]
  },
  {
   "cell_type": "code",
   "execution_count": null,
   "id": "1f93c7c1",
   "metadata": {},
   "outputs": [],
   "source": [
    "try:\n",
    "    file=open(file location,'r')\n",
    "    \n",
    "    for line in file:\n",
    "        print(line)\n",
    "        \n",
    "except filenotfound:\n",
    "    print(\"Error\")\n",
    "    \n",
    "else:\n",
    "    file.close()"
   ]
  },
  {
   "cell_type": "markdown",
   "id": "7ee2b8f7",
   "metadata": {},
   "source": [
    "# Write or Overwrite a File in Python"
   ]
  },
  {
   "cell_type": "code",
   "execution_count": null,
   "id": "88c3db37",
   "metadata": {},
   "outputs": [],
   "source": [
    "try:\n",
    "    file=open(file location,'w')\n",
    "    file.write(\"This is a stanely from Tutor Joes\")\n",
    "    file.close()\n",
    "    \n",
    "    file=open(file Location,'r')\n",
    "    for line in file:\n",
    "        print(line)\n",
    "        \n",
    "except filenotfound:\n",
    "    print(\"Error\")\n",
    "    \n",
    "else:\n",
    "    file.close()"
   ]
  },
  {
   "cell_type": "code",
   "execution_count": null,
   "id": "201ae03c",
   "metadata": {},
   "outputs": [],
   "source": [
    "try:\n",
    "    file=open(file location,'w')\n",
    "    file.write(\"This is a stanely from Tutor Joes\")\n",
    "    file.close()\n",
    "    \n",
    "    file=open(file Location,'r')\n",
    "    print(file.read())\n",
    "        \n",
    "except filenotfound:\n",
    "    print(\"Error\")\n",
    "    \n",
    "else:\n",
    "    file.close()"
   ]
  },
  {
   "cell_type": "markdown",
   "id": "cc7fe20f",
   "metadata": {},
   "source": [
    "# Append Mode File in Python"
   ]
  },
  {
   "cell_type": "markdown",
   "id": "27f56c3f",
   "metadata": {},
   "source": [
    "try:\n",
    "    file=open(file location,\"a\")\n",
    "    file.write(\"We can write anything in a file ,It can ba also known as file Overwrite\")\n",
    "    \n",
    "    file=open(\"file location\",\"r\")\n",
    "    print(file.read())\n",
    "    \n",
    "except filenotfound:\n",
    "    print(\"Error\")\n",
    "    \n",
    "else:\n",
    "    file.close()"
   ]
  },
  {
   "cell_type": "markdown",
   "id": "68cbe46e",
   "metadata": {},
   "source": [
    "# Delete a File in Python"
   ]
  },
  {
   "cell_type": "code",
   "execution_count": null,
   "id": "ead7f692",
   "metadata": {},
   "outputs": [],
   "source": [
    "import os\n",
    "\n",
    "if os.path.exists(\"file loction.txt\"):\n",
    "    os.remove(\"test.txt\")\n",
    "    \n",
    "else:\n",
    "    print(\"file Not found\")\n",
    "    "
   ]
  },
  {
   "cell_type": "code",
   "execution_count": null,
   "id": "078a5fd2",
   "metadata": {},
   "outputs": [],
   "source": [
    "import os\n",
    "\n",
    "if os.path.exists(\"folder name\"):\n",
    "    os.remove(\"folder name\")\n",
    "    # os.rmdir(\"folder name\")\n",
    "    \n",
    "else:\n",
    "    print(\"file Not found\")"
   ]
  },
  {
   "cell_type": "markdown",
   "id": "62c43d3a",
   "metadata": {},
   "source": []
  }
 ],
 "metadata": {
  "kernelspec": {
   "display_name": "Python 3 (ipykernel)",
   "language": "python",
   "name": "python3"
  },
  "language_info": {
   "codemirror_mode": {
    "name": "ipython",
    "version": 3
   },
   "file_extension": ".py",
   "mimetype": "text/x-python",
   "name": "python",
   "nbconvert_exporter": "python",
   "pygments_lexer": "ipython3",
   "version": "3.9.13"
  }
 },
 "nbformat": 4,
 "nbformat_minor": 5
}
