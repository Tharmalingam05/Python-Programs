{
 "cells": [
  {
   "cell_type": "code",
   "execution_count": 2,
   "id": "78874f95",
   "metadata": {},
   "outputs": [],
   "source": [
    "# pip install numpy\n",
    "\n",
    "# Importing Numpy\n",
    "\n",
    "import numpy as np\n"
   ]
  },
  {
   "cell_type": "code",
   "execution_count": 4,
   "id": "ff5d0c48",
   "metadata": {},
   "outputs": [
    {
     "data": {
      "text/plain": [
       "array(5)"
      ]
     },
     "execution_count": 4,
     "metadata": {},
     "output_type": "execute_result"
    }
   ],
   "source": [
    "# Creating 0-D array (That is also know as Scalar Array)\n",
    "\n",
    "import numpy as np\n",
    "arr1=np.array(5)\n",
    "arr1"
   ]
  },
  {
   "cell_type": "code",
   "execution_count": 3,
   "id": "618c39a7",
   "metadata": {},
   "outputs": [
    {
     "name": "stdout",
     "output_type": "stream",
     "text": [
      "5\n"
     ]
    }
   ],
   "source": [
    "import numpy as np\n",
    "arr1=np.array(5)\n",
    "print(arr1)"
   ]
  },
  {
   "cell_type": "code",
   "execution_count": 7,
   "id": "587c878f",
   "metadata": {},
   "outputs": [
    {
     "data": {
      "text/plain": [
       "array([1, 2, 3, 4, 5])"
      ]
     },
     "execution_count": 7,
     "metadata": {},
     "output_type": "execute_result"
    }
   ],
   "source": [
    "# Creating 1-D Array\n",
    "\n",
    "import numpy as np\n",
    "arr=np.array([1,2,3,4,5])\n",
    "arr\n"
   ]
  },
  {
   "cell_type": "code",
   "execution_count": 8,
   "id": "c514565e",
   "metadata": {},
   "outputs": [
    {
     "name": "stdout",
     "output_type": "stream",
     "text": [
      "<class 'numpy.ndarray'>\n"
     ]
    }
   ],
   "source": [
    "import numpy as np\n",
    "arr=np.array([1,2,3,4,5])\n",
    "print(type(arr))"
   ]
  },
  {
   "cell_type": "code",
   "execution_count": 10,
   "id": "8128b9ad",
   "metadata": {},
   "outputs": [
    {
     "name": "stdout",
     "output_type": "stream",
     "text": [
      "1\n"
     ]
    }
   ],
   "source": [
    "# Finding a Dimensional Of Array\n",
    "\n",
    "import numpy as np\n",
    "arr=np.array([1,2,3,4,5])\n",
    "\n",
    "print(arr.ndim)"
   ]
  },
  {
   "cell_type": "code",
   "execution_count": 14,
   "id": "af53fbe4",
   "metadata": {},
   "outputs": [
    {
     "name": "stdout",
     "output_type": "stream",
     "text": [
      "[[1. 2. 3. 4.]\n",
      " [5. 6. 7. 8.]]\n"
     ]
    },
    {
     "data": {
      "text/plain": [
       "array([[1., 2., 3., 4.],\n",
       "       [5., 6., 7., 8.]])"
      ]
     },
     "execution_count": 14,
     "metadata": {},
     "output_type": "execute_result"
    }
   ],
   "source": [
    "# Creating 2-D Array\n",
    "\n",
    "a=np.array([[1,2,3,4],[5,6,7,8]],dtype=float)  # We can alse specify the data types ( int and float)\n",
    "print(a)\n",
    "a"
   ]
  },
  {
   "cell_type": "code",
   "execution_count": 22,
   "id": "0023f273",
   "metadata": {},
   "outputs": [
    {
     "data": {
      "text/plain": [
       "array([[1, 2, 3, 4],\n",
       "       [5, 6, 7, 8]])"
      ]
     },
     "execution_count": 22,
     "metadata": {},
     "output_type": "execute_result"
    }
   ],
   "source": [
    "# Creating 2-D Array and changing the data type.\n",
    "\n",
    "a=np.array([[1,2,3,4],[5,6,7,8]],dtype=int)  # We can alse specify the data types ( int and float)\n",
    "a\n",
    "\n",
    "#print(a.ndim)"
   ]
  },
  {
   "cell_type": "code",
   "execution_count": 25,
   "id": "d8f7332d",
   "metadata": {},
   "outputs": [
    {
     "name": "stdout",
     "output_type": "stream",
     "text": [
      "[[[ 1  2  3]\n",
      "  [ 4  5  6]]\n",
      "\n",
      " [[ 7  8  9]\n",
      "  [10 11 12]]]\n",
      "\n",
      "It is used to help a find a number of arrays : 3\n"
     ]
    }
   ],
   "source": [
    "# Creating 3-Dimensional Array\n",
    "\n",
    "c=np.array([[(1,2,3),(4,5,6)],[(7,8,9),(10,11,12)]])\n",
    "print(c)\n",
    "\n",
    "print()\n",
    "\n",
    "print(\"It is used to help a find a number of arrays :\",c.ndim)"
   ]
  },
  {
   "cell_type": "code",
   "execution_count": 31,
   "id": "f9a56e69",
   "metadata": {},
   "outputs": [
    {
     "ename": "TypeError",
     "evalue": "array() got an unexpected keyword argument 'ndim'",
     "output_type": "error",
     "traceback": [
      "\u001b[1;31m---------------------------------------------------------------------------\u001b[0m",
      "\u001b[1;31mTypeError\u001b[0m                                 Traceback (most recent call last)",
      "\u001b[1;32m~\\AppData\\Local\\Temp\\ipykernel_4768\\2219214550.py\u001b[0m in \u001b[0;36m<module>\u001b[1;34m\u001b[0m\n\u001b[0;32m      2\u001b[0m \u001b[1;33m\u001b[0m\u001b[0m\n\u001b[0;32m      3\u001b[0m \u001b[1;32mimport\u001b[0m \u001b[0mnumpy\u001b[0m \u001b[1;32mas\u001b[0m \u001b[0mnp\u001b[0m\u001b[1;33m\u001b[0m\u001b[1;33m\u001b[0m\u001b[0m\n\u001b[1;32m----> 4\u001b[1;33m \u001b[0mx\u001b[0m\u001b[1;33m=\u001b[0m\u001b[0mnp\u001b[0m\u001b[1;33m.\u001b[0m\u001b[0marray\u001b[0m\u001b[1;33m(\u001b[0m\u001b[1;33m[\u001b[0m\u001b[1;36m1\u001b[0m\u001b[1;33m,\u001b[0m\u001b[1;36m2\u001b[0m\u001b[1;33m,\u001b[0m\u001b[1;36m3\u001b[0m\u001b[1;33m,\u001b[0m\u001b[1;36m4\u001b[0m\u001b[1;33m]\u001b[0m\u001b[1;33m,\u001b[0m \u001b[0mndim\u001b[0m\u001b[1;33m=\u001b[0m\u001b[1;36m3\u001b[0m\u001b[1;33m)\u001b[0m\u001b[1;33m\u001b[0m\u001b[1;33m\u001b[0m\u001b[0m\n\u001b[0m\u001b[0;32m      5\u001b[0m \u001b[0mx\u001b[0m\u001b[1;33m\u001b[0m\u001b[1;33m\u001b[0m\u001b[0m\n",
      "\u001b[1;31mTypeError\u001b[0m: array() got an unexpected keyword argument 'ndim'"
     ]
    }
   ],
   "source": [
    "# Defining number of dimension.\n",
    "\n",
    "import numpy as np\n",
    "x=np.array([1,2,3,4], ndim=3)\n",
    "x"
   ]
  },
  {
   "cell_type": "code",
   "execution_count": 34,
   "id": "220104cc",
   "metadata": {},
   "outputs": [
    {
     "name": "stdout",
     "output_type": "stream",
     "text": [
      "[[0 0 0]\n",
      " [0 0 0]]\n"
     ]
    }
   ],
   "source": [
    "# Creating array of Zero\n",
    "\n",
    "x=np.zeros((2,3),dtype=int)\n",
    "print(x)"
   ]
  },
  {
   "cell_type": "code",
   "execution_count": 37,
   "id": "80900042",
   "metadata": {},
   "outputs": [
    {
     "name": "stdout",
     "output_type": "stream",
     "text": [
      "[[0. 0. 0.]\n",
      " [0. 0. 0.]]\n"
     ]
    }
   ],
   "source": [
    "x=np.zeros([2,3])\n",
    "print(x)"
   ]
  },
  {
   "cell_type": "code",
   "execution_count": 39,
   "id": "7b3a4387",
   "metadata": {},
   "outputs": [
    {
     "name": "stdout",
     "output_type": "stream",
     "text": [
      "[[1. 1. 1.]\n",
      " [1. 1. 1.]\n",
      " [1. 1. 1.]]\n"
     ]
    }
   ],
   "source": [
    "# Creating a array of Ones\n",
    "\n",
    "x=np.ones([3,3])\n",
    "print(x)"
   ]
  },
  {
   "cell_type": "code",
   "execution_count": 40,
   "id": "f15128aa",
   "metadata": {},
   "outputs": [
    {
     "data": {
      "text/plain": [
       "array([[1., 0., 0.],\n",
       "       [0., 1., 0.],\n",
       "       [0., 0., 1.]])"
      ]
     },
     "execution_count": 40,
     "metadata": {},
     "output_type": "execute_result"
    }
   ],
   "source": [
    "# Eye function :  Returns array filled with zeros except in the diagonal,whose values are equal to :\n",
    "\n",
    "a=np.eye(3)\n",
    "a"
   ]
  },
  {
   "cell_type": "code",
   "execution_count": 41,
   "id": "9036915f",
   "metadata": {},
   "outputs": [
    {
     "data": {
      "text/plain": [
       "array([[1., 0.],\n",
       "       [0., 1.]])"
      ]
     },
     "execution_count": 41,
     "metadata": {},
     "output_type": "execute_result"
    }
   ],
   "source": [
    "a=np.eye(2)\n",
    "a"
   ]
  },
  {
   "cell_type": "code",
   "execution_count": 44,
   "id": "691517f8",
   "metadata": {},
   "outputs": [
    {
     "data": {
      "text/plain": [
       "array([[1, 0, 0, 0, 0],\n",
       "       [0, 1, 0, 0, 0],\n",
       "       [0, 0, 1, 0, 0],\n",
       "       [0, 0, 0, 1, 0],\n",
       "       [0, 0, 0, 0, 1]])"
      ]
     },
     "execution_count": 44,
     "metadata": {},
     "output_type": "execute_result"
    }
   ],
   "source": [
    "a=np.eye(5,dtype=int)\n",
    "a"
   ]
  },
  {
   "cell_type": "code",
   "execution_count": 46,
   "id": "0d619fdc",
   "metadata": {},
   "outputs": [
    {
     "data": {
      "text/plain": [
       "array([[1, 0, 0],\n",
       "       [0, 1, 0]])"
      ]
     },
     "execution_count": 46,
     "metadata": {},
     "output_type": "execute_result"
    }
   ],
   "source": [
    "a=np.eye(2,3,dtype=int)\n",
    "a"
   ]
  },
  {
   "cell_type": "code",
   "execution_count": 49,
   "id": "38893a71",
   "metadata": {},
   "outputs": [
    {
     "data": {
      "text/plain": [
       "array([[0, 0, 0, 0],\n",
       "       [1, 0, 0, 0],\n",
       "       [0, 1, 0, 0],\n",
       "       [0, 0, 1, 0]])"
      ]
     },
     "execution_count": 49,
     "metadata": {},
     "output_type": "execute_result"
    }
   ],
   "source": [
    "a=np.eye(4,k=-1,dtype=int)\n",
    "a"
   ]
  },
  {
   "cell_type": "code",
   "execution_count": 50,
   "id": "c6797b90",
   "metadata": {},
   "outputs": [
    {
     "data": {
      "text/plain": [
       "array([[0, 0, 0, 0, 0],\n",
       "       [0, 0, 0, 0, 0],\n",
       "       [1, 0, 0, 0, 0],\n",
       "       [0, 1, 0, 0, 0],\n",
       "       [0, 0, 1, 0, 0]])"
      ]
     },
     "execution_count": 50,
     "metadata": {},
     "output_type": "execute_result"
    }
   ],
   "source": [
    "a=np.eye(5,k=-2,dtype=int)\n",
    "a"
   ]
  },
  {
   "cell_type": "code",
   "execution_count": 52,
   "id": "18c83b5a",
   "metadata": {},
   "outputs": [
    {
     "data": {
      "text/plain": [
       "array([[1, 0, 0, 0, 0],\n",
       "       [0, 1, 0, 0, 0],\n",
       "       [0, 0, 1, 0, 0],\n",
       "       [0, 0, 0, 1, 0],\n",
       "       [0, 0, 0, 0, 1]])"
      ]
     },
     "execution_count": 52,
     "metadata": {},
     "output_type": "execute_result"
    }
   ],
   "source": [
    "a=np.eye(5,dtype=int)\n",
    "a"
   ]
  },
  {
   "cell_type": "markdown",
   "id": "401880da",
   "metadata": {},
   "source": [
    "# Accessing array elements"
   ]
  },
  {
   "cell_type": "code",
   "execution_count": 2,
   "id": "92f0579a",
   "metadata": {},
   "outputs": [
    {
     "name": "stdout",
     "output_type": "stream",
     "text": [
      "10\n"
     ]
    }
   ],
   "source": [
    "# Accessing 1-D array\n",
    "\n",
    "import numpy as np\n",
    "\n",
    "a=np.array([10,20,30,40,50])\n",
    "print(a[0])"
   ]
  },
  {
   "cell_type": "code",
   "execution_count": 7,
   "id": "4399feb3",
   "metadata": {},
   "outputs": [
    {
     "name": "stdout",
     "output_type": "stream",
     "text": [
      "10\n",
      "20\n",
      "30\n",
      "40\n",
      "\n",
      "Adding a value using index position : 30\n"
     ]
    },
    {
     "data": {
      "text/plain": [
       "[None]"
      ]
     },
     "execution_count": 7,
     "metadata": {},
     "output_type": "execute_result"
    }
   ],
   "source": [
    "\n",
    "a=np.array([10,20,30,40,50])\n",
    "print(a[0])\n",
    "print(a[1])\n",
    "print(a[2])\n",
    "print(a[3])\n",
    "\n",
    "print()\n",
    "\n",
    "[print(\"Adding a value using index position :\",a[0]+a[1])]"
   ]
  },
  {
   "cell_type": "code",
   "execution_count": 11,
   "id": "2622cb40",
   "metadata": {},
   "outputs": [
    {
     "name": "stdout",
     "output_type": "stream",
     "text": [
      "8\n",
      "Number of Arrays : 2\n"
     ]
    }
   ],
   "source": [
    "# Accessing 2-D Array\n",
    "\n",
    "a=np.array([[1,2,3,4,5],[6,7,8,9,10]])\n",
    "print(a[1,2])\n",
    "\n",
    "print(\"Number of Arrays :\",a.ndim)"
   ]
  },
  {
   "cell_type": "code",
   "execution_count": 16,
   "id": "64550b05",
   "metadata": {},
   "outputs": [
    {
     "name": "stdout",
     "output_type": "stream",
     "text": [
      "12\n",
      "Number of array : 3\n"
     ]
    }
   ],
   "source": [
    "# Access 3-D Array\n",
    "\n",
    "c=np.array([[(1,2,3),(4,5,6)],[(7,8,9),(10,11,12)]])\n",
    "\n",
    "print(c[1,1,2])\n",
    "\n",
    "print(\"Number of array :\",c.ndim)"
   ]
  },
  {
   "cell_type": "code",
   "execution_count": 18,
   "id": "44a81ab8",
   "metadata": {},
   "outputs": [
    {
     "name": "stdout",
     "output_type": "stream",
     "text": [
      "3\n"
     ]
    }
   ],
   "source": [
    "# negative Indexing\n",
    "\n",
    "a=np.array([[1,2,3,4,5],[6,7,8,9,10]])\n",
    "\n",
    "print(a[0,-3])"
   ]
  },
  {
   "cell_type": "markdown",
   "id": "fc850724",
   "metadata": {},
   "source": [
    "# Slicing Array"
   ]
  },
  {
   "cell_type": "code",
   "execution_count": 19,
   "id": "04473857",
   "metadata": {},
   "outputs": [
    {
     "name": "stdout",
     "output_type": "stream",
     "text": [
      "[10 20 30]\n",
      "[30 40 50 60 70 80 90]\n",
      "[10 20 30 40 50]\n",
      "[60 70 80]\n",
      "[20 40]\n",
      "[10 40 70]\n",
      "[10 20 30 40 50 60 70 80 90]\n",
      "[90 80 70 60 50 40 30 20 10]\n"
     ]
    }
   ],
   "source": [
    "a=np.array([10,20,30,40,50,60,70,80,90])\n",
    "\n",
    "print(a[0:3])\n",
    "print(a[2:])\n",
    "print(a[:5])\n",
    "print(a[-4:-1])\n",
    "print(a[1:5:2])\n",
    "print(a[::3])\n",
    "print(a[::1])\n",
    "print(a[::-1])"
   ]
  },
  {
   "cell_type": "code",
   "execution_count": 20,
   "id": "f72c6916",
   "metadata": {},
   "outputs": [
    {
     "name": "stdout",
     "output_type": "stream",
     "text": [
      "[7 8 9]\n"
     ]
    }
   ],
   "source": [
    "# Slicing 2-D Array\n",
    "\n",
    "a=np.array([[1,2,3,4,5],[6,7,8,9,0]])\n",
    "\n",
    "print(a[1,1:4])"
   ]
  },
  {
   "cell_type": "code",
   "execution_count": 23,
   "id": "80e327a0",
   "metadata": {},
   "outputs": [
    {
     "name": "stdout",
     "output_type": "stream",
     "text": [
      "[3 8]\n"
     ]
    }
   ],
   "source": [
    "a=np.array([[1,2,3,4,5],[6,7,8,9,0]])\n",
    "\n",
    "print(a[0:2, 2])\n",
    "# print(a[0:2, 1:4])"
   ]
  },
  {
   "cell_type": "code",
   "execution_count": 22,
   "id": "b335b125",
   "metadata": {},
   "outputs": [
    {
     "name": "stdout",
     "output_type": "stream",
     "text": [
      "[[2 3 4]\n",
      " [7 8 9]]\n"
     ]
    }
   ],
   "source": [
    "print(a[0:2, 1:4])"
   ]
  },
  {
   "cell_type": "markdown",
   "id": "0e991495",
   "metadata": {},
   "source": [
    "# NumPy Data Types"
   ]
  },
  {
   "cell_type": "code",
   "execution_count": null,
   "id": "bced364c",
   "metadata": {},
   "outputs": [],
   "source": [
    "\"\"\"\n",
    "        i-integer\n",
    "        b-boolean\n",
    "        u-unsigned integer\n",
    "        f-float\n",
    "        c-complex float\n",
    "        m\n",
    "        M-datetime\n",
    "        O-object\n",
    "        S-string\n",
    "        U-unicode string\n",
    "        v-\n",
    "\"\"\""
   ]
  },
  {
   "cell_type": "markdown",
   "id": "8def8cfe",
   "metadata": {},
   "source": [
    "# Finding dtypes of array"
   ]
  },
  {
   "cell_type": "code",
   "execution_count": 3,
   "id": "3170d63b",
   "metadata": {},
   "outputs": [
    {
     "name": "stdout",
     "output_type": "stream",
     "text": [
      "[1 2 3 4]\n",
      "int32\n"
     ]
    }
   ],
   "source": [
    "import numpy as np\n",
    "\n",
    "a=np.array([1,2,3,4])\n",
    "\n",
    "print(a)\n",
    "\n",
    "print(a.dtype)"
   ]
  },
  {
   "cell_type": "code",
   "execution_count": 5,
   "id": "715cf2d1",
   "metadata": {},
   "outputs": [
    {
     "name": "stdout",
     "output_type": "stream",
     "text": [
      "[b'1' b'2' b'3' b'4']\n",
      "|S1\n"
     ]
    }
   ],
   "source": [
    "# Create an array with data type string.\n",
    "\n",
    "a=np.array([1,2,3,4],dtype='S')\n",
    "print(a)\n",
    "\n",
    "print(a.dtype)"
   ]
  },
  {
   "cell_type": "code",
   "execution_count": 8,
   "id": "a1923e0b",
   "metadata": {},
   "outputs": [
    {
     "name": "stdout",
     "output_type": "stream",
     "text": [
      "[1 2 3 4 5 0]\n",
      "int32\n",
      "\n",
      "[ True  True  True  True  True False]\n",
      "bool\n"
     ]
    }
   ],
   "source": [
    "# Change data type from floot to interger by using int as parameter value\n",
    "\n",
    "a=np.array([1.1,2.2,3.3,4.4,5.5,0.0])\n",
    "b=a.astype(int)\n",
    "print(b)\n",
    "print(b.dtype)\n",
    "\n",
    "print()\n",
    "\n",
    "c=b.astype(bool)\n",
    "print(c)\n",
    "print(c.dtype)"
   ]
  },
  {
   "cell_type": "code",
   "execution_count": 9,
   "id": "14723d44",
   "metadata": {},
   "outputs": [
    {
     "name": "stdout",
     "output_type": "stream",
     "text": [
      "[42  2  3  4  5]\n",
      "[1 2 3 4 5]\n"
     ]
    }
   ],
   "source": [
    "# Copy to the array\n",
    "\n",
    "x=np.array([1,2,3,4,5])  # Value is changed in x .Doesn't change in y\n",
    "y=x.copy()\n",
    "\n",
    "x[0]=42\n",
    "\n",
    "print(x)\n",
    "print(y)"
   ]
  },
  {
   "cell_type": "code",
   "execution_count": 10,
   "id": "3848d722",
   "metadata": {},
   "outputs": [
    {
     "name": "stdout",
     "output_type": "stream",
     "text": [
      "[53  2  3  4  5  6]\n",
      "[53  2  3  4  5  6]\n"
     ]
    }
   ],
   "source": [
    "# View is just a view of the original array\n",
    "\n",
    "x=np.array([1,2,3,4,5,6])\n",
    "y=x.view()\n",
    "\n",
    "x[0]=53\n",
    "\n",
    "print(x)\n",
    "print(y)"
   ]
  },
  {
   "cell_type": "markdown",
   "id": "609682d2",
   "metadata": {},
   "source": [
    "# Shape of an Array"
   ]
  },
  {
   "cell_type": "code",
   "execution_count": 13,
   "id": "d9a78a8f",
   "metadata": {},
   "outputs": [
    {
     "name": "stdout",
     "output_type": "stream",
     "text": [
      "(2, 4)\n"
     ]
    }
   ],
   "source": [
    "a=np.array([[1,2,3,4],[5,6,7,8]])\n",
    "print(a.shape)"
   ]
  },
  {
   "cell_type": "markdown",
   "id": "d8dbfcbc",
   "metadata": {},
   "source": [
    "# Reshapping means changing the shape of an Array"
   ]
  },
  {
   "cell_type": "code",
   "execution_count": 20,
   "id": "274fb167",
   "metadata": {},
   "outputs": [
    {
     "name": "stdout",
     "output_type": "stream",
     "text": [
      "[[ 1  2  3]\n",
      " [ 4  5  6]\n",
      " [ 7  8  9]\n",
      " [10 11 12]]\n",
      "\n",
      "2\n"
     ]
    }
   ],
   "source": [
    "# Reshape from 1-D to 2-D\n",
    "\n",
    "a=np.array([1,2,3,4,5,6,7,8,9,10,11,12])\n",
    "\n",
    "b=a.reshape(4,3)\n",
    "\n",
    "print(b)\n",
    "\n",
    "print()\n",
    "\n",
    "print(b.ndim)"
   ]
  },
  {
   "cell_type": "code",
   "execution_count": 24,
   "id": "00f5406d",
   "metadata": {},
   "outputs": [
    {
     "name": "stdout",
     "output_type": "stream",
     "text": [
      "[[[ 1  2]\n",
      "  [ 3  4]\n",
      "  [ 5  6]]\n",
      "\n",
      " [[ 7  8]\n",
      "  [ 9 10]\n",
      "  [11 12]]]\n",
      "Total Number of arrays : 3\n"
     ]
    }
   ],
   "source": [
    "# Reshape from 1-D to 3-D\n",
    "\n",
    "a=np.array([1,2,3,4,5,6,7,8,9,10,11,12])\n",
    "\n",
    "b=a.reshape(2,3,2)\n",
    "\n",
    "print(b)\n",
    "\n",
    "print('Total Number of arrays :',b.ndim)"
   ]
  },
  {
   "cell_type": "markdown",
   "id": "092a140d",
   "metadata": {},
   "source": [
    "# Flatting Array"
   ]
  },
  {
   "cell_type": "code",
   "execution_count": 26,
   "id": "3c6c639b",
   "metadata": {},
   "outputs": [],
   "source": [
    "# Flattening array means converting a Multidimensional array into a 1D array."
   ]
  },
  {
   "cell_type": "code",
   "execution_count": 29,
   "id": "644e2c41",
   "metadata": {},
   "outputs": [
    {
     "name": "stdout",
     "output_type": "stream",
     "text": [
      "[1 2 3 4 5 6 7 8]\n"
     ]
    }
   ],
   "source": [
    "a=np.array([[1,2,3,4],[5,6,7,8]])\n",
    "\n",
    "b=a.reshape(-1)\n",
    "\n",
    "print(b)"
   ]
  },
  {
   "cell_type": "markdown",
   "id": "5316f98e",
   "metadata": {},
   "source": [
    "# Iterating Arrays"
   ]
  },
  {
   "cell_type": "code",
   "execution_count": 30,
   "id": "efa81fd4",
   "metadata": {},
   "outputs": [],
   "source": [
    "# Iterating means going through elements one by one."
   ]
  },
  {
   "cell_type": "code",
   "execution_count": 31,
   "id": "75fe5977",
   "metadata": {},
   "outputs": [
    {
     "name": "stdout",
     "output_type": "stream",
     "text": [
      "1\n",
      "2\n",
      "3\n"
     ]
    }
   ],
   "source": [
    "# Iterating 1-D Array\n",
    "\n",
    "a=np.array([1,2,3])\n",
    "\n",
    "for i in a:\n",
    "    print(i)"
   ]
  },
  {
   "cell_type": "code",
   "execution_count": 32,
   "id": "ec9fdd7f",
   "metadata": {},
   "outputs": [
    {
     "name": "stdout",
     "output_type": "stream",
     "text": [
      "[1 2 3 4]\n",
      "1\n",
      "2\n",
      "3\n",
      "4\n",
      "[5 6 7 8]\n",
      "5\n",
      "6\n",
      "7\n",
      "8\n"
     ]
    }
   ],
   "source": [
    "# Iterating 2-D Array\n",
    "\n",
    "a=np.array([[1,2,3,4],[5,6,7,8]])\n",
    "\n",
    "for i in a:\n",
    "    print(i)\n",
    "    \n",
    "    for j in i:\n",
    "        print(j)"
   ]
  },
  {
   "cell_type": "code",
   "execution_count": 33,
   "id": "aeaa0884",
   "metadata": {},
   "outputs": [
    {
     "name": "stdout",
     "output_type": "stream",
     "text": [
      "1\n",
      "2\n",
      "3\n",
      "4\n",
      "5\n",
      "6\n",
      "7\n",
      "8\n"
     ]
    }
   ],
   "source": [
    "# Iterating 2-D Array\n",
    "\n",
    "a=np.array([[1,2,3,4],[5,6,7,8]])\n",
    "\n",
    "for i in a:\n",
    "    for j in i:\n",
    "        print(j)"
   ]
  },
  {
   "cell_type": "code",
   "execution_count": 35,
   "id": "7ea876a9",
   "metadata": {},
   "outputs": [
    {
     "name": "stdout",
     "output_type": "stream",
     "text": [
      "1\n",
      "2\n",
      "3\n",
      "4\n",
      "5\n",
      "6\n",
      "7\n",
      "8\n",
      "9\n",
      "10\n",
      "11\n",
      "12\n"
     ]
    }
   ],
   "source": [
    "# Iterating 3-D Array\n",
    "\n",
    "a=np.array([[[1,2,3,4],[5,6,7,8],[9,10,11,12]]])\n",
    "\n",
    "for i in a:\n",
    "    for j in i:\n",
    "        for k in j:\n",
    "            print(k)"
   ]
  },
  {
   "cell_type": "code",
   "execution_count": 1,
   "id": "12268bc6",
   "metadata": {},
   "outputs": [
    {
     "name": "stdout",
     "output_type": "stream",
     "text": [
      "1\n",
      "2\n",
      "3\n",
      "4\n",
      "5\n",
      "6\n",
      "7\n",
      "8\n",
      "9\n"
     ]
    }
   ],
   "source": [
    "# Iterating 3-D Array using nditer\n",
    "\n",
    "import numpy as np\n",
    "\n",
    "a=np.array([[[1,2,3],[4,5,6],[7,8,9]]])\n",
    "\n",
    "for i in np.nditer(a):\n",
    "    print(i)\n"
   ]
  },
  {
   "cell_type": "code",
   "execution_count": 38,
   "id": "e09012a1",
   "metadata": {},
   "outputs": [
    {
     "name": "stdout",
     "output_type": "stream",
     "text": [
      "1\n",
      "2\n",
      "3\n",
      "4\n",
      "5\n",
      "6\n",
      "7\n",
      "8\n"
     ]
    }
   ],
   "source": [
    "# Iterate through every scalar element of the 2D array skipping 1 element.\n",
    "\n",
    "a=np.array([[1,2,3,4],[5,6,7,8]])\n",
    "\n",
    "for i in np.nditer(a):\n",
    "    print(i)"
   ]
  },
  {
   "cell_type": "code",
   "execution_count": 2,
   "id": "d2e192a7",
   "metadata": {},
   "outputs": [
    {
     "name": "stdout",
     "output_type": "stream",
     "text": [
      "1\n",
      "3\n",
      "5\n",
      "7\n"
     ]
    }
   ],
   "source": [
    "# Iterate through every scalar element of the 2D array skipping 1 element.\n",
    "\n",
    "a=np.array([[1,2,3,4],[5,6,7,8]])\n",
    "\n",
    "for i in np.nditer(a[:,::2]):\n",
    "    print(i)"
   ]
  },
  {
   "cell_type": "code",
   "execution_count": 5,
   "id": "405b0997",
   "metadata": {},
   "outputs": [
    {
     "name": "stdout",
     "output_type": "stream",
     "text": [
      "(0,) 10\n",
      "(1,) 20\n",
      "(2,) 30\n"
     ]
    }
   ],
   "source": [
    "# Enumerator 1-D Array\n",
    "\n",
    "import numpy as np\n",
    "\n",
    "x=np.array([10,20,30])\n",
    "\n",
    "for index ,i in np.ndenumerate(x):\n",
    "    print(index,i)"
   ]
  },
  {
   "cell_type": "code",
   "execution_count": 7,
   "id": "f9ddc5ed",
   "metadata": {},
   "outputs": [
    {
     "name": "stdout",
     "output_type": "stream",
     "text": [
      "(0, 0) 1\n",
      "(0, 1) 2\n",
      "(0, 2) 3\n",
      "(0, 3) 4\n",
      "(1, 0) 5\n",
      "(1, 1) 6\n",
      "(1, 2) 7\n",
      "(1, 3) 8\n"
     ]
    }
   ],
   "source": [
    "# Enumerate 2D Array\n",
    "\n",
    "x=np.array([[1,2,3,4],[5,6,7,8]])\n",
    "\n",
    "for index,i in np.ndenumerate(x):\n",
    "    print(index,i)"
   ]
  },
  {
   "cell_type": "markdown",
   "id": "8b9341f8",
   "metadata": {},
   "source": [
    "# Joining Numpy Array"
   ]
  },
  {
   "cell_type": "raw",
   "id": "95ff9a81",
   "metadata": {},
   "source": [
    "Merging elements of two or more arrays in a single array."
   ]
  },
  {
   "cell_type": "code",
   "execution_count": 9,
   "id": "67b57fda",
   "metadata": {},
   "outputs": [
    {
     "name": "stdout",
     "output_type": "stream",
     "text": [
      "[1 2 3 4 5 6 7 8]\n"
     ]
    }
   ],
   "source": [
    "x=np.array([1,2,3,4])\n",
    "y=np.array([5,6,7,8])\n",
    "\n",
    "z=np.concatenate((x,y))\n",
    "\n",
    "print(z)\n"
   ]
  },
  {
   "cell_type": "code",
   "execution_count": 17,
   "id": "b0058f90",
   "metadata": {},
   "outputs": [
    {
     "name": "stdout",
     "output_type": "stream",
     "text": [
      "[[1 2 3 4 1 2 3 4]\n",
      " [5 6 7 8 5 6 7 8]]\n"
     ]
    }
   ],
   "source": [
    " # Joining two 2-D arrays along rows (axis=1)\n",
    "    \n",
    "x=np.array([[1,2,3,4],[5,6,7,8]])\n",
    "y=np.array([[1,2,3,4],[5,6,7,8]])\n",
    "    \n",
    "z=np.concatenate((x,y),axis=1)  #  (axis 1) It's represents print a row wise\n",
    "    \n",
    "print(z)"
   ]
  },
  {
   "cell_type": "code",
   "execution_count": 18,
   "id": "157c3d1e",
   "metadata": {},
   "outputs": [
    {
     "name": "stdout",
     "output_type": "stream",
     "text": [
      "[[1 2 3 4]\n",
      " [5 6 7 8]\n",
      " [1 2 3 4]\n",
      " [5 6 7 8]]\n"
     ]
    }
   ],
   "source": [
    "x=np.array([[1,2,3,4],[5,6,7,8]])\n",
    "y=np.array([[1,2,3,4],[5,6,7,8]])\n",
    "    \n",
    "z=np.concatenate((x,y),axis=0)  #  (axis 0) It's represents print a column wise\n",
    "    \n",
    "print(z)"
   ]
  },
  {
   "cell_type": "markdown",
   "id": "55df4d86",
   "metadata": {},
   "source": [
    "# Stacking Arrays"
   ]
  },
  {
   "cell_type": "raw",
   "id": "251304e7",
   "metadata": {},
   "source": [
    "Stacking is same as concatenation,the only difference is that stacking is done along a new axis."
   ]
  },
  {
   "cell_type": "code",
   "execution_count": 19,
   "id": "7eff8844",
   "metadata": {},
   "outputs": [
    {
     "name": "stdout",
     "output_type": "stream",
     "text": [
      "[[1 5]\n",
      " [2 6]\n",
      " [3 7]\n",
      " [4 8]]\n"
     ]
    }
   ],
   "source": [
    "a=np.array([1,2,3,4])\n",
    "b=np.array([5,6,7,8])\n",
    "\n",
    "c=np.stack((a,b),axis=1)\n",
    "print(c)"
   ]
  },
  {
   "cell_type": "code",
   "execution_count": 23,
   "id": "5da90341",
   "metadata": {},
   "outputs": [
    {
     "name": "stdout",
     "output_type": "stream",
     "text": [
      "[1 2 3 4 5 6]\n"
     ]
    }
   ],
   "source": [
    "# Stacking along Rows\n",
    "\n",
    "a=np.array([1,2,3])\n",
    "\n",
    "b=np.array([4,5,6])\n",
    "\n",
    "c=np.hstack((a,b))\n",
    "\n",
    "print(c)"
   ]
  },
  {
   "cell_type": "code",
   "execution_count": 28,
   "id": "ae75f75c",
   "metadata": {},
   "outputs": [
    {
     "name": "stdout",
     "output_type": "stream",
     "text": [
      "[[1 2 3 4]\n",
      " [5 6 7 8]]\n"
     ]
    }
   ],
   "source": [
    "# Stacking along Columns\n",
    "\n",
    "a=np.array([1,2,3,4])\n",
    "b=np.array([5,6,7,8])\n",
    "\n",
    "c=np.vstack((a,b))\n",
    "print(c)\n",
    "\n"
   ]
  },
  {
   "cell_type": "code",
   "execution_count": 27,
   "id": "f879c75a",
   "metadata": {},
   "outputs": [
    {
     "name": "stdout",
     "output_type": "stream",
     "text": [
      "[[[1 5]\n",
      "  [2 6]\n",
      "  [3 7]\n",
      "  [4 8]]]\n"
     ]
    }
   ],
   "source": [
    "# Stacking along Height/Depth\n",
    "\n",
    "a=np.array([1,2,3,4])\n",
    "b=np.array([5,6,7,8])\n",
    "\n",
    "c=np.dstack((a,b))\n",
    "\n",
    "print(c)"
   ]
  },
  {
   "cell_type": "markdown",
   "id": "06308b9a",
   "metadata": {},
   "source": [
    "# Splitting NnumPy Arrays"
   ]
  },
  {
   "cell_type": "raw",
   "id": "5c017ef0",
   "metadata": {},
   "source": [
    "It's is the reverse operation of Joining \n",
    "\n",
    "Splits single array into Multiple"
   ]
  },
  {
   "cell_type": "code",
   "execution_count": 30,
   "id": "91b032c4",
   "metadata": {},
   "outputs": [
    {
     "name": "stdout",
     "output_type": "stream",
     "text": [
      "[array([1, 2, 3]), array([4, 5, 6]), array([7, 8])]\n"
     ]
    }
   ],
   "source": [
    "a=np.array([1,2,3,4,5,6,7,8])\n",
    "\n",
    "aa=np.array_split(a,3)  # If it has less element it will create blank array.\n",
    "\n",
    "print(aa)"
   ]
  },
  {
   "cell_type": "code",
   "execution_count": 31,
   "id": "d57f36af",
   "metadata": {},
   "outputs": [
    {
     "name": "stdout",
     "output_type": "stream",
     "text": [
      "[array([1, 2]), array([3, 4]), array([5, 6]), array([7, 8])]\n"
     ]
    }
   ],
   "source": [
    "a=np.array([1,2,3,4,5,6,7,8])\n",
    "\n",
    "aa=np.array_split(a,4)  # If it has less element it will create blank array.\n",
    "\n",
    "print(aa)"
   ]
  },
  {
   "cell_type": "code",
   "execution_count": 32,
   "id": "12b4575f",
   "metadata": {},
   "outputs": [
    {
     "name": "stdout",
     "output_type": "stream",
     "text": [
      "[1 2]\n",
      "[3 4]\n",
      "[5 6]\n"
     ]
    }
   ],
   "source": [
    "print(aa[0])\n",
    "print(aa[1])\n",
    "print(aa[2])"
   ]
  },
  {
   "cell_type": "code",
   "execution_count": 33,
   "id": "2e761ad4",
   "metadata": {},
   "outputs": [
    {
     "name": "stdout",
     "output_type": "stream",
     "text": [
      "[array([[1, 2, 3],\n",
      "       [4, 5, 6]]), array([[ 7,  8,  9],\n",
      "       [10, 11, 12]]), array([[13, 14, 15]]), array([[16, 17, 18]])]\n"
     ]
    }
   ],
   "source": [
    "#Split the 2-D array \n",
    "\n",
    "a=np.array([[1, 2, 3], [4, 5, 6], [7, 8, 9], [10, 11, 12], [13, 14, 15], [16, 17, 18]])\n",
    "a1= np.array_split(a,4)\n",
    "print(a1)"
   ]
  },
  {
   "cell_type": "code",
   "execution_count": 34,
   "id": "ef548f9e",
   "metadata": {},
   "outputs": [
    {
     "name": "stdout",
     "output_type": "stream",
     "text": [
      "[array([[ 1],\n",
      "       [ 4],\n",
      "       [ 7],\n",
      "       [10],\n",
      "       [13],\n",
      "       [16]]), array([[ 2],\n",
      "       [ 5],\n",
      "       [ 8],\n",
      "       [11],\n",
      "       [14],\n",
      "       [17]]), array([[ 3],\n",
      "       [ 6],\n",
      "       [ 9],\n",
      "       [12],\n",
      "       [15],\n",
      "       [18]]), array([], shape=(6, 0), dtype=int32)]\n"
     ]
    }
   ],
   "source": [
    "#Split the 2-D array along rows\n",
    "\n",
    "a=np.array([[1, 2, 3], [4, 5, 6], [7, 8, 9], [10, 11, 12], [13, 14, 15], [16, 17, 18]])\n",
    "a1= np.array_split(a,4,axis=1)\n",
    "print(a1)"
   ]
  },
  {
   "cell_type": "code",
   "execution_count": 36,
   "id": "e403d944",
   "metadata": {},
   "outputs": [
    {
     "name": "stdout",
     "output_type": "stream",
     "text": [
      "[array([[ 1],\n",
      "       [ 4],\n",
      "       [ 7],\n",
      "       [10],\n",
      "       [13],\n",
      "       [16]]), array([[ 2],\n",
      "       [ 5],\n",
      "       [ 8],\n",
      "       [11],\n",
      "       [14],\n",
      "       [17]]), array([[ 3],\n",
      "       [ 6],\n",
      "       [ 9],\n",
      "       [12],\n",
      "       [15],\n",
      "       [18]])]\n"
     ]
    }
   ],
   "source": [
    "#Split the 2-D array along rows or horizontal\n",
    "\n",
    "a=np.array([[1, 2, 3], [4, 5, 6], [7, 8, 9], [10, 11, 12], [13, 14, 15], [16, 17, 18]])\n",
    "a1= np.hsplit(a,3)\n",
    "print(a1)"
   ]
  },
  {
   "cell_type": "markdown",
   "id": "03369917",
   "metadata": {},
   "source": [
    "# Searching Array"
   ]
  },
  {
   "cell_type": "code",
   "execution_count": 38,
   "id": "5afb827c",
   "metadata": {},
   "outputs": [
    {
     "name": "stdout",
     "output_type": "stream",
     "text": [
      "(array([3, 5], dtype=int64),)\n"
     ]
    }
   ],
   "source": [
    "x=np.array([1,2,3,4,5,4,3,6,7,8])\n",
    "\n",
    "# Element 4 is in the three index position \n",
    "\n",
    "x1=np.where(x==4)\n",
    "\n",
    "print(x1)"
   ]
  },
  {
   "cell_type": "code",
   "execution_count": 41,
   "id": "cb3090e0",
   "metadata": {},
   "outputs": [
    {
     "name": "stdout",
     "output_type": "stream",
     "text": [
      "Even Numbers Position : (array([1, 3, 5, 7], dtype=int64),)\n"
     ]
    }
   ],
   "source": [
    "# finding the element in even Indices\n",
    "\n",
    "x=np.array([1,2,3,4,5,6,7,8])\n",
    "\n",
    "# Display the elements in the index position 0,2,4,6\n",
    "\n",
    "x1=np.where(x%2==0)\n",
    "\n",
    "print(\"Even Numbers Position :\",x1)"
   ]
  },
  {
   "cell_type": "code",
   "execution_count": 40,
   "id": "8b0495a9",
   "metadata": {},
   "outputs": [
    {
     "name": "stdout",
     "output_type": "stream",
     "text": [
      "Odd Numbers : (array([0, 2, 4, 6], dtype=int64),)\n"
     ]
    }
   ],
   "source": [
    "# Finding the element in Odd Indicies\n",
    "\n",
    "a=np.array([1,2,3,4,5,6,7,8,9])\n",
    "\n",
    "# Display the Odd numbers\n",
    "\n",
    "aa=np.where(x%2==1)\n",
    "\n",
    "print(\"Odd Numbers Position :\",aa)"
   ]
  },
  {
   "cell_type": "raw",
   "id": "9db09529",
   "metadata": {},
   "source": [
    "# Search the element and returns the index\n",
    "\n",
    "arr=np.array([67,80,70,77,89,45,77])\n",
    "\n",
    "arr1=np.searchsorted(arr,77)\n",
    "\n",
    "print(arr1)  (Doubt)"
   ]
  },
  {
   "cell_type": "markdown",
   "id": "b076d6f8",
   "metadata": {},
   "source": [
    "# String the array"
   ]
  },
  {
   "cell_type": "code",
   "execution_count": 44,
   "id": "2d663e1d",
   "metadata": {},
   "outputs": [
    {
     "name": "stdout",
     "output_type": "stream",
     "text": [
      "[35 50 65 80 90]\n"
     ]
    }
   ],
   "source": [
    "arr=np.array([50,90,80,65,35])\n",
    "print(np.sort(arr))      # Uing the sort the Array"
   ]
  },
  {
   "cell_type": "code",
   "execution_count": 45,
   "id": "69ea0e1b",
   "metadata": {},
   "outputs": [
    {
     "name": "stdout",
     "output_type": "stream",
     "text": [
      "['Artificial Intellgience' 'Csharp' 'DataScience' 'Machine Learning'\n",
      " 'Python']\n"
     ]
    }
   ],
   "source": [
    "# Strings are sorted Alphabetically\n",
    "\n",
    "a=np.array(['Python','Csharp','DataScience','Machine Learning','Artificial Intellgience'])\n",
    "\n",
    "a1=np.sort(a)\n",
    "\n",
    "print(a1)"
   ]
  },
  {
   "cell_type": "code",
   "execution_count": 46,
   "id": "fc55c5a8",
   "metadata": {},
   "outputs": [
    {
     "name": "stdout",
     "output_type": "stream",
     "text": [
      "[False False  True  True  True]\n"
     ]
    }
   ],
   "source": [
    "# Boolean are sorted false as first\n",
    "\n",
    "arr=np.array([True,False,True,True,False])\n",
    "\n",
    "print(np.sort(arr))"
   ]
  },
  {
   "cell_type": "code",
   "execution_count": 70,
   "id": "f5c6751c",
   "metadata": {},
   "outputs": [
    {
     "name": "stdout",
     "output_type": "stream",
     "text": [
      "[[1 2 3]\n",
      " [5 8 9]]\n"
     ]
    }
   ],
   "source": [
    "# Sort a 2-D Array\n",
    "\n",
    "a=np.array([[1,3,2],[8,9,5]])\n",
    "aa=np.sort(a)\n",
    "print(aa)"
   ]
  },
  {
   "cell_type": "markdown",
   "id": "c00399c3",
   "metadata": {},
   "source": [
    "# LINEAR ALGEBRA"
   ]
  },
  {
   "cell_type": "markdown",
   "id": "56daba8d",
   "metadata": {},
   "source": [
    "# Dot Product of the two Arrays"
   ]
  },
  {
   "cell_type": "code",
   "execution_count": 68,
   "id": "50f1f38d",
   "metadata": {},
   "outputs": [
    {
     "name": "stdout",
     "output_type": "stream",
     "text": [
      "[[27 32]\n",
      " [78 92]]\n"
     ]
    }
   ],
   "source": [
    "x=np.array([[1,2],[4,5]])\n",
    "\n",
    "y=np.array([[7,8],[10,12]])\n",
    "\n",
    "z=np.dot(x,y)\n",
    "\n",
    "print(z)"
   ]
  },
  {
   "cell_type": "code",
   "execution_count": 69,
   "id": "4acc0046",
   "metadata": {},
   "outputs": [
    {
     "name": "stdout",
     "output_type": "stream",
     "text": [
      "Martices : [[19 22]\n",
      " [43 50]]\n"
     ]
    }
   ],
   "source": [
    "x = np.array([[1,2],[3,4]]) \n",
    "y = np.array([[5,6],[7,8]]) \n",
    "\n",
    "z=np.dot(x,y)\n",
    "\n",
    "print(\"Martices :\",z)"
   ]
  },
  {
   "cell_type": "markdown",
   "id": "070c8601",
   "metadata": {},
   "source": [
    "# Dot product of the two vectors"
   ]
  },
  {
   "cell_type": "code",
   "execution_count": 72,
   "id": "21bc6f30",
   "metadata": {},
   "outputs": [
    {
     "data": {
      "text/plain": [
       "70"
      ]
     },
     "execution_count": 72,
     "metadata": {},
     "output_type": "execute_result"
    }
   ],
   "source": [
    "x=np.array([[1,2],[3,4]])\n",
    "y=np.array([[5,6],[7,8]])\n",
    "\n",
    "np.vdot(x,y)"
   ]
  },
  {
   "cell_type": "code",
   "execution_count": 73,
   "id": "add3cd83",
   "metadata": {},
   "outputs": [
    {
     "name": "stdout",
     "output_type": "stream",
     "text": [
      "[[1 2]\n",
      " [3 4]]\n",
      "\n",
      "[[5 6]\n",
      " [7 8]]\n",
      "\n",
      "Inner Product :\n",
      "[[17 23]\n",
      " [39 53]]\n"
     ]
    }
   ],
   "source": [
    "x=np.array([[1,2],[3,4]])\n",
    "print(x)\n",
    "\n",
    "print()\n",
    "\n",
    "y=np.array([[5,6],[7,8]])\n",
    "print(y)\n",
    "\n",
    "print()\n",
    "\n",
    "print('Inner Product :')\n",
    "print(np.inner(x,y))\n"
   ]
  },
  {
   "cell_type": "markdown",
   "id": "e0cf0d62",
   "metadata": {},
   "source": [
    "# Inverse of a matrix"
   ]
  },
  {
   "cell_type": "code",
   "execution_count": 79,
   "id": "65c08f61",
   "metadata": {},
   "outputs": [
    {
     "name": "stdout",
     "output_type": "stream",
     "text": [
      "[[-1.66666667  0.66666667]\n",
      " [ 1.33333333 -0.33333333]]\n"
     ]
    }
   ],
   "source": [
    "x=np.array([[1,2],[4,5]])\n",
    "y=np.linalg.inv(x)\n",
    "\n",
    "print(y)"
   ]
  },
  {
   "cell_type": "markdown",
   "id": "36799473",
   "metadata": {},
   "source": [
    "# Determinant of Matrix"
   ]
  },
  {
   "cell_type": "code",
   "execution_count": 81,
   "id": "9bed6599",
   "metadata": {},
   "outputs": [
    {
     "name": "stdout",
     "output_type": "stream",
     "text": [
      "-3.999999999999999\n"
     ]
    }
   ],
   "source": [
    "# Determinant [[a,b],[c,d]] = 'ad-bc'\n",
    "\n",
    "a=np.array([[1,2],[5,6]])\n",
    "\n",
    "a1=np.linalg.det(a)\n",
    "\n",
    "print(a1)"
   ]
  },
  {
   "cell_type": "code",
   "execution_count": 82,
   "id": "59e7dcba",
   "metadata": {},
   "outputs": [
    {
     "data": {
      "text/plain": [
       "-4"
      ]
     },
     "execution_count": 82,
     "metadata": {},
     "output_type": "execute_result"
    }
   ],
   "source": [
    "round(np.linalg.det(a))"
   ]
  },
  {
   "cell_type": "code",
   "execution_count": 94,
   "id": "ad497d9b",
   "metadata": {},
   "outputs": [
    {
     "name": "stdout",
     "output_type": "stream",
     "text": [
      "6.66133814775094e-16\n"
     ]
    }
   ],
   "source": [
    "b=np.array([[1,2,3],[4,5,6],[7,8,9]])\n",
    "\n",
    "b1=np.linalg.det(b)\n",
    "\n",
    "print(b1)\n"
   ]
  },
  {
   "cell_type": "code",
   "execution_count": 97,
   "id": "4e019f63",
   "metadata": {},
   "outputs": [
    {
     "name": "stdout",
     "output_type": "stream",
     "text": [
      "Round value is : 0\n"
     ]
    }
   ],
   "source": [
    "print(\"Round value is :\",round(np.linalg.det(b)))"
   ]
  },
  {
   "cell_type": "code",
   "execution_count": 89,
   "id": "e2e4e54a",
   "metadata": {},
   "outputs": [
    {
     "name": "stdout",
     "output_type": "stream",
     "text": [
      "6.66133814775094e-16\n",
      "\n",
      "Round value is : 0\n"
     ]
    }
   ],
   "source": [
    "b=np.array([[1,2,3],[4,5,6],[7,8,9]])\n",
    "a=np.linalg.det(b)\n",
    "print(a)\n",
    "\n",
    "print()\n",
    "\n",
    "print(\"Round value is :\",round(np.linalg.det(b)))"
   ]
  },
  {
   "cell_type": "code",
   "execution_count": 98,
   "id": "acfd45f8",
   "metadata": {},
   "outputs": [
    {
     "data": {
      "text/plain": [
       "0"
      ]
     },
     "execution_count": 98,
     "metadata": {},
     "output_type": "execute_result"
    }
   ],
   "source": [
    "round(np.linalg.det(b))   (Doubt)"
   ]
  },
  {
   "cell_type": "markdown",
   "id": "07f0f583",
   "metadata": {},
   "source": [
    "# Solve Linear Equation using NumPy"
   ]
  },
  {
   "cell_type": "code",
   "execution_count": 100,
   "id": "4e2fa5cf",
   "metadata": {},
   "outputs": [
    {
     "data": {
      "text/plain": [
       "array([2., 3.])"
      ]
     },
     "execution_count": 100,
     "metadata": {},
     "output_type": "execute_result"
    }
   ],
   "source": [
    "a=np.array([[3,1],[1,2]])\n",
    "\n",
    "b=np.array([9,8])\n",
    "\n",
    "np.linalg.solve(a,b)"
   ]
  },
  {
   "cell_type": "markdown",
   "id": "5783889c",
   "metadata": {},
   "source": [
    "# Statistical Function"
   ]
  },
  {
   "cell_type": "code",
   "execution_count": 103,
   "id": "eec342a2",
   "metadata": {},
   "outputs": [
    {
     "name": "stdout",
     "output_type": "stream",
     "text": [
      "[[ 1  2  3]\n",
      " [10 23 12]\n",
      " [ 7  8  9]]\n",
      "\n",
      "Lowest value : 1\n",
      "\n",
      "Highest value : 23\n"
     ]
    }
   ],
   "source": [
    "# Finding minimum and max value element in an array\n",
    "\n",
    "a=np.array([[1,2,3],[10,23,12],[7,8,9]])\n",
    "\n",
    "print(a)\n",
    "\n",
    "print()\n",
    "\n",
    "print(\"Lowest value :\",np.amin(a))\n",
    "\n",
    "print()\n",
    "\n",
    "print(\"Highest value :\",np.amax(a))"
   ]
  },
  {
   "cell_type": "code",
   "execution_count": 104,
   "id": "8b17d073",
   "metadata": {},
   "outputs": [
    {
     "name": "stdout",
     "output_type": "stream",
     "text": [
      "25.0\n"
     ]
    }
   ],
   "source": [
    "# Mean-sum of all elements divided by the no of elements\n",
    "\n",
    "a=np.array([10,20,30,40])\n",
    "\n",
    "print(np.mean(a))"
   ]
  },
  {
   "cell_type": "code",
   "execution_count": 105,
   "id": "09076edb",
   "metadata": {},
   "outputs": [
    {
     "name": "stdout",
     "output_type": "stream",
     "text": [
      "20.0\n"
     ]
    }
   ],
   "source": [
    "# Median - Middle element if no of elements are Odds \n",
    "\n",
    "a=np.array([10,20,50])\n",
    "print(np.median(a))"
   ]
  },
  {
   "cell_type": "code",
   "execution_count": 106,
   "id": "4c9b6375",
   "metadata": {},
   "outputs": [
    {
     "name": "stdout",
     "output_type": "stream",
     "text": [
      "25.0\n"
     ]
    }
   ],
   "source": [
    "# Median - Middle element if no of elements are Even\n",
    "\n",
    "a=np.array([10,20,50,30])\n",
    "print(np.median(a))"
   ]
  },
  {
   "cell_type": "code",
   "execution_count": 107,
   "id": "c4672fdd",
   "metadata": {},
   "outputs": [
    {
     "name": "stdout",
     "output_type": "stream",
     "text": [
      "[1 2 3 4 5]\n",
      "\n",
      "Standard Deviation Formula : 1.4142135623730951\n"
     ]
    }
   ],
   "source": [
    "# Standard Deviation Formula - 1.Calculate mean  2.Std Deviation\n",
    "\n",
    "a=np.array([1,2,3,4,5])\n",
    "\n",
    "print(a)\n",
    "\n",
    "print()\n",
    "\n",
    "print(\"Standard Deviation Formula :\",np.std(a))"
   ]
  },
  {
   "cell_type": "code",
   "execution_count": 108,
   "id": "b432ad95",
   "metadata": {},
   "outputs": [
    {
     "name": "stdout",
     "output_type": "stream",
     "text": [
      "[1 2 3]\n",
      "\n",
      "0.6666666666666666\n"
     ]
    }
   ],
   "source": [
    "# Varience Formula\n",
    "\n",
    "a=np.array([1,2,3])\n",
    "print(a)\n",
    "\n",
    "print()\n",
    "\n",
    "print(np.var(a))"
   ]
  },
  {
   "cell_type": "code",
   "execution_count": 110,
   "id": "b9b3d08f",
   "metadata": {},
   "outputs": [
    {
     "name": "stdout",
     "output_type": "stream",
     "text": [
      "[5 6 7]\n",
      "\n",
      "Average value is : 6.0\n"
     ]
    }
   ],
   "source": [
    "# Average - Also same as mean\n",
    "\n",
    "a=np.array([5,6,7])\n",
    "print(a)\n",
    "\n",
    "print()\n",
    "\n",
    "print(\"Average value is :\",np.average(a))"
   ]
  },
  {
   "cell_type": "code",
   "execution_count": 115,
   "id": "998957dd",
   "metadata": {},
   "outputs": [
    {
     "name": "stdout",
     "output_type": "stream",
     "text": [
      "[ 2 10 20 56 34 90 78 98 32]\n",
      "\n",
      "Show a  Percentage value : 34.0\n"
     ]
    }
   ],
   "source": [
    "# Percentile Function :describes the value that a given percent of the values are lower than.\n",
    "\n",
    "a = np.array([2,10,20,56,34,90,78,98,32])  \n",
    "print(a)  \n",
    "\n",
    "print()\n",
    "\n",
    "print(\"Show a  Percentage value :\",np.percentile(a,50))"
   ]
  },
  {
   "cell_type": "code",
   "execution_count": 116,
   "id": "053ca988",
   "metadata": {},
   "outputs": [
    {
     "name": "stdout",
     "output_type": "stream",
     "text": [
      "[14  3  4]\n"
     ]
    }
   ],
   "source": [
    "#Peak-to-Peak Function: determine the range of values along an axis.\n",
    "\n",
    "a = np.array([[20,10,30],[6,7,34]])  \n",
    "print(np.ptp(a,0))"
   ]
  },
  {
   "cell_type": "code",
   "execution_count": null,
   "id": "33ddfd44",
   "metadata": {},
   "outputs": [],
   "source": []
  }
 ],
 "metadata": {
  "kernelspec": {
   "display_name": "Python 3 (ipykernel)",
   "language": "python",
   "name": "python3"
  },
  "language_info": {
   "codemirror_mode": {
    "name": "ipython",
    "version": 3
   },
   "file_extension": ".py",
   "mimetype": "text/x-python",
   "name": "python",
   "nbconvert_exporter": "python",
   "pygments_lexer": "ipython3",
   "version": "3.9.13"
  }
 },
 "nbformat": 4,
 "nbformat_minor": 5
}
