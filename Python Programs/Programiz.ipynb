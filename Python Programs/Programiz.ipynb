{
 "cells": [
  {
   "cell_type": "code",
   "execution_count": 2,
   "id": "6cc5c11f",
   "metadata": {},
   "outputs": [
    {
     "name": "stdout",
     "output_type": "stream",
     "text": [
      "Hello\n",
      "world\n"
     ]
    }
   ],
   "source": [
    "print(\"Hello\")\n",
    "print(\"world\")"
   ]
  },
  {
   "cell_type": "code",
   "execution_count": 3,
   "id": "bf474d5b",
   "metadata": {},
   "outputs": [
    {
     "name": "stdout",
     "output_type": "stream",
     "text": [
      "Hello World\n"
     ]
    }
   ],
   "source": [
    "print(\"Hello\",end=\" \")\n",
    "print(\"World\")"
   ]
  },
  {
   "cell_type": "code",
   "execution_count": 10,
   "id": "95924022",
   "metadata": {},
   "outputs": [
    {
     "name": "stdout",
     "output_type": "stream",
     "text": [
      "H\n",
      "e\n",
      "l\n",
      "l\n",
      "o\n"
     ]
    }
   ],
   "source": [
    "val=\"Hello\"\n",
    "\n",
    "for i in val:\n",
    "    print(i)"
   ]
  },
  {
   "cell_type": "code",
   "execution_count": 16,
   "id": "af37e505",
   "metadata": {},
   "outputs": [
    {
     "name": "stdout",
     "output_type": "stream",
     "text": [
      "Hello\n"
     ]
    }
   ],
   "source": [
    "val1=\"Hello\"\n",
    "\n",
    "for i in val1:\n",
    "    print(val)\n",
    "    break"
   ]
  },
  {
   "cell_type": "code",
   "execution_count": 24,
   "id": "10a7800b",
   "metadata": {},
   "outputs": [
    {
     "name": "stdout",
     "output_type": "stream",
     "text": [
      "2\n",
      "3\n",
      "Addition value : 5\n"
     ]
    }
   ],
   "source": [
    "a=int(input())\n",
    "b=int(input())\n",
    "\n",
    "res=a+b\n",
    "print(\"Addition value :\",int(res))"
   ]
  },
  {
   "cell_type": "code",
   "execution_count": 37,
   "id": "81599e9b",
   "metadata": {},
   "outputs": [
    {
     "name": "stdout",
     "output_type": "stream",
     "text": [
      "4\n",
      "res :2\n"
     ]
    }
   ],
   "source": [
    "import math\n",
    "\n",
    "a=int(input())\n",
    "\n",
    "res=math.sqrt(a)\n",
    "print(f\"res :{int(res)}\")"
   ]
  },
  {
   "cell_type": "code",
   "execution_count": 44,
   "id": "daefecfe",
   "metadata": {},
   "outputs": [
    {
     "name": "stdout",
     "output_type": "stream",
     "text": [
      "5\n",
      "6\n",
      "7\n",
      "result : 14.696938456699069\n"
     ]
    }
   ],
   "source": [
    "# Area of triangle\n",
    "\n",
    "import math\n",
    "\n",
    "a=int(input())\n",
    "b=int(input())\n",
    "c=int(input())\n",
    "\n",
    "s=(a+b+c)/2\n",
    "\n",
    "sq=math.sqrt(s*(s-a)*(s-b)*(s-c))\n",
    "             \n",
    "print(f\"result : {sq}\")"
   ]
  },
  {
   "cell_type": "code",
   "execution_count": 46,
   "id": "cea8b372",
   "metadata": {},
   "outputs": [
    {
     "name": "stdout",
     "output_type": "stream",
     "text": [
      "4.0\n",
      "4.5\n"
     ]
    }
   ],
   "source": [
    "div=(1+7)/2\n",
    "print(div)\n",
    "\n",
    "di=1+7/2\n",
    "print(di)"
   ]
  },
  {
   "cell_type": "code",
   "execution_count": 86,
   "id": "a65c0f3d",
   "metadata": {},
   "outputs": [
    {
     "name": "stdout",
     "output_type": "stream",
     "text": [
      "1\n",
      "5\n",
      "6\n",
      "(-2+0j) (-3+0j)\n"
     ]
    }
   ],
   "source": [
    "# Quartic equation\n",
    "\n",
    "import cmath\n",
    "a=int(input())\n",
    "b=int(input())\n",
    "c=int(input())\n",
    "\n",
    "s=(b**2)-(4*a*c)\n",
    "res1=(-b+(cmath.sqrt(s)))/2*a\n",
    "res2=(-b-(cmath.sqrt(s)))/2*a\n",
    "print(res1,res2)\n"
   ]
  },
  {
   "cell_type": "code",
   "execution_count": 62,
   "id": "17533bbb",
   "metadata": {},
   "outputs": [
    {
     "name": "stdout",
     "output_type": "stream",
     "text": [
      "2\n",
      "5\n",
      "5 2\n"
     ]
    }
   ],
   "source": [
    "a=int(input())\n",
    "b=int(input())\n",
    "\n",
    "temp=a\n",
    "a=b\n",
    "b=temp\n",
    "\n",
    "print(a,b)"
   ]
  },
  {
   "cell_type": "code",
   "execution_count": 64,
   "id": "ffc2b6f6",
   "metadata": {},
   "outputs": [
    {
     "name": "stdout",
     "output_type": "stream",
     "text": [
      "2\n",
      "5\n",
      "After swapping :(5, 2)\n"
     ]
    }
   ],
   "source": [
    "a=int(input())\n",
    "b=int(input())\n",
    "\n",
    "a,b=b,a\n",
    "print(f\"After swapping :{a,b}\")"
   ]
  },
  {
   "cell_type": "code",
   "execution_count": 67,
   "id": "3e93ebab",
   "metadata": {},
   "outputs": [
    {
     "name": "stdout",
     "output_type": "stream",
     "text": [
      "2\n",
      "5\n",
      "Swapping : 5 2\n"
     ]
    }
   ],
   "source": [
    "x=int(input())\n",
    "y=int(input())\n",
    "\n",
    "print()\n",
    "\n",
    "x=x+y\n",
    "y=x-y\n",
    "x=x-y\n",
    "\n",
    "print(\"Swapping :\",x,y)"
   ]
  },
  {
   "cell_type": "code",
   "execution_count": 79,
   "id": "39a914e0",
   "metadata": {},
   "outputs": [
    {
     "name": "stdout",
     "output_type": "stream",
     "text": [
      "73\n"
     ]
    }
   ],
   "source": [
    "import random\n",
    "\n",
    "n=100\n",
    "print(random.randint(0,n))"
   ]
  },
  {
   "cell_type": "code",
   "execution_count": 84,
   "id": "1df0afa1",
   "metadata": {},
   "outputs": [
    {
     "name": "stdout",
     "output_type": "stream",
     "text": [
      "Enter a Kilo-Meter :1\n",
      "1000\n"
     ]
    }
   ],
   "source": [
    "num=int(input(\"Enter a Kilo-Meter :\"))\n",
    "\n",
    "res=num*1000\n",
    "print(res,\"meters\")\n",
    "\n",
    "# res=num//1000\n",
    "# print(res)"
   ]
  },
  {
   "cell_type": "code",
   "execution_count": 22,
   "id": "e7dae736",
   "metadata": {},
   "outputs": [
    {
     "name": "stdout",
     "output_type": "stream",
     "text": [
      "5\n",
      "b a\n"
     ]
    }
   ],
   "source": [
    "str=\"being\"\n",
    "\n",
    "st=\"camel\"\n",
    "\n",
    "len1=len(str)\n",
    "print(len1)\n",
    "\n",
    "for i in range(0,len(str),2):\n",
    "    for j in range(1,len(st),2):\n",
    "        if str[i]==str[0]:\n",
    "            if st[j]==st[1]:\n",
    "                print(str[i],st[j])\n",
    "                if str[i]==str[2]:\n",
    "                    if st[j]==st[3]:\n",
    "                        print(str[i],st[j])\n",
    "\n",
    "        "
   ]
  },
  {
   "cell_type": "code",
   "execution_count": 26,
   "id": "8ef27ece",
   "metadata": {},
   "outputs": [
    {
     "name": "stdout",
     "output_type": "stream",
     "text": [
      "\n",
      "* \n",
      "* * \n",
      "* * * \n",
      "* * * * \n"
     ]
    }
   ],
   "source": [
    "for i in range(5):\n",
    "    for j in range(i):\n",
    "        print(\"*\",end=\" \")\n",
    "    print()\n",
    "    "
   ]
  },
  {
   "cell_type": "code",
   "execution_count": null,
   "id": "0696bed9",
   "metadata": {},
   "outputs": [],
   "source": []
  }
 ],
 "metadata": {
  "kernelspec": {
   "display_name": "Python 3 (ipykernel)",
   "language": "python",
   "name": "python3"
  },
  "language_info": {
   "codemirror_mode": {
    "name": "ipython",
    "version": 3
   },
   "file_extension": ".py",
   "mimetype": "text/x-python",
   "name": "python",
   "nbconvert_exporter": "python",
   "pygments_lexer": "ipython3",
   "version": "3.9.13"
  }
 },
 "nbformat": 4,
 "nbformat_minor": 5
}
