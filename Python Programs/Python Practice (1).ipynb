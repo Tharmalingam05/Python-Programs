{
 "cells": [
  {
   "cell_type": "markdown",
   "id": "89923688",
   "metadata": {},
   "source": [
    "###### Variable"
   ]
  },
  {
   "cell_type": "code",
   "execution_count": 31,
   "id": "eaa47ea0",
   "metadata": {},
   "outputs": [
    {
     "data": {
      "text/plain": [
       "24"
      ]
     },
     "execution_count": 31,
     "metadata": {},
     "output_type": "execute_result"
    }
   ],
   "source": [
    "12+12"
   ]
  },
  {
   "cell_type": "code",
   "execution_count": 2,
   "id": "09601ca7",
   "metadata": {},
   "outputs": [
    {
     "name": "stdout",
     "output_type": "stream",
     "text": [
      "30\n"
     ]
    }
   ],
   "source": [
    "x=10\n",
    "y=20\n",
    "\n",
    "z=x+y\n",
    "print(z)"
   ]
  },
  {
   "cell_type": "code",
   "execution_count": 3,
   "id": "dc3fe163",
   "metadata": {},
   "outputs": [
    {
     "name": "stdout",
     "output_type": "stream",
     "text": [
      "Hello World\n"
     ]
    }
   ],
   "source": [
    "print(\"Hello World\")"
   ]
  },
  {
   "cell_type": "code",
   "execution_count": 16,
   "id": "f252f371",
   "metadata": {},
   "outputs": [],
   "source": [
    "x=10\n",
    "a=\"Cat\""
   ]
  },
  {
   "cell_type": "code",
   "execution_count": 17,
   "id": "a2a73c3c",
   "metadata": {},
   "outputs": [
    {
     "data": {
      "text/plain": [
       "int"
      ]
     },
     "execution_count": 17,
     "metadata": {},
     "output_type": "execute_result"
    }
   ],
   "source": [
    "type(x)"
   ]
  },
  {
   "cell_type": "code",
   "execution_count": 18,
   "id": "0d3284cf",
   "metadata": {},
   "outputs": [
    {
     "data": {
      "text/plain": [
       "str"
      ]
     },
     "execution_count": 18,
     "metadata": {},
     "output_type": "execute_result"
    }
   ],
   "source": [
    "type(a)"
   ]
  },
  {
   "cell_type": "code",
   "execution_count": 20,
   "id": "ef8bc83c",
   "metadata": {},
   "outputs": [
    {
     "data": {
      "text/plain": [
       "float"
      ]
     },
     "execution_count": 20,
     "metadata": {},
     "output_type": "execute_result"
    }
   ],
   "source": [
    "x=10.35\n",
    "type(x)"
   ]
  },
  {
   "cell_type": "code",
   "execution_count": 21,
   "id": "b3931966",
   "metadata": {},
   "outputs": [
    {
     "data": {
      "text/plain": [
       "bool"
      ]
     },
     "execution_count": 21,
     "metadata": {},
     "output_type": "execute_result"
    }
   ],
   "source": [
    "x=True\n",
    "type(x)"
   ]
  },
  {
   "cell_type": "code",
   "execution_count": 22,
   "id": "f1b2ba8f",
   "metadata": {},
   "outputs": [
    {
     "name": "stdout",
     "output_type": "stream",
     "text": [
      "3\n",
      "2\n",
      "5\n"
     ]
    }
   ],
   "source": [
    "x=input()\n",
    "x=int(x)\n",
    "\n",
    "y=input()\n",
    "y=int(y)\n",
    "\n",
    "print(x+y)"
   ]
  },
  {
   "cell_type": "code",
   "execution_count": 23,
   "id": "daead286",
   "metadata": {},
   "outputs": [
    {
     "name": "stdout",
     "output_type": "stream",
     "text": [
      "2\n",
      "3\n",
      "23\n"
     ]
    }
   ],
   "source": [
    "x=input()\n",
    "y=input()\n",
    "\n",
    "print(x+y)"
   ]
  },
  {
   "cell_type": "code",
   "execution_count": 30,
   "id": "4dd3fdd9",
   "metadata": {},
   "outputs": [
    {
     "name": "stdout",
     "output_type": "stream",
     "text": [
      "Enter a Number :2\n",
      "Enter another Number :3\n",
      "Total value is : 5\n"
     ]
    }
   ],
   "source": [
    "x=int(input(\"Enter a Number :\"))\n",
    "y=int(input(\"Enter another Number :\"))\n",
    "\n",
    "print(\"Total value is :\",x+y)"
   ]
  },
  {
   "cell_type": "markdown",
   "id": "b6a7a70f",
   "metadata": {},
   "source": [
    "# Condition Statement Or Decision Making"
   ]
  },
  {
   "cell_type": "code",
   "execution_count": 32,
   "id": "9b9ed7ac",
   "metadata": {},
   "outputs": [
    {
     "name": "stdout",
     "output_type": "stream",
     "text": [
      "Enter a Maths Mark :50\n",
      "Enter a Science Mark :34\n",
      "Enter a English Mark :56\n",
      "Your total Mark is : 140\n",
      "Your Average mark is : 46.666666666666664\n",
      "You're Fail\n"
     ]
    }
   ],
   "source": [
    "mat=int(input(\"Enter a Maths Mark :\"))\n",
    "sci=int(input(\"Enter a Science Mark :\"))\n",
    "eng=int(input(\"Enter a English Mark :\"))\n",
    "\n",
    "tot=mat+sci+eng\n",
    "print(\"Your total Mark is :\",tot)\n",
    "\n",
    "avg=tot/3.0\n",
    "print(\"Your Average mark is :\",avg)\n",
    "\n",
    "if avg>=50:\n",
    "    result=\"Pass\"\n",
    "    \n",
    "else:\n",
    "    result=\"Fail\"\n",
    "    \n",
    "print(\"You're\",result)"
   ]
  },
  {
   "cell_type": "code",
   "execution_count": 34,
   "id": "b6dc41a2",
   "metadata": {},
   "outputs": [
    {
     "name": "stdout",
     "output_type": "stream",
     "text": [
      "Enter a Maths Mark :56\n",
      "Enter a Science Mark :67\n",
      "Enter a English Mark :65\n",
      "Your total Mark is : 188\n",
      "Your Average mark is : 62.666666666666664\n",
      "Results  Pass\n"
     ]
    }
   ],
   "source": [
    "mat=int(input(\"Enter a Maths Mark :\"))\n",
    "sci=int(input(\"Enter a Science Mark :\"))\n",
    "eng=int(input(\"Enter a English Mark :\"))\n",
    "\n",
    "tot=mat+sci+eng\n",
    "print(\"Your total Mark is :\",tot)\n",
    "\n",
    "avg=tot/3.0\n",
    "print(\"Your Average mark is :\",avg)\n",
    "\n",
    "if avg>=50:\n",
    "    result=\"Pass\"\n",
    "    \n",
    "else:\n",
    "    result=\"Fail\"\n",
    "    \n",
    "print(\"Results \",result)"
   ]
  },
  {
   "cell_type": "code",
   "execution_count": null,
   "id": "f47ba830",
   "metadata": {},
   "outputs": [],
   "source": [
    "\"\"\" More than one conditions is called a Compound compound conditions Or Statement \"\"\""
   ]
  },
  {
   "cell_type": "code",
   "execution_count": 44,
   "id": "d9baeb75",
   "metadata": {},
   "outputs": [
    {
     "name": "stdout",
     "output_type": "stream",
     "text": [
      "Enter a Maths Mark :35\n",
      "Enter a Science Mark :56\n",
      "Enter a English Mark :67\n",
      "Your total Mark is : 158\n",
      "Your Average mark is : 52.666666666666664\n",
      "Results  Pass\n"
     ]
    }
   ],
   "source": [
    "math=int(input(\"Enter a Maths Mark :\"))\n",
    "sci=int(input(\"Enter a Science Mark :\"))\n",
    "eng=int(input(\"Enter a English Mark :\"))\n",
    "\n",
    "tot=math+sci+eng\n",
    "print(\"Your total Mark is :\",tot)\n",
    "\n",
    "avg=tot/3.0\n",
    "print(\"Your Average mark is :\",avg)\n",
    "\n",
    "\"\"\" More than one conditions is called a Compound compound conditions Or Statement \"\"\"\n",
    "\n",
    "if (math>=35 and sci>=35 and eng>=35):\n",
    "    result=\"Pass\"\n",
    "    \n",
    "else:\n",
    "    result=\"Fail\"\n",
    "    \n",
    "print(\"Results \",result)"
   ]
  },
  {
   "cell_type": "code",
   "execution_count": 36,
   "id": "f1d85ac6",
   "metadata": {},
   "outputs": [
    {
     "name": "stdout",
     "output_type": "stream",
     "text": [
      "Enter a Maths Mark :90\n",
      "Enter a Science Mark :80\n",
      "Enter a English Mark :100\n",
      "Your total Mark is : 270\n",
      "Your Average mark is : 90.0\n",
      "Results  Pass\n"
     ]
    }
   ],
   "source": [
    "math=int(input(\"Enter a Maths Mark :\"))\n",
    "sci=int(input(\"Enter a Science Mark :\"))\n",
    "eng=int(input(\"Enter a English Mark :\"))\n",
    "\n",
    "tot=math+sci+eng\n",
    "print(\"Your total Mark is :\",tot)\n",
    "\n",
    "avg=tot/3.0\n",
    "print(\"Your Average mark is :\",avg)\n",
    "\n",
    "if (math>=35 and sci>=35 and eng>=35):\n",
    "    result=\"Pass\"\n",
    "    \n",
    "else:\n",
    "    result=\"Fail\"\n",
    "    \n",
    "print(\"Results \",result)"
   ]
  },
  {
   "cell_type": "code",
   "execution_count": 38,
   "id": "142c7ca0",
   "metadata": {},
   "outputs": [
    {
     "name": "stdout",
     "output_type": "stream",
     "text": [
      "Enter a Maths Mark :34\n",
      "Enter a Science Mark :5\n",
      "Enter a English Mark :56\n",
      "Your total Mark is : 95\n",
      "Your Average mark is : 31.666666666666668\n",
      "Results  Fail\n"
     ]
    }
   ],
   "source": [
    "math=int(input(\"Enter a Maths Mark :\"))\n",
    "sci=int(input(\"Enter a Science Mark :\"))\n",
    "eng=int(input(\"Enter a English Mark :\"))\n",
    "\n",
    "tot=math+sci+eng\n",
    "print(\"Your total Mark is :\",tot)\n",
    "\n",
    "avg=tot/3.0\n",
    "print(\"Your Average mark is :\",avg)\n",
    "\n",
    "if (math>=35 and sci>=35 and eng>=35) or avg>=50:\n",
    "    result=\"Pass\"\n",
    "    \n",
    "else:\n",
    "    result=\"Fail\"\n",
    "    \n",
    "print(\"Results \",result)"
   ]
  },
  {
   "cell_type": "code",
   "execution_count": 43,
   "id": "f0e84811",
   "metadata": {},
   "outputs": [
    {
     "name": "stdout",
     "output_type": "stream",
     "text": [
      "Enter a Maths Mark :56\n",
      "Enter a Science Mark :65\n",
      "Enter a English Mark :35\n",
      "Your total Mark is : 156\n",
      "Your Average mark is : 52.0\n",
      "Results  Pass Second Class\n"
     ]
    }
   ],
   "source": [
    "math=int(input(\"Enter a Maths Mark :\"))\n",
    "sci=int(input(\"Enter a Science Mark :\"))\n",
    "eng=int(input(\"Enter a English Mark :\"))\n",
    "\n",
    "tot=math+sci+eng\n",
    "print(\"Your total Mark is :\",tot)\n",
    "\n",
    "avg=tot/3.0\n",
    "print(\"Your Average mark is :\",avg)\n",
    "\n",
    "if (math>=35 and sci>=35 and eng>=35):\n",
    "    result=\"Pass\"\n",
    "    \n",
    "    if avg>=75:\n",
    "        result=result+ \" Destination\"\n",
    "        \n",
    "    elif avg>=60:\n",
    "        result=result+ \" First Class\"\n",
    "        \n",
    "    elif avg>=50:\n",
    "        result=result+ \" Second Class\"\n",
    "        \n",
    "    else:\n",
    "        result=result+\" Third Class\"\n",
    "        \n",
    "else:\n",
    "    result=\"Fail\"\n",
    "    \n",
    "print(\"Results \",result)"
   ]
  },
  {
   "cell_type": "markdown",
   "id": "34004ee8",
   "metadata": {},
   "source": [
    "# Looping Statement"
   ]
  },
  {
   "cell_type": "markdown",
   "id": "0aa3e02e",
   "metadata": {},
   "source": [
    " - Iterative structure is known as looping condition Or Looping Statement\n",
    " \n",
    " - Definite iterative is know as for loop and Indefinite condition iterative is known as a While loop.\n",
    " "
   ]
  },
  {
   "cell_type": "code",
   "execution_count": 45,
   "id": "e8c348c2",
   "metadata": {},
   "outputs": [
    {
     "name": "stdout",
     "output_type": "stream",
     "text": [
      "Hello\n",
      "Hello\n",
      "Hello\n",
      "Hello\n"
     ]
    }
   ],
   "source": [
    "print(\"Hello\")\n",
    "print(\"Hello\")\n",
    "print(\"Hello\")\n",
    "print(\"Hello\")"
   ]
  },
  {
   "cell_type": "code",
   "execution_count": 46,
   "id": "430f1668",
   "metadata": {},
   "outputs": [
    {
     "name": "stdout",
     "output_type": "stream",
     "text": [
      "Hello...\n",
      "Hello...\n",
      "Hello...\n",
      "Hello...\n",
      "Hello...\n"
     ]
    }
   ],
   "source": [
    "for i in range(5):\n",
    "    print(\"Hello...\")"
   ]
  },
  {
   "cell_type": "code",
   "execution_count": 50,
   "id": "48d681da",
   "metadata": {},
   "outputs": [
    {
     "data": {
      "text/plain": [
       "[0, 1, 2, 3, 4]"
      ]
     },
     "execution_count": 50,
     "metadata": {},
     "output_type": "execute_result"
    }
   ],
   "source": [
    "list(range(5))"
   ]
  },
  {
   "cell_type": "code",
   "execution_count": 51,
   "id": "dea7327b",
   "metadata": {},
   "outputs": [
    {
     "name": "stdout",
     "output_type": "stream",
     "text": [
      "<class 'list'>\n"
     ]
    }
   ],
   "source": [
    "list(range(5))\n",
    "print(list)"
   ]
  },
  {
   "cell_type": "code",
   "execution_count": 54,
   "id": "e138970a",
   "metadata": {},
   "outputs": [
    {
     "name": "stdout",
     "output_type": "stream",
     "text": [
      "1 Hii Santhosh\n",
      "2 Hii Santhosh\n",
      "3 Hii Santhosh\n",
      "4 Hii Santhosh\n"
     ]
    }
   ],
   "source": [
    "for i in range(1,5):\n",
    "    print(i,\"Hii Santhosh\")"
   ]
  },
  {
   "cell_type": "code",
   "execution_count": 58,
   "id": "5650c034",
   "metadata": {},
   "outputs": [
    {
     "name": "stdout",
     "output_type": "stream",
     "text": [
      "Odd Numbers : 1\n",
      "Odd Numbers : 3\n",
      "Odd Numbers : 5\n",
      "Odd Numbers : 7\n",
      "Odd Numbers : 9\n"
     ]
    }
   ],
   "source": [
    "for i in range(1,10,2):\n",
    "    print(\"Odd Numbers :\",i)"
   ]
  },
  {
   "cell_type": "code",
   "execution_count": 60,
   "id": "e843731f",
   "metadata": {},
   "outputs": [
    {
     "name": "stdout",
     "output_type": "stream",
     "text": [
      "Odd Numbers :\n",
      "1\n",
      "3\n",
      "5\n",
      "7\n",
      "9\n"
     ]
    }
   ],
   "source": [
    "stat=\"Odd Numbers :\"\n",
    "print(stat)\n",
    "\n",
    "for i in range(1,10,2):\n",
    "    print(i)"
   ]
  },
  {
   "cell_type": "code",
   "execution_count": 68,
   "id": "c6543a7f",
   "metadata": {},
   "outputs": [
    {
     "name": "stdout",
     "output_type": "stream",
     "text": [
      "Reverse Oder Sequence :\n",
      "10\n",
      "9\n",
      "8\n",
      "7\n",
      "6\n",
      "5\n",
      "4\n",
      "3\n",
      "2\n",
      "1\n"
     ]
    }
   ],
   "source": [
    "stat=\"Reverse Oder Sequence :\"\n",
    "print(stat) \n",
    "\n",
    "for i in range(10,0,-1):\n",
    "    print(i)"
   ]
  },
  {
   "cell_type": "code",
   "execution_count": 76,
   "id": "a4b5ff74",
   "metadata": {},
   "outputs": [
    {
     "name": "stdout",
     "output_type": "stream",
     "text": [
      "Multiplication Format :\n",
      "1 x 2 = 2\n",
      "2 x 2 = 4\n",
      "3 x 2 = 6\n",
      "4 x 2 = 8\n",
      "5 x 2 = 10\n",
      "6 x 2 = 12\n",
      "7 x 2 = 14\n",
      "8 x 2 = 16\n",
      "9 x 2 = 18\n",
      "10 x 2 = 20\n"
     ]
    }
   ],
   "source": [
    "prnt=\"Multiplication Format :\"\n",
    "print(prnt)\n",
    "\n",
    "for i in range(1,11):\n",
    "    print(i,\"x\",2,\"=\",(i*2))"
   ]
  },
  {
   "cell_type": "code",
   "execution_count": 74,
   "id": "6204174f",
   "metadata": {},
   "outputs": [
    {
     "name": "stdout",
     "output_type": "stream",
     "text": [
      "1 x 2 = 2\n",
      "2 x 2 = 4\n",
      "3 x 2 = 6\n",
      "4 x 2 = 8\n",
      "5 x 2 = 10\n",
      "6 x 2 = 12\n",
      "7 x 2 = 14\n",
      "8 x 2 = 16\n",
      "9 x 2 = 18\n",
      "10 x 2 = 20\n",
      "11 x 2 = 22\n",
      "12 x 2 = 24\n",
      "13 x 2 = 26\n",
      "14 x 2 = 28\n",
      "15 x 2 = 30\n",
      "16 x 2 = 32\n",
      "17 x 2 = 34\n",
      "18 x 2 = 36\n",
      "19 x 2 = 38\n",
      "20 x 2 = 40\n"
     ]
    }
   ],
   "source": [
    "for i in range(1,21):\n",
    "    print(i,\"x\",2,\"=\",(i*2))"
   ]
  },
  {
   "cell_type": "code",
   "execution_count": 77,
   "id": "4a71dc21",
   "metadata": {},
   "outputs": [
    {
     "name": "stdout",
     "output_type": "stream",
     "text": [
      "1x2=2\n",
      "2x2=4\n",
      "3x2=6\n",
      "4x2=8\n",
      "5x2=10\n",
      "6x2=12\n",
      "7x2=14\n",
      "8x2=16\n",
      "9x2=18\n",
      "10x2=20\n"
     ]
    }
   ],
   "source": [
    "for i in range(1,11):\n",
    "    print(f\"{i}x{2}={i*2}\")"
   ]
  },
  {
   "cell_type": "code",
   "execution_count": 3,
   "id": "fc42034e",
   "metadata": {},
   "outputs": [
    {
     "name": "stdout",
     "output_type": "stream",
     "text": [
      "1x2=2\n",
      "2x2=4\n",
      "3x2=6\n",
      "4x2=8\n",
      "5x2=10\n",
      "6x2=12\n",
      "7x2=14\n",
      "8x2=16\n",
      "9x2=18\n",
      "10x2=20\n",
      "11x2=22\n",
      "12x2=24\n",
      "13x2=26\n",
      "14x2=28\n",
      "15x2=30\n",
      "16x2=32\n",
      "17x2=34\n",
      "18x2=36\n",
      "19x2=38\n",
      "20x2=40\n"
     ]
    }
   ],
   "source": [
    "for i in range(1,21):\n",
    "    print(f\"{i}x{2}={i*2}\")"
   ]
  },
  {
   "cell_type": "markdown",
   "id": "01cd639b",
   "metadata": {},
   "source": [
    "# Factorial "
   ]
  },
  {
   "cell_type": "code",
   "execution_count": 6,
   "id": "6a40802c",
   "metadata": {},
   "outputs": [
    {
     "name": "stdout",
     "output_type": "stream",
     "text": [
      "Enter a Number :5\n",
      "120\n",
      "Factorial of 5 is 120\n"
     ]
    }
   ],
   "source": [
    "n=int(input(\"Enter a Number :\"))\n",
    "\n",
    "fact=1\n",
    "\n",
    "for i in range(1,n+1):\n",
    "    fact=fact*i\n",
    "print(fact)\n",
    "\n",
    "print(f\"Factorial of {i} is {fact}\")"
   ]
  },
  {
   "cell_type": "markdown",
   "id": "bbe936c2",
   "metadata": {},
   "source": [
    "# Prime Or Not Prime"
   ]
  },
  {
   "cell_type": "code",
   "execution_count": 16,
   "id": "756ad5bb",
   "metadata": {},
   "outputs": [
    {
     "name": "stdout",
     "output_type": "stream",
     "text": [
      "Enter a Number :3\n",
      "3  is a prime Number\n"
     ]
    }
   ],
   "source": [
    "n=int(input(\"Enter a Number :\"))\n",
    "\n",
    "for i in range(2,n):\n",
    "    if n%i==0:\n",
    "        print(n,\" is not a prime number\")\n",
    "        break;\n",
    "        \n",
    "    else:\n",
    "        print(n,\" is a prime Number\")\n",
    "        break;\n",
    "        "
   ]
  },
  {
   "cell_type": "code",
   "execution_count": 18,
   "id": "7b7b44f1",
   "metadata": {},
   "outputs": [
    {
     "name": "stdout",
     "output_type": "stream",
     "text": [
      "Enter a Number :4\n",
      "4  is not a prime Number\n"
     ]
    }
   ],
   "source": [
    "n=int(input(\"Enter a Number :\"))\n",
    "\n",
    "for i in range(2,n):\n",
    "    if n%i!=0:\n",
    "        print(n,\" is a prime number\")\n",
    "        break;\n",
    "        \n",
    "    else:\n",
    "        print(n,\" is not a prime Number\")\n",
    "        break;"
   ]
  },
  {
   "cell_type": "markdown",
   "id": "5fc76d00",
   "metadata": {},
   "source": [
    "# While Loop"
   ]
  },
  {
   "cell_type": "code",
   "execution_count": 25,
   "id": "eec15fd4",
   "metadata": {},
   "outputs": [
    {
     "name": "stdout",
     "output_type": "stream",
     "text": [
      "10\n"
     ]
    }
   ],
   "source": [
    "n=10\n",
    "\n",
    "while n<=10:\n",
    "    print(n)\n",
    "    n=n+1\n"
   ]
  },
  {
   "cell_type": "markdown",
   "id": "bc58aa06",
   "metadata": {},
   "source": [
    "# Reverse a Number"
   ]
  },
  {
   "cell_type": "code",
   "execution_count": 2,
   "id": "cce912ab",
   "metadata": {},
   "outputs": [
    {
     "name": "stdout",
     "output_type": "stream",
     "text": [
      "Enter a 3-Digit Number :345\n",
      "543\n"
     ]
    }
   ],
   "source": [
    "n=int(input(\"Enter a 3-Digit Number :\"))\n",
    "\n",
    "reverse=0\n",
    "\n",
    "while n>0:\n",
    "    reverse=(reverse*10)+(n%10)\n",
    "    n=n//10\n",
    "print(reverse)"
   ]
  },
  {
   "cell_type": "code",
   "execution_count": 6,
   "id": "387de1c5",
   "metadata": {},
   "outputs": [
    {
     "name": "stdout",
     "output_type": "stream",
     "text": [
      "Enter a Number :345\n",
      "0\n"
     ]
    }
   ],
   "source": [
    "n=int(input(\"Enter a Number :\"))\n",
    "\n",
    "reverse=0\n",
    "\n",
    "while(n>0):\n",
    "    rem=n%10\n",
    "    result=(reverse*10)+rem\n",
    "    n=n//10\n",
    "print(reverse)"
   ]
  },
  {
   "cell_type": "code",
   "execution_count": 4,
   "id": "7430abbc",
   "metadata": {},
   "outputs": [
    {
     "name": "stdout",
     "output_type": "stream",
     "text": [
      "Enter a Number :17\n",
      "17 52 26 13 40 20 10 5 16 8 4 2 "
     ]
    }
   ],
   "source": [
    "n=int(input(\"Enter a Number :\"))\n",
    "\n",
    "while n>1:\n",
    "    print(n,end=\" \")\n",
    "    \n",
    "    if n%2==0:\n",
    "        n=n//2\n",
    "    else:\n",
    "        n=(n*3)+1"
   ]
  },
  {
   "cell_type": "code",
   "execution_count": 8,
   "id": "140d6eda",
   "metadata": {},
   "outputs": [
    {
     "name": "stdout",
     "output_type": "stream",
     "text": [
      "Enter a number :24\n",
      "24 12 6 3 10 5 16 8 4 2 "
     ]
    }
   ],
   "source": [
    "n=int(input(\"Enter a number :\"))\n",
    "\n",
    "while n>1:\n",
    "    print(n,end=\" \")\n",
    "    \n",
    "    if n%2==0:\n",
    "        n=n//2\n",
    "        \n",
    "    else:\n",
    "        n=(n*3)+1"
   ]
  },
  {
   "cell_type": "markdown",
   "id": "8576dfb4",
   "metadata": {},
   "source": [
    "# List in Python\n"
   ]
  },
  {
   "cell_type": "code",
   "execution_count": 1,
   "id": "5439f9e3",
   "metadata": {},
   "outputs": [
    {
     "name": "stdout",
     "output_type": "stream",
     "text": [
      "[10, 20, 30, 40, 50]\n"
     ]
    }
   ],
   "source": [
    "lst=[10,20,30,40,50]\n",
    "print(lst)"
   ]
  },
  {
   "cell_type": "code",
   "execution_count": 2,
   "id": "d447fbd6",
   "metadata": {},
   "outputs": [
    {
     "data": {
      "text/plain": [
       "10"
      ]
     },
     "execution_count": 2,
     "metadata": {},
     "output_type": "execute_result"
    }
   ],
   "source": [
    "lst[0]"
   ]
  },
  {
   "cell_type": "code",
   "execution_count": 3,
   "id": "01070826",
   "metadata": {},
   "outputs": [
    {
     "data": {
      "text/plain": [
       "50"
      ]
     },
     "execution_count": 3,
     "metadata": {},
     "output_type": "execute_result"
    }
   ],
   "source": [
    "lst[4]"
   ]
  },
  {
   "cell_type": "code",
   "execution_count": 4,
   "id": "ba2b0daf",
   "metadata": {},
   "outputs": [
    {
     "ename": "IndexError",
     "evalue": "list index out of range",
     "output_type": "error",
     "traceback": [
      "\u001b[1;31m---------------------------------------------------------------------------\u001b[0m",
      "\u001b[1;31mIndexError\u001b[0m                                Traceback (most recent call last)",
      "\u001b[1;32m~\\AppData\\Local\\Temp\\ipykernel_7500\\370352303.py\u001b[0m in \u001b[0;36m<module>\u001b[1;34m\u001b[0m\n\u001b[1;32m----> 1\u001b[1;33m \u001b[0mlst\u001b[0m\u001b[1;33m[\u001b[0m\u001b[1;36m5\u001b[0m\u001b[1;33m]\u001b[0m\u001b[1;33m\u001b[0m\u001b[1;33m\u001b[0m\u001b[0m\n\u001b[0m",
      "\u001b[1;31mIndexError\u001b[0m: list index out of range"
     ]
    }
   ],
   "source": [
    "lst[5]"
   ]
  },
  {
   "cell_type": "raw",
   "id": "d8cc5a34",
   "metadata": {},
   "source": [
    "Now changing the list elements..."
   ]
  },
  {
   "cell_type": "code",
   "execution_count": 5,
   "id": "7dff8516",
   "metadata": {},
   "outputs": [
    {
     "name": "stdout",
     "output_type": "stream",
     "text": [
      "[10, 20, 30, 40, 50]\n"
     ]
    }
   ],
   "source": [
    "print(lst)"
   ]
  },
  {
   "cell_type": "code",
   "execution_count": 6,
   "id": "089a8f1a",
   "metadata": {},
   "outputs": [
    {
     "name": "stdout",
     "output_type": "stream",
     "text": [
      "[90, 20, 30, 40, 50]\n"
     ]
    }
   ],
   "source": [
    "lst[0]=90\n",
    "print(lst)\n",
    "\n",
    "# Value has been changed"
   ]
  },
  {
   "cell_type": "code",
   "execution_count": 7,
   "id": "1a5a002c",
   "metadata": {},
   "outputs": [
    {
     "data": {
      "text/plain": [
       "50"
      ]
     },
     "execution_count": 7,
     "metadata": {},
     "output_type": "execute_result"
    }
   ],
   "source": [
    "lst[-1]"
   ]
  },
  {
   "cell_type": "code",
   "execution_count": 8,
   "id": "2bca7c74",
   "metadata": {},
   "outputs": [
    {
     "data": {
      "text/plain": [
       "40"
      ]
     },
     "execution_count": 8,
     "metadata": {},
     "output_type": "execute_result"
    }
   ],
   "source": [
    "lst[-2]"
   ]
  },
  {
   "cell_type": "code",
   "execution_count": 9,
   "id": "6cdcb965",
   "metadata": {},
   "outputs": [
    {
     "name": "stdout",
     "output_type": "stream",
     "text": [
      "90\n",
      "20\n",
      "30\n",
      "40\n",
      "50\n"
     ]
    }
   ],
   "source": [
    "for i in lst:\n",
    "    print(i)"
   ]
  },
  {
   "cell_type": "code",
   "execution_count": 10,
   "id": "3d2bcb1c",
   "metadata": {},
   "outputs": [
    {
     "name": "stdout",
     "output_type": "stream",
     "text": [
      "92\n",
      "22\n",
      "32\n",
      "42\n",
      "52\n"
     ]
    }
   ],
   "source": [
    "for i in lst:\n",
    "    i=i+2          # Value has been changed\n",
    "    print(i)"
   ]
  },
  {
   "cell_type": "code",
   "execution_count": 11,
   "id": "cf67b9ff",
   "metadata": {},
   "outputs": [
    {
     "name": "stdout",
     "output_type": "stream",
     "text": [
      "[90, 20, 30, 40, 50]\n"
     ]
    }
   ],
   "source": [
    "print(lst)"
   ]
  },
  {
   "cell_type": "code",
   "execution_count": 27,
   "id": "80d09b33",
   "metadata": {},
   "outputs": [
    {
     "name": "stdout",
     "output_type": "stream",
     "text": [
      "0\n",
      "1\n",
      "2\n",
      "3\n",
      "4\n"
     ]
    }
   ],
   "source": [
    "# for i in range(len(lst)):\n",
    "#     print(i)"
   ]
  },
  {
   "cell_type": "code",
   "execution_count": 28,
   "id": "a2e3b39b",
   "metadata": {},
   "outputs": [
    {
     "ename": "TypeError",
     "evalue": "'list' object is not callable",
     "output_type": "error",
     "traceback": [
      "\u001b[1;31m---------------------------------------------------------------------------\u001b[0m",
      "\u001b[1;31mTypeError\u001b[0m                                 Traceback (most recent call last)",
      "\u001b[1;32m~\\AppData\\Local\\Temp\\ipykernel_3748\\416402533.py\u001b[0m in \u001b[0;36m<module>\u001b[1;34m\u001b[0m\n\u001b[0;32m      1\u001b[0m \u001b[1;32mfor\u001b[0m \u001b[0mi\u001b[0m \u001b[1;32min\u001b[0m \u001b[0mrange\u001b[0m\u001b[1;33m(\u001b[0m\u001b[0mlen\u001b[0m\u001b[1;33m(\u001b[0m\u001b[0mlst\u001b[0m\u001b[1;33m)\u001b[0m\u001b[1;33m)\u001b[0m\u001b[1;33m:\u001b[0m\u001b[1;33m\u001b[0m\u001b[1;33m\u001b[0m\u001b[0m\n\u001b[1;32m----> 2\u001b[1;33m     \u001b[0mprint\u001b[0m\u001b[1;33m(\u001b[0m\u001b[0mlst\u001b[0m\u001b[1;33m(\u001b[0m\u001b[0mi\u001b[0m\u001b[1;33m)\u001b[0m\u001b[1;33m)\u001b[0m\u001b[1;33m\u001b[0m\u001b[1;33m\u001b[0m\u001b[0m\n\u001b[0m",
      "\u001b[1;31mTypeError\u001b[0m: 'list' object is not callable"
     ]
    }
   ],
   "source": [
    "# for i in range(len(lst)):\n",
    "#     print(lst(i))"
   ]
  },
  {
   "cell_type": "code",
   "execution_count": 12,
   "id": "219a3e28",
   "metadata": {},
   "outputs": [
    {
     "name": "stdout",
     "output_type": "stream",
     "text": [
      "90\n",
      "20\n",
      "30\n",
      "40\n",
      "50\n"
     ]
    }
   ],
   "source": [
    "for i in range(len(lst)):\n",
    "    lst[i]=lst[i]\n",
    "    print(lst[i])"
   ]
  },
  {
   "cell_type": "code",
   "execution_count": 13,
   "id": "6cb6d781",
   "metadata": {},
   "outputs": [
    {
     "name": "stdout",
     "output_type": "stream",
     "text": [
      "93\n",
      "23\n",
      "33\n",
      "43\n",
      "53\n"
     ]
    }
   ],
   "source": [
    "# Now,value has been changed\n",
    "\n",
    "for i in range(len(lst)):\n",
    "    lst[i]=lst[i]+3       # Three value has been added\n",
    "    print(lst[i])"
   ]
  },
  {
   "cell_type": "code",
   "execution_count": 14,
   "id": "20d8ddcb",
   "metadata": {},
   "outputs": [
    {
     "name": "stdout",
     "output_type": "stream",
     "text": [
      "[93, 23, 33, 43, 53]\n"
     ]
    }
   ],
   "source": [
    "print(lst)"
   ]
  },
  {
   "cell_type": "code",
   "execution_count": 15,
   "id": "726ea98f",
   "metadata": {},
   "outputs": [
    {
     "name": "stdout",
     "output_type": "stream",
     "text": [
      "[93, 23, 33, 43, 53, 100]\n"
     ]
    }
   ],
   "source": [
    "lst.append(100)\n",
    "print(lst)       # Value has been added at the end..."
   ]
  },
  {
   "cell_type": "code",
   "execution_count": 16,
   "id": "fbcf1f5b",
   "metadata": {},
   "outputs": [
    {
     "ename": "TypeError",
     "evalue": "list.append() takes exactly one argument (3 given)",
     "output_type": "error",
     "traceback": [
      "\u001b[1;31m---------------------------------------------------------------------------\u001b[0m",
      "\u001b[1;31mTypeError\u001b[0m                                 Traceback (most recent call last)",
      "\u001b[1;32m~\\AppData\\Local\\Temp\\ipykernel_7500\\3962476800.py\u001b[0m in \u001b[0;36m<module>\u001b[1;34m\u001b[0m\n\u001b[1;32m----> 1\u001b[1;33m \u001b[0mlst\u001b[0m\u001b[1;33m.\u001b[0m\u001b[0mappend\u001b[0m\u001b[1;33m(\u001b[0m\u001b[1;36m10\u001b[0m\u001b[1;33m,\u001b[0m\u001b[1;36m11\u001b[0m\u001b[1;33m,\u001b[0m\u001b[1;36m12\u001b[0m\u001b[1;33m)\u001b[0m  \u001b[1;31m# You will give the one more arguments...It will through a Error.\u001b[0m\u001b[1;33m\u001b[0m\u001b[1;33m\u001b[0m\u001b[0m\n\u001b[0m\u001b[0;32m      2\u001b[0m \u001b[0mprint\u001b[0m\u001b[1;33m(\u001b[0m\u001b[0mlst\u001b[0m\u001b[1;33m)\u001b[0m\u001b[1;33m\u001b[0m\u001b[1;33m\u001b[0m\u001b[0m\n",
      "\u001b[1;31mTypeError\u001b[0m: list.append() takes exactly one argument (3 given)"
     ]
    }
   ],
   "source": [
    "lst.append(10,11,12)  # You will give the one more arguments...It will through a Error.\n",
    "print(lst) "
   ]
  },
  {
   "cell_type": "code",
   "execution_count": 17,
   "id": "a1c09506",
   "metadata": {},
   "outputs": [
    {
     "name": "stdout",
     "output_type": "stream",
     "text": [
      "[93, 23, 33, 43, 53, 100, 15, 40, 90]\n"
     ]
    }
   ],
   "source": [
    "# Another extend() method\n",
    "\n",
    "nlst=[15,40,90]\n",
    "lst.extend(nlst)    # We have to use (extend()) to add a one more arguments in a list.\n",
    "print(lst)"
   ]
  },
  {
   "cell_type": "code",
   "execution_count": 18,
   "id": "db51b54f",
   "metadata": {},
   "outputs": [
    {
     "ename": "TypeError",
     "evalue": "insert expected 2 arguments, got 3",
     "output_type": "error",
     "traceback": [
      "\u001b[1;31m---------------------------------------------------------------------------\u001b[0m",
      "\u001b[1;31mTypeError\u001b[0m                                 Traceback (most recent call last)",
      "\u001b[1;32m~\\AppData\\Local\\Temp\\ipykernel_7500\\1727214721.py\u001b[0m in \u001b[0;36m<module>\u001b[1;34m\u001b[0m\n\u001b[0;32m      1\u001b[0m \u001b[1;31m# insert() method\u001b[0m\u001b[1;33m\u001b[0m\u001b[1;33m\u001b[0m\u001b[0m\n\u001b[0;32m      2\u001b[0m \u001b[1;33m\u001b[0m\u001b[0m\n\u001b[1;32m----> 3\u001b[1;33m \u001b[0mlst\u001b[0m\u001b[1;33m.\u001b[0m\u001b[0minsert\u001b[0m\u001b[1;33m(\u001b[0m\u001b[1;36m2\u001b[0m\u001b[1;33m,\u001b[0m\u001b[1;36m67\u001b[0m\u001b[1;33m,\u001b[0m\u001b[1;36m5\u001b[0m\u001b[1;33m)\u001b[0m  \u001b[1;31m# It have only two arguments. Otherwise it throuh a error.\u001b[0m\u001b[1;33m\u001b[0m\u001b[1;33m\u001b[0m\u001b[0m\n\u001b[0m",
      "\u001b[1;31mTypeError\u001b[0m: insert expected 2 arguments, got 3"
     ]
    }
   ],
   "source": [
    "# insert() method\n",
    "\n",
    "lst.insert(2,67,5)  # It have only two arguments. Otherwise it throuh a error."
   ]
  },
  {
   "cell_type": "code",
   "execution_count": 19,
   "id": "33a8c917",
   "metadata": {},
   "outputs": [
    {
     "name": "stdout",
     "output_type": "stream",
     "text": [
      "[93, 23, 33, 43, 53, 100, 15, 40, 90]\n",
      "[93, 23, 67, 33, 43, 53, 100, 15, 40, 90]\n"
     ]
    }
   ],
   "source": [
    "print(lst)\n",
    "\n",
    "lst.insert(2,67)\n",
    "print(lst)"
   ]
  },
  {
   "cell_type": "markdown",
   "id": "67918be9",
   "metadata": {},
   "source": [
    "# We have to remove elements"
   ]
  },
  {
   "cell_type": "code",
   "execution_count": 9,
   "id": "994e52e3",
   "metadata": {},
   "outputs": [
    {
     "name": "stdout",
     "output_type": "stream",
     "text": [
      "[93, 23, 67, 33, 43, 53, 100, 15, 40, 90]\n"
     ]
    }
   ],
   "source": [
    "lst1=[93, 23, 67, 33, 43, 53, 100, 15, 40, 90]\n",
    "print(lst1)"
   ]
  },
  {
   "cell_type": "code",
   "execution_count": 10,
   "id": "7ffe502d",
   "metadata": {},
   "outputs": [
    {
     "name": "stdout",
     "output_type": "stream",
     "text": [
      "[93, 23, 67, 33, 43, 53, 100, 15, 40]\n"
     ]
    }
   ],
   "source": [
    "lst1.pop()           # Now we have to remove last elements....\n",
    "print(lst1)"
   ]
  },
  {
   "cell_type": "code",
   "execution_count": 11,
   "id": "1f5bfabe",
   "metadata": {},
   "outputs": [
    {
     "name": "stdout",
     "output_type": "stream",
     "text": [
      "[93, 23, 67, 43, 53, 100, 15, 40]\n"
     ]
    }
   ],
   "source": [
    "lst1.pop(3)         # We have to remove 3 index value (using index value to remove elements....)\n",
    "print(lst1)"
   ]
  },
  {
   "cell_type": "code",
   "execution_count": 13,
   "id": "cf19a9c3",
   "metadata": {},
   "outputs": [
    {
     "name": "stdout",
     "output_type": "stream",
     "text": [
      "[93, 67, 43, 53, 100, 15, 40]\n"
     ]
    }
   ],
   "source": [
    "lst1.remove(23)     # We have to remove elmenents (Using elemensts.....)\n",
    "print(lst1)         # We have to remove 23 element....."
   ]
  },
  {
   "cell_type": "markdown",
   "id": "b3aae591",
   "metadata": {},
   "source": [
    "# We have to count elements...."
   ]
  },
  {
   "cell_type": "code",
   "execution_count": 15,
   "id": "3270e88f",
   "metadata": {},
   "outputs": [
    {
     "name": "stdout",
     "output_type": "stream",
     "text": [
      "[12, 34, 21, 12, 3, 4, 5, 3, 64, 3, 2, 3, 3, 3, 3, 3, 3, 3]\n"
     ]
    }
   ],
   "source": [
    "x=[12,34,21,12,3,4,5,3,64,3,2,3,3,3,3,3,3,3]\n",
    "print(x)"
   ]
  },
  {
   "cell_type": "code",
   "execution_count": 16,
   "id": "cc5a8f02",
   "metadata": {},
   "outputs": [
    {
     "data": {
      "text/plain": [
       "2"
      ]
     },
     "execution_count": 16,
     "metadata": {},
     "output_type": "execute_result"
    }
   ],
   "source": [
    "# We have to count elements.\n",
    "x.count(12)"
   ]
  },
  {
   "cell_type": "code",
   "execution_count": 17,
   "id": "11a2a88c",
   "metadata": {},
   "outputs": [
    {
     "data": {
      "text/plain": [
       "10"
      ]
     },
     "execution_count": 17,
     "metadata": {},
     "output_type": "execute_result"
    }
   ],
   "source": [
    "x.count(3)"
   ]
  },
  {
   "cell_type": "code",
   "execution_count": 18,
   "id": "3a4bbc8d",
   "metadata": {},
   "outputs": [
    {
     "name": "stdout",
     "output_type": "stream",
     "text": [
      "[12, 34, 21, 12, 4, 5, 64, 2, 3, 3, 3, 3, 3, 3, 3]\n"
     ]
    }
   ],
   "source": [
    "for i in range(3):   # We have to iterate 3 times and remove a element (3).And other elements to be printed.\n",
    "    x.remove(3)\n",
    "print(x)"
   ]
  },
  {
   "cell_type": "code",
   "execution_count": 19,
   "id": "7a4c8418",
   "metadata": {},
   "outputs": [
    {
     "name": "stdout",
     "output_type": "stream",
     "text": [
      "[12, 34, 21, 12, 4, 5, 64, 2, 3, 3, 3, 3, 3, 3]\n",
      "[12, 34, 21, 12, 4, 5, 64, 2, 3, 3, 3, 3, 3]\n",
      "[12, 34, 21, 12, 4, 5, 64, 2, 3, 3, 3, 3]\n",
      "[12, 34, 21, 12, 4, 5, 64, 2, 3, 3, 3]\n",
      "[12, 34, 21, 12, 4, 5, 64, 2, 3, 3]\n",
      "[12, 34, 21, 12, 4, 5, 64, 2, 3]\n",
      "[12, 34, 21, 12, 4, 5, 64, 2]\n"
     ]
    },
    {
     "ename": "ValueError",
     "evalue": "list.remove(x): x not in list",
     "output_type": "error",
     "traceback": [
      "\u001b[1;31m---------------------------------------------------------------------------\u001b[0m",
      "\u001b[1;31mValueError\u001b[0m                                Traceback (most recent call last)",
      "\u001b[1;32m~\\AppData\\Local\\Temp\\ipykernel_8676\\3411195553.py\u001b[0m in \u001b[0;36m<module>\u001b[1;34m\u001b[0m\n\u001b[0;32m      1\u001b[0m \u001b[1;32mfor\u001b[0m \u001b[0mi\u001b[0m \u001b[1;32min\u001b[0m \u001b[0mrange\u001b[0m\u001b[1;33m(\u001b[0m\u001b[1;36m15\u001b[0m\u001b[1;33m)\u001b[0m\u001b[1;33m:\u001b[0m\u001b[1;33m\u001b[0m\u001b[1;33m\u001b[0m\u001b[0m\n\u001b[1;32m----> 2\u001b[1;33m     \u001b[0mx\u001b[0m\u001b[1;33m.\u001b[0m\u001b[0mremove\u001b[0m\u001b[1;33m(\u001b[0m\u001b[1;36m3\u001b[0m\u001b[1;33m)\u001b[0m\u001b[1;33m\u001b[0m\u001b[1;33m\u001b[0m\u001b[0m\n\u001b[0m\u001b[0;32m      3\u001b[0m     \u001b[0mprint\u001b[0m\u001b[1;33m(\u001b[0m\u001b[0mx\u001b[0m\u001b[1;33m)\u001b[0m\u001b[1;33m\u001b[0m\u001b[1;33m\u001b[0m\u001b[0m\n",
      "\u001b[1;31mValueError\u001b[0m: list.remove(x): x not in list"
     ]
    }
   ],
   "source": [
    "for i in range(15):\n",
    "    x.remove(3)\n",
    "    print(x)"
   ]
  },
  {
   "cell_type": "code",
   "execution_count": 20,
   "id": "5550bdf1",
   "metadata": {},
   "outputs": [
    {
     "ename": "ValueError",
     "evalue": "list.remove(x): x not in list",
     "output_type": "error",
     "traceback": [
      "\u001b[1;31m---------------------------------------------------------------------------\u001b[0m",
      "\u001b[1;31mValueError\u001b[0m                                Traceback (most recent call last)",
      "\u001b[1;32m~\\AppData\\Local\\Temp\\ipykernel_8676\\1813945750.py\u001b[0m in \u001b[0;36m<module>\u001b[1;34m\u001b[0m\n\u001b[0;32m      1\u001b[0m \u001b[1;32mfor\u001b[0m \u001b[0mi\u001b[0m \u001b[1;32min\u001b[0m \u001b[0mrange\u001b[0m\u001b[1;33m(\u001b[0m\u001b[1;36m10\u001b[0m\u001b[1;33m)\u001b[0m\u001b[1;33m:\u001b[0m\u001b[1;33m\u001b[0m\u001b[1;33m\u001b[0m\u001b[0m\n\u001b[1;32m----> 2\u001b[1;33m     \u001b[0mx\u001b[0m\u001b[1;33m.\u001b[0m\u001b[0mremove\u001b[0m\u001b[1;33m(\u001b[0m\u001b[1;36m3\u001b[0m\u001b[1;33m)\u001b[0m\u001b[1;33m\u001b[0m\u001b[1;33m\u001b[0m\u001b[0m\n\u001b[0m\u001b[0;32m      3\u001b[0m \u001b[0mprint\u001b[0m\u001b[1;33m(\u001b[0m\u001b[0mx\u001b[0m\u001b[1;33m)\u001b[0m\u001b[1;33m\u001b[0m\u001b[1;33m\u001b[0m\u001b[0m\n",
      "\u001b[1;31mValueError\u001b[0m: list.remove(x): x not in list"
     ]
    }
   ],
   "source": [
    "for i in range(10):\n",
    "    x.remove(3)\n",
    "print(x)"
   ]
  },
  {
   "cell_type": "code",
   "execution_count": 21,
   "id": "6c54f905",
   "metadata": {},
   "outputs": [
    {
     "name": "stdout",
     "output_type": "stream",
     "text": [
      "[12, 34, 21, 12, 4, 5, 64, 2]\n"
     ]
    }
   ],
   "source": [
    "# We have to find element index value.\n",
    "\n",
    "print(x)"
   ]
  },
  {
   "cell_type": "code",
   "execution_count": 22,
   "id": "28cc13ad",
   "metadata": {},
   "outputs": [
    {
     "data": {
      "text/plain": [
       "0"
      ]
     },
     "execution_count": 22,
     "metadata": {},
     "output_type": "execute_result"
    }
   ],
   "source": [
    "x.index(12)"
   ]
  },
  {
   "cell_type": "code",
   "execution_count": 24,
   "id": "2e98fc45",
   "metadata": {},
   "outputs": [
    {
     "data": {
      "text/plain": [
       "3"
      ]
     },
     "execution_count": 24,
     "metadata": {},
     "output_type": "execute_result"
    }
   ],
   "source": [
    "x.index(12,1)"
   ]
  },
  {
   "cell_type": "code",
   "execution_count": 26,
   "id": "c50f1033",
   "metadata": {},
   "outputs": [
    {
     "name": "stdout",
     "output_type": "stream",
     "text": [
      "[12, 34, 21, 12, 4, 5, 64, 2, 47]\n"
     ]
    }
   ],
   "source": [
    "x.append(47)\n",
    "print(x)"
   ]
  },
  {
   "cell_type": "code",
   "execution_count": 27,
   "id": "03c608be",
   "metadata": {},
   "outputs": [
    {
     "data": {
      "text/plain": [
       "8"
      ]
     },
     "execution_count": 27,
     "metadata": {},
     "output_type": "execute_result"
    }
   ],
   "source": [
    "x.index(47,5)"
   ]
  },
  {
   "cell_type": "raw",
   "id": "44e375fc",
   "metadata": {},
   "source": [
    "x=[12,47, 34, 21,47, 12, 4, 5, 64, 2, 47]"
   ]
  },
  {
   "cell_type": "markdown",
   "id": "7c734e92",
   "metadata": {},
   "source": [
    "x.index(47,2,7)"
   ]
  },
  {
   "cell_type": "code",
   "execution_count": 34,
   "id": "3b4351ca",
   "metadata": {},
   "outputs": [
    {
     "ename": "ValueError",
     "evalue": "99 is not in list",
     "output_type": "error",
     "traceback": [
      "\u001b[1;31m---------------------------------------------------------------------------\u001b[0m",
      "\u001b[1;31mValueError\u001b[0m                                Traceback (most recent call last)",
      "\u001b[1;32m~\\AppData\\Local\\Temp\\ipykernel_8676\\1966131754.py\u001b[0m in \u001b[0;36m<module>\u001b[1;34m\u001b[0m\n\u001b[1;32m----> 1\u001b[1;33m \u001b[0mx\u001b[0m\u001b[1;33m.\u001b[0m\u001b[0mindex\u001b[0m\u001b[1;33m(\u001b[0m\u001b[1;36m99\u001b[0m\u001b[1;33m)\u001b[0m\u001b[1;33m\u001b[0m\u001b[1;33m\u001b[0m\u001b[0m\n\u001b[0m",
      "\u001b[1;31mValueError\u001b[0m: 99 is not in list"
     ]
    }
   ],
   "source": [
    "x.index(99)"
   ]
  },
  {
   "cell_type": "markdown",
   "id": "59d7f3e3",
   "metadata": {},
   "source": [
    "# Sorting"
   ]
  },
  {
   "cell_type": "code",
   "execution_count": 45,
   "id": "b5c6bba0",
   "metadata": {},
   "outputs": [
    {
     "name": "stdout",
     "output_type": "stream",
     "text": [
      "[1, 2, 3, 3, 4, 5, 6, 8, 9, 10, 15]\n"
     ]
    }
   ],
   "source": [
    "y=[1,3,4,5,3,2,6,8,9,10,15]\n",
    "\n",
    "y.sort()\n",
    "print(y)"
   ]
  },
  {
   "cell_type": "code",
   "execution_count": 41,
   "id": "5bd5926c",
   "metadata": {},
   "outputs": [
    {
     "data": {
      "text/plain": [
       "[15, 10, 9, 8, 6, 5, 4, 3, 3, 2, 1]"
      ]
     },
     "execution_count": 41,
     "metadata": {},
     "output_type": "execute_result"
    }
   ],
   "source": [
    "y.reverse()\n",
    "y"
   ]
  },
  {
   "cell_type": "code",
   "execution_count": 46,
   "id": "22cdca88",
   "metadata": {},
   "outputs": [
    {
     "name": "stdout",
     "output_type": "stream",
     "text": [
      "[13, 23, 45, 56, 23, 12, 10, 1, 11]\n"
     ]
    }
   ],
   "source": [
    "x=[13,23,45,56,23,12,10,1,11]\n",
    "print(x)"
   ]
  },
  {
   "cell_type": "code",
   "execution_count": 48,
   "id": "9c06eb5e",
   "metadata": {},
   "outputs": [
    {
     "data": {
      "text/plain": [
       "[1, 10, 11, 12, 13, 23, 23, 45, 56]"
      ]
     },
     "execution_count": 48,
     "metadata": {},
     "output_type": "execute_result"
    }
   ],
   "source": [
    "x.sort()\n",
    "x"
   ]
  },
  {
   "cell_type": "code",
   "execution_count": 50,
   "id": "f36aa297",
   "metadata": {},
   "outputs": [
    {
     "name": "stdout",
     "output_type": "stream",
     "text": [
      "[56, 45, 23, 23, 13, 12, 11, 10, 1]\n"
     ]
    }
   ],
   "source": [
    "x.sort(reverse=True)\n",
    "print(x)"
   ]
  },
  {
   "cell_type": "code",
   "execution_count": 51,
   "id": "30c6a056",
   "metadata": {},
   "outputs": [
    {
     "name": "stdout",
     "output_type": "stream",
     "text": [
      "['__add__', '__class__', '__class_getitem__', '__contains__', '__delattr__', '__delitem__', '__dir__', '__doc__', '__eq__', '__format__', '__ge__', '__getattribute__', '__getitem__', '__gt__', '__hash__', '__iadd__', '__imul__', '__init__', '__init_subclass__', '__iter__', '__le__', '__len__', '__lt__', '__mul__', '__ne__', '__new__', '__reduce__', '__reduce_ex__', '__repr__', '__reversed__', '__rmul__', '__setattr__', '__setitem__', '__sizeof__', '__str__', '__subclasshook__', 'append', 'clear', 'copy', 'count', 'extend', 'index', 'insert', 'pop', 'remove', 'reverse', 'sort']\n"
     ]
    }
   ],
   "source": [
    "print(dir(x))"
   ]
  },
  {
   "cell_type": "code",
   "execution_count": 52,
   "id": "70273960",
   "metadata": {},
   "outputs": [
    {
     "name": "stdout",
     "output_type": "stream",
     "text": [
      "[56, 45, 23, 23, 13, 12, 11, 10, 1, 13, 15]\n"
     ]
    }
   ],
   "source": [
    "x.append(13)\n",
    "x.append(15)\n",
    "print(x)\n"
   ]
  },
  {
   "cell_type": "code",
   "execution_count": 55,
   "id": "d1143cac",
   "metadata": {},
   "outputs": [
    {
     "name": "stdout",
     "output_type": "stream",
     "text": [
      "[56, 45, 23, 23, 13, 12, 11, 10, 1, 13, 15]\n"
     ]
    }
   ],
   "source": [
    "y=x\n",
    "print(y)"
   ]
  },
  {
   "cell_type": "code",
   "execution_count": 56,
   "id": "e21f94a7",
   "metadata": {},
   "outputs": [
    {
     "name": "stdout",
     "output_type": "stream",
     "text": [
      "[56, 45, 23, 23, 13, 12, 11, 10, 1, 13, 15]\n"
     ]
    }
   ],
   "source": [
    "z=x.copy()\n",
    "print(z)"
   ]
  },
  {
   "cell_type": "code",
   "execution_count": 58,
   "id": "7cd422a3",
   "metadata": {},
   "outputs": [
    {
     "name": "stdout",
     "output_type": "stream",
     "text": [
      "[90, 45, 23, 23, 13, 12, 11, 10, 1, 13, 15]\n"
     ]
    }
   ],
   "source": [
    "z[0]=90       # We have to change values.\n",
    "print(z)"
   ]
  },
  {
   "cell_type": "code",
   "execution_count": 59,
   "id": "f4ac4590",
   "metadata": {},
   "outputs": [],
   "source": [
    "del x"
   ]
  },
  {
   "cell_type": "code",
   "execution_count": 62,
   "id": "db457a10",
   "metadata": {},
   "outputs": [
    {
     "ename": "NameError",
     "evalue": "name 'x' is not defined",
     "output_type": "error",
     "traceback": [
      "\u001b[1;31m---------------------------------------------------------------------------\u001b[0m",
      "\u001b[1;31mNameError\u001b[0m                                 Traceback (most recent call last)",
      "\u001b[1;32m~\\AppData\\Local\\Temp\\ipykernel_8676\\1353120783.py\u001b[0m in \u001b[0;36m<module>\u001b[1;34m\u001b[0m\n\u001b[1;32m----> 1\u001b[1;33m \u001b[0mprint\u001b[0m\u001b[1;33m(\u001b[0m\u001b[0mx\u001b[0m\u001b[1;33m)\u001b[0m\u001b[1;33m\u001b[0m\u001b[1;33m\u001b[0m\u001b[0m\n\u001b[0m",
      "\u001b[1;31mNameError\u001b[0m: name 'x' is not defined"
     ]
    }
   ],
   "source": [
    "print(x)  # Becuase we have already delete."
   ]
  },
  {
   "cell_type": "code",
   "execution_count": 63,
   "id": "df115f4f",
   "metadata": {},
   "outputs": [
    {
     "name": "stdout",
     "output_type": "stream",
     "text": [
      "[1, 2, 3, 4, 65, 3, 12, 11, 78]\n"
     ]
    }
   ],
   "source": [
    "lst=[1,2,3,4,65,3,12,11,78]\n",
    "print(lst)"
   ]
  },
  {
   "cell_type": "code",
   "execution_count": 66,
   "id": "fd22cbdf",
   "metadata": {},
   "outputs": [
    {
     "name": "stdout",
     "output_type": "stream",
     "text": [
      "[1, 2, 3, 3, 12, 11, 78]\n"
     ]
    }
   ],
   "source": [
    "del lst[3]      # We have to delete  3 rd index elements.\n",
    "print(lst)"
   ]
  },
  {
   "cell_type": "code",
   "execution_count": 1,
   "id": "fe885587",
   "metadata": {},
   "outputs": [
    {
     "name": "stdout",
     "output_type": "stream",
     "text": [
      "Enter a marks Maths :45\n",
      "Enter a marks Sceince :56\n",
      "Enter a marks English :76\n",
      "Do you want to continue(Y/N)?Y\n",
      "Enter a marks Maths :54\n",
      "Enter a marks Sceince :34\n",
      "Enter a marks English :67\n",
      "Do you want to continue(Y/N)?Y\n",
      "Enter a marks Maths :89\n",
      "Enter a marks Sceince :76\n",
      "Enter a marks English :80\n",
      "Do you want to continue(Y/N)?N\n",
      "[[45, 56, 76], [54, 34, 67], [89, 76, 80]]\n"
     ]
    }
   ],
   "source": [
    "students=[]\n",
    "sub=[\"Maths\",\"Sceince\",\"English\"]\n",
    "\n",
    "ans=\"Y\"\n",
    "\n",
    "while ans==\"Y\".upper():\n",
    "    student=[]\n",
    "    for i in sub:\n",
    "        m=int(input(f\"Enter a marks {i} :\"))\n",
    "        student.append(m)\n",
    "    students.append(student)\n",
    "    ans=input(\"Do you want to continue(Y/N)?\")\n",
    "print(students)\n",
    "    \n",
    "\n"
   ]
  },
  {
   "cell_type": "code",
   "execution_count": 2,
   "id": "b39c09ba",
   "metadata": {},
   "outputs": [
    {
     "name": "stdout",
     "output_type": "stream",
     "text": [
      "45 56 76 \n",
      "54 34 67 \n",
      "89 76 80 \n"
     ]
    }
   ],
   "source": [
    "for stud in students:\n",
    "    for mark in stud:\n",
    "        print(mark,end=\" \")\n",
    "    print()"
   ]
  },
  {
   "cell_type": "code",
   "execution_count": 6,
   "id": "48236eac",
   "metadata": {},
   "outputs": [
    {
     "name": "stdout",
     "output_type": "stream",
     "text": [
      "45 56 76 177\n",
      "54 34 67 155\n",
      "89 76 80 245\n"
     ]
    }
   ],
   "source": [
    "for stud in students:\n",
    "    tot=0\n",
    "    for mark in stud:\n",
    "        print(mark,end=\" \")\n",
    "        tot+=mark\n",
    "    print(tot)"
   ]
  },
  {
   "cell_type": "markdown",
   "id": "97fb1038",
   "metadata": {},
   "source": [
    "# Tuples"
   ]
  },
  {
   "cell_type": "raw",
   "id": "458f57f1",
   "metadata": {},
   "source": [
    "Tuples are Immutable in Python and cannot able to change the values or Items."
   ]
  },
  {
   "cell_type": "code",
   "execution_count": 5,
   "id": "3829c62f",
   "metadata": {},
   "outputs": [
    {
     "name": "stdout",
     "output_type": "stream",
     "text": [
      "(1, 2, 3, 4, 5)\n"
     ]
    }
   ],
   "source": [
    "x=(1,2,3,4,5)\n",
    "print(x)"
   ]
  },
  {
   "cell_type": "code",
   "execution_count": 6,
   "id": "93508c2f",
   "metadata": {},
   "outputs": [
    {
     "data": {
      "text/plain": [
       "1"
      ]
     },
     "execution_count": 6,
     "metadata": {},
     "output_type": "execute_result"
    }
   ],
   "source": [
    "x[0]"
   ]
  },
  {
   "cell_type": "code",
   "execution_count": 7,
   "id": "f331e705",
   "metadata": {},
   "outputs": [
    {
     "data": {
      "text/plain": [
       "2"
      ]
     },
     "execution_count": 7,
     "metadata": {},
     "output_type": "execute_result"
    }
   ],
   "source": [
    "x[1]"
   ]
  },
  {
   "cell_type": "code",
   "execution_count": 8,
   "id": "288b3ee8",
   "metadata": {},
   "outputs": [
    {
     "ename": "TypeError",
     "evalue": "'tuple' object does not support item assignment",
     "output_type": "error",
     "traceback": [
      "\u001b[1;31m---------------------------------------------------------------------------\u001b[0m",
      "\u001b[1;31mTypeError\u001b[0m                                 Traceback (most recent call last)",
      "\u001b[1;32m~\\AppData\\Local\\Temp\\ipykernel_8016\\3440589002.py\u001b[0m in \u001b[0;36m<module>\u001b[1;34m\u001b[0m\n\u001b[1;32m----> 1\u001b[1;33m \u001b[0mx\u001b[0m\u001b[1;33m[\u001b[0m\u001b[1;36m0\u001b[0m\u001b[1;33m]\u001b[0m\u001b[1;33m=\u001b[0m\u001b[1;36m10\u001b[0m\u001b[1;33m\u001b[0m\u001b[1;33m\u001b[0m\u001b[0m\n\u001b[0m",
      "\u001b[1;31mTypeError\u001b[0m: 'tuple' object does not support item assignment"
     ]
    }
   ],
   "source": [
    "x[0]=10"
   ]
  },
  {
   "cell_type": "code",
   "execution_count": 9,
   "id": "910d1e2f",
   "metadata": {},
   "outputs": [
    {
     "data": {
      "text/plain": [
       "['__add__',\n",
       " '__class__',\n",
       " '__class_getitem__',\n",
       " '__contains__',\n",
       " '__delattr__',\n",
       " '__dir__',\n",
       " '__doc__',\n",
       " '__eq__',\n",
       " '__format__',\n",
       " '__ge__',\n",
       " '__getattribute__',\n",
       " '__getitem__',\n",
       " '__getnewargs__',\n",
       " '__gt__',\n",
       " '__hash__',\n",
       " '__init__',\n",
       " '__init_subclass__',\n",
       " '__iter__',\n",
       " '__le__',\n",
       " '__len__',\n",
       " '__lt__',\n",
       " '__mul__',\n",
       " '__ne__',\n",
       " '__new__',\n",
       " '__reduce__',\n",
       " '__reduce_ex__',\n",
       " '__repr__',\n",
       " '__rmul__',\n",
       " '__setattr__',\n",
       " '__sizeof__',\n",
       " '__str__',\n",
       " '__subclasshook__',\n",
       " 'count',\n",
       " 'index']"
      ]
     },
     "execution_count": 9,
     "metadata": {},
     "output_type": "execute_result"
    }
   ],
   "source": [
    "dir(x)"
   ]
  },
  {
   "cell_type": "code",
   "execution_count": 10,
   "id": "3955d928",
   "metadata": {},
   "outputs": [
    {
     "name": "stdout",
     "output_type": "stream",
     "text": [
      "(1, 2, 3, 4, 5, 6, 7, 8, 10, 12, 23, 34)\n"
     ]
    }
   ],
   "source": [
    "x=(1,2,3,4,5,6,7,8,10,12,23,34)\n",
    "print(x)"
   ]
  },
  {
   "cell_type": "code",
   "execution_count": 11,
   "id": "d00f9b77",
   "metadata": {},
   "outputs": [
    {
     "data": {
      "text/plain": [
       "(1, 2, 3, 4, 5, 6, 7, 8, 10, 12)"
      ]
     },
     "execution_count": 11,
     "metadata": {},
     "output_type": "execute_result"
    }
   ],
   "source": [
    "x[0:10]"
   ]
  },
  {
   "cell_type": "code",
   "execution_count": 12,
   "id": "dd9ff244",
   "metadata": {},
   "outputs": [
    {
     "data": {
      "text/plain": [
       "(3, 4, 5)"
      ]
     },
     "execution_count": 12,
     "metadata": {},
     "output_type": "execute_result"
    }
   ],
   "source": [
    "x[2:5]"
   ]
  },
  {
   "cell_type": "code",
   "execution_count": 13,
   "id": "466ced5f",
   "metadata": {},
   "outputs": [
    {
     "data": {
      "text/plain": [
       "(1, 2, 3, 4, 5, 6, 7, 8, 10)"
      ]
     },
     "execution_count": 13,
     "metadata": {},
     "output_type": "execute_result"
    }
   ],
   "source": [
    "x[:9]"
   ]
  },
  {
   "cell_type": "code",
   "execution_count": 16,
   "id": "994d183c",
   "metadata": {},
   "outputs": [
    {
     "data": {
      "text/plain": [
       "(1, 2, 3, 4, 5, 6, 7, 8, 10, 12, 23, 34)"
      ]
     },
     "execution_count": 16,
     "metadata": {},
     "output_type": "execute_result"
    }
   ],
   "source": [
    "x[:]"
   ]
  },
  {
   "cell_type": "code",
   "execution_count": 14,
   "id": "166ba944",
   "metadata": {},
   "outputs": [
    {
     "data": {
      "text/plain": [
       "(8, 10, 12, 23)"
      ]
     },
     "execution_count": 14,
     "metadata": {},
     "output_type": "execute_result"
    }
   ],
   "source": [
    "x[-5:-1]"
   ]
  },
  {
   "cell_type": "code",
   "execution_count": 18,
   "id": "13dddb12",
   "metadata": {},
   "outputs": [
    {
     "data": {
      "text/plain": [
       "()"
      ]
     },
     "execution_count": 18,
     "metadata": {},
     "output_type": "execute_result"
    }
   ],
   "source": [
    "x[-1:-5]  # This is Wrong..."
   ]
  },
  {
   "cell_type": "code",
   "execution_count": 23,
   "id": "f6efd795",
   "metadata": {},
   "outputs": [
    {
     "name": "stdout",
     "output_type": "stream",
     "text": [
      "12\n",
      "15\n"
     ]
    }
   ],
   "source": [
    "x=(12,15)\n",
    "a,b=x\n",
    "print(a)\n",
    "print(b)"
   ]
  },
  {
   "cell_type": "code",
   "execution_count": 21,
   "id": "d0f07edf",
   "metadata": {},
   "outputs": [
    {
     "name": "stdout",
     "output_type": "stream",
     "text": [
      "10\n",
      "5\n"
     ]
    }
   ],
   "source": [
    "x=5\n",
    "y=10\n",
    "\n",
    "x,y=y,x\n",
    "print(x)\n",
    "print(y)"
   ]
  },
  {
   "cell_type": "markdown",
   "id": "41ce7571",
   "metadata": {},
   "source": [
    "# Dict"
   ]
  },
  {
   "cell_type": "code",
   "execution_count": 1,
   "id": "a55c9a30",
   "metadata": {},
   "outputs": [
    {
     "name": "stdout",
     "output_type": "stream",
     "text": [
      "{1: 'Ram', 2: 'Sam', 3: 'Santhosh'}\n"
     ]
    }
   ],
   "source": [
    "s={1:\"Ram\",2:\"Sam\",3:\"Santhosh\"}\n",
    "print(s)"
   ]
  },
  {
   "cell_type": "code",
   "execution_count": 2,
   "id": "d690de2d",
   "metadata": {},
   "outputs": [
    {
     "data": {
      "text/plain": [
       "'Sam'"
      ]
     },
     "execution_count": 2,
     "metadata": {},
     "output_type": "execute_result"
    }
   ],
   "source": [
    "s[2]"
   ]
  },
  {
   "cell_type": "code",
   "execution_count": 3,
   "id": "fd4f09d5",
   "metadata": {},
   "outputs": [
    {
     "data": {
      "text/plain": [
       "'Santhosh'"
      ]
     },
     "execution_count": 3,
     "metadata": {},
     "output_type": "execute_result"
    }
   ],
   "source": [
    "s[3]"
   ]
  },
  {
   "cell_type": "code",
   "execution_count": 5,
   "id": "2bfa58d1",
   "metadata": {},
   "outputs": [
    {
     "name": "stdout",
     "output_type": "stream",
     "text": [
      "{1: 'Praveen', 2: 'Sam', 3: 'Santhosh'}\n"
     ]
    }
   ],
   "source": [
    "# We able to change the value...using the positioin value.\n",
    "\n",
    "s[1]=\"Praveen\"\n",
    "print(s)"
   ]
  },
  {
   "cell_type": "code",
   "execution_count": 7,
   "id": "ed140ab8",
   "metadata": {},
   "outputs": [
    {
     "name": "stdout",
     "output_type": "stream",
     "text": [
      "{1: 'Praveen', 2: 'Sam', 3: 'Santhosh', 4: 'Aravinth'}\n"
     ]
    }
   ],
   "source": [
    "# Now,We able to add a one more elements or values or keyvalue.\n",
    "\n",
    "s[4]=\"Aravinth\"\n",
    "print(s)"
   ]
  },
  {
   "cell_type": "code",
   "execution_count": 8,
   "id": "d6abac8b",
   "metadata": {},
   "outputs": [
    {
     "ename": "KeyError",
     "evalue": "5",
     "output_type": "error",
     "traceback": [
      "\u001b[1;31m---------------------------------------------------------------------------\u001b[0m",
      "\u001b[1;31mKeyError\u001b[0m                                  Traceback (most recent call last)",
      "\u001b[1;32m~\\AppData\\Local\\Temp\\ipykernel_7368\\1495924492.py\u001b[0m in \u001b[0;36m<module>\u001b[1;34m\u001b[0m\n\u001b[1;32m----> 1\u001b[1;33m \u001b[0ms\u001b[0m\u001b[1;33m[\u001b[0m\u001b[1;36m5\u001b[0m\u001b[1;33m]\u001b[0m\u001b[1;33m\u001b[0m\u001b[1;33m\u001b[0m\u001b[0m\n\u001b[0m",
      "\u001b[1;31mKeyError\u001b[0m: 5"
     ]
    }
   ],
   "source": [
    "s[5]"
   ]
  },
  {
   "cell_type": "code",
   "execution_count": 9,
   "id": "edd66169",
   "metadata": {},
   "outputs": [
    {
     "data": {
      "text/plain": [
       "'Santhosh'"
      ]
     },
     "execution_count": 9,
     "metadata": {},
     "output_type": "execute_result"
    }
   ],
   "source": [
    "s.get(3)"
   ]
  },
  {
   "cell_type": "code",
   "execution_count": 10,
   "id": "0cd2b307",
   "metadata": {},
   "outputs": [
    {
     "data": {
      "text/plain": [
       "'Santhosh'"
      ]
     },
     "execution_count": 10,
     "metadata": {},
     "output_type": "execute_result"
    }
   ],
   "source": [
    "s[3]"
   ]
  },
  {
   "cell_type": "code",
   "execution_count": 11,
   "id": "9a983baf",
   "metadata": {},
   "outputs": [
    {
     "ename": "KeyError",
     "evalue": "6",
     "output_type": "error",
     "traceback": [
      "\u001b[1;31m---------------------------------------------------------------------------\u001b[0m",
      "\u001b[1;31mKeyError\u001b[0m                                  Traceback (most recent call last)",
      "\u001b[1;32m~\\AppData\\Local\\Temp\\ipykernel_7368\\2893730839.py\u001b[0m in \u001b[0;36m<module>\u001b[1;34m\u001b[0m\n\u001b[1;32m----> 1\u001b[1;33m \u001b[0ms\u001b[0m\u001b[1;33m[\u001b[0m\u001b[1;36m6\u001b[0m\u001b[1;33m]\u001b[0m\u001b[1;33m\u001b[0m\u001b[1;33m\u001b[0m\u001b[0m\n\u001b[0m",
      "\u001b[1;31mKeyError\u001b[0m: 6"
     ]
    }
   ],
   "source": [
    "s[6]"
   ]
  },
  {
   "cell_type": "code",
   "execution_count": 14,
   "id": "765b6ccd",
   "metadata": {},
   "outputs": [],
   "source": [
    "s.get(6)"
   ]
  },
  {
   "cell_type": "code",
   "execution_count": 16,
   "id": "386bc004",
   "metadata": {},
   "outputs": [
    {
     "name": "stdout",
     "output_type": "stream",
     "text": [
      "None\n"
     ]
    }
   ],
   "source": [
    "print(s.get(6))   # Its show a None Value..."
   ]
  },
  {
   "cell_type": "code",
   "execution_count": 17,
   "id": "d4938089",
   "metadata": {},
   "outputs": [
    {
     "data": {
      "text/plain": [
       "'Aravinth'"
      ]
     },
     "execution_count": 17,
     "metadata": {},
     "output_type": "execute_result"
    }
   ],
   "source": [
    "s.pop(4)"
   ]
  },
  {
   "cell_type": "code",
   "execution_count": 18,
   "id": "a85d3258",
   "metadata": {},
   "outputs": [
    {
     "name": "stdout",
     "output_type": "stream",
     "text": [
      "{1: 'Praveen', 2: 'Sam', 3: 'Santhosh'}\n"
     ]
    }
   ],
   "source": [
    "print(s)"
   ]
  },
  {
   "cell_type": "code",
   "execution_count": 19,
   "id": "bc355a96",
   "metadata": {},
   "outputs": [
    {
     "data": {
      "text/plain": [
       "(3, 'Santhosh')"
      ]
     },
     "execution_count": 19,
     "metadata": {},
     "output_type": "execute_result"
    }
   ],
   "source": [
    "s.popitem()"
   ]
  },
  {
   "cell_type": "code",
   "execution_count": 20,
   "id": "b96cc9e9",
   "metadata": {},
   "outputs": [
    {
     "name": "stdout",
     "output_type": "stream",
     "text": [
      "{1: 'Praveen', 2: 'Sam'}\n"
     ]
    }
   ],
   "source": [
    "print(s)"
   ]
  },
  {
   "cell_type": "code",
   "execution_count": 21,
   "id": "04b5cd3f",
   "metadata": {},
   "outputs": [
    {
     "data": {
      "text/plain": [
       "dict_keys([1, 2])"
      ]
     },
     "execution_count": 21,
     "metadata": {},
     "output_type": "execute_result"
    }
   ],
   "source": [
    "s.keys()           # It's show a number of Keys."
   ]
  },
  {
   "cell_type": "code",
   "execution_count": 23,
   "id": "5a4990d0",
   "metadata": {},
   "outputs": [
    {
     "data": {
      "text/plain": [
       "dict_values(['Praveen', 'Sam'])"
      ]
     },
     "execution_count": 23,
     "metadata": {},
     "output_type": "execute_result"
    }
   ],
   "source": [
    "s.values()         # It's show a number of Values."
   ]
  },
  {
   "cell_type": "code",
   "execution_count": 24,
   "id": "6a75cd71",
   "metadata": {},
   "outputs": [
    {
     "data": {
      "text/plain": [
       "dict_items([(1, 'Praveen'), (2, 'Sam')])"
      ]
     },
     "execution_count": 24,
     "metadata": {},
     "output_type": "execute_result"
    }
   ],
   "source": [
    "s.items()         # It's show a number of Items in a Dictionary."
   ]
  },
  {
   "cell_type": "code",
   "execution_count": 26,
   "id": "faccf529",
   "metadata": {},
   "outputs": [
    {
     "name": "stdout",
     "output_type": "stream",
     "text": [
      "1 Praveen\n",
      "2 Sam\n"
     ]
    }
   ],
   "source": [
    "# It's used to print all the items in a Dictionary.\n",
    "\n",
    "for k,v in s.items():   \n",
    "    print(k,v)"
   ]
  },
  {
   "cell_type": "code",
   "execution_count": 27,
   "id": "edc7289c",
   "metadata": {},
   "outputs": [
    {
     "data": {
      "text/plain": [
       "['__class__',\n",
       " '__class_getitem__',\n",
       " '__contains__',\n",
       " '__delattr__',\n",
       " '__delitem__',\n",
       " '__dir__',\n",
       " '__doc__',\n",
       " '__eq__',\n",
       " '__format__',\n",
       " '__ge__',\n",
       " '__getattribute__',\n",
       " '__getitem__',\n",
       " '__gt__',\n",
       " '__hash__',\n",
       " '__init__',\n",
       " '__init_subclass__',\n",
       " '__ior__',\n",
       " '__iter__',\n",
       " '__le__',\n",
       " '__len__',\n",
       " '__lt__',\n",
       " '__ne__',\n",
       " '__new__',\n",
       " '__or__',\n",
       " '__reduce__',\n",
       " '__reduce_ex__',\n",
       " '__repr__',\n",
       " '__reversed__',\n",
       " '__ror__',\n",
       " '__setattr__',\n",
       " '__setitem__',\n",
       " '__sizeof__',\n",
       " '__str__',\n",
       " '__subclasshook__',\n",
       " 'clear',\n",
       " 'copy',\n",
       " 'fromkeys',\n",
       " 'get',\n",
       " 'items',\n",
       " 'keys',\n",
       " 'pop',\n",
       " 'popitem',\n",
       " 'setdefault',\n",
       " 'update',\n",
       " 'values']"
      ]
     },
     "execution_count": 27,
     "metadata": {},
     "output_type": "execute_result"
    }
   ],
   "source": [
    "dir(s)"
   ]
  },
  {
   "cell_type": "code",
   "execution_count": 28,
   "id": "5c49e0b6",
   "metadata": {},
   "outputs": [
    {
     "name": "stdout",
     "output_type": "stream",
     "text": [
      "{1: 'Praveen', 2: 'Sam'}\n"
     ]
    }
   ],
   "source": [
    "a=s.copy()\n",
    "print(a)"
   ]
  },
  {
   "cell_type": "code",
   "execution_count": 30,
   "id": "22f7336f",
   "metadata": {},
   "outputs": [
    {
     "name": "stdout",
     "output_type": "stream",
     "text": [
      "{1: 'Praveen', 2: None}\n"
     ]
    }
   ],
   "source": [
    "s[2]=None\n",
    "print(s)"
   ]
  },
  {
   "cell_type": "code",
   "execution_count": 32,
   "id": "61f0ab4c",
   "metadata": {},
   "outputs": [
    {
     "name": "stdout",
     "output_type": "stream",
     "text": [
      "{1: 'Praveen', 2: 'Muthu', 3: None}\n"
     ]
    }
   ],
   "source": [
    "s[2]=\"Muthu\"\n",
    "s[3]=None\n",
    "\n",
    "print(s)"
   ]
  },
  {
   "cell_type": "code",
   "execution_count": 34,
   "id": "d9d47de4",
   "metadata": {},
   "outputs": [
    {
     "name": "stdout",
     "output_type": "stream",
     "text": [
      "{1: 'Praveen', 2: 'Muthu', 3: None, 4: None}\n"
     ]
    }
   ],
   "source": [
    "s.setdefault(4)\n",
    "\n",
    "print(s)"
   ]
  },
  {
   "cell_type": "code",
   "execution_count": 37,
   "id": "613d7e73",
   "metadata": {},
   "outputs": [
    {
     "name": "stdout",
     "output_type": "stream",
     "text": [
      "1 Praveen\n",
      "2 Muthu\n",
      "3 None\n",
      "4 None\n"
     ]
    }
   ],
   "source": [
    "for k,v in s.items():\n",
    "    print(k,v)"
   ]
  },
  {
   "cell_type": "code",
   "execution_count": 38,
   "id": "718ded54",
   "metadata": {},
   "outputs": [
    {
     "name": "stdout",
     "output_type": "stream",
     "text": [
      "{1: 'Praveen', 2: 'Muthu', 3: None, 4: None}\n"
     ]
    }
   ],
   "source": [
    "print(s)"
   ]
  },
  {
   "cell_type": "code",
   "execution_count": 40,
   "id": "d1c74707",
   "metadata": {},
   "outputs": [
    {
     "name": "stdout",
     "output_type": "stream",
     "text": [
      "{1: 'Praveen', 2: 'Muthu', 3: None, 4: None, 6: 'Raj'}\n"
     ]
    }
   ],
   "source": [
    "s.setdefault(6,\"Raj\")\n",
    "print(s)"
   ]
  },
  {
   "cell_type": "code",
   "execution_count": 42,
   "id": "0e9a1e31",
   "metadata": {},
   "outputs": [
    {
     "name": "stdout",
     "output_type": "stream",
     "text": [
      "{1: 'Praveen', 2: 'Muthu', 3: None, 4: None, 6: 'Raj'}\n"
     ]
    }
   ],
   "source": [
    "s.setdefault(1,\"Sandy\")    # Here,not able to chnage it.Because,its already have a value.So,it is not able to change.\n",
    "print(s)"
   ]
  },
  {
   "cell_type": "code",
   "execution_count": 45,
   "id": "8d6f033b",
   "metadata": {},
   "outputs": [
    {
     "name": "stdout",
     "output_type": "stream",
     "text": [
      "{12: None, 13: None, 14: None, 15: None}\n"
     ]
    }
   ],
   "source": [
    "# fromkeys\n",
    "\n",
    "lst=[12,13,14,15]\n",
    "d={}\n",
    "d=d.fromkeys(lst)\n",
    "print(d)\n",
    "\n",
    "# It's using to create a list values and we will create a key Values."
   ]
  },
  {
   "cell_type": "code",
   "execution_count": 46,
   "id": "7afd9880",
   "metadata": {},
   "outputs": [
    {
     "name": "stdout",
     "output_type": "stream",
     "text": [
      "Enter Marks for Maths :56\n",
      "Enter Marks for Science :54\n",
      "Enter Marks for English :56\n",
      "Do you want to continue(Y/N)???Y\n",
      "Enter Marks for Maths :78\n",
      "Enter Marks for Science :87\n",
      "Enter Marks for English :67\n",
      "Do you want to continue(Y/N)???Y\n",
      "Enter Marks for Maths :98\n",
      "Enter Marks for Science :90\n",
      "Enter Marks for English :97\n",
      "Do you want to continue(Y/N)???N\n",
      "[[56, 54, 56], [78, 87, 67], [98, 90, 97]]\n"
     ]
    }
   ],
   "source": [
    "students=[]\n",
    "subjects=[\"Maths\",\"Science\",\"English\"]\n",
    "ans=\"Y\"\n",
    "\n",
    "while ans==\"Y\":\n",
    "    student=[]\n",
    "    for i in subjects:\n",
    "        m=int(input(f\"Enter Marks for {i} :\"))\n",
    "        student.append(m)\n",
    "    students.append(student)\n",
    "    ans=input(\"Do you want to continue(Y/N)???\")\n",
    "print(students)"
   ]
  },
  {
   "cell_type": "code",
   "execution_count": 53,
   "id": "996fa966",
   "metadata": {},
   "outputs": [
    {
     "name": "stdout",
     "output_type": "stream",
     "text": [
      "Enter a Roll number :12\n",
      "Enter Marks for Maths :23\n",
      "Enter Marks for Science :23\n",
      "Enter Marks for English :23\n"
     ]
    },
    {
     "ename": "IndexError",
     "evalue": "list assignment index out of range",
     "output_type": "error",
     "traceback": [
      "\u001b[1;31m---------------------------------------------------------------------------\u001b[0m",
      "\u001b[1;31mIndexError\u001b[0m                                Traceback (most recent call last)",
      "\u001b[1;32m~\\AppData\\Local\\Temp\\ipykernel_7368\\4004808566.py\u001b[0m in \u001b[0;36m<module>\u001b[1;34m\u001b[0m\n\u001b[0;32m      9\u001b[0m         \u001b[0mm\u001b[0m\u001b[1;33m=\u001b[0m\u001b[0mint\u001b[0m\u001b[1;33m(\u001b[0m\u001b[0minput\u001b[0m\u001b[1;33m(\u001b[0m\u001b[1;34mf\"Enter Marks for {i} :\"\u001b[0m\u001b[1;33m)\u001b[0m\u001b[1;33m)\u001b[0m\u001b[1;33m\u001b[0m\u001b[1;33m\u001b[0m\u001b[0m\n\u001b[0;32m     10\u001b[0m         \u001b[0mstudent\u001b[0m\u001b[1;33m.\u001b[0m\u001b[0mappend\u001b[0m\u001b[1;33m(\u001b[0m\u001b[0mm\u001b[0m\u001b[1;33m)\u001b[0m\u001b[1;33m\u001b[0m\u001b[1;33m\u001b[0m\u001b[0m\n\u001b[1;32m---> 11\u001b[1;33m     \u001b[0mstudents\u001b[0m\u001b[1;33m[\u001b[0m\u001b[0mroll\u001b[0m\u001b[1;33m]\u001b[0m\u001b[1;33m=\u001b[0m\u001b[0mstudent\u001b[0m\u001b[1;33m\u001b[0m\u001b[1;33m\u001b[0m\u001b[0m\n\u001b[0m\u001b[0;32m     12\u001b[0m     \u001b[0mans\u001b[0m\u001b[1;33m=\u001b[0m\u001b[0minput\u001b[0m\u001b[1;33m(\u001b[0m\u001b[1;34m\"Do you want to continue(Y/N)???\"\u001b[0m\u001b[1;33m)\u001b[0m\u001b[1;33m\u001b[0m\u001b[1;33m\u001b[0m\u001b[0m\n\u001b[0;32m     13\u001b[0m \u001b[0mprint\u001b[0m\u001b[1;33m(\u001b[0m\u001b[0mstudents\u001b[0m\u001b[1;33m)\u001b[0m\u001b[1;33m\u001b[0m\u001b[1;33m\u001b[0m\u001b[0m\n",
      "\u001b[1;31mIndexError\u001b[0m: list assignment index out of range"
     ]
    }
   ],
   "source": [
    "students=[]\n",
    "subjects=[\"Maths\",\"Science\",\"English\"]\n",
    "ans=\"Y\"\n",
    "\n",
    "while ans==\"Y\":\n",
    "    student=[]\n",
    "    roll=int(input(\"Enter a Roll number :\"))\n",
    "    for i in subjects:\n",
    "        m=int(input(f\"Enter Marks for {i} :\"))\n",
    "        student.append(m)\n",
    "    students[roll]=student\n",
    "    ans=input(\"Do you want to continue(Y/N)???\")\n",
    "print(students)"
   ]
  },
  {
   "cell_type": "code",
   "execution_count": 60,
   "id": "54c68006",
   "metadata": {},
   "outputs": [
    {
     "name": "stdout",
     "output_type": "stream",
     "text": [
      "Enter a Roll Number :117\n",
      "Enter a marks Maths :98\n",
      "Enter a marks Science :97\n",
      "Enter a marks English :87\n",
      "Do You Want to Continue(Y/N)???Y\n",
      "Enter a Roll Number :118\n",
      "Enter a marks Maths :99\n",
      "Enter a marks Science :98\n",
      "Enter a marks English :89\n",
      "Do You Want to Continue(Y/N)???Y\n",
      "Enter a Roll Number :119\n",
      "Enter a marks Maths :90\n",
      "Enter a marks Science :98\n",
      "Enter a marks English :79\n",
      "Do You Want to Continue(Y/N)???N\n",
      "{117: [98, 97, 87], 118: [99, 98, 89], 119: [90, 98, 79]}\n"
     ]
    }
   ],
   "source": [
    "students={}\n",
    "subjects=[\"Maths\",\"Science\",\"English\"]\n",
    "ans=\"Y\"\n",
    "\n",
    "while ans==\"Y\":\n",
    "    student=[]\n",
    "    roll=int(input(\"Enter a Roll Number :\"))\n",
    "    for i in subjects:\n",
    "        m=int(input(f\"Enter a marks {i} :\"))\n",
    "        student.append(m)\n",
    "    students[roll]=student\n",
    "    ans=input(\"Do You Want to Continue(Y/N)???\")\n",
    "print(students)"
   ]
  },
  {
   "cell_type": "code",
   "execution_count": 61,
   "id": "2d83a882",
   "metadata": {},
   "outputs": [
    {
     "name": "stdout",
     "output_type": "stream",
     "text": [
      "117 98 97 87 282\n",
      "118 99 98 89 286\n",
      "119 90 98 79 267\n"
     ]
    }
   ],
   "source": [
    "for roll,marks in students.items():\n",
    "    print(roll,end=\" \")\n",
    "    \n",
    "    tot=0\n",
    "    \n",
    "    for m in marks:\n",
    "        print(m,end=\" \")\n",
    "        tot=tot+m\n",
    "    print(tot)"
   ]
  },
  {
   "cell_type": "code",
   "execution_count": 63,
   "id": "b74dea32",
   "metadata": {},
   "outputs": [
    {
     "name": "stdout",
     "output_type": "stream",
     "text": [
      "Enter a Roll Number :111\n",
      "Enter a Marks for Maths :98\n",
      "Enter a Marks for Science :98\n",
      "Enter a Marks for Englisg :98\n",
      "Do You Want to Continue(Y/N)???Y\n",
      "Enter a Roll Number :222\n",
      "Enter a Marks for Maths :87\n",
      "Enter a Marks for Science :87\n",
      "Enter a Marks for Englisg :87\n",
      "Do You Want to Continue(Y/N)???N\n",
      "{111: {'Maths': 98, 'Science': 98, 'Englisg': 98}, 222: {'Maths': 87, 'Science': 87, 'Englisg': 87}}\n"
     ]
    }
   ],
   "source": [
    "students={}\n",
    "subjects=[\"Maths\",\"Science\",\"Englisg\"]\n",
    "ans=\"Y\"\n",
    "\n",
    "while ans==\"Y\":\n",
    "    student={}\n",
    "    roll=int(input(\"Enter a Roll Number :\"))\n",
    "    for i in subjects:\n",
    "        student[i]=int(input(f\"Enter a Marks for {i} :\"))\n",
    "    students[roll]=student\n",
    "    ans=input(\"Do You Want to Continue(Y/N)???\")\n",
    "print(students)"
   ]
  },
  {
   "cell_type": "code",
   "execution_count": 66,
   "id": "656248bc",
   "metadata": {},
   "outputs": [
    {
     "name": "stdout",
     "output_type": "stream",
     "text": [
      "111 98 98 98 294\n",
      "222 87 87 87 261\n"
     ]
    }
   ],
   "source": [
    "for roll,marks in students.items():\n",
    "    print(roll,end=\" \")\n",
    "    \n",
    "    tot=0\n",
    "    for sub,mark in marks.items():\n",
    "        print(mark,end=\" \")\n",
    "        tot+=mark\n",
    "    print(tot)"
   ]
  },
  {
   "cell_type": "code",
   "execution_count": 69,
   "id": "24096fc2",
   "metadata": {},
   "outputs": [
    {
     "name": "stdout",
     "output_type": "stream",
     "text": [
      "111 Maths : 98 Science : 98 Englisg : 98 Total : 294\n",
      "222 Maths : 87 Science : 87 Englisg : 87 Total : 261\n"
     ]
    }
   ],
   "source": [
    "for roll,marks in students.items():\n",
    "    print(roll,end=\" \")\n",
    "    \n",
    "    tot=0\n",
    "    for sub,mark in marks.items():\n",
    "        print(sub,\":\",mark,end=\" \")\n",
    "        tot+=mark\n",
    "    print(\"Total :\",tot)"
   ]
  },
  {
   "cell_type": "markdown",
   "id": "9d50d1bd",
   "metadata": {},
   "source": [
    "# Functions"
   ]
  },
  {
   "cell_type": "raw",
   "id": "c10de041",
   "metadata": {},
   "source": [
    "A function is a group of statements that together perform a task."
   ]
  },
  {
   "cell_type": "code",
   "execution_count": 70,
   "id": "817cd2ce",
   "metadata": {},
   "outputs": [],
   "source": [
    "def add(a,b):\n",
    "    return a+b"
   ]
  },
  {
   "cell_type": "code",
   "execution_count": 72,
   "id": "ede00df6",
   "metadata": {},
   "outputs": [
    {
     "data": {
      "text/plain": [
       "25"
      ]
     },
     "execution_count": 72,
     "metadata": {},
     "output_type": "execute_result"
    }
   ],
   "source": [
    "add(12,13)"
   ]
  },
  {
   "cell_type": "code",
   "execution_count": 82,
   "id": "c95da04b",
   "metadata": {},
   "outputs": [
    {
     "name": "stdout",
     "output_type": "stream",
     "text": [
      "Hello Friends!!!\n"
     ]
    }
   ],
   "source": [
    "def sayhello():\n",
    "    print(\"Hello Friends!!!\")\n",
    "\n",
    "sayhello()"
   ]
  },
  {
   "cell_type": "code",
   "execution_count": 79,
   "id": "20bdb998",
   "metadata": {},
   "outputs": [
    {
     "name": "stdout",
     "output_type": "stream",
     "text": [
      "28\n"
     ]
    }
   ],
   "source": [
    "def add(x,y):\n",
    "    return x+y\n",
    "\n",
    "a=add(15,13)\n",
    "print(a)"
   ]
  },
  {
   "cell_type": "code",
   "execution_count": 84,
   "id": "d2c72132",
   "metadata": {},
   "outputs": [
    {
     "name": "stdout",
     "output_type": "stream",
     "text": [
      "Hello Friends!!!\n",
      "None\n"
     ]
    }
   ],
   "source": [
    "a=sayhello()\n",
    "print(a)      # Because ,It,s doesn't return any values...So,it show a (None value)...."
   ]
  },
  {
   "cell_type": "code",
   "execution_count": 2,
   "id": "9fe76fc8",
   "metadata": {},
   "outputs": [
    {
     "data": {
      "text/plain": [
       "True"
      ]
     },
     "execution_count": 2,
     "metadata": {},
     "output_type": "execute_result"
    }
   ],
   "source": [
    "def isodd(n):\n",
    "    if n%2!=0:\n",
    "        return True\n",
    "    else:\n",
    "        return False\n",
    "    \n",
    "isodd(7)"
   ]
  },
  {
   "cell_type": "code",
   "execution_count": 3,
   "id": "24963b8b",
   "metadata": {},
   "outputs": [
    {
     "name": "stdout",
     "output_type": "stream",
     "text": [
      "1\n",
      "3\n",
      "5\n",
      "7\n",
      "9\n"
     ]
    }
   ],
   "source": [
    "# Odd Numbers...\n",
    "\n",
    "for i in range(1,10):\n",
    "    if isodd(i):\n",
    "        print(i)"
   ]
  },
  {
   "cell_type": "code",
   "execution_count": 17,
   "id": "3bedf71a",
   "metadata": {},
   "outputs": [
    {
     "data": {
      "text/plain": [
       "True"
      ]
     },
     "execution_count": 17,
     "metadata": {},
     "output_type": "execute_result"
    }
   ],
   "source": [
    "# Check a Prime Numbers Prime Or Not Prime (True Or False)\n",
    "\n",
    "def isprime(n):\n",
    "    for i in range(2,n):\n",
    "        if n%i==0:\n",
    "            return False\n",
    "        else:\n",
    "            return True         # (Doubt)\n",
    "    \n",
    "isprime(5)"
   ]
  },
  {
   "cell_type": "code",
   "execution_count": 18,
   "id": "d5cde104",
   "metadata": {},
   "outputs": [
    {
     "name": "stdout",
     "output_type": "stream",
     "text": [
      "3\n",
      "5\n",
      "7\n",
      "9\n",
      "11\n",
      "13\n",
      "15\n",
      "17\n",
      "19\n",
      "21\n",
      "23\n",
      "25\n",
      "27\n",
      "29\n",
      "31\n",
      "33\n",
      "35\n",
      "37\n",
      "39\n",
      "41\n",
      "43\n",
      "45\n",
      "47\n",
      "49\n",
      "51\n",
      "53\n",
      "55\n",
      "57\n",
      "59\n",
      "61\n",
      "63\n",
      "65\n",
      "67\n",
      "69\n",
      "71\n",
      "73\n",
      "75\n",
      "77\n",
      "79\n",
      "81\n",
      "83\n",
      "85\n",
      "87\n",
      "89\n",
      "91\n",
      "93\n",
      "95\n",
      "97\n",
      "99\n"
     ]
    }
   ],
   "source": [
    "for i in range(1,100):\n",
    "    if isprime(i):\n",
    "        print(i)        # (Doubt is not a Prime Number...)\n",
    "                                          "
   ]
  },
  {
   "cell_type": "code",
   "execution_count": 25,
   "id": "ad090a5c",
   "metadata": {},
   "outputs": [
    {
     "data": {
      "text/plain": [
       "2400.0"
      ]
     },
     "execution_count": 25,
     "metadata": {},
     "output_type": "execute_result"
    }
   ],
   "source": [
    "# To find a simple Interest Formula....\n",
    "\n",
    "def si(p,n,r):\n",
    "    s=p*n*r/100\n",
    "    return s\n",
    "\n",
    "si(10000,2,12)"
   ]
  },
  {
   "cell_type": "code",
   "execution_count": 31,
   "id": "fd1158af",
   "metadata": {},
   "outputs": [
    {
     "data": {
      "text/plain": [
       "2400.0"
      ]
     },
     "execution_count": 31,
     "metadata": {},
     "output_type": "execute_result"
    }
   ],
   "source": [
    "# Now we can modify....\n",
    "\n",
    "def si(p,n,r):\n",
    "    return p*n*r/100\n",
    "\n",
    "si(10000,2,12)"
   ]
  },
  {
   "cell_type": "code",
   "execution_count": 32,
   "id": "17ccdbb6",
   "metadata": {},
   "outputs": [
    {
     "ename": "TypeError",
     "evalue": "si() missing 1 required positional argument: 'r'",
     "output_type": "error",
     "traceback": [
      "\u001b[1;31m---------------------------------------------------------------------------\u001b[0m",
      "\u001b[1;31mTypeError\u001b[0m                                 Traceback (most recent call last)",
      "\u001b[1;32m~\\AppData\\Local\\Temp\\ipykernel_5796\\2400514201.py\u001b[0m in \u001b[0;36m<module>\u001b[1;34m\u001b[0m\n\u001b[1;32m----> 1\u001b[1;33m \u001b[0msi\u001b[0m\u001b[1;33m(\u001b[0m\u001b[1;36m1000\u001b[0m\u001b[1;33m,\u001b[0m\u001b[1;36m2\u001b[0m\u001b[1;33m)\u001b[0m\u001b[1;33m\u001b[0m\u001b[1;33m\u001b[0m\u001b[0m\n\u001b[0m",
      "\u001b[1;31mTypeError\u001b[0m: si() missing 1 required positional argument: 'r'"
     ]
    }
   ],
   "source": [
    "si(1000,2)        # We cannot pass one arguments ....That through a error...."
   ]
  },
  {
   "cell_type": "code",
   "execution_count": 33,
   "id": "7747f0a4",
   "metadata": {},
   "outputs": [
    {
     "ename": "TypeError",
     "evalue": "si() takes 3 positional arguments but 4 were given",
     "output_type": "error",
     "traceback": [
      "\u001b[1;31m---------------------------------------------------------------------------\u001b[0m",
      "\u001b[1;31mTypeError\u001b[0m                                 Traceback (most recent call last)",
      "\u001b[1;32m~\\AppData\\Local\\Temp\\ipykernel_5796\\1847969584.py\u001b[0m in \u001b[0;36m<module>\u001b[1;34m\u001b[0m\n\u001b[1;32m----> 1\u001b[1;33m \u001b[0msi\u001b[0m\u001b[1;33m(\u001b[0m\u001b[1;36m100\u001b[0m\u001b[1;33m,\u001b[0m\u001b[1;36m2\u001b[0m\u001b[1;33m,\u001b[0m\u001b[1;36m12\u001b[0m\u001b[1;33m,\u001b[0m\u001b[1;36m34\u001b[0m\u001b[1;33m)\u001b[0m   \u001b[1;31m# we can pass extra arguments ...That time also through a error....\u001b[0m\u001b[1;33m\u001b[0m\u001b[1;33m\u001b[0m\u001b[0m\n\u001b[0m",
      "\u001b[1;31mTypeError\u001b[0m: si() takes 3 positional arguments but 4 were given"
     ]
    }
   ],
   "source": [
    "si(100,2,12,34)   # we can pass extra arguments ...That time also through a error...."
   ]
  },
  {
   "cell_type": "code",
   "execution_count": 35,
   "id": "49f296a1",
   "metadata": {},
   "outputs": [
    {
     "data": {
      "text/plain": [
       "1000.0"
      ]
     },
     "execution_count": 35,
     "metadata": {},
     "output_type": "execute_result"
    }
   ],
   "source": [
    "si(5000,2,10)"
   ]
  },
  {
   "cell_type": "code",
   "execution_count": 38,
   "id": "eb35ff22",
   "metadata": {},
   "outputs": [
    {
     "data": {
      "text/plain": [
       "6000.0"
      ]
     },
     "execution_count": 38,
     "metadata": {},
     "output_type": "execute_result"
    }
   ],
   "source": [
    "def si(p=10000,n=5,r=12):\n",
    "    return p*n*r/100\n",
    "\n",
    "si()"
   ]
  },
  {
   "cell_type": "code",
   "execution_count": 39,
   "id": "cbe49ac0",
   "metadata": {},
   "outputs": [
    {
     "data": {
      "text/plain": [
       "2400.0"
      ]
     },
     "execution_count": 39,
     "metadata": {},
     "output_type": "execute_result"
    }
   ],
   "source": [
    "si(10000,2,12)   # Now we can change the values...."
   ]
  },
  {
   "cell_type": "code",
   "execution_count": 41,
   "id": "35c9c9e3",
   "metadata": {},
   "outputs": [
    {
     "data": {
      "text/plain": [
       "2400.0"
      ]
     },
     "execution_count": 41,
     "metadata": {},
     "output_type": "execute_result"
    }
   ],
   "source": [
    "si(2,12,10000)   # Changing the arguments ....Doesn't affects the results.Because,based on formula."
   ]
  },
  {
   "cell_type": "code",
   "execution_count": 43,
   "id": "5425e0e7",
   "metadata": {},
   "outputs": [
    {
     "data": {
      "text/plain": [
       "1210.0000000000002"
      ]
     },
     "execution_count": 43,
     "metadata": {},
     "output_type": "execute_result"
    }
   ],
   "source": [
    "# CI Formula...\n",
    "\n",
    "def ci(p,n,r):\n",
    "    return(p*(1+(r/100))**n)\n",
    "\n",
    "ci(1000,2,10)"
   ]
  },
  {
   "cell_type": "code",
   "execution_count": 44,
   "id": "d1b183de",
   "metadata": {},
   "outputs": [
    {
     "data": {
      "text/plain": [
       "4.939865836012051e+41"
      ]
     },
     "execution_count": 44,
     "metadata": {},
     "output_type": "execute_result"
    }
   ],
   "source": [
    "ci(2,1000,10)    # Now,changing the arguments. It will show a diff result .Based on arguments."
   ]
  },
  {
   "cell_type": "code",
   "execution_count": 46,
   "id": "b439bc31",
   "metadata": {},
   "outputs": [
    {
     "data": {
      "text/plain": [
       "1210.0000000000002"
      ]
     },
     "execution_count": 46,
     "metadata": {},
     "output_type": "execute_result"
    }
   ],
   "source": [
    "ci(n=2,p=1000,r=10)   # We can able change .Be like this (We can pass arguments like this.)"
   ]
  },
  {
   "cell_type": "code",
   "execution_count": 47,
   "id": "e434ede5",
   "metadata": {},
   "outputs": [
    {
     "ename": "SyntaxError",
     "evalue": "positional argument follows keyword argument (1974039749.py, line 1)",
     "output_type": "error",
     "traceback": [
      "\u001b[1;36m  File \u001b[1;32m\"C:\\Users\\DEVIKA.K\\AppData\\Local\\Temp\\ipykernel_5796\\1974039749.py\"\u001b[1;36m, line \u001b[1;32m1\u001b[0m\n\u001b[1;33m    ci(n=2,1000,r=10)\u001b[0m\n\u001b[1;37m                    ^\u001b[0m\n\u001b[1;31mSyntaxError\u001b[0m\u001b[1;31m:\u001b[0m positional argument follows keyword argument\n"
     ]
    }
   ],
   "source": [
    "ci(n=2,1000,r=10)"
   ]
  },
  {
   "cell_type": "code",
   "execution_count": 53,
   "id": "409c93b1",
   "metadata": {},
   "outputs": [
    {
     "ename": "TypeError",
     "evalue": "div() takes 2 positional arguments but 4 were given",
     "output_type": "error",
     "traceback": [
      "\u001b[1;31m---------------------------------------------------------------------------\u001b[0m",
      "\u001b[1;31mTypeError\u001b[0m                                 Traceback (most recent call last)",
      "\u001b[1;32m~\\AppData\\Local\\Temp\\ipykernel_5796\\3573388075.py\u001b[0m in \u001b[0;36m<module>\u001b[1;34m\u001b[0m\n\u001b[0;32m      2\u001b[0m     \u001b[1;32mreturn\u001b[0m \u001b[0mn\u001b[0m\u001b[1;33m//\u001b[0m\u001b[0md\u001b[0m\u001b[1;33m,\u001b[0m\u001b[0mn\u001b[0m\u001b[1;33m%\u001b[0m\u001b[0md\u001b[0m\u001b[1;33m\u001b[0m\u001b[1;33m\u001b[0m\u001b[0m\n\u001b[0;32m      3\u001b[0m \u001b[1;33m\u001b[0m\u001b[0m\n\u001b[1;32m----> 4\u001b[1;33m \u001b[0mdiv\u001b[0m\u001b[1;33m(\u001b[0m\u001b[1;34m\"Quoitnet \"\u001b[0m\u001b[1;33m,\u001b[0m\u001b[1;36m10\u001b[0m\u001b[1;33m,\u001b[0m\u001b[1;34m\"Remainder \"\u001b[0m\u001b[1;33m,\u001b[0m\u001b[1;36m3\u001b[0m\u001b[1;33m)\u001b[0m\u001b[1;33m\u001b[0m\u001b[1;33m\u001b[0m\u001b[0m\n\u001b[0m",
      "\u001b[1;31mTypeError\u001b[0m: div() takes 2 positional arguments but 4 were given"
     ]
    }
   ],
   "source": [
    "def div(n,d):\n",
    "    return n//d,n%d\n",
    "\n",
    "div(\"Quoitnet \",10,\"Remainder \",3)"
   ]
  },
  {
   "cell_type": "code",
   "execution_count": 54,
   "id": "f04ac9ba",
   "metadata": {},
   "outputs": [
    {
     "data": {
      "text/plain": [
       "(3, 1)"
      ]
     },
     "execution_count": 54,
     "metadata": {},
     "output_type": "execute_result"
    }
   ],
   "source": [
    "def div(n,d):\n",
    "    return n//d,n%d\n",
    "\n",
    "div(10,3)"
   ]
  },
  {
   "cell_type": "code",
   "execution_count": 56,
   "id": "161b5386",
   "metadata": {},
   "outputs": [
    {
     "ename": "TypeError",
     "evalue": "div() missing 1 required positional argument: 'd'",
     "output_type": "error",
     "traceback": [
      "\u001b[1;31m---------------------------------------------------------------------------\u001b[0m",
      "\u001b[1;31mTypeError\u001b[0m                                 Traceback (most recent call last)",
      "\u001b[1;32m~\\AppData\\Local\\Temp\\ipykernel_5796\\1811386379.py\u001b[0m in \u001b[0;36m<module>\u001b[1;34m\u001b[0m\n\u001b[0;32m      2\u001b[0m     \u001b[1;32mreturn\u001b[0m \u001b[0mn\u001b[0m\u001b[1;33m//\u001b[0m\u001b[0md\u001b[0m\u001b[1;33m,\u001b[0m\u001b[0mn\u001b[0m\u001b[1;33m%\u001b[0m\u001b[0md\u001b[0m\u001b[1;33m\u001b[0m\u001b[1;33m\u001b[0m\u001b[0m\n\u001b[0;32m      3\u001b[0m \u001b[1;33m\u001b[0m\u001b[0m\n\u001b[1;32m----> 4\u001b[1;33m \u001b[0ma\u001b[0m\u001b[1;33m=\u001b[0m\u001b[0mdiv\u001b[0m\u001b[1;33m(\u001b[0m\u001b[1;34mf\"Quotient {10} Remainder {3}\"\u001b[0m\u001b[1;33m)\u001b[0m\u001b[1;33m\u001b[0m\u001b[1;33m\u001b[0m\u001b[0m\n\u001b[0m\u001b[0;32m      5\u001b[0m \u001b[0mprint\u001b[0m\u001b[1;33m(\u001b[0m\u001b[0ma\u001b[0m\u001b[1;33m)\u001b[0m\u001b[1;33m\u001b[0m\u001b[1;33m\u001b[0m\u001b[0m\n",
      "\u001b[1;31mTypeError\u001b[0m: div() missing 1 required positional argument: 'd'"
     ]
    }
   ],
   "source": [
    "def div(n,d):\n",
    "    return n//d,n%d\n",
    "\n",
    "a=div(f\"Quotient {10} Remainder {3}\")\n",
    "print(a)"
   ]
  },
  {
   "cell_type": "code",
   "execution_count": 58,
   "id": "12982bee",
   "metadata": {},
   "outputs": [
    {
     "name": "stdout",
     "output_type": "stream",
     "text": [
      "3\n",
      "1\n",
      "3 , 1\n"
     ]
    }
   ],
   "source": [
    "Quotitent,Remainder=div(10,3)\n",
    "\n",
    "print(Quotitent)\n",
    "print(Remainder)\n",
    "\n",
    "print(f\"{Quotitent} , {Remainder}\")"
   ]
  },
  {
   "cell_type": "markdown",
   "id": "76e5b4f7",
   "metadata": {},
   "source": [
    "# Advanced Function"
   ]
  },
  {
   "cell_type": "code",
   "execution_count": 4,
   "id": "317f8a55",
   "metadata": {},
   "outputs": [
    {
     "name": "stdout",
     "output_type": "stream",
     "text": [
      "Your addition value is :5\n"
     ]
    }
   ],
   "source": [
    "def add(a,b):\n",
    "    return a+b\n",
    "\n",
    "a=add(2,3)\n",
    "\n",
    "print(f\"Your addition value is :{a}\")"
   ]
  },
  {
   "cell_type": "code",
   "execution_count": 5,
   "id": "224b14d6",
   "metadata": {},
   "outputs": [
    {
     "data": {
      "text/plain": [
       "'PythonProgrmaming'"
      ]
     },
     "execution_count": 5,
     "metadata": {},
     "output_type": "execute_result"
    }
   ],
   "source": [
    "add(\"Python\",\"Progrmaming\")       # if it's integer means you can add the value.\n",
    "                                  # Otherwise,If its string means oncatenate the string."
   ]
  },
  {
   "cell_type": "code",
   "execution_count": 6,
   "id": "9ae32580",
   "metadata": {},
   "outputs": [
    {
     "data": {
      "text/plain": [
       "2"
      ]
     },
     "execution_count": 6,
     "metadata": {},
     "output_type": "execute_result"
    }
   ],
   "source": [
    "def sub(a,b):\n",
    "    return a-b\n",
    "\n",
    "sub(5,3)"
   ]
  },
  {
   "cell_type": "code",
   "execution_count": 7,
   "id": "19d114bb",
   "metadata": {},
   "outputs": [
    {
     "ename": "TypeError",
     "evalue": "unsupported operand type(s) for -: 'str' and 'str'",
     "output_type": "error",
     "traceback": [
      "\u001b[1;31m---------------------------------------------------------------------------\u001b[0m",
      "\u001b[1;31mTypeError\u001b[0m                                 Traceback (most recent call last)",
      "\u001b[1;32m~\\AppData\\Local\\Temp\\ipykernel_8736\\2131165174.py\u001b[0m in \u001b[0;36m<module>\u001b[1;34m\u001b[0m\n\u001b[1;32m----> 1\u001b[1;33m \u001b[0msub\u001b[0m\u001b[1;33m(\u001b[0m\u001b[1;34m\"Python\"\u001b[0m\u001b[1;33m,\u001b[0m\u001b[1;34m\"Progrmaming\"\u001b[0m\u001b[1;33m)\u001b[0m\u001b[1;33m\u001b[0m\u001b[1;33m\u001b[0m\u001b[0m\n\u001b[0m",
      "\u001b[1;32m~\\AppData\\Local\\Temp\\ipykernel_8736\\3865288558.py\u001b[0m in \u001b[0;36msub\u001b[1;34m(a, b)\u001b[0m\n\u001b[0;32m      1\u001b[0m \u001b[1;32mdef\u001b[0m \u001b[0msub\u001b[0m\u001b[1;33m(\u001b[0m\u001b[0ma\u001b[0m\u001b[1;33m,\u001b[0m\u001b[0mb\u001b[0m\u001b[1;33m)\u001b[0m\u001b[1;33m:\u001b[0m\u001b[1;33m\u001b[0m\u001b[1;33m\u001b[0m\u001b[0m\n\u001b[1;32m----> 2\u001b[1;33m     \u001b[1;32mreturn\u001b[0m \u001b[0ma\u001b[0m\u001b[1;33m-\u001b[0m\u001b[0mb\u001b[0m\u001b[1;33m\u001b[0m\u001b[1;33m\u001b[0m\u001b[0m\n\u001b[0m\u001b[0;32m      3\u001b[0m \u001b[1;33m\u001b[0m\u001b[0m\n\u001b[0;32m      4\u001b[0m \u001b[0msub\u001b[0m\u001b[1;33m(\u001b[0m\u001b[1;36m5\u001b[0m\u001b[1;33m,\u001b[0m\u001b[1;36m3\u001b[0m\u001b[1;33m)\u001b[0m\u001b[1;33m\u001b[0m\u001b[1;33m\u001b[0m\u001b[0m\n",
      "\u001b[1;31mTypeError\u001b[0m: unsupported operand type(s) for -: 'str' and 'str'"
     ]
    }
   ],
   "source": [
    "sub(\"Python\",\"Progrmaming\")  "
   ]
  },
  {
   "cell_type": "code",
   "execution_count": 9,
   "id": "f1fec67e",
   "metadata": {},
   "outputs": [
    {
     "data": {
      "text/plain": [
       "5"
      ]
     },
     "execution_count": 9,
     "metadata": {},
     "output_type": "execute_result"
    }
   ],
   "source": [
    "# We can set a condition types...\n",
    "\n",
    "def sub(a:int,b:int)->int:     # It's will guve output also (Integer Type)....\n",
    "    return a-b\n",
    "\n",
    "sub(10,5)"
   ]
  },
  {
   "cell_type": "code",
   "execution_count": 10,
   "id": "3421ae25",
   "metadata": {},
   "outputs": [
    {
     "ename": "TypeError",
     "evalue": "unsupported operand type(s) for -: 'str' and 'str'",
     "output_type": "error",
     "traceback": [
      "\u001b[1;31m---------------------------------------------------------------------------\u001b[0m",
      "\u001b[1;31mTypeError\u001b[0m                                 Traceback (most recent call last)",
      "\u001b[1;32m~\\AppData\\Local\\Temp\\ipykernel_8736\\1125542422.py\u001b[0m in \u001b[0;36m<module>\u001b[1;34m\u001b[0m\n\u001b[0;32m      2\u001b[0m     \u001b[1;32mreturn\u001b[0m \u001b[0ma\u001b[0m\u001b[1;33m-\u001b[0m\u001b[0mb\u001b[0m\u001b[1;33m\u001b[0m\u001b[1;33m\u001b[0m\u001b[0m\n\u001b[0;32m      3\u001b[0m \u001b[1;33m\u001b[0m\u001b[0m\n\u001b[1;32m----> 4\u001b[1;33m \u001b[0msub\u001b[0m\u001b[1;33m(\u001b[0m\u001b[1;34m\"Python\"\u001b[0m\u001b[1;33m,\u001b[0m\u001b[1;34m\"Prigrmming\"\u001b[0m\u001b[1;33m)\u001b[0m\u001b[1;33m\u001b[0m\u001b[1;33m\u001b[0m\u001b[0m\n\u001b[0m",
      "\u001b[1;32m~\\AppData\\Local\\Temp\\ipykernel_8736\\1125542422.py\u001b[0m in \u001b[0;36msub\u001b[1;34m(a, b)\u001b[0m\n\u001b[0;32m      1\u001b[0m \u001b[1;32mdef\u001b[0m \u001b[0msub\u001b[0m\u001b[1;33m(\u001b[0m\u001b[0ma\u001b[0m\u001b[1;33m:\u001b[0m\u001b[0mint\u001b[0m\u001b[1;33m,\u001b[0m\u001b[0mb\u001b[0m\u001b[1;33m:\u001b[0m\u001b[0mint\u001b[0m\u001b[1;33m)\u001b[0m\u001b[1;33m->\u001b[0m\u001b[0mint\u001b[0m\u001b[1;33m:\u001b[0m     \u001b[1;31m# It's will guve output also (Integer Type)....\u001b[0m\u001b[1;33m\u001b[0m\u001b[1;33m\u001b[0m\u001b[0m\n\u001b[1;32m----> 2\u001b[1;33m     \u001b[1;32mreturn\u001b[0m \u001b[0ma\u001b[0m\u001b[1;33m-\u001b[0m\u001b[0mb\u001b[0m\u001b[1;33m\u001b[0m\u001b[1;33m\u001b[0m\u001b[0m\n\u001b[0m\u001b[0;32m      3\u001b[0m \u001b[1;33m\u001b[0m\u001b[0m\n\u001b[0;32m      4\u001b[0m \u001b[0msub\u001b[0m\u001b[1;33m(\u001b[0m\u001b[1;34m\"Python\"\u001b[0m\u001b[1;33m,\u001b[0m\u001b[1;34m\"Prigrmming\"\u001b[0m\u001b[1;33m)\u001b[0m\u001b[1;33m\u001b[0m\u001b[1;33m\u001b[0m\u001b[0m\n",
      "\u001b[1;31mTypeError\u001b[0m: unsupported operand type(s) for -: 'str' and 'str'"
     ]
    }
   ],
   "source": [
    "\n",
    "def sub(a:int,b:int)->int:     # It's will guve output also (Integer Type)....\n",
    "    return a-b\n",
    "\n",
    "sub(\"Python\",\"Prigrmming\")"
   ]
  },
  {
   "cell_type": "code",
   "execution_count": 16,
   "id": "ce6712a1",
   "metadata": {},
   "outputs": [
    {
     "data": {
      "text/plain": [
       "-1"
      ]
     },
     "execution_count": 16,
     "metadata": {},
     "output_type": "execute_result"
    }
   ],
   "source": [
    "def sub(a:int,b:int)->int:  \n",
    "    \n",
    "    \"\"\"This is a Function to find the differnce between two number usage sub(number,number).\"\"\"\n",
    "    \n",
    "    return a-b\n",
    "\n",
    "sub(12,13)"
   ]
  },
  {
   "cell_type": "code",
   "execution_count": 17,
   "id": "b21a422b",
   "metadata": {},
   "outputs": [
    {
     "data": {
      "text/plain": [
       "['__annotations__',\n",
       " '__call__',\n",
       " '__class__',\n",
       " '__closure__',\n",
       " '__code__',\n",
       " '__defaults__',\n",
       " '__delattr__',\n",
       " '__dict__',\n",
       " '__dir__',\n",
       " '__doc__',\n",
       " '__eq__',\n",
       " '__format__',\n",
       " '__ge__',\n",
       " '__get__',\n",
       " '__getattribute__',\n",
       " '__globals__',\n",
       " '__gt__',\n",
       " '__hash__',\n",
       " '__init__',\n",
       " '__init_subclass__',\n",
       " '__kwdefaults__',\n",
       " '__le__',\n",
       " '__lt__',\n",
       " '__module__',\n",
       " '__name__',\n",
       " '__ne__',\n",
       " '__new__',\n",
       " '__qualname__',\n",
       " '__reduce__',\n",
       " '__reduce_ex__',\n",
       " '__repr__',\n",
       " '__setattr__',\n",
       " '__sizeof__',\n",
       " '__str__',\n",
       " '__subclasshook__']"
      ]
     },
     "execution_count": 17,
     "metadata": {},
     "output_type": "execute_result"
    }
   ],
   "source": [
    "dir(sub)"
   ]
  },
  {
   "cell_type": "code",
   "execution_count": 18,
   "id": "02a01fb6",
   "metadata": {},
   "outputs": [
    {
     "name": "stdout",
     "output_type": "stream",
     "text": [
      "This is a Function to find the differnce between two number usage sub(number,number).\n"
     ]
    }
   ],
   "source": [
    "print(sub.__doc__)     # It will show Document .Be like a Usefull comments."
   ]
  },
  {
   "cell_type": "code",
   "execution_count": 19,
   "id": "e91a35cb",
   "metadata": {},
   "outputs": [
    {
     "data": {
      "text/plain": [
       "25"
      ]
     },
     "execution_count": 19,
     "metadata": {},
     "output_type": "execute_result"
    }
   ],
   "source": [
    "def mul(a,b):\n",
    "    return a*b\n",
    "\n",
    "mul(5,5)"
   ]
  },
  {
   "cell_type": "code",
   "execution_count": 20,
   "id": "272c1e93",
   "metadata": {},
   "outputs": [
    {
     "ename": "TypeError",
     "evalue": "compute() missing 1 required positional argument: 'f'",
     "output_type": "error",
     "traceback": [
      "\u001b[1;31m---------------------------------------------------------------------------\u001b[0m",
      "\u001b[1;31mTypeError\u001b[0m                                 Traceback (most recent call last)",
      "\u001b[1;32m~\\AppData\\Local\\Temp\\ipykernel_8736\\3121924329.py\u001b[0m in \u001b[0;36m<module>\u001b[1;34m\u001b[0m\n\u001b[0;32m      2\u001b[0m     \u001b[1;32mreturn\u001b[0m \u001b[0mf\u001b[0m\u001b[1;33m(\u001b[0m\u001b[0ma\u001b[0m\u001b[1;33m,\u001b[0m\u001b[0mb\u001b[0m\u001b[1;33m)\u001b[0m\u001b[1;33m\u001b[0m\u001b[1;33m\u001b[0m\u001b[0m\n\u001b[0;32m      3\u001b[0m \u001b[1;33m\u001b[0m\u001b[0m\n\u001b[1;32m----> 4\u001b[1;33m \u001b[0mcompute\u001b[0m\u001b[1;33m(\u001b[0m\u001b[1;36m5\u001b[0m\u001b[1;33m,\u001b[0m\u001b[1;36m5\u001b[0m\u001b[1;33m)\u001b[0m\u001b[1;33m\u001b[0m\u001b[1;33m\u001b[0m\u001b[0m\n\u001b[0m",
      "\u001b[1;31mTypeError\u001b[0m: compute() missing 1 required positional argument: 'f'"
     ]
    }
   ],
   "source": [
    "def compute(a,b,f):\n",
    "    return f(a,b)\n",
    "\n",
    "compute(5,5)            # Doubt"
   ]
  },
  {
   "cell_type": "code",
   "execution_count": 21,
   "id": "b63b3b47",
   "metadata": {},
   "outputs": [
    {
     "data": {
      "text/plain": [
       "10"
      ]
     },
     "execution_count": 21,
     "metadata": {},
     "output_type": "execute_result"
    }
   ],
   "source": [
    "def compute(a,b,f):\n",
    "    return f(a,b)\n",
    "\n",
    "compute(5,5,add)   "
   ]
  },
  {
   "cell_type": "code",
   "execution_count": 23,
   "id": "ab0bf630",
   "metadata": {},
   "outputs": [
    {
     "data": {
      "text/plain": [
       "0"
      ]
     },
     "execution_count": 23,
     "metadata": {},
     "output_type": "execute_result"
    }
   ],
   "source": [
    "def compute(a,b,f):     # f-(Format type).\n",
    "    return f(a,b)\n",
    "\n",
    "compute(5,5,sub)        # We can access the previous function."
   ]
  },
  {
   "cell_type": "code",
   "execution_count": 24,
   "id": "989a29c6",
   "metadata": {},
   "outputs": [
    {
     "data": {
      "text/plain": [
       "225"
      ]
     },
     "execution_count": 24,
     "metadata": {},
     "output_type": "execute_result"
    }
   ],
   "source": [
    "compute(15,15,mul)"
   ]
  },
  {
   "cell_type": "code",
   "execution_count": 27,
   "id": "9e36acb4",
   "metadata": {},
   "outputs": [
    {
     "name": "stdout",
     "output_type": "stream",
     "text": [
      "Hii Welcome to Python Prigramming\n"
     ]
    }
   ],
   "source": [
    "# Outer and Inner Function.\n",
    "\n",
    "def outer(msg):\n",
    "    def inner(m):\n",
    "        print(\"Hii\",m)     # (Doubt)\n",
    "    inner(msg)\n",
    "    \n",
    "outer(\"Welcome to Python Prigramming\")"
   ]
  },
  {
   "cell_type": "code",
   "execution_count": 28,
   "id": "ddce541d",
   "metadata": {},
   "outputs": [
    {
     "ename": "NameError",
     "evalue": "name 'inner' is not defined",
     "output_type": "error",
     "traceback": [
      "\u001b[1;31m---------------------------------------------------------------------------\u001b[0m",
      "\u001b[1;31mNameError\u001b[0m                                 Traceback (most recent call last)",
      "\u001b[1;32m~\\AppData\\Local\\Temp\\ipykernel_8736\\899132027.py\u001b[0m in \u001b[0;36m<module>\u001b[1;34m\u001b[0m\n\u001b[1;32m----> 1\u001b[1;33m \u001b[0minner\u001b[0m\u001b[1;33m(\u001b[0m\u001b[1;34m\"Hii\"\u001b[0m\u001b[1;33m)\u001b[0m\u001b[1;33m\u001b[0m\u001b[1;33m\u001b[0m\u001b[0m\n\u001b[0m",
      "\u001b[1;31mNameError\u001b[0m: name 'inner' is not defined"
     ]
    }
   ],
   "source": [
    "inner(\"Hii\")     # Because,It is Outside of the function."
   ]
  },
  {
   "cell_type": "code",
   "execution_count": 30,
   "id": "7795238e",
   "metadata": {},
   "outputs": [
    {
     "data": {
      "text/plain": [
       "range"
      ]
     },
     "execution_count": 30,
     "metadata": {},
     "output_type": "execute_result"
    }
   ],
   "source": [
    "x=range(10,15)\n",
    "\n",
    "type(x)"
   ]
  },
  {
   "cell_type": "code",
   "execution_count": 31,
   "id": "9d3b74d9",
   "metadata": {},
   "outputs": [
    {
     "data": {
      "text/plain": [
       "[1, 2, 3, 4, 5, 6, 7, 8, 9]"
      ]
     },
     "execution_count": 31,
     "metadata": {},
     "output_type": "execute_result"
    }
   ],
   "source": [
    "list(range(1,10))"
   ]
  },
  {
   "cell_type": "code",
   "execution_count": 38,
   "id": "e1f27ad4",
   "metadata": {},
   "outputs": [
    {
     "data": {
      "text/plain": [
       "True"
      ]
     },
     "execution_count": 38,
     "metadata": {},
     "output_type": "execute_result"
    }
   ],
   "source": [
    "def isprime(n):\n",
    "    for i in range(2,n):\n",
    "        if n%i==0:\n",
    "            return False\n",
    "        else:\n",
    "            return True         # (Doubt)\n",
    "        \n",
    "isprime(9)"
   ]
  },
  {
   "cell_type": "code",
   "execution_count": 71,
   "id": "1e02ed06",
   "metadata": {},
   "outputs": [
    {
     "name": "stdout",
     "output_type": "stream",
     "text": [
      "<generator object listofprime at 0x000002216DF2A900>\n"
     ]
    }
   ],
   "source": [
    "def listofprime(st,end):\n",
    "    for i in range(st,end):\n",
    "        if isprime(i):\n",
    "            yield i\n",
    "            \n",
    "lst=listofprime(1,101)   # (Doubt)\n",
    "print(lst)"
   ]
  },
  {
   "cell_type": "code",
   "execution_count": 72,
   "id": "8f727db5",
   "metadata": {},
   "outputs": [
    {
     "data": {
      "text/plain": [
       "3"
      ]
     },
     "execution_count": 72,
     "metadata": {},
     "output_type": "execute_result"
    }
   ],
   "source": [
    "next(lst)"
   ]
  },
  {
   "cell_type": "code",
   "execution_count": 73,
   "id": "03baae9e",
   "metadata": {},
   "outputs": [
    {
     "data": {
      "text/plain": [
       "5"
      ]
     },
     "execution_count": 73,
     "metadata": {},
     "output_type": "execute_result"
    }
   ],
   "source": [
    "next(lst)     # Here,(next) is a Function."
   ]
  },
  {
   "cell_type": "code",
   "execution_count": 74,
   "id": "098467c7",
   "metadata": {},
   "outputs": [
    {
     "data": {
      "text/plain": [
       "7"
      ]
     },
     "execution_count": 74,
     "metadata": {},
     "output_type": "execute_result"
    }
   ],
   "source": [
    "next(lst)"
   ]
  },
  {
   "cell_type": "code",
   "execution_count": 75,
   "id": "ffef0522",
   "metadata": {},
   "outputs": [
    {
     "data": {
      "text/plain": [
       "9"
      ]
     },
     "execution_count": 75,
     "metadata": {},
     "output_type": "execute_result"
    }
   ],
   "source": [
    "next(lst)     # Doubt"
   ]
  },
  {
   "cell_type": "code",
   "execution_count": 76,
   "id": "5faf1008",
   "metadata": {},
   "outputs": [
    {
     "name": "stdout",
     "output_type": "stream",
     "text": [
      "11\n",
      "13\n",
      "15\n",
      "17\n",
      "19\n",
      "21\n",
      "23\n",
      "25\n",
      "27\n",
      "29\n",
      "31\n",
      "33\n",
      "35\n",
      "37\n",
      "39\n",
      "41\n",
      "43\n",
      "45\n",
      "47\n",
      "49\n",
      "51\n",
      "53\n",
      "55\n",
      "57\n",
      "59\n",
      "61\n",
      "63\n",
      "65\n",
      "67\n",
      "69\n",
      "71\n",
      "73\n",
      "75\n",
      "77\n",
      "79\n",
      "81\n",
      "83\n",
      "85\n",
      "87\n",
      "89\n",
      "91\n",
      "93\n",
      "95\n",
      "97\n",
      "99\n"
     ]
    }
   ],
   "source": [
    "for i in lst:\n",
    "    print(i)"
   ]
  },
  {
   "cell_type": "markdown",
   "id": "b3fee8c4",
   "metadata": {},
   "source": [
    "# Lambda Function"
   ]
  },
  {
   "cell_type": "code",
   "execution_count": 77,
   "id": "2945a9ff",
   "metadata": {},
   "outputs": [
    {
     "data": {
      "text/plain": [
       "10000"
      ]
     },
     "execution_count": 77,
     "metadata": {},
     "output_type": "execute_result"
    }
   ],
   "source": [
    "f=lambda a,b:a**2+(2*a*b)+b**2\n",
    "\n",
    "f(99,1)"
   ]
  },
  {
   "cell_type": "code",
   "execution_count": 78,
   "id": "2f5222f9",
   "metadata": {},
   "outputs": [
    {
     "data": {
      "text/plain": [
       "False"
      ]
     },
     "execution_count": 78,
     "metadata": {},
     "output_type": "execute_result"
    }
   ],
   "source": [
    "isodd=lambda a:a%2!=0\n",
    "\n",
    "isodd(10)"
   ]
  },
  {
   "cell_type": "code",
   "execution_count": 79,
   "id": "c4915959",
   "metadata": {},
   "outputs": [
    {
     "data": {
      "text/plain": [
       "True"
      ]
     },
     "execution_count": 79,
     "metadata": {},
     "output_type": "execute_result"
    }
   ],
   "source": [
    "isodd=lambda a:a%2!=0\n",
    "\n",
    "isodd(7)"
   ]
  },
  {
   "cell_type": "markdown",
   "id": "bea47ef0",
   "metadata": {},
   "source": [
    "# File Handling\n",
    "\n"
   ]
  },
  {
   "cell_type": "code",
   "execution_count": 80,
   "id": "cedf7040",
   "metadata": {},
   "outputs": [
    {
     "data": {
      "text/plain": [
       "'\\n    w-write\\n    r-read\\n    a-append\\n    b-binary format\\n    \\n'"
      ]
     },
     "execution_count": 80,
     "metadata": {},
     "output_type": "execute_result"
    }
   ],
   "source": [
    "\"\"\"\n",
    "    w-write\n",
    "    r-read\n",
    "    a-append\n",
    "    b-binary format\n",
    "    \n",
    "\"\"\""
   ]
  },
  {
   "cell_type": "code",
   "execution_count": 81,
   "id": "f9674cb1",
   "metadata": {},
   "outputs": [
    {
     "name": "stdout",
     "output_type": "stream",
     "text": [
      "<_io.TextIOWrapper name='mytext.text' mode='w' encoding='cp1252'>\n"
     ]
    }
   ],
   "source": [
    "file=open(\"mytext.text\",\"w\")\n",
    "print(file)"
   ]
  },
  {
   "cell_type": "code",
   "execution_count": 82,
   "id": "ff7bea86",
   "metadata": {},
   "outputs": [],
   "source": [
    "file=open(\"mytext.text\",\"w\")\n",
    "file.writelines(\"This is a File\")\n",
    "file.close()"
   ]
  },
  {
   "cell_type": "code",
   "execution_count": 83,
   "id": "b6c40c39",
   "metadata": {},
   "outputs": [],
   "source": [
    "file=open(\"mytext.text\",\"w\")\n",
    "file.writelines(\"This is a Second Line\")   # It can be rewrite the first line.\n",
    "file.close()"
   ]
  },
  {
   "cell_type": "code",
   "execution_count": 84,
   "id": "271a53b1",
   "metadata": {},
   "outputs": [],
   "source": [
    "file=open(\"mytext.text\",\"w\")\n",
    "file.writelines(\"This is a First Line\")\n",
    "file.writelines(\"This is a Second Line\")   # It can be write in the same line.\n",
    "file.close()"
   ]
  },
  {
   "cell_type": "code",
   "execution_count": 85,
   "id": "6bd55a43",
   "metadata": {},
   "outputs": [],
   "source": [
    "file=open(\"mytext.text\",\"w\")\n",
    "file.writelines(\"This is a First Line. \\n\")\n",
    "file.writelines(\"This is a Second Line.\")\n",
    "\n",
    "file.close()"
   ]
  },
  {
   "cell_type": "markdown",
   "id": "3b71a998",
   "metadata": {},
   "source": [
    "# Read the File"
   ]
  },
  {
   "cell_type": "code",
   "execution_count": 70,
   "id": "5b2e0cfb",
   "metadata": {},
   "outputs": [
    {
     "name": "stdout",
     "output_type": "stream",
     "text": [
      "This is a First Line. \n",
      "This is a Second Line.\n"
     ]
    }
   ],
   "source": [
    "file=open(\"mytext.text\",\"r\")\n",
    "text=file.read()\n",
    "print(text)"
   ]
  },
  {
   "cell_type": "code",
   "execution_count": 86,
   "id": "3f79ce4b",
   "metadata": {},
   "outputs": [
    {
     "name": "stdout",
     "output_type": "stream",
     "text": [
      "This is a First\n"
     ]
    }
   ],
   "source": [
    "file=open(\"mytext.text\",\"r\")\n",
    "text=file.read(15)                     # It is used to print a character lines.\n",
    "print(text)"
   ]
  },
  {
   "cell_type": "code",
   "execution_count": 87,
   "id": "f729e20d",
   "metadata": {},
   "outputs": [
    {
     "name": "stdout",
     "output_type": "stream",
     "text": [
      "This is a \n"
     ]
    }
   ],
   "source": [
    "file=open(\"mytext.text\",\"r\")\n",
    "text=file.read(10)                     # It is used to print a character lines.\n",
    "print(text)"
   ]
  },
  {
   "cell_type": "code",
   "execution_count": 89,
   "id": "b8f363ec",
   "metadata": {},
   "outputs": [
    {
     "name": "stdout",
     "output_type": "stream",
     "text": [
      "T\n",
      "h\n",
      "i\n",
      "s\n",
      " \n",
      "i\n",
      "s\n",
      " \n",
      "a\n",
      " \n",
      "F\n",
      "i\n",
      "r\n",
      "s\n",
      "t\n",
      " \n",
      "L\n",
      "i\n",
      "n\n",
      "e\n",
      ".\n",
      " \n",
      "\n",
      "\n",
      "T\n",
      "h\n",
      "i\n",
      "s\n",
      " \n",
      "i\n",
      "s\n",
      " \n",
      "a\n",
      " \n",
      "S\n",
      "e\n",
      "c\n",
      "o\n",
      "n\n",
      "d\n",
      " \n",
      "L\n",
      "i\n",
      "n\n",
      "e\n",
      ".\n"
     ]
    }
   ],
   "source": [
    "file=open(\"mytext.text\",\"r\")\n",
    "c=file.read(1)\n",
    "\n",
    "while c!=\"\":\n",
    "    print(c)\n",
    "    c=file.read(1)"
   ]
  },
  {
   "cell_type": "code",
   "execution_count": 1,
   "id": "8bc63f8e",
   "metadata": {},
   "outputs": [
    {
     "name": "stdout",
     "output_type": "stream",
     "text": [
      "This is a First Line. \n",
      "This is a Second Line."
     ]
    }
   ],
   "source": [
    "file=open(\"mytext.text\",\"r\")\n",
    "c=file.read(1)\n",
    "\n",
    "while c!=\"\":\n",
    "    print(c,end=\"\")\n",
    "    c=file.read(1)\n",
    "    "
   ]
  },
  {
   "cell_type": "code",
   "execution_count": 91,
   "id": "43aa29e7",
   "metadata": {},
   "outputs": [
    {
     "name": "stdout",
     "output_type": "stream",
     "text": [
      "This is a First Line. \n",
      "This is a Second Line.\n"
     ]
    }
   ],
   "source": [
    "file=open(\"mytext.text\",\"r\")\n",
    "c=file.read()\n",
    "\n",
    "while c!=\"\":\n",
    "    print(c)\n",
    "    c=file.read()     # It is used to read all the lines using a loop."
   ]
  },
  {
   "cell_type": "code",
   "execution_count": 4,
   "id": "7fe81961",
   "metadata": {},
   "outputs": [
    {
     "name": "stdout",
     "output_type": "stream",
     "text": [
      "This is a First Line. \n",
      "This is a Second Line.\n"
     ]
    }
   ],
   "source": [
    "file=open(\"mytext.text\",\"r\")\n",
    "line=file.read()\n",
    "\n",
    "while line!=\"\":\n",
    "    print(line)\n",
    "    line=file.read()\n",
    "    \n",
    "    # It is used to read all the lines using a loop."
   ]
  },
  {
   "cell_type": "code",
   "execution_count": 5,
   "id": "d56d4956",
   "metadata": {},
   "outputs": [
    {
     "name": "stdout",
     "output_type": "stream",
     "text": [
      "['This is a First Line. \\n', 'This is a Second Line.']\n"
     ]
    }
   ],
   "source": [
    "file=open(\"mytext.text\",\"r\")\n",
    "lines=file.readlines()\n",
    "print(lines)"
   ]
  },
  {
   "cell_type": "code",
   "execution_count": 44,
   "id": "9ca29dde",
   "metadata": {},
   "outputs": [
    {
     "name": "stdout",
     "output_type": "stream",
     "text": [
      "This is a First Line. \n",
      "\n",
      "This is a Second Line.\n"
     ]
    }
   ],
   "source": [
    "for i in lines:\n",
    "    print(i)"
   ]
  },
  {
   "cell_type": "code",
   "execution_count": 6,
   "id": "2e70a1eb",
   "metadata": {},
   "outputs": [
    {
     "name": "stdout",
     "output_type": "stream",
     "text": [
      "Enter a Name :Santhosh\n",
      "Enter a Mail-ID :santhosh@gmail.com\n",
      "Enter a Phone Number :632384873\n",
      "Do You want to continue(Y/N)???Y\n",
      "Enter a Name :praveen\n",
      "Enter a Mail-ID :praveen@gmail.com\n",
      "Enter a Phone Number :87437367\n",
      "Do You want to continue(Y/N)???Y\n",
      "Enter a Name :Aravinth\n",
      "Enter a Mail-ID :aravinth@gmail.com\n",
      "Enter a Phone Number :874587458\n",
      "Do You want to continue(Y/N)???N\n"
     ]
    }
   ],
   "source": [
    "file=open(\"MyContacts.dat\",\"w\")\n",
    "ans=\"Y\"\n",
    "while ans==\"Y\":\n",
    "    \n",
    "    name=input(\"Enter a Name :\")\n",
    "    email=input(\"Enter a Mail-ID :\")\n",
    "    phone=int(input(\"Enter a Phone Number :\"))\n",
    "    \n",
    "    line=f\"{name} {email} {phone} \\n\"\n",
    "    file.writelines(line)\n",
    "    \n",
    "    ans=input(\"Do You want to continue(Y/N)???\")\n",
    "file.close()"
   ]
  },
  {
   "cell_type": "raw",
   "id": "1d56920d",
   "metadata": {},
   "source": [
    "while ans==\"Y\":\n",
    "    ans=input(\"Do You want to continue???\")\n",
    "    "
   ]
  },
  {
   "cell_type": "code",
   "execution_count": 3,
   "id": "448fbcae",
   "metadata": {},
   "outputs": [
    {
     "name": "stdout",
     "output_type": "stream",
     "text": [
      "Enter a Name :Santhosh\n",
      "Enter a Mail-ID :santhosh@gmail.com\n",
      "Enter a Phone Number :6369920489\n",
      "Do You want to continue(Y/N)???Y\n",
      "Enter a Name :Praveen\n",
      "Enter a Mail-ID :praveen@gmail.com\n",
      "Enter a Phone Number :732672389\n",
      "Do You want to continue(Y/N)???Y\n",
      "Enter a Name :Senthil\n",
      "Enter a Mail-ID :senthil@gmail.com\n",
      "Enter a Phone Number :73673762\n",
      "Do You want to continue(Y/N)???N\n"
     ]
    }
   ],
   "source": [
    "file=open(\"MyContacts.dat\",\"w\")\n",
    "ans=\"Y\"\n",
    "while ans==\"Y\":\n",
    "    \n",
    "    name=input(\"Enter a Name :\")\n",
    "    email=input(\"Enter a Mail-ID :\")\n",
    "    phone=int(input(\"Enter a Phone Number :\"))\n",
    "    \n",
    "    line=f\"{name} {email} {phone} \\n\"\n",
    "    file.writelines(line)\n",
    "    \n",
    "    ans=input(\"Do You want to continue(Y/N)???\")\n",
    "file.close()\n",
    "\n"
   ]
  },
  {
   "cell_type": "code",
   "execution_count": 7,
   "id": "09d3ffbb",
   "metadata": {},
   "outputs": [
    {
     "name": "stdout",
     "output_type": "stream",
     "text": [
      "Santhosh santhosh@gmail.com 6369920489 \n",
      "\n",
      "Praveen praveen@gmail.com 732672389 \n",
      "\n",
      "Senthil senthil@gmail.com 73673762 \n",
      "\n"
     ]
    }
   ],
   "source": [
    "# f=open(\"MyContacts.dat\",\"r\")              # We can use this type Or another type.\n",
    "\n",
    "with open(\"Mycontacts.dat\",\"r\") as f:       # It is used to print all the lines.\n",
    "    for l in f:\n",
    "        print(l)"
   ]
  },
  {
   "cell_type": "markdown",
   "id": "127107e4",
   "metadata": {},
   "source": [
    "# String to string method"
   ]
  },
  {
   "cell_type": "code",
   "execution_count": 8,
   "id": "489ef470",
   "metadata": {},
   "outputs": [
    {
     "data": {
      "text/plain": [
       "str"
      ]
     },
     "execution_count": 8,
     "metadata": {},
     "output_type": "execute_result"
    }
   ],
   "source": [
    "x=\"This is a String\"\n",
    "type(x)"
   ]
  },
  {
   "cell_type": "code",
   "execution_count": 9,
   "id": "06207046",
   "metadata": {},
   "outputs": [
    {
     "name": "stdout",
     "output_type": "stream",
     "text": [
      "['__add__', '__class__', '__contains__', '__delattr__', '__dir__', '__doc__', '__eq__', '__format__', '__ge__', '__getattribute__', '__getitem__', '__getnewargs__', '__gt__', '__hash__', '__init__', '__init_subclass__', '__iter__', '__le__', '__len__', '__lt__', '__mod__', '__mul__', '__ne__', '__new__', '__reduce__', '__reduce_ex__', '__repr__', '__rmod__', '__rmul__', '__setattr__', '__sizeof__', '__str__', '__subclasshook__', 'capitalize', 'casefold', 'center', 'count', 'encode', 'endswith', 'expandtabs', 'find', 'format', 'format_map', 'index', 'isalnum', 'isalpha', 'isascii', 'isdecimal', 'isdigit', 'isidentifier', 'islower', 'isnumeric', 'isprintable', 'isspace', 'istitle', 'isupper', 'join', 'ljust', 'lower', 'lstrip', 'maketrans', 'partition', 'removeprefix', 'removesuffix', 'replace', 'rfind', 'rindex', 'rjust', 'rpartition', 'rsplit', 'rstrip', 'split', 'splitlines', 'startswith', 'strip', 'swapcase', 'title', 'translate', 'upper', 'zfill']\n"
     ]
    }
   ],
   "source": [
    "print(dir(x))"
   ]
  },
  {
   "cell_type": "code",
   "execution_count": 10,
   "id": "7d318580",
   "metadata": {},
   "outputs": [
    {
     "data": {
      "text/plain": [
       "16"
      ]
     },
     "execution_count": 10,
     "metadata": {},
     "output_type": "execute_result"
    }
   ],
   "source": [
    "len(x)    # To find a Length of the String...."
   ]
  },
  {
   "cell_type": "code",
   "execution_count": 11,
   "id": "c5089009",
   "metadata": {},
   "outputs": [
    {
     "data": {
      "text/plain": [
       "'T'"
      ]
     },
     "execution_count": 11,
     "metadata": {},
     "output_type": "execute_result"
    }
   ],
   "source": [
    "x[0]"
   ]
  },
  {
   "cell_type": "code",
   "execution_count": 12,
   "id": "cf864564",
   "metadata": {},
   "outputs": [
    {
     "data": {
      "text/plain": [
       "'This '"
      ]
     },
     "execution_count": 12,
     "metadata": {},
     "output_type": "execute_result"
    }
   ],
   "source": [
    "x[0:5]"
   ]
  },
  {
   "cell_type": "code",
   "execution_count": 13,
   "id": "401aa414",
   "metadata": {},
   "outputs": [
    {
     "ename": "TypeError",
     "evalue": "'str' object does not support item assignment",
     "output_type": "error",
     "traceback": [
      "\u001b[1;31m---------------------------------------------------------------------------\u001b[0m",
      "\u001b[1;31mTypeError\u001b[0m                                 Traceback (most recent call last)",
      "\u001b[1;32m~\\AppData\\Local\\Temp\\ipykernel_6624\\921255333.py\u001b[0m in \u001b[0;36m<module>\u001b[1;34m\u001b[0m\n\u001b[1;32m----> 1\u001b[1;33m \u001b[0mx\u001b[0m\u001b[1;33m[\u001b[0m\u001b[1;36m0\u001b[0m\u001b[1;33m]\u001b[0m\u001b[1;33m=\u001b[0m\u001b[1;34m\"S\"\u001b[0m\u001b[1;33m\u001b[0m\u001b[1;33m\u001b[0m\u001b[0m\n\u001b[0m",
      "\u001b[1;31mTypeError\u001b[0m: 'str' object does not support item assignment"
     ]
    }
   ],
   "source": [
    "x[0]=\"S\""
   ]
  },
  {
   "cell_type": "code",
   "execution_count": 15,
   "id": "b9d52b16",
   "metadata": {},
   "outputs": [
    {
     "data": {
      "text/plain": [
       "'This is a string'"
      ]
     },
     "execution_count": 15,
     "metadata": {},
     "output_type": "execute_result"
    }
   ],
   "source": [
    "x.capitalize()           # It is used to print (First Letter Captial.)"
   ]
  },
  {
   "cell_type": "code",
   "execution_count": 16,
   "id": "cad560c2",
   "metadata": {},
   "outputs": [
    {
     "data": {
      "text/plain": [
       "'this is a string'"
      ]
     },
     "execution_count": 16,
     "metadata": {},
     "output_type": "execute_result"
    }
   ],
   "source": [
    "y=\"This is a String\"\n",
    "\n",
    "y.casefold()            # It is used to print (Lower case in a String.)"
   ]
  },
  {
   "cell_type": "code",
   "execution_count": 2,
   "id": "08a367ca",
   "metadata": {},
   "outputs": [
    {
     "name": "stdout",
     "output_type": "stream",
     "text": [
      "Python\n"
     ]
    },
    {
     "data": {
      "text/plain": [
       "'                 Python                 '"
      ]
     },
     "execution_count": 2,
     "metadata": {},
     "output_type": "execute_result"
    }
   ],
   "source": [
    "x=\"Python\"\n",
    "print(x)\n",
    "\n",
    "x.center(40)            # It is used to calculate a range to fix a (Center Position.)"
   ]
  },
  {
   "cell_type": "code",
   "execution_count": 3,
   "id": "2e3800d5",
   "metadata": {},
   "outputs": [
    {
     "data": {
      "text/plain": [
       "\"'''''''Python'''''''\""
      ]
     },
     "execution_count": 3,
     "metadata": {},
     "output_type": "execute_result"
    }
   ],
   "source": [
    "x.center(20,\"'\")"
   ]
  },
  {
   "cell_type": "code",
   "execution_count": 4,
   "id": "6d271f2f",
   "metadata": {},
   "outputs": [
    {
     "name": "stdout",
     "output_type": "stream",
     "text": [
      "Santhosh 12 \n",
      "Praveen 15 \n"
     ]
    }
   ],
   "source": [
    "names=[[\"Santhosh\",12],\n",
    "       [\"Praveen\",15]]\n",
    "\n",
    "\n",
    "for name in names:\n",
    "    for value in name:\n",
    "        print(value,end=\" \")\n",
    "    print()"
   ]
  },
  {
   "cell_type": "code",
   "execution_count": 5,
   "id": "33d5852b",
   "metadata": {},
   "outputs": [
    {
     "name": "stdout",
     "output_type": "stream",
     "text": [
      "Santhosh  \t"
     ]
    },
    {
     "ename": "AttributeError",
     "evalue": "'int' object has no attribute 'ljust'",
     "output_type": "error",
     "traceback": [
      "\u001b[1;31m---------------------------------------------------------------------------\u001b[0m",
      "\u001b[1;31mAttributeError\u001b[0m                            Traceback (most recent call last)",
      "\u001b[1;32m~\\AppData\\Local\\Temp\\ipykernel_8768\\1590866072.py\u001b[0m in \u001b[0;36m<module>\u001b[1;34m\u001b[0m\n\u001b[0;32m      1\u001b[0m \u001b[1;32mfor\u001b[0m \u001b[0mname\u001b[0m \u001b[1;32min\u001b[0m \u001b[0mnames\u001b[0m\u001b[1;33m:\u001b[0m\u001b[1;33m\u001b[0m\u001b[1;33m\u001b[0m\u001b[0m\n\u001b[0;32m      2\u001b[0m     \u001b[1;32mfor\u001b[0m \u001b[0mvalue\u001b[0m \u001b[1;32min\u001b[0m \u001b[0mname\u001b[0m\u001b[1;33m:\u001b[0m\u001b[1;33m\u001b[0m\u001b[1;33m\u001b[0m\u001b[0m\n\u001b[1;32m----> 3\u001b[1;33m         \u001b[0mprint\u001b[0m\u001b[1;33m(\u001b[0m\u001b[0mvalue\u001b[0m\u001b[1;33m.\u001b[0m\u001b[0mljust\u001b[0m\u001b[1;33m(\u001b[0m\u001b[1;36m10\u001b[0m\u001b[1;33m)\u001b[0m\u001b[1;33m,\u001b[0m\u001b[0mend\u001b[0m\u001b[1;33m=\u001b[0m\u001b[1;34m\"\\t\"\u001b[0m\u001b[1;33m)\u001b[0m   \u001b[1;31m# Here, int cannot applicable.So,we can convert into (str).\u001b[0m\u001b[1;33m\u001b[0m\u001b[1;33m\u001b[0m\u001b[0m\n\u001b[0m\u001b[0;32m      4\u001b[0m     \u001b[0mprint\u001b[0m\u001b[1;33m(\u001b[0m\u001b[1;33m)\u001b[0m\u001b[1;33m\u001b[0m\u001b[1;33m\u001b[0m\u001b[0m\n",
      "\u001b[1;31mAttributeError\u001b[0m: 'int' object has no attribute 'ljust'"
     ]
    }
   ],
   "source": [
    "for name in names:\n",
    "    for value in name:\n",
    "        print(value.ljust(10),end=\"\\t\")   # Here, int cannot applicable.So,we can convert into (str). \n",
    "    print()"
   ]
  },
  {
   "cell_type": "code",
   "execution_count": 6,
   "id": "c07edc42",
   "metadata": {},
   "outputs": [
    {
     "name": "stdout",
     "output_type": "stream",
     "text": [
      "Santhosh  \t12        \t\n",
      "Praveen   \t15        \t\n"
     ]
    }
   ],
   "source": [
    "for name in names:\n",
    "    for value in name:\n",
    "        print(str(value).ljust(10),end=\"\\t\")   # Here, int cannot applicable.So,we can convert into (str). \n",
    "    print()"
   ]
  },
  {
   "cell_type": "code",
   "execution_count": 7,
   "id": "0868bef8",
   "metadata": {},
   "outputs": [
    {
     "name": "stdout",
     "output_type": "stream",
     "text": [
      "Python\n"
     ]
    }
   ],
   "source": [
    "print(x)"
   ]
  },
  {
   "cell_type": "code",
   "execution_count": 8,
   "id": "fd367133",
   "metadata": {},
   "outputs": [
    {
     "data": {
      "text/plain": [
       "'---------Python'"
      ]
     },
     "execution_count": 8,
     "metadata": {},
     "output_type": "execute_result"
    }
   ],
   "source": [
    "x.rjust(15,'-')"
   ]
  },
  {
   "cell_type": "code",
   "execution_count": 9,
   "id": "c43a5bda",
   "metadata": {},
   "outputs": [
    {
     "data": {
      "text/plain": [
       "'Python---------'"
      ]
     },
     "execution_count": 9,
     "metadata": {},
     "output_type": "execute_result"
    }
   ],
   "source": [
    "x.ljust(15,'-')"
   ]
  },
  {
   "cell_type": "code",
   "execution_count": 10,
   "id": "d4907658",
   "metadata": {},
   "outputs": [
    {
     "data": {
      "text/plain": [
       "0"
      ]
     },
     "execution_count": 10,
     "metadata": {},
     "output_type": "execute_result"
    }
   ],
   "source": [
    "x.index(\"P\")"
   ]
  },
  {
   "cell_type": "code",
   "execution_count": 20,
   "id": "d2d70072",
   "metadata": {},
   "outputs": [
    {
     "data": {
      "text/plain": [
       "False"
      ]
     },
     "execution_count": 20,
     "metadata": {},
     "output_type": "execute_result"
    }
   ],
   "source": [
    "x=\"Python Programming\"\n",
    "x.index(\"P\")\n",
    "\n",
    "x.rindex(\"P\")\n",
    "\n",
    "x.count(\"o\")\n",
    "\n",
    "x.isupper()"
   ]
  },
  {
   "cell_type": "code",
   "execution_count": 21,
   "id": "9ffd547c",
   "metadata": {},
   "outputs": [
    {
     "data": {
      "text/plain": [
       "'PYTHON PROGRAMMING'"
      ]
     },
     "execution_count": 21,
     "metadata": {},
     "output_type": "execute_result"
    }
   ],
   "source": [
    "x.upper()"
   ]
  },
  {
   "cell_type": "code",
   "execution_count": 22,
   "id": "a018eed4",
   "metadata": {},
   "outputs": [
    {
     "data": {
      "text/plain": [
       "'python programming'"
      ]
     },
     "execution_count": 22,
     "metadata": {},
     "output_type": "execute_result"
    }
   ],
   "source": [
    "x.lower()"
   ]
  },
  {
   "cell_type": "code",
   "execution_count": 23,
   "id": "bb98594a",
   "metadata": {},
   "outputs": [
    {
     "data": {
      "text/plain": [
       "False"
      ]
     },
     "execution_count": 23,
     "metadata": {},
     "output_type": "execute_result"
    }
   ],
   "source": [
    "x.islower()"
   ]
  },
  {
   "cell_type": "code",
   "execution_count": 27,
   "id": "0d88b74f",
   "metadata": {},
   "outputs": [
    {
     "data": {
      "text/plain": [
       "True"
      ]
     },
     "execution_count": 27,
     "metadata": {},
     "output_type": "execute_result"
    }
   ],
   "source": [
    "x=\"asd123\"\n",
    "x.isalnum()"
   ]
  },
  {
   "cell_type": "code",
   "execution_count": 4,
   "id": "c71d2826",
   "metadata": {},
   "outputs": [
    {
     "data": {
      "text/plain": [
       "False"
      ]
     },
     "execution_count": 4,
     "metadata": {},
     "output_type": "execute_result"
    }
   ],
   "source": [
    "y=\"asd123$\"     # Because, It's contain a Speacial Character.\n",
    "y.isalnum()"
   ]
  },
  {
   "cell_type": "code",
   "execution_count": 5,
   "id": "92099fc5",
   "metadata": {},
   "outputs": [
    {
     "data": {
      "text/plain": [
       "False"
      ]
     },
     "execution_count": 5,
     "metadata": {},
     "output_type": "execute_result"
    }
   ],
   "source": [
    "z=\"asd 123\"     # Beacuse ,It's has a (_) Character.\n",
    "z.isalnum()"
   ]
  },
  {
   "cell_type": "code",
   "execution_count": 6,
   "id": "59431048",
   "metadata": {},
   "outputs": [
    {
     "data": {
      "text/plain": [
       "True"
      ]
     },
     "execution_count": 6,
     "metadata": {},
     "output_type": "execute_result"
    }
   ],
   "source": [
    "x=\"12334\"\n",
    "x.isalnum()"
   ]
  },
  {
   "cell_type": "code",
   "execution_count": 8,
   "id": "87ca1dac",
   "metadata": {},
   "outputs": [
    {
     "data": {
      "text/plain": [
       "True"
      ]
     },
     "execution_count": 8,
     "metadata": {},
     "output_type": "execute_result"
    }
   ],
   "source": [
    "x=\"santhosh\"\n",
    "x.isalnum()"
   ]
  },
  {
   "cell_type": "code",
   "execution_count": 9,
   "id": "cdf0dd29",
   "metadata": {},
   "outputs": [
    {
     "ename": "AttributeError",
     "evalue": "'int' object has no attribute 'isalnum'",
     "output_type": "error",
     "traceback": [
      "\u001b[1;31m---------------------------------------------------------------------------\u001b[0m",
      "\u001b[1;31mAttributeError\u001b[0m                            Traceback (most recent call last)",
      "\u001b[1;32m~\\AppData\\Local\\Temp\\ipykernel_7656\\3859785377.py\u001b[0m in \u001b[0;36m<module>\u001b[1;34m\u001b[0m\n\u001b[0;32m      1\u001b[0m \u001b[0mx\u001b[0m\u001b[1;33m=\u001b[0m\u001b[1;36m12323\u001b[0m\u001b[1;33m\u001b[0m\u001b[1;33m\u001b[0m\u001b[0m\n\u001b[1;32m----> 2\u001b[1;33m \u001b[0mx\u001b[0m\u001b[1;33m.\u001b[0m\u001b[0misalnum\u001b[0m\u001b[1;33m(\u001b[0m\u001b[1;33m)\u001b[0m\u001b[1;33m\u001b[0m\u001b[1;33m\u001b[0m\u001b[0m\n\u001b[0m",
      "\u001b[1;31mAttributeError\u001b[0m: 'int' object has no attribute 'isalnum'"
     ]
    }
   ],
   "source": [
    "x=12323\n",
    "x.isalnum()"
   ]
  },
  {
   "cell_type": "code",
   "execution_count": 10,
   "id": "13cba0ad",
   "metadata": {},
   "outputs": [
    {
     "data": {
      "text/plain": [
       "True"
      ]
     },
     "execution_count": 10,
     "metadata": {},
     "output_type": "execute_result"
    }
   ],
   "source": [
    "x=\"Santhosh\"\n",
    "x.isalpha()"
   ]
  },
  {
   "cell_type": "code",
   "execution_count": 11,
   "id": "b00d937e",
   "metadata": {},
   "outputs": [
    {
     "data": {
      "text/plain": [
       "True"
      ]
     },
     "execution_count": 11,
     "metadata": {},
     "output_type": "execute_result"
    }
   ],
   "source": [
    "x=\"1223\"\n",
    "x.isdigit()"
   ]
  },
  {
   "cell_type": "code",
   "execution_count": 13,
   "id": "4d053638",
   "metadata": {},
   "outputs": [
    {
     "data": {
      "text/plain": [
       "True"
      ]
     },
     "execution_count": 13,
     "metadata": {},
     "output_type": "execute_result"
    }
   ],
   "source": [
    "x=\"1223\"\n",
    "x.isdecimal()"
   ]
  },
  {
   "cell_type": "code",
   "execution_count": 14,
   "id": "33dfc08b",
   "metadata": {},
   "outputs": [
    {
     "data": {
      "text/plain": [
       "True"
      ]
     },
     "execution_count": 14,
     "metadata": {},
     "output_type": "execute_result"
    }
   ],
   "source": [
    "x.isnumeric()"
   ]
  },
  {
   "cell_type": "code",
   "execution_count": 15,
   "id": "78f8aa68",
   "metadata": {},
   "outputs": [
    {
     "data": {
      "text/plain": [
       "True"
      ]
     },
     "execution_count": 15,
     "metadata": {},
     "output_type": "execute_result"
    }
   ],
   "source": [
    "\"tot\".isidentifier()       # It's used to check a (Correct Variable Name Or Not)"
   ]
  },
  {
   "cell_type": "code",
   "execution_count": 17,
   "id": "f3949400",
   "metadata": {},
   "outputs": [
    {
     "data": {
      "text/plain": [
       "False"
      ]
     },
     "execution_count": 17,
     "metadata": {},
     "output_type": "execute_result"
    }
   ],
   "source": [
    "\"tot$\".isidentifier()      # Because it is contain a Special Character."
   ]
  },
  {
   "cell_type": "code",
   "execution_count": 2,
   "id": "743c3c7b",
   "metadata": {},
   "outputs": [
    {
     "data": {
      "text/plain": [
       "'Pyhton Programming            '"
      ]
     },
     "execution_count": 2,
     "metadata": {},
     "output_type": "execute_result"
    }
   ],
   "source": [
    "x=\"       Pyhton Programming            \"    # It remove the Left side space.\n",
    "\n",
    "x.lstrip()"
   ]
  },
  {
   "cell_type": "code",
   "execution_count": 3,
   "id": "c2316530",
   "metadata": {},
   "outputs": [
    {
     "data": {
      "text/plain": [
       "'       Pyhton Programming'"
      ]
     },
     "execution_count": 3,
     "metadata": {},
     "output_type": "execute_result"
    }
   ],
   "source": [
    "x.rstrip()                                   # It remove the Rigth side space."
   ]
  },
  {
   "cell_type": "code",
   "execution_count": 4,
   "id": "33646fe9",
   "metadata": {},
   "outputs": [
    {
     "data": {
      "text/plain": [
       "'Pyhton Programming'"
      ]
     },
     "execution_count": 4,
     "metadata": {},
     "output_type": "execute_result"
    }
   ],
   "source": [
    "x.strip()                                    # It remove the Space both left and rigth side."
   ]
  },
  {
   "cell_type": "code",
   "execution_count": 11,
   "id": "72053cfb",
   "metadata": {},
   "outputs": [
    {
     "name": "stdout",
     "output_type": "stream",
     "text": [
      "['Mango', 'Orange', 'Apple', 'Banana', 'PineApple']\n"
     ]
    }
   ],
   "source": [
    "fruits=\"Mango,Orange,Apple,Banana,PineApple\"\n",
    "\n",
    "lst=fruits.split(\",\")                        # It is used to Seprate a word.Where Comma(,) is placed.\n",
    "print(lst)"
   ]
  },
  {
   "cell_type": "code",
   "execution_count": 12,
   "id": "38a8012c",
   "metadata": {},
   "outputs": [
    {
     "name": "stdout",
     "output_type": "stream",
     "text": [
      "['Mango', 'Orange', 'Apple', 'Banana,PineApple']\n"
     ]
    }
   ],
   "source": [
    "lst=fruits.split(\",\",3)\n",
    "print(lst)"
   ]
  },
  {
   "cell_type": "code",
   "execution_count": 13,
   "id": "c321afcf",
   "metadata": {},
   "outputs": [
    {
     "name": "stdout",
     "output_type": "stream",
     "text": [
      "['Mango', 'Orange', 'Apple', 'Banana', 'PineApple']\n"
     ]
    }
   ],
   "source": [
    "fruits=\"Mango,Orange,Apple,Banana,PineApple\"\n",
    "\n",
    "lst=fruits.rsplit(\",\")                        # It is used to Seprate a word.Where Comma(,) is placed.\n",
    "print(lst)"
   ]
  },
  {
   "cell_type": "code",
   "execution_count": 15,
   "id": "9e2c0075",
   "metadata": {},
   "outputs": [
    {
     "data": {
      "text/plain": [
       "['Mango', 'Orange', 'Apple', 'Banana', 'PineApple']"
      ]
     },
     "execution_count": 15,
     "metadata": {},
     "output_type": "execute_result"
    }
   ],
   "source": [
    "lst"
   ]
  },
  {
   "cell_type": "code",
   "execution_count": 16,
   "id": "c8efd5a6",
   "metadata": {},
   "outputs": [
    {
     "name": "stdout",
     "output_type": "stream",
     "text": [
      "Mango,Orange,Apple,Banana,PineApple\n"
     ]
    }
   ],
   "source": [
    "a=\",\".join(lst)\n",
    "print(a)"
   ]
  },
  {
   "cell_type": "code",
   "execution_count": 19,
   "id": "1fb26d0c",
   "metadata": {},
   "outputs": [
    {
     "data": {
      "text/plain": [
       "True"
      ]
     },
     "execution_count": 19,
     "metadata": {},
     "output_type": "execute_result"
    }
   ],
   "source": [
    "a.startswith(\"Ma\")"
   ]
  },
  {
   "cell_type": "code",
   "execution_count": 21,
   "id": "4013b28c",
   "metadata": {},
   "outputs": [
    {
     "data": {
      "text/plain": [
       "True"
      ]
     },
     "execution_count": 21,
     "metadata": {},
     "output_type": "execute_result"
    }
   ],
   "source": [
    "a.endswith(\"le\")"
   ]
  },
  {
   "cell_type": "code",
   "execution_count": 22,
   "id": "8ca1f6dd",
   "metadata": {},
   "outputs": [
    {
     "data": {
      "text/plain": [
       "False"
      ]
     },
     "execution_count": 22,
     "metadata": {},
     "output_type": "execute_result"
    }
   ],
   "source": [
    "a.startswith(\"MA\")"
   ]
  },
  {
   "cell_type": "markdown",
   "id": "838a4586",
   "metadata": {},
   "source": [
    "# zfill ()  is used to fill a space.While arguments is given."
   ]
  },
  {
   "cell_type": "code",
   "execution_count": 23,
   "id": "b900fa12",
   "metadata": {},
   "outputs": [
    {
     "data": {
      "text/plain": [
       "'0035'"
      ]
     },
     "execution_count": 23,
     "metadata": {},
     "output_type": "execute_result"
    }
   ],
   "source": [
    "x=\"35\"\n",
    "x.zfill(4)"
   ]
  },
  {
   "cell_type": "code",
   "execution_count": 24,
   "id": "17309c89",
   "metadata": {},
   "outputs": [
    {
     "data": {
      "text/plain": [
       "'000000035'"
      ]
     },
     "execution_count": 24,
     "metadata": {},
     "output_type": "execute_result"
    }
   ],
   "source": [
    "x.zfill(9)"
   ]
  },
  {
   "cell_type": "markdown",
   "id": "34aecd76",
   "metadata": {},
   "source": [
    "# Regular Expression   (re)"
   ]
  },
  {
   "cell_type": "code",
   "execution_count": 25,
   "id": "7a9e27f9",
   "metadata": {},
   "outputs": [],
   "source": [
    "import re"
   ]
  },
  {
   "cell_type": "code",
   "execution_count": 26,
   "id": "4ec48207",
   "metadata": {},
   "outputs": [
    {
     "data": {
      "text/plain": [
       "10"
      ]
     },
     "execution_count": 26,
     "metadata": {},
     "output_type": "execute_result"
    }
   ],
   "source": [
    "text=\"This is a simple\"\n",
    "text.index(\"simple\")"
   ]
  },
  {
   "cell_type": "code",
   "execution_count": 29,
   "id": "415627c4",
   "metadata": {},
   "outputs": [
    {
     "data": {
      "text/plain": [
       "10"
      ]
     },
     "execution_count": 29,
     "metadata": {},
     "output_type": "execute_result"
    }
   ],
   "source": [
    "import re\n",
    "\n",
    "text=\"This is a Sample\"\n",
    "\n",
    "text.find(\"Sample\")"
   ]
  },
  {
   "cell_type": "code",
   "execution_count": 30,
   "id": "050c837c",
   "metadata": {},
   "outputs": [
    {
     "data": {
      "text/plain": [
       "True"
      ]
     },
     "execution_count": 30,
     "metadata": {},
     "output_type": "execute_result"
    }
   ],
   "source": [
    "\"Sample\" in text"
   ]
  },
  {
   "cell_type": "code",
   "execution_count": 41,
   "id": "5291c794",
   "metadata": {},
   "outputs": [
    {
     "name": "stdout",
     "output_type": "stream",
     "text": [
      "<re.Match object; span=(95, 105), match='6369923487'>\n"
     ]
    }
   ],
   "source": [
    "# It is used to (Seprate a Phone) in given a whole text.\n",
    "\n",
    "txt=\"This is a sample document.This is having some phone numbers you can use this type Phone number 6369923487 and 6378234555.\"\n",
    "\n",
    "p=\"\\d\\d\\d\\d\\d\\d\\d\\d\\d\\d\"\n",
    "\n",
    "result=re.search(p,txt)\n",
    "print(result)"
   ]
  },
  {
   "cell_type": "code",
   "execution_count": 42,
   "id": "28e23461",
   "metadata": {},
   "outputs": [
    {
     "data": {
      "text/plain": [
       "'6369923487'"
      ]
     },
     "execution_count": 42,
     "metadata": {},
     "output_type": "execute_result"
    }
   ],
   "source": [
    "result.group()"
   ]
  },
  {
   "cell_type": "code",
   "execution_count": 43,
   "id": "34aba1ac",
   "metadata": {},
   "outputs": [
    {
     "data": {
      "text/plain": [
       "(95, 105)"
      ]
     },
     "execution_count": 43,
     "metadata": {},
     "output_type": "execute_result"
    }
   ],
   "source": [
    "result.span()       # It specified the index position Or location."
   ]
  },
  {
   "cell_type": "code",
   "execution_count": 44,
   "id": "cf282e7c",
   "metadata": {},
   "outputs": [
    {
     "data": {
      "text/plain": [
       "['A',\n",
       " 'ASCII',\n",
       " 'DEBUG',\n",
       " 'DOTALL',\n",
       " 'I',\n",
       " 'IGNORECASE',\n",
       " 'L',\n",
       " 'LOCALE',\n",
       " 'M',\n",
       " 'MULTILINE',\n",
       " 'Match',\n",
       " 'Pattern',\n",
       " 'RegexFlag',\n",
       " 'S',\n",
       " 'Scanner',\n",
       " 'T',\n",
       " 'TEMPLATE',\n",
       " 'U',\n",
       " 'UNICODE',\n",
       " 'VERBOSE',\n",
       " 'X',\n",
       " '_MAXCACHE',\n",
       " '__all__',\n",
       " '__builtins__',\n",
       " '__cached__',\n",
       " '__doc__',\n",
       " '__file__',\n",
       " '__loader__',\n",
       " '__name__',\n",
       " '__package__',\n",
       " '__spec__',\n",
       " '__version__',\n",
       " '_cache',\n",
       " '_compile',\n",
       " '_compile_repl',\n",
       " '_expand',\n",
       " '_locale',\n",
       " '_pickle',\n",
       " '_special_chars_map',\n",
       " '_subx',\n",
       " 'compile',\n",
       " 'copyreg',\n",
       " 'enum',\n",
       " 'error',\n",
       " 'escape',\n",
       " 'findall',\n",
       " 'finditer',\n",
       " 'fullmatch',\n",
       " 'functools',\n",
       " 'match',\n",
       " 'purge',\n",
       " 'search',\n",
       " 'split',\n",
       " 'sre_compile',\n",
       " 'sre_parse',\n",
       " 'sub',\n",
       " 'subn',\n",
       " 'template']"
      ]
     },
     "execution_count": 44,
     "metadata": {},
     "output_type": "execute_result"
    }
   ],
   "source": [
    "dir(re)"
   ]
  },
  {
   "cell_type": "code",
   "execution_count": 45,
   "id": "6553eacc",
   "metadata": {},
   "outputs": [
    {
     "data": {
      "text/plain": [
       "<re.Match object; span=(95, 105), match='6369923487'>"
      ]
     },
     "execution_count": 45,
     "metadata": {},
     "output_type": "execute_result"
    }
   ],
   "source": [
    "result=re.finditer(p,txt)\n",
    "next(result)"
   ]
  },
  {
   "cell_type": "code",
   "execution_count": 46,
   "id": "08602c6d",
   "metadata": {},
   "outputs": [
    {
     "data": {
      "text/plain": [
       "<re.Match object; span=(110, 120), match='6378234555'>"
      ]
     },
     "execution_count": 46,
     "metadata": {},
     "output_type": "execute_result"
    }
   ],
   "source": [
    "next(result)"
   ]
  },
  {
   "cell_type": "code",
   "execution_count": 49,
   "id": "6f31c3cd",
   "metadata": {},
   "outputs": [
    {
     "name": "stdout",
     "output_type": "stream",
     "text": [
      "6369923487\n",
      "6378234555\n"
     ]
    }
   ],
   "source": [
    "result=re.finditer(p,txt)\n",
    "\n",
    "for i in result:\n",
    "    print(i.group())"
   ]
  },
  {
   "cell_type": "code",
   "execution_count": 50,
   "id": "d0aa3b45",
   "metadata": {},
   "outputs": [
    {
     "name": "stdout",
     "output_type": "stream",
     "text": [
      "6369923487 (95, 105)\n",
      "6378234555 (110, 120)\n"
     ]
    }
   ],
   "source": [
    "result=re.finditer(p,txt)\n",
    "\n",
    "for i in result:\n",
    "    print(i.group(),i.span())"
   ]
  },
  {
   "cell_type": "code",
   "execution_count": 51,
   "id": "0a4c9438",
   "metadata": {},
   "outputs": [
    {
     "data": {
      "text/plain": [
       "['6369923487', '6378234555']"
      ]
     },
     "execution_count": 51,
     "metadata": {},
     "output_type": "execute_result"
    }
   ],
   "source": [
    "result=re.findall(p,txt)\n",
    "\n",
    "result"
   ]
  },
  {
   "cell_type": "code",
   "execution_count": 52,
   "id": "108f5ae3",
   "metadata": {},
   "outputs": [
    {
     "name": "stdout",
     "output_type": "stream",
     "text": [
      "['6369923487', '6378234555']\n"
     ]
    }
   ],
   "source": [
    "txt=\"This is a sample document.This is having some phone numbers you can use this type Phone number 6369923487 and 6378234555.\"\n",
    "\n",
    "p=\"\\d{10}\"\n",
    "\n",
    "result=re.findall(p,txt)\n",
    "print(result)\n"
   ]
  },
  {
   "cell_type": "code",
   "execution_count": 53,
   "id": "cf038da3",
   "metadata": {},
   "outputs": [
    {
     "name": "stdout",
     "output_type": "stream",
     "text": [
      "['63699234', '63782345']\n"
     ]
    }
   ],
   "source": [
    "p=\"\\d{8}\"\n",
    "\n",
    "result=re.findall(p,txt)\n",
    "print(result)\n"
   ]
  },
  {
   "cell_type": "code",
   "execution_count": 54,
   "id": "5cd81cda",
   "metadata": {},
   "outputs": [
    {
     "name": "stdout",
     "output_type": "stream",
     "text": [
      "['6369923487', '6378234555']\n"
     ]
    }
   ],
   "source": [
    "p=\"\\d{8,10}\"\n",
    "\n",
    "result=re.findall(p,txt)\n",
    "print(result)\n"
   ]
  },
  {
   "cell_type": "code",
   "execution_count": 56,
   "id": "70be6f45",
   "metadata": {},
   "outputs": [
    {
     "name": "stdout",
     "output_type": "stream",
     "text": [
      "['12345678', '12312334', '56432334', '908990870']\n"
     ]
    }
   ],
   "source": [
    "number=\"12345678,12312334,56432334,908990870\"\n",
    "\n",
    "p=\"\\d{8,10}\"\n",
    "\n",
    "result=re.findall(p,number)\n",
    "print(result)\n"
   ]
  },
  {
   "cell_type": "code",
   "execution_count": 57,
   "id": "b6d30850",
   "metadata": {},
   "outputs": [
    {
     "name": "stdout",
     "output_type": "stream",
     "text": [
      "['12345678', '', '12312334', '', '56432334', '', '908990870', '']\n"
     ]
    }
   ],
   "source": [
    "txt=\"12345678,12312334,56432334,908990870\"\n",
    "\n",
    "p=\"\\d*\"\n",
    "\n",
    "result=re.findall(p,txt)\n",
    "print(result)\n"
   ]
  },
  {
   "cell_type": "code",
   "execution_count": 58,
   "id": "be953181",
   "metadata": {},
   "outputs": [
    {
     "name": "stdout",
     "output_type": "stream",
     "text": [
      "['12345678', '12312334', '56432334', '908990870']\n"
     ]
    }
   ],
   "source": [
    "p=\"\\d+\"\n",
    "\n",
    "result=re.findall(p,txt)\n",
    "print(result)\n"
   ]
  },
  {
   "cell_type": "code",
   "execution_count": 61,
   "id": "963971a2",
   "metadata": {},
   "outputs": [
    {
     "name": "stdout",
     "output_type": "stream",
     "text": [
      "['sample', 'gmail', 'com']\n"
     ]
    }
   ],
   "source": [
    "txt=\"sample@gmail.com\"\n",
    "\n",
    "p=\"\\w+\"                      # It is a small (w).\n",
    "\n",
    "result=re.findall(p,txt)\n",
    "print(result)"
   ]
  },
  {
   "cell_type": "code",
   "execution_count": 62,
   "id": "df7f1cd4",
   "metadata": {},
   "outputs": [
    {
     "name": "stdout",
     "output_type": "stream",
     "text": [
      "['@', '.']\n"
     ]
    }
   ],
   "source": [
    "p=\"\\W+\"                      # It is a small (W).\n",
    "\n",
    "result=re.findall(p,txt)\n",
    "print(result)"
   ]
  },
  {
   "cell_type": "code",
   "execution_count": 65,
   "id": "b9690449",
   "metadata": {},
   "outputs": [
    {
     "name": "stdout",
     "output_type": "stream",
     "text": [
      "['100']\n"
     ]
    }
   ],
   "source": [
    "txt=\"There are 100 Elephants\"\n",
    "\n",
    "p=\"\\d+\"\n",
    "\n",
    "result=re.findall(p,txt)\n",
    "print(result)"
   ]
  },
  {
   "cell_type": "code",
   "execution_count": 66,
   "id": "517412c7",
   "metadata": {},
   "outputs": [
    {
     "name": "stdout",
     "output_type": "stream",
     "text": [
      "['There are ', ' Elephants']\n"
     ]
    }
   ],
   "source": [
    "p=\"\\D+\"\n",
    "\n",
    "result=re.findall(p,txt)\n",
    "print(result)"
   ]
  },
  {
   "cell_type": "code",
   "execution_count": 67,
   "id": "35507ca2",
   "metadata": {},
   "outputs": [
    {
     "name": "stdout",
     "output_type": "stream",
     "text": [
      "['his', 'is', 'sample']\n"
     ]
    }
   ],
   "source": [
    "txt=\"This is sample\"\n",
    "\n",
    "p=\"[a-z]+\"\n",
    "\n",
    "result=re.findall(p,txt)\n",
    "print(result)\n",
    "\n",
    "# 'T' is not print.Because,'T' is a Captial Letter."
   ]
  },
  {
   "cell_type": "code",
   "execution_count": 68,
   "id": "6dde8989",
   "metadata": {},
   "outputs": [
    {
     "name": "stdout",
     "output_type": "stream",
     "text": [
      "['this', 'is', 'sample']\n"
     ]
    }
   ],
   "source": [
    "txt=\"this is sample\"\n",
    "\n",
    "p=\"[a-z]+\"\n",
    "\n",
    "result=re.findall(p,txt)\n",
    "print(result)"
   ]
  },
  {
   "cell_type": "code",
   "execution_count": 69,
   "id": "d65e1ba2",
   "metadata": {},
   "outputs": [
    {
     "name": "stdout",
     "output_type": "stream",
     "text": [
      "['This', 'is', 'Sample', 'program']\n"
     ]
    }
   ],
   "source": [
    "txt=\"This is Sample program\"\n",
    "\n",
    "p=\"[a-zA-Z]+\"\n",
    "\n",
    "result=re.findall(p,txt)\n",
    "print(result)"
   ]
  },
  {
   "cell_type": "code",
   "execution_count": 73,
   "id": "2e70b9fc",
   "metadata": {},
   "outputs": [
    {
     "name": "stdout",
     "output_type": "stream",
     "text": [
      "['T', 'Sa', 'a', 'T', 'a', 'd', 'a', 'c', 'a']\n"
     ]
    }
   ],
   "source": [
    "txt=\"This is Sample program.There are 10 students in a class.\"\n",
    "\n",
    "p=\"[a-dA-Z]+\"                           # Here limit is given.\n",
    "\n",
    "result=re.findall(p,txt)\n",
    "print(result)"
   ]
  },
  {
   "cell_type": "code",
   "execution_count": 77,
   "id": "6aaa7751",
   "metadata": {},
   "outputs": [
    {
     "name": "stdout",
     "output_type": "stream",
     "text": [
      "['santhosh@gmail.com', 'praveen@yahoo.com']\n"
     ]
    }
   ],
   "source": [
    "mail=\"santhosh@gmail.com,praveen@yahoo.com,abc.gmail.com,ramhotmail.com\"\n",
    "\n",
    "p=\"\\w+[.-]?\\w+@\\w+\\.\\w{2,3}\"             # It is a condition.It is work based on the condition. \n",
    "\n",
    "result=re.findall(p,mail)\n",
    "print(result)"
   ]
  },
  {
   "cell_type": "code",
   "execution_count": 78,
   "id": "4bbced98",
   "metadata": {},
   "outputs": [
    {
     "name": "stdout",
     "output_type": "stream",
     "text": [
      "['santhosh@gmail.com', 'praveen@yahoo.com', 'ramhot@mail.com']\n"
     ]
    }
   ],
   "source": [
    "mail=\"santhosh@gmail.com,praveen@yahoo.com,abc.gmail.com,ramhot@mail.com\"\n",
    "\n",
    "p=\"\\w+[.-]?\\w+@\\w+\\.\\w{2,3}\"             # It is a condition.It is work based on the condition. \n",
    "\n",
    "result=re.findall(p,mail)\n",
    "print(result)"
   ]
  },
  {
   "cell_type": "markdown",
   "id": "ae15c606",
   "metadata": {},
   "source": [
    "# Exception Handling\n"
   ]
  },
  {
   "cell_type": "raw",
   "id": "625e10c8",
   "metadata": {},
   "source": [
    "In Exception Handling is two types exception....\n",
    "\n",
    "i)Syntax Exception\n",
    "\n",
    "ii)Logical Exception"
   ]
  },
  {
   "cell_type": "code",
   "execution_count": 1,
   "id": "a3eeea68",
   "metadata": {},
   "outputs": [
    {
     "name": "stdout",
     "output_type": "stream",
     "text": [
      "Enter a Number :10\n",
      "Enter a Number :5\n",
      "2.0\n"
     ]
    }
   ],
   "source": [
    "x=int(input(\"Enter a Number :\"))\n",
    "y=int(input(\"Enter a Number :\"))\n",
    "\n",
    "print(x/y)"
   ]
  },
  {
   "cell_type": "code",
   "execution_count": 2,
   "id": "f1774a6c",
   "metadata": {},
   "outputs": [
    {
     "name": "stdout",
     "output_type": "stream",
     "text": [
      "Enter a Number :10\n",
      "Enter a Number :0\n"
     ]
    },
    {
     "ename": "ZeroDivisionError",
     "evalue": "division by zero",
     "output_type": "error",
     "traceback": [
      "\u001b[1;31m---------------------------------------------------------------------------\u001b[0m",
      "\u001b[1;31mZeroDivisionError\u001b[0m                         Traceback (most recent call last)",
      "\u001b[1;32m~\\AppData\\Local\\Temp\\ipykernel_720\\766779561.py\u001b[0m in \u001b[0;36m<module>\u001b[1;34m\u001b[0m\n\u001b[0;32m      2\u001b[0m \u001b[0my\u001b[0m\u001b[1;33m=\u001b[0m\u001b[0mint\u001b[0m\u001b[1;33m(\u001b[0m\u001b[0minput\u001b[0m\u001b[1;33m(\u001b[0m\u001b[1;34m\"Enter a Number :\"\u001b[0m\u001b[1;33m)\u001b[0m\u001b[1;33m)\u001b[0m\u001b[1;33m\u001b[0m\u001b[1;33m\u001b[0m\u001b[0m\n\u001b[0;32m      3\u001b[0m \u001b[1;33m\u001b[0m\u001b[0m\n\u001b[1;32m----> 4\u001b[1;33m \u001b[0mprint\u001b[0m\u001b[1;33m(\u001b[0m\u001b[0mx\u001b[0m\u001b[1;33m/\u001b[0m\u001b[0my\u001b[0m\u001b[1;33m)\u001b[0m\u001b[1;33m\u001b[0m\u001b[1;33m\u001b[0m\u001b[0m\n\u001b[0m",
      "\u001b[1;31mZeroDivisionError\u001b[0m: division by zero"
     ]
    }
   ],
   "source": [
    "x=int(input(\"Enter a Number :\"))\n",
    "y=int(input(\"Enter a Number :\"))\n",
    "\n",
    "print(x/y)"
   ]
  },
  {
   "cell_type": "code",
   "execution_count": 3,
   "id": "010fa934",
   "metadata": {},
   "outputs": [
    {
     "name": "stdout",
     "output_type": "stream",
     "text": [
      "Enter a Number :5\n",
      "Enter a nnumber :2\n",
      "2.5\n"
     ]
    }
   ],
   "source": [
    "try:\n",
    "    x=int(input(\"Enter a Number :\"))\n",
    "    y=int(input(\"Enter a nnumber :\"))\n",
    "    \n",
    "    print(x/y)\n",
    "    \n",
    "except:\n",
    "    print(\"Error!!!\")"
   ]
  },
  {
   "cell_type": "code",
   "execution_count": 5,
   "id": "db6dd05a",
   "metadata": {},
   "outputs": [
    {
     "name": "stdout",
     "output_type": "stream",
     "text": [
      "Enter a Number :5\n",
      "Enter a nnumber :0\n",
      "Error!\n"
     ]
    }
   ],
   "source": [
    "try:\n",
    "    x=int(input(\"Enter a Number :\"))\n",
    "    y=int(input(\"Enter a nnumber :\"))\n",
    "    \n",
    "    print(x/y)\n",
    "    \n",
    "except:\n",
    "    print(\"Error!\")   # It print a error"
   ]
  },
  {
   "cell_type": "code",
   "execution_count": 8,
   "id": "9a7afe7f",
   "metadata": {},
   "outputs": [
    {
     "name": "stdout",
     "output_type": "stream",
     "text": [
      "Enter a Number :0\n",
      "Enter a Number :5\n",
      "0.0\n"
     ]
    }
   ],
   "source": [
    "# How will be Decode the Error....\n",
    "\n",
    "try:\n",
    "    x=int(input(\"Enter a Number :\"))\n",
    "    y=int(input(\"Enter a Number :\"))\n",
    "    print(x/y)\n",
    "    \n",
    "except:\n",
    "    while y==0:\n",
    "        y=int(input(\"Enter a Valid Number :\"))\n",
    "    print(x/y)"
   ]
  },
  {
   "cell_type": "code",
   "execution_count": 18,
   "id": "c030fbc1",
   "metadata": {},
   "outputs": [
    {
     "ename": "IndexError",
     "evalue": "list index out of range",
     "output_type": "error",
     "traceback": [
      "\u001b[1;31m---------------------------------------------------------------------------\u001b[0m",
      "\u001b[1;31mIndexError\u001b[0m                                Traceback (most recent call last)",
      "\u001b[1;32m~\\AppData\\Local\\Temp\\ipykernel_720\\3142041158.py\u001b[0m in \u001b[0;36m<module>\u001b[1;34m\u001b[0m\n\u001b[0;32m      1\u001b[0m \u001b[0mlst\u001b[0m\u001b[1;33m=\u001b[0m\u001b[1;33m[\u001b[0m\u001b[1;36m12\u001b[0m\u001b[1;33m,\u001b[0m\u001b[1;36m13\u001b[0m\u001b[1;33m,\u001b[0m\u001b[1;36m15\u001b[0m\u001b[1;33m,\u001b[0m\u001b[1;36m18\u001b[0m\u001b[1;33m]\u001b[0m\u001b[1;33m\u001b[0m\u001b[1;33m\u001b[0m\u001b[0m\n\u001b[0;32m      2\u001b[0m \u001b[1;33m\u001b[0m\u001b[0m\n\u001b[1;32m----> 3\u001b[1;33m \u001b[0mprint\u001b[0m\u001b[1;33m(\u001b[0m\u001b[0mlst\u001b[0m\u001b[1;33m[\u001b[0m\u001b[1;36m12\u001b[0m\u001b[1;33m]\u001b[0m\u001b[1;33m)\u001b[0m\u001b[1;33m\u001b[0m\u001b[1;33m\u001b[0m\u001b[0m\n\u001b[0m",
      "\u001b[1;31mIndexError\u001b[0m: list index out of range"
     ]
    }
   ],
   "source": [
    "lst=[12,13,15,18]\n",
    "\n",
    "print(lst[12])"
   ]
  },
  {
   "cell_type": "code",
   "execution_count": 21,
   "id": "9f71241b",
   "metadata": {},
   "outputs": [
    {
     "name": "stdout",
     "output_type": "stream",
     "text": [
      "12\n"
     ]
    }
   ],
   "source": [
    "try:\n",
    "    print(lst[0])\n",
    "    \n",
    "except:\n",
    "    print(\"Index Value out Of Arrange....\")"
   ]
  },
  {
   "cell_type": "code",
   "execution_count": 20,
   "id": "caf502ec",
   "metadata": {},
   "outputs": [
    {
     "name": "stdout",
     "output_type": "stream",
     "text": [
      "Invalid Syntax Re-run the Program with proper Input....\n"
     ]
    }
   ],
   "source": [
    "try:\n",
    "    print(lst[22])\n",
    "    \n",
    "except:\n",
    "    print(\"Invalid Syntax Re-run the Program with proper Input....\")"
   ]
  },
  {
   "cell_type": "code",
   "execution_count": 1,
   "id": "82950bb1",
   "metadata": {},
   "outputs": [
    {
     "data": {
      "text/plain": [
       "9"
      ]
     },
     "execution_count": 1,
     "metadata": {},
     "output_type": "execute_result"
    }
   ],
   "source": [
    "int(\"9\")    # Here,Give a Integer value .So it not through a Error."
   ]
  },
  {
   "cell_type": "code",
   "execution_count": 2,
   "id": "ea8db55e",
   "metadata": {},
   "outputs": [
    {
     "ename": "ValueError",
     "evalue": "invalid literal for int() with base 10: 'Sam'",
     "output_type": "error",
     "traceback": [
      "\u001b[1;31m---------------------------------------------------------------------------\u001b[0m",
      "\u001b[1;31mValueError\u001b[0m                                Traceback (most recent call last)",
      "\u001b[1;32m~\\AppData\\Local\\Temp\\ipykernel_5908\\516797252.py\u001b[0m in \u001b[0;36m<module>\u001b[1;34m\u001b[0m\n\u001b[1;32m----> 1\u001b[1;33m \u001b[0mint\u001b[0m\u001b[1;33m(\u001b[0m\u001b[1;34m\"Sam\"\u001b[0m\u001b[1;33m)\u001b[0m  \u001b[1;31m# Suppose we will give string value.It through a Error.\u001b[0m\u001b[1;33m\u001b[0m\u001b[1;33m\u001b[0m\u001b[0m\n\u001b[0m",
      "\u001b[1;31mValueError\u001b[0m: invalid literal for int() with base 10: 'Sam'"
     ]
    }
   ],
   "source": [
    "int(\"Sam\")  # Suppose we will give string value.It through a Error."
   ]
  },
  {
   "cell_type": "code",
   "execution_count": 23,
   "id": "0e798611",
   "metadata": {},
   "outputs": [
    {
     "name": "stdout",
     "output_type": "stream",
     "text": [
      "Enter a Numeric Value :22\n"
     ]
    }
   ],
   "source": [
    "try:\n",
    "    int(\"Vasu\")\n",
    "    \n",
    "except :\n",
    "    x=input(\"Enter a Numeric Value :\")\n",
    "    \n",
    "    if x.isdigit():\n",
    "        int(x)\n",
    "    else:\n",
    "        print(\"Please run with Proper Index\")"
   ]
  },
  {
   "cell_type": "code",
   "execution_count": 24,
   "id": "acbb26a4",
   "metadata": {},
   "outputs": [
    {
     "name": "stdout",
     "output_type": "stream",
     "text": [
      "Enter a Numeric Value :Ram\n",
      "Please run with Proper Index\n"
     ]
    }
   ],
   "source": [
    "try:\n",
    "    int(\"Vasu\")\n",
    "    \n",
    "except :\n",
    "    x=input(\"Enter a Numeric Value :\")\n",
    "    \n",
    "    if x.isdigit():\n",
    "        int(x)\n",
    "    else:\n",
    "        print(\"Please run with Proper Index\")"
   ]
  },
  {
   "cell_type": "code",
   "execution_count": 5,
   "id": "3a7be1cb",
   "metadata": {},
   "outputs": [
    {
     "name": "stdout",
     "output_type": "stream",
     "text": [
      "Sam\n"
     ]
    }
   ],
   "source": [
    "x={1:\"Sam\",2:\"Ram\"}\n",
    "\n",
    "print(x[1])"
   ]
  },
  {
   "cell_type": "code",
   "execution_count": 10,
   "id": "2c15150f",
   "metadata": {},
   "outputs": [
    {
     "name": "stdout",
     "output_type": "stream",
     "text": [
      "Enter a Key Value :3\n",
      "Key Error\n"
     ]
    }
   ],
   "source": [
    "try:\n",
    "    x={1:\"Sam\",2:\"Ram\"}\n",
    "\n",
    "    n=int(input(\"Enter a Key Value :\"))\n",
    "\n",
    "    print(x[n])\n",
    "    \n",
    "except:\n",
    "    print(\"Key error value out of range.\")"
   ]
  },
  {
   "cell_type": "code",
   "execution_count": 36,
   "id": "48718605",
   "metadata": {},
   "outputs": [
    {
     "name": "stdout",
     "output_type": "stream",
     "text": [
      "Enter a age :5\n"
     ]
    },
    {
     "ename": "NameError",
     "evalue": "name 'AgeException' is not defined",
     "output_type": "error",
     "traceback": [
      "\u001b[1;31m---------------------------------------------------------------------------\u001b[0m",
      "\u001b[1;31mNameError\u001b[0m                                 Traceback (most recent call last)",
      "\u001b[1;32m~\\AppData\\Local\\Temp\\ipykernel_720\\3823458320.py\u001b[0m in \u001b[0;36m<module>\u001b[1;34m\u001b[0m\n\u001b[0;32m      8\u001b[0m         \u001b[1;32mreturn\u001b[0m \u001b[0mage\u001b[0m\u001b[1;33m\u001b[0m\u001b[1;33m\u001b[0m\u001b[0m\n\u001b[0;32m      9\u001b[0m \u001b[1;33m\u001b[0m\u001b[0m\n\u001b[1;32m---> 10\u001b[1;33m \u001b[0mgetage\u001b[0m\u001b[1;33m(\u001b[0m\u001b[1;33m)\u001b[0m   \u001b[1;31m# Doubt\u001b[0m\u001b[1;33m\u001b[0m\u001b[1;33m\u001b[0m\u001b[0m\n\u001b[0m",
      "\u001b[1;32m~\\AppData\\Local\\Temp\\ipykernel_720\\3823458320.py\u001b[0m in \u001b[0;36mgetage\u001b[1;34m()\u001b[0m\n\u001b[0;32m      3\u001b[0m \u001b[1;33m\u001b[0m\u001b[0m\n\u001b[0;32m      4\u001b[0m     \u001b[1;32mif\u001b[0m \u001b[0mage\u001b[0m\u001b[1;33m<\u001b[0m\u001b[1;36m18\u001b[0m \u001b[1;32mor\u001b[0m \u001b[0mage\u001b[0m\u001b[1;33m>\u001b[0m\u001b[1;36m60\u001b[0m\u001b[1;33m:\u001b[0m\u001b[1;33m\u001b[0m\u001b[1;33m\u001b[0m\u001b[0m\n\u001b[1;32m----> 5\u001b[1;33m         \u001b[1;32mraise\u001b[0m \u001b[0mAgeException\u001b[0m\u001b[1;33m(\u001b[0m\u001b[1;34m\"Invalid Age Range...\"\u001b[0m\u001b[1;33m)\u001b[0m\u001b[1;33m\u001b[0m\u001b[1;33m\u001b[0m\u001b[0m\n\u001b[0m\u001b[0;32m      6\u001b[0m \u001b[1;33m\u001b[0m\u001b[0m\n\u001b[0;32m      7\u001b[0m     \u001b[1;32melse\u001b[0m\u001b[1;33m:\u001b[0m\u001b[1;33m\u001b[0m\u001b[1;33m\u001b[0m\u001b[0m\n",
      "\u001b[1;31mNameError\u001b[0m: name 'AgeException' is not defined"
     ]
    }
   ],
   "source": [
    "def getage():\n",
    "    age=int(input(\"Enter a age :\"))\n",
    "    \n",
    "    if age<18 or age>60:\n",
    "        raise AgeException(\"Invalid Age Range...\")\n",
    "    \n",
    "    else:\n",
    "        return age\n",
    "    \n",
    "getage()   # Doubt..."
   ]
  },
  {
   "cell_type": "code",
   "execution_count": 14,
   "id": "0e041671",
   "metadata": {},
   "outputs": [
    {
     "name": "stdout",
     "output_type": "stream",
     "text": [
      "Enter a age :14\n"
     ]
    },
    {
     "ename": "AgeException",
     "evalue": "Invalid Age Range...",
     "output_type": "error",
     "traceback": [
      "\u001b[1;31m---------------------------------------------------------------------------\u001b[0m",
      "\u001b[1;31mAgeException\u001b[0m                              Traceback (most recent call last)",
      "\u001b[1;32m~\\AppData\\Local\\Temp\\ipykernel_9008\\66329805.py\u001b[0m in \u001b[0;36m<module>\u001b[1;34m\u001b[0m\n\u001b[0;32m     16\u001b[0m         \u001b[1;32mreturn\u001b[0m \u001b[0mage\u001b[0m\u001b[1;33m\u001b[0m\u001b[1;33m\u001b[0m\u001b[0m\n\u001b[0;32m     17\u001b[0m \u001b[1;33m\u001b[0m\u001b[0m\n\u001b[1;32m---> 18\u001b[1;33m \u001b[0mgetage\u001b[0m\u001b[1;33m(\u001b[0m\u001b[1;33m)\u001b[0m                              \u001b[1;31m# Doubt...\u001b[0m\u001b[1;33m\u001b[0m\u001b[1;33m\u001b[0m\u001b[0m\n\u001b[0m",
      "\u001b[1;32m~\\AppData\\Local\\Temp\\ipykernel_9008\\66329805.py\u001b[0m in \u001b[0;36mgetage\u001b[1;34m()\u001b[0m\n\u001b[0;32m     11\u001b[0m \u001b[1;33m\u001b[0m\u001b[0m\n\u001b[0;32m     12\u001b[0m     \u001b[1;32mif\u001b[0m \u001b[0mage\u001b[0m\u001b[1;33m<\u001b[0m\u001b[1;36m18\u001b[0m \u001b[1;32mor\u001b[0m \u001b[0mage\u001b[0m\u001b[1;33m>\u001b[0m\u001b[1;36m60\u001b[0m\u001b[1;33m:\u001b[0m\u001b[1;33m\u001b[0m\u001b[1;33m\u001b[0m\u001b[0m\n\u001b[1;32m---> 13\u001b[1;33m         \u001b[1;32mraise\u001b[0m \u001b[0mAgeException\u001b[0m\u001b[1;33m(\u001b[0m\u001b[1;34m\"Invalid Age Range...\"\u001b[0m\u001b[1;33m)\u001b[0m\u001b[1;33m\u001b[0m\u001b[1;33m\u001b[0m\u001b[0m\n\u001b[0m\u001b[0;32m     14\u001b[0m \u001b[1;33m\u001b[0m\u001b[0m\n\u001b[0;32m     15\u001b[0m     \u001b[1;32melse\u001b[0m\u001b[1;33m:\u001b[0m\u001b[1;33m\u001b[0m\u001b[1;33m\u001b[0m\u001b[0m\n",
      "\u001b[1;31mAgeException\u001b[0m: Invalid Age Range..."
     ]
    }
   ],
   "source": [
    "class AgeException(Exception):\n",
    "    def __init__(self,msg):\n",
    "        self.msg=msg\n",
    "        \n",
    "    def __str__(self):\n",
    "        return self.msg\n",
    "    \n",
    "    \n",
    "def getage():\n",
    "    age=int(input(\"Enter a age :\"))\n",
    "    \n",
    "    if age<18 or age>60:\n",
    "        raise AgeException(\"Invalid Age Range...\")\n",
    "    \n",
    "    else:\n",
    "        return age\n",
    "        \n",
    "getage()                "
   ]
  },
  {
   "cell_type": "code",
   "execution_count": 16,
   "id": "94b4c3e4",
   "metadata": {},
   "outputs": [
    {
     "name": "stdout",
     "output_type": "stream",
     "text": [
      "Enter a age :12\n",
      "Invalid Age Range...\n"
     ]
    }
   ],
   "source": [
    "class AgeException(Exception):\n",
    "    def __init__(self,msg):\n",
    "        self.msg=msg\n",
    "        \n",
    "    def __str__(self):\n",
    "        return self.msg\n",
    "    \n",
    "    \n",
    "def getage():\n",
    "    age=int(input(\"Enter a age :\"))\n",
    "    \n",
    "    if age<18 or age>60:\n",
    "        raise AgeException(\"Invalid Age Range...\")\n",
    "    \n",
    "    else:\n",
    "        return age\n",
    "try:\n",
    "    getage()           \n",
    "    \n",
    "except Exception as e:\n",
    "     print(e)"
   ]
  },
  {
   "cell_type": "markdown",
   "id": "c51d255d",
   "metadata": {},
   "source": [
    "# OOP in Python\n"
   ]
  },
  {
   "cell_type": "code",
   "execution_count": 18,
   "id": "588af082",
   "metadata": {},
   "outputs": [
    {
     "data": {
      "text/plain": [
       "<__main__.Student at 0x29d743bf2e0>"
      ]
     },
     "execution_count": 18,
     "metadata": {},
     "output_type": "execute_result"
    }
   ],
   "source": [
    "class Student:\n",
    "    roll=10\n",
    "    name=\"Samthosh\"\n",
    "    age=23\n",
    "    score=455\n",
    "    \n",
    "x=Student()\n",
    "x"
   ]
  },
  {
   "cell_type": "code",
   "execution_count": 21,
   "id": "e5ada767",
   "metadata": {},
   "outputs": [
    {
     "data": {
      "text/plain": [
       "455"
      ]
     },
     "execution_count": 21,
     "metadata": {},
     "output_type": "execute_result"
    }
   ],
   "source": [
    "x.roll\n",
    "\n",
    "x.name\n",
    "\n",
    "x.age\n",
    "\n",
    "x.score    # Last one is printed"
   ]
  },
  {
   "cell_type": "code",
   "execution_count": 27,
   "id": "4e98b3a9",
   "metadata": {},
   "outputs": [
    {
     "name": "stdout",
     "output_type": "stream",
     "text": [
      "10\n",
      "Samthosh\n",
      "23\n",
      "455\n"
     ]
    }
   ],
   "source": [
    "print(x.roll)\n",
    "print(x.name)\n",
    "print(x.age)\n",
    "print(x.score)"
   ]
  },
  {
   "cell_type": "code",
   "execution_count": 26,
   "id": "8283e45a",
   "metadata": {},
   "outputs": [
    {
     "name": "stdout",
     "output_type": "stream",
     "text": [
      "Roll  : 10\n",
      "Name  : Samthosh\n",
      "Age   : 23\n",
      "Score : 455\n"
     ]
    }
   ],
   "source": [
    "print(\"Roll  :\",x.roll)\n",
    "print(\"Name  :\",x.name)\n",
    "print(\"Age   :\",x.age)\n",
    "print(\"Score :\",x.score)"
   ]
  },
  {
   "cell_type": "code",
   "execution_count": 30,
   "id": "6f5db920",
   "metadata": {},
   "outputs": [
    {
     "name": "stdout",
     "output_type": "stream",
     "text": [
      "23 Sandy 21 400\n"
     ]
    }
   ],
   "source": [
    "y=Student()\n",
    "\n",
    "y.roll=23\n",
    "y.name=\"Sandy\"\n",
    "y.age=21\n",
    "y.score=400\n",
    "\n",
    "print(y.roll,y.name,y.age,y.score)"
   ]
  },
  {
   "cell_type": "code",
   "execution_count": 36,
   "id": "4b1577d4",
   "metadata": {},
   "outputs": [
    {
     "name": "stdout",
     "output_type": "stream",
     "text": [
      "<__main__.Student object at 0x0000029D743FF8B0>\n",
      "<__main__.Student object at 0x0000029D743FFEE0>\n",
      "<__main__.Student object at 0x0000029D743FF8B0>\n",
      "<__main__.Student object at 0x0000029D743FFEE0>\n"
     ]
    }
   ],
   "source": [
    "class Student:\n",
    "    def __init__(self):\n",
    "        print(self)\n",
    "\n",
    "x=Student()\n",
    "y=Student()\n",
    "\n",
    "print(x)\n",
    "print(y)"
   ]
  },
  {
   "cell_type": "code",
   "execution_count": 4,
   "id": "95775861",
   "metadata": {},
   "outputs": [
    {
     "name": "stdout",
     "output_type": "stream",
     "text": [
      "With in Constructor  <__main__.Student object at 0x0000011E66BADAC0>\n",
      "With in Constructor  <__main__.Student object at 0x0000011E66BADA30>\n",
      "<__main__.Student object at 0x0000011E66BADAC0>\n",
      "<__main__.Student object at 0x0000011E66BADA30>\n"
     ]
    }
   ],
   "source": [
    "class Student:\n",
    "    def __init__(self):\n",
    "        print(\"With in Constructor \",self)     # It's act be like a Constructor\n",
    "  \n",
    "x=Student()\n",
    "y=Student()\n",
    "\n",
    "print(x)\n",
    "print(y)"
   ]
  },
  {
   "cell_type": "code",
   "execution_count": 44,
   "id": "cd3b7ebc",
   "metadata": {},
   "outputs": [
    {
     "ename": "TypeError",
     "evalue": "__init__() missing 4 required positional arguments: 'roll', 'name', 'age', and 'score'",
     "output_type": "error",
     "traceback": [
      "\u001b[1;31m---------------------------------------------------------------------------\u001b[0m",
      "\u001b[1;31mTypeError\u001b[0m                                 Traceback (most recent call last)",
      "\u001b[1;32m~\\AppData\\Local\\Temp\\ipykernel_9008\\1687967506.py\u001b[0m in \u001b[0;36m<module>\u001b[1;34m\u001b[0m\n\u001b[0;32m     13\u001b[0m         \u001b[0mprint\u001b[0m\u001b[1;33m(\u001b[0m\u001b[1;34m\"Score :\"\u001b[0m\u001b[1;33m,\u001b[0m\u001b[0mself\u001b[0m\u001b[1;33m.\u001b[0m\u001b[0mscore\u001b[0m\u001b[1;33m)\u001b[0m\u001b[1;33m\u001b[0m\u001b[1;33m\u001b[0m\u001b[0m\n\u001b[0;32m     14\u001b[0m \u001b[1;33m\u001b[0m\u001b[0m\n\u001b[1;32m---> 15\u001b[1;33m \u001b[0mx\u001b[0m\u001b[1;33m=\u001b[0m\u001b[0mStudent\u001b[0m\u001b[1;33m(\u001b[0m\u001b[1;33m)\u001b[0m\u001b[1;33m\u001b[0m\u001b[1;33m\u001b[0m\u001b[0m\n\u001b[0m\u001b[0;32m     16\u001b[0m \u001b[0mx\u001b[0m\u001b[1;33m.\u001b[0m\u001b[0mdisplay\u001b[0m\u001b[1;33m(\u001b[0m\u001b[1;33m)\u001b[0m\u001b[1;33m\u001b[0m\u001b[1;33m\u001b[0m\u001b[0m\n",
      "\u001b[1;31mTypeError\u001b[0m: __init__() missing 4 required positional arguments: 'roll', 'name', 'age', and 'score'"
     ]
    }
   ],
   "source": [
    "class Student:\n",
    "    def __init__(self,roll,name,age,score):\n",
    "        self.roll=roll\n",
    "        self.name=name\n",
    "        self.age=age\n",
    "        self.score=score\n",
    "        print(\"Name\")\n",
    "        \n",
    "    def display(self):\n",
    "        print(\"Roll  :\",self.roll)\n",
    "        print(\"Name  :\",self.name)\n",
    "        print(\"Age   :\",self.age)\n",
    "        print(\"Score :\",self.score)\n",
    "        \n",
    "x=Student()\n",
    "x.display()"
   ]
  },
  {
   "cell_type": "code",
   "execution_count": 51,
   "id": "3522d27a",
   "metadata": {},
   "outputs": [
    {
     "name": "stdout",
     "output_type": "stream",
     "text": [
      "Name Santhosh\n",
      "Roll  : 117\n",
      "Name  : Santhosh\n",
      "Age   : 21\n",
      "Score : 555\n",
      "\n",
      "Name Sandy\n",
      "Roll  : 118\n",
      "Name  : Sandy\n",
      "Age   : 22\n",
      "Score : 567\n"
     ]
    }
   ],
   "source": [
    "class Student:\n",
    "    def __init__(self,roll,name,age,score):\n",
    "        self.roll=roll\n",
    "        self.name=name\n",
    "        self.age=age\n",
    "        self.score=score\n",
    "        print(\"Name\",self.name)\n",
    "        \n",
    "    def display(self):\n",
    "        print(\"Roll  :\",self.roll)\n",
    "        print(\"Name  :\",self.name)\n",
    "        print(\"Age   :\",self.age)\n",
    "        print(\"Score :\",self.score)\n",
    "        \n",
    "x=Student(117,\"Santhosh\",21,555)\n",
    "x.display()\n",
    "\n",
    "print()\n",
    "\n",
    "y=Student(118,\"Sandy\",22,567)\n",
    "y.display()\n"
   ]
  },
  {
   "cell_type": "code",
   "execution_count": 1,
   "id": "2e192bb5",
   "metadata": {},
   "outputs": [
    {
     "name": "stdout",
     "output_type": "stream",
     "text": [
      "Name \n",
      "Roll  : 0\n",
      "Name  : \n",
      "Age   : 0\n",
      "Score : 0\n",
      "Enter a Roll Number :117\n",
      "Enter a name :Santhosh\n",
      "Enter a age :21\n",
      "Enter a Score :455\n"
     ]
    }
   ],
   "source": [
    "class Student:\n",
    "    def __init__(self,roll=0,name=\"\",age=0,score=0):\n",
    "        self.roll=roll\n",
    "        self.name=name\n",
    "        self.age=age\n",
    "        self.score=score\n",
    "        print(\"Name\",self.name)     # Now,We are getting value from user.\n",
    "        \n",
    "    def display(self):\n",
    "        print(\"Roll  :\",self.roll)\n",
    "        print(\"Name  :\",self.name)\n",
    "        print(\"Age   :\",self.age)\n",
    "        print(\"Score :\",self.score)\n",
    "        \n",
    "    def accept(self):\n",
    "        self.roll=int(input(\"Enter a Roll Number :\"))\n",
    "        self.name=input(\"Enter a name :\")\n",
    "        self.age=int(input(\"Enter a age :\"))\n",
    "        self.score=int(input(\"Enter a Score :\"))\n",
    "        \n",
    "x=Student()\n",
    "x.display()\n",
    "x.accept()        # Miss Ordering...."
   ]
  },
  {
   "cell_type": "code",
   "execution_count": 3,
   "id": "c2ffaf65",
   "metadata": {},
   "outputs": [
    {
     "name": "stdout",
     "output_type": "stream",
     "text": [
      "Enter a Roll Number :112\n",
      "Enter a name :Santhosh\n",
      "Enter a age :22\n",
      "Enter a Score :480\n",
      "Roll  : 112\n",
      "Name  : Santhosh\n",
      "Age   : 22\n",
      "Score : 480\n",
      "\n",
      "Roll  : 118\n",
      "Name  : Sandy\n",
      "Age   : 21\n",
      "Score : 478\n"
     ]
    }
   ],
   "source": [
    "class Student:\n",
    "    def __init__(self,roll=0,name=\"\",age=0,score=0):\n",
    "        self.roll=roll\n",
    "        self.name=name\n",
    "        self.age=age\n",
    "        self.score=score    \n",
    "        \n",
    "    def display(self):\n",
    "        print(\"Roll  :\",self.roll)\n",
    "        print(\"Name  :\",self.name)\n",
    "        print(\"Age   :\",self.age)\n",
    "        print(\"Score :\",self.score)\n",
    "        \n",
    "    def accept(self):                                     # Now,We are getting value from user.\n",
    "        self.roll=int(input(\"Enter a Roll Number :\"))\n",
    "        self.name=input(\"Enter a name :\")\n",
    "        self.age=int(input(\"Enter a age :\"))\n",
    "        self.score=int(input(\"Enter a Score :\"))\n",
    "        \n",
    "x=Student()\n",
    "x.accept() #\"/n\"\n",
    "x.display()\n",
    "\n",
    "print()\n",
    "\n",
    "y=Student(118,\"Sandy\",21,478)\n",
    "y.display()"
   ]
  },
  {
   "cell_type": "code",
   "execution_count": 7,
   "id": "4e74db79",
   "metadata": {},
   "outputs": [
    {
     "name": "stdout",
     "output_type": "stream",
     "text": [
      "Enter a Roll Number :111\n",
      "Enter a name :Aravinth\n",
      "Enter a age :21\n",
      "Enter a Score :480\n",
      "Enter a Roll Number :222\n",
      "Enter a name :Praveen\n",
      "Enter a age :21\n",
      "Enter a Score :499\n",
      "Enter a Roll Number :333\n",
      "Enter a name :Santhosh\n",
      "Enter a age :499\n",
      "Enter a Score :499\n",
      "[<__main__.Student object at 0x000001EA8AF15580>, <__main__.Student object at 0x000001EA8AF15CD0>, <__main__.Student object at 0x000001EA8AF0FE20>]\n",
      "Roll  : 111\n",
      "Name  : Aravinth\n",
      "Age   : 21\n",
      "Score : 480\n",
      "Roll  : 222\n",
      "Name  : Praveen\n",
      "Age   : 21\n",
      "Score : 499\n",
      "Roll  : 333\n",
      "Name  : Santhosh\n",
      "Age   : 499\n",
      "Score : 499\n"
     ]
    }
   ],
   "source": [
    "lst=[]\n",
    "\n",
    "for i in range(3):\n",
    "    x=Student()\n",
    "    x.accept()\n",
    "    lst.append(x)\n",
    "print(lst)\n",
    "\n",
    "\n",
    "for i in lst:\n",
    "    i.display()\n",
    "    \n",
    "    "
   ]
  },
  {
   "cell_type": "markdown",
   "id": "57ef12b7",
   "metadata": {},
   "source": [
    "# FAQ in List"
   ]
  },
  {
   "cell_type": "raw",
   "id": "ebdbff25",
   "metadata": {},
   "source": [
    "1) Find Top 2\n",
    "\n",
    "2)Find Frequency\n",
    "\n",
    "3)Find Most frequency appearing Item\n",
    "\n",
    "4)Remove dupliates from a list"
   ]
  },
  {
   "cell_type": "code",
   "execution_count": 1,
   "id": "abaeb6fa",
   "metadata": {},
   "outputs": [
    {
     "name": "stdout",
     "output_type": "stream",
     "text": [
      "43 23\n"
     ]
    }
   ],
   "source": [
    "lst=[7,2,4,6,7,8,21,23,43]\n",
    "\n",
    "t1=lst[0]\n",
    "t2=lst[0]\n",
    "\n",
    "for i in lst:\n",
    "    if i>t1:\n",
    "        t2=t1\n",
    "        t1=i\n",
    "        \n",
    "    if i>t2 and i<t1:\n",
    "        t2=i\n",
    "print(t1,t2)"
   ]
  },
  {
   "cell_type": "code",
   "execution_count": 14,
   "id": "6bb6c565",
   "metadata": {},
   "outputs": [
    {
     "name": "stdout",
     "output_type": "stream",
     "text": [
      "{3: 2, 5: 3, 8: 1, 9: 2, 23: 1, 45: 1, 78: 1, 2: 2, 4: 1, 1: 1}\n"
     ]
    }
   ],
   "source": [
    "lst=[3,5,8,9,5,3,23,45,78,2,4,9,5,2,1]\n",
    "\n",
    "f={}\n",
    "\n",
    "for i in lst:\n",
    "    f[i]=lst.count(i)\n",
    "print(f)"
   ]
  },
  {
   "cell_type": "code",
   "execution_count": 15,
   "id": "90cc424b",
   "metadata": {},
   "outputs": [
    {
     "name": "stdout",
     "output_type": "stream",
     "text": [
      "5 3\n"
     ]
    }
   ],
   "source": [
    "key=0\n",
    "frq=0\n",
    "\n",
    "for k,v in f.items():\n",
    "    if v>frq:\n",
    "        key=k\n",
    "        frq=v\n",
    "print(key,frq)"
   ]
  },
  {
   "cell_type": "code",
   "execution_count": 13,
   "id": "96c5f092",
   "metadata": {},
   "outputs": [
    {
     "name": "stdout",
     "output_type": "stream",
     "text": [
      "[1, 2, 3, 4, 5]\n"
     ]
    }
   ],
   "source": [
    "lst=[1,2,3,1,4,5,3,5]\n",
    "\n",
    "n=[]\n",
    "\n",
    "for i in lst:\n",
    "    if i not in n:\n",
    "        n.append(i)\n",
    "print(n)"
   ]
  },
  {
   "cell_type": "markdown",
   "id": "ff5ca01f",
   "metadata": {},
   "source": [
    "# Multiple Inheritance"
   ]
  },
  {
   "cell_type": "code",
   "execution_count": 4,
   "id": "91bf7eef",
   "metadata": {},
   "outputs": [
    {
     "name": "stdout",
     "output_type": "stream",
     "text": [
      "Enter a roll Number :112\n",
      "Enter a name :Santhosh\n",
      "Enter a age :21\n",
      "Enter a score :455\n",
      "Roll  : 112\n",
      "Name  : Santhosh\n",
      "Age   : 21\n",
      "Score : 455\n"
     ]
    }
   ],
   "source": [
    "class Student:\n",
    "    def __init__(self,roll=0,name=\"\",age=0,score=0):\n",
    "        self.roll=roll\n",
    "        self.name=name\n",
    "        self.age=age\n",
    "        self.score=score\n",
    "        \n",
    "    def display(self):\n",
    "        print(\"Roll  :\",self.roll)\n",
    "        print(\"Name  :\",self.name)\n",
    "        print(\"Age   :\",self.age)\n",
    "        print(\"Score :\",self.score)\n",
    "        \n",
    "    def accept(self):\n",
    "        self.roll=int(input(\"Enter a roll Number :\"))\n",
    "        self.name=input(\"Enter a name :\")\n",
    "        self.age=int(input(\"Enter a age :\"))\n",
    "        self.score=int(input(\"Enter a score :\"))\n",
    "        \n",
    "x=Student()\n",
    "x.accept()\n",
    "x.display()\n"
   ]
  },
  {
   "cell_type": "code",
   "execution_count": 5,
   "id": "fd3be0d1",
   "metadata": {},
   "outputs": [
    {
     "name": "stdout",
     "output_type": "stream",
     "text": [
      "Enter a roll Number :113\n",
      "Enter a name :Sandy\n",
      "Enter a age :23\n",
      "Enter a score :480\n",
      "Roll  : 113\n",
      "Name  : Sandy\n",
      "Age   : 23\n",
      "Score : 480\n"
     ]
    }
   ],
   "source": [
    "class SchoolStudent(Student):\n",
    "    pass\n",
    "\n",
    "x=SchoolStudent()\n",
    "x.accept()\n",
    "x.display()"
   ]
  },
  {
   "cell_type": "code",
   "execution_count": 7,
   "id": "9df89275",
   "metadata": {},
   "outputs": [
    {
     "name": "stdout",
     "output_type": "stream",
     "text": [
      "Enter a roll Number :117\n",
      "Enter a name :Santhosh\n",
      "Enter a age :21\n",
      "Enter a score :499\n",
      "Enter a Std :5\n",
      "Enter a section :B\n",
      "Roll  : 117\n",
      "Name  : Santhosh\n",
      "Age   : 21\n",
      "Score : 499\n"
     ]
    }
   ],
   "source": [
    "class SchoolStudent(Student):\n",
    "    def __init__(self,roll=0,name=\"\",age=0,score=0,std=0,sec=\"\"):\n",
    "        Student.__init__(self,roll,name,age,score)\n",
    "        self.std=std\n",
    "        self.sec=sec\n",
    "        \n",
    "    def accept(self):\n",
    "        Student.accept(self)\n",
    "        self.std=int(input(\"Enter a Std :\"))\n",
    "        self.sec=input(\"Enter a section :\")\n",
    "        \n",
    "a=SchoolStudent()\n",
    "a.accept()\n",
    "a.display()"
   ]
  },
  {
   "cell_type": "code",
   "execution_count": 8,
   "id": "1dfa2069",
   "metadata": {},
   "outputs": [
    {
     "ename": "NameError",
     "evalue": "name 'SchoolStudent' is not defined",
     "output_type": "error",
     "traceback": [
      "\u001b[1;31m---------------------------------------------------------------------------\u001b[0m",
      "\u001b[1;31mNameError\u001b[0m                                 Traceback (most recent call last)",
      "\u001b[1;32m~\\AppData\\Local\\Temp\\ipykernel_5316\\1142735422.py\u001b[0m in \u001b[0;36m<module>\u001b[1;34m\u001b[0m\n\u001b[0;32m     24\u001b[0m         \u001b[0mself\u001b[0m\u001b[1;33m.\u001b[0m\u001b[0msec\u001b[0m\u001b[1;33m=\u001b[0m\u001b[0minput\u001b[0m\u001b[1;33m(\u001b[0m\u001b[1;34m\"Enter a Section :\"\u001b[0m\u001b[1;33m)\u001b[0m\u001b[1;33m\u001b[0m\u001b[1;33m\u001b[0m\u001b[0m\n\u001b[0;32m     25\u001b[0m \u001b[1;33m\u001b[0m\u001b[0m\n\u001b[1;32m---> 26\u001b[1;33m \u001b[0ma\u001b[0m\u001b[1;33m=\u001b[0m\u001b[0mSchoolStudent\u001b[0m\u001b[1;33m(\u001b[0m\u001b[1;33m)\u001b[0m\u001b[1;33m\u001b[0m\u001b[1;33m\u001b[0m\u001b[0m\n\u001b[0m\u001b[0;32m     27\u001b[0m \u001b[0mx\u001b[0m\u001b[1;33m.\u001b[0m\u001b[0maccept\u001b[0m\u001b[1;33m(\u001b[0m\u001b[1;33m)\u001b[0m\u001b[1;33m\u001b[0m\u001b[1;33m\u001b[0m\u001b[0m\n\u001b[0;32m     28\u001b[0m \u001b[0mx\u001b[0m\u001b[1;33m.\u001b[0m\u001b[0mdisplay\u001b[0m\u001b[1;33m(\u001b[0m\u001b[1;33m)\u001b[0m\u001b[1;33m\u001b[0m\u001b[1;33m\u001b[0m\u001b[0m\n",
      "\u001b[1;31mNameError\u001b[0m: name 'SchoolStudent' is not defined"
     ]
    }
   ],
   "source": [
    "class Schoolstudent(Student):\n",
    "    def __init__(self,roll,name,age,score,std,sec):\n",
    "        self.roll=roll\n",
    "        self.name=name\n",
    "        self.age=age\n",
    "        self.score=score\n",
    "        self.std=std\n",
    "        self.sec=sec\n",
    "        \n",
    "    def display(self):\n",
    "        print(\"Roll  :\",self.roll)\n",
    "        print(\"Name  :\",self.name)\n",
    "        print(\"Age   :\",self.age)\n",
    "        print(\"Score :\",self.score)\n",
    "        print(\"Stnd  :\",self.std)\n",
    "        print(\"Sect  :\",self.sec)\n",
    "        \n",
    "    def accept(self):\n",
    "        self.roll=int(input(\"Enter a roll number :\"))\n",
    "        self.name=input(\"Enter a name :\")\n",
    "        self.age=int(input(\"Enter a age :\"))\n",
    "        self.score=int(input(\"Enter a score :\"))\n",
    "        self.std=int(input(\"Enter a standard :\"))\n",
    "        self.sec=input(\"Enter a Section :\")\n",
    "        \n",
    "a=SchoolStudent()\n",
    "x.accept()\n",
    "x.display()\n",
    "    "
   ]
  },
  {
   "cell_type": "code",
   "execution_count": 45,
   "id": "0d4c4442",
   "metadata": {},
   "outputs": [
    {
     "name": "stdout",
     "output_type": "stream",
     "text": [
      "Enter a id number :12\n",
      "Enter a name :Santhosh\n",
      "Enter a Dept :B\n",
      "Enter a Salary :90000\n",
      "SID   : 12\n",
      "Name  : Santhosh\n",
      "Depart: B\n",
      "Salary: 90000\n"
     ]
    }
   ],
   "source": [
    "class Staff:\n",
    "    def __init__(self,sid=0,name=\"\",dept=\"\",salary=0):\n",
    "        self.sid=sid\n",
    "        self.name=name\n",
    "        self.dept=dept\n",
    "        self.salary=salary\n",
    "        \n",
    "    def accept(self):\n",
    "        self.sid=int(input(\"Enter a id number :\"))\n",
    "        self.name=input(\"Enter a name :\")\n",
    "        self.dept=input(\"Enter a Dept :\")\n",
    "        self.salary=int(input(\"Enter a Salary :\"))\n",
    "        \n",
    "    def display(self):\n",
    "        print(\"SID   :\",self.sid)\n",
    "        print(\"Name  :\",self.name)\n",
    "        print(\"Depart:\",self.dept)\n",
    "        print(\"Salary:\",self.salary)\n",
    "        \n",
    "a=Staff()\n",
    "a.accept()\n",
    "a.display()"
   ]
  },
  {
   "cell_type": "code",
   "execution_count": 46,
   "id": "d00b5170",
   "metadata": {},
   "outputs": [
    {
     "name": "stdout",
     "output_type": "stream",
     "text": [
      "Enter a roll Number :117\n",
      "Enter a name :Santhosh\n",
      "Enter a age :21\n",
      "Enter a score :455\n"
     ]
    },
    {
     "ename": "AttributeError",
     "evalue": "'RS' object has no attribute 'dispaly'",
     "output_type": "error",
     "traceback": [
      "\u001b[1;31m---------------------------------------------------------------------------\u001b[0m",
      "\u001b[1;31mAttributeError\u001b[0m                            Traceback (most recent call last)",
      "\u001b[1;32m~\\AppData\\Local\\Temp\\ipykernel_276\\868157381.py\u001b[0m in \u001b[0;36m<module>\u001b[1;34m\u001b[0m\n\u001b[0;32m      4\u001b[0m \u001b[0me\u001b[0m\u001b[1;33m=\u001b[0m\u001b[0mRS\u001b[0m\u001b[1;33m(\u001b[0m\u001b[1;33m)\u001b[0m\u001b[1;33m\u001b[0m\u001b[1;33m\u001b[0m\u001b[0m\n\u001b[0;32m      5\u001b[0m \u001b[0me\u001b[0m\u001b[1;33m.\u001b[0m\u001b[0maccept\u001b[0m\u001b[1;33m(\u001b[0m\u001b[1;33m)\u001b[0m\u001b[1;33m\u001b[0m\u001b[1;33m\u001b[0m\u001b[0m\n\u001b[1;32m----> 6\u001b[1;33m \u001b[0me\u001b[0m\u001b[1;33m.\u001b[0m\u001b[0mdispaly\u001b[0m\u001b[1;33m(\u001b[0m\u001b[1;33m)\u001b[0m\u001b[1;33m\u001b[0m\u001b[1;33m\u001b[0m\u001b[0m\n\u001b[0m",
      "\u001b[1;31mAttributeError\u001b[0m: 'RS' object has no attribute 'dispaly'"
     ]
    }
   ],
   "source": [
    "class RS(Student,Staff):\n",
    "    pass\n",
    "\n",
    "e=RS()\n",
    "e.accept()\n",
    "e.dispaly()"
   ]
  },
  {
   "cell_type": "markdown",
   "id": "b3ccfd62",
   "metadata": {},
   "source": [
    "# Operator Overloading"
   ]
  },
  {
   "cell_type": "code",
   "execution_count": 1,
   "id": "c401890a",
   "metadata": {},
   "outputs": [
    {
     "ename": "TypeError",
     "evalue": "__init__() missing 3 required positional arguments: 'd', 'm', and 'y'",
     "output_type": "error",
     "traceback": [
      "\u001b[1;31m---------------------------------------------------------------------------\u001b[0m",
      "\u001b[1;31mTypeError\u001b[0m                                 Traceback (most recent call last)",
      "\u001b[1;32m~\\AppData\\Local\\Temp\\ipykernel_3128\\1009206462.py\u001b[0m in \u001b[0;36m<module>\u001b[1;34m\u001b[0m\n\u001b[0;32m      5\u001b[0m         \u001b[0mself\u001b[0m\u001b[1;33m.\u001b[0m\u001b[0my\u001b[0m\u001b[1;33m=\u001b[0m\u001b[0my\u001b[0m\u001b[1;33m\u001b[0m\u001b[1;33m\u001b[0m\u001b[0m\n\u001b[0;32m      6\u001b[0m \u001b[1;33m\u001b[0m\u001b[0m\n\u001b[1;32m----> 7\u001b[1;33m \u001b[0mx\u001b[0m\u001b[1;33m=\u001b[0m\u001b[0mMyDate\u001b[0m\u001b[1;33m(\u001b[0m\u001b[1;33m)\u001b[0m\u001b[1;33m\u001b[0m\u001b[1;33m\u001b[0m\u001b[0m\n\u001b[0m",
      "\u001b[1;31mTypeError\u001b[0m: __init__() missing 3 required positional arguments: 'd', 'm', and 'y'"
     ]
    }
   ],
   "source": [
    "class MyDate:\n",
    "    def __init__(self,d,m,y):\n",
    "        self.d=d\n",
    "        self.m=m\n",
    "        self.y=y\n",
    "        \n",
    "x=MyDate()       # Here,Missing the arguments."
   ]
  },
  {
   "cell_type": "code",
   "execution_count": 7,
   "id": "deed83c8",
   "metadata": {},
   "outputs": [
    {
     "name": "stdout",
     "output_type": "stream",
     "text": [
      "<__main__.MyDate object at 0x000001FA696546A0>\n"
     ]
    }
   ],
   "source": [
    "class MyDate:\n",
    "    def __init__(self,d,m,y):\n",
    "        self.d=d\n",
    "        self.m=m\n",
    "        self.y=y\n",
    "        \n",
    "x=MyDate(5,4,2002)\n",
    "\n",
    "print(x)            # Now,Here print the Memeory Address."
   ]
  },
  {
   "cell_type": "code",
   "execution_count": 8,
   "id": "63b67ddd",
   "metadata": {},
   "outputs": [
    {
     "ename": "TypeError",
     "evalue": "unsupported operand type(s) for +: 'MyDate' and 'int'",
     "output_type": "error",
     "traceback": [
      "\u001b[1;31m---------------------------------------------------------------------------\u001b[0m",
      "\u001b[1;31mTypeError\u001b[0m                                 Traceback (most recent call last)",
      "\u001b[1;32m~\\AppData\\Local\\Temp\\ipykernel_3128\\1493486723.py\u001b[0m in \u001b[0;36m<module>\u001b[1;34m\u001b[0m\n\u001b[0;32m      7\u001b[0m \u001b[0mx\u001b[0m\u001b[1;33m=\u001b[0m\u001b[0mMyDate\u001b[0m\u001b[1;33m(\u001b[0m\u001b[1;36m5\u001b[0m\u001b[1;33m,\u001b[0m\u001b[1;36m4\u001b[0m\u001b[1;33m,\u001b[0m\u001b[1;36m2002\u001b[0m\u001b[1;33m)\u001b[0m\u001b[1;33m\u001b[0m\u001b[1;33m\u001b[0m\u001b[0m\n\u001b[0;32m      8\u001b[0m \u001b[1;33m\u001b[0m\u001b[0m\n\u001b[1;32m----> 9\u001b[1;33m \u001b[0mx\u001b[0m\u001b[1;33m+\u001b[0m\u001b[1;36m1\u001b[0m               \u001b[1;31m# Now, Here Increment the date vlaue.\u001b[0m\u001b[1;33m\u001b[0m\u001b[1;33m\u001b[0m\u001b[0m\n\u001b[0m",
      "\u001b[1;31mTypeError\u001b[0m: unsupported operand type(s) for +: 'MyDate' and 'int'"
     ]
    }
   ],
   "source": [
    "class MyDate:\n",
    "    def __init__(self,d,m,y):\n",
    "        self.d=d\n",
    "        self.m=m\n",
    "        self.y=y\n",
    "\n",
    "x=MyDate(5,4,2002)\n",
    "\n",
    "x+1               # Now, Here Increment the date vlaue."
   ]
  },
  {
   "cell_type": "code",
   "execution_count": 13,
   "id": "77fbd601",
   "metadata": {},
   "outputs": [
    {
     "data": {
      "text/plain": [
       "<__main__.MyDate at 0x1fa69752d90>"
      ]
     },
     "execution_count": 13,
     "metadata": {},
     "output_type": "execute_result"
    }
   ],
   "source": [
    "class MyDate:\n",
    "    def __init__(self,d,m,y):\n",
    "        self.d=d\n",
    "        self.m=m\n",
    "        self.y=y\n",
    "        \n",
    "    def __add__(self,object):\n",
    "        self.d=self.d+1\n",
    "        return self\n",
    "        \n",
    "x=MyDate(5,4,2002)\n",
    "\n",
    "x+1                # Now, Here Increment the date vlaue. Now also print the Memory Address.\n",
    "                   # So we have give the print format."
   ]
  },
  {
   "cell_type": "code",
   "execution_count": 28,
   "id": "cf99ba72",
   "metadata": {},
   "outputs": [
    {
     "name": "stdout",
     "output_type": "stream",
     "text": [
      "5/4/2002\n"
     ]
    }
   ],
   "source": [
    "class MyDate:\n",
    "    def __init__(self,d,m,y):\n",
    "        self.d=d\n",
    "        self.m=m\n",
    "        self.y=y\n",
    "        \n",
    "    def __add__(self,object):\n",
    "        self.d=self.d+1\n",
    "        return self\n",
    "    \n",
    "    def __str__(self):     # It will help the printing format.\n",
    "        return f\"{self.d}/{self.m}/{self.y}\"\n",
    "        \n",
    "x=MyDate(5,4,2002)\n",
    "\n",
    "# x+1\n",
    "print(x)"
   ]
  },
  {
   "cell_type": "code",
   "execution_count": 25,
   "id": "127b19c1",
   "metadata": {},
   "outputs": [
    {
     "data": {
      "text/plain": [
       "['__add__',\n",
       " '__class__',\n",
       " '__delattr__',\n",
       " '__dict__',\n",
       " '__dir__',\n",
       " '__doc__',\n",
       " '__eq__',\n",
       " '__format__',\n",
       " '__ge__',\n",
       " '__getattribute__',\n",
       " '__gt__',\n",
       " '__hash__',\n",
       " '__init__',\n",
       " '__init_subclass__',\n",
       " '__le__',\n",
       " '__lt__',\n",
       " '__module__',\n",
       " '__ne__',\n",
       " '__new__',\n",
       " '__reduce__',\n",
       " '__reduce_ex__',\n",
       " '__repr__',\n",
       " '__setattr__',\n",
       " '__sizeof__',\n",
       " '__str__',\n",
       " '__subclasshook__',\n",
       " '__weakref__',\n",
       " 'd',\n",
       " 'm',\n",
       " 'y']"
      ]
     },
     "execution_count": 25,
     "metadata": {},
     "output_type": "execute_result"
    }
   ],
   "source": [
    "dir(x)"
   ]
  },
  {
   "cell_type": "code",
   "execution_count": 35,
   "id": "aa427157",
   "metadata": {},
   "outputs": [
    {
     "name": "stdout",
     "output_type": "stream",
     "text": [
      "5/4/2002\n"
     ]
    }
   ],
   "source": [
    "class MyDate:\n",
    "    def __init__(self,d,m,y):\n",
    "        self.d=d\n",
    "        self.m=m\n",
    "        self.y=y\n",
    "        \n",
    "    def __add__(self,object):\n",
    "        self.d=self.d+1\n",
    "        return self\n",
    "    \n",
    "    def __str__(self):\n",
    "        return f\"{self.d}/{self.m}/{self.y}\"\n",
    "    \n",
    "    def __sub__(self,other):\n",
    "        self.d-=other\n",
    "        return self\n",
    "    \n",
    "x=MyDate(5,4,2002)\n",
    "\n",
    "x+1\n",
    "x-1\n",
    "print(x)"
   ]
  },
  {
   "cell_type": "markdown",
   "id": "ade58d6b",
   "metadata": {},
   "source": [
    "# Abstract Method"
   ]
  },
  {
   "cell_type": "code",
   "execution_count": 38,
   "id": "015b17b6",
   "metadata": {},
   "outputs": [
    {
     "name": "stdout",
     "output_type": "stream",
     "text": [
      "Hii\n"
     ]
    }
   ],
   "source": [
    "# First of all import a abstract method.\n",
    "\n",
    "class MyClass:\n",
    "    \n",
    "    def sayHi(self):\n",
    "        print(\"Hii\")\n",
    "        \n",
    "class child(MyClass):\n",
    "    pass\n",
    "\n",
    "x=child()\n",
    "x.sayHi()"
   ]
  },
  {
   "cell_type": "code",
   "execution_count": 47,
   "id": "63f28679",
   "metadata": {},
   "outputs": [],
   "source": [
    "from abc import ABC,abstractmethod\n",
    "\n",
    "class MyClass:\n",
    "    \n",
    "    @abstractmethod     # Now it will act as a (Abstract Class)\n",
    "    def sayHi(self):\n",
    "        pass\n",
    "    \n",
    "class child(MyClass):  # Here It will show a error.But did't show.\n",
    "    pass\n",
    "\n",
    "x=child()\n",
    "x.sayHi()"
   ]
  },
  {
   "cell_type": "code",
   "execution_count": 48,
   "id": "03d12257",
   "metadata": {},
   "outputs": [
    {
     "name": "stdout",
     "output_type": "stream",
     "text": [
      "This is sayHi mehtod in the child\n"
     ]
    }
   ],
   "source": [
    "from abc import ABC,abstractmethod\n",
    "\n",
    "class MyClass:\n",
    "    \n",
    "    @abstractmethod     # Now it will act as a (Abstract Class)\n",
    "    def sayHi(self):\n",
    "        pass\n",
    "    \n",
    "class child(MyClass): \n",
    "    def sayHi(self):\n",
    "        print(\"This is sayHi mehtod in the child\")\n",
    "    \n",
    "x=child()\n",
    "x.sayHi()"
   ]
  },
  {
   "cell_type": "markdown",
   "id": "031934c4",
   "metadata": {},
   "source": [
    "# SQLite Database Connection"
   ]
  },
  {
   "cell_type": "code",
   "execution_count": null,
   "id": "09d1ef3c",
   "metadata": {},
   "outputs": [],
   "source": []
  },
  {
   "cell_type": "code",
   "execution_count": null,
   "id": "d2ccfb8a",
   "metadata": {},
   "outputs": [],
   "source": []
  },
  {
   "cell_type": "code",
   "execution_count": null,
   "id": "1c2c0aaf",
   "metadata": {},
   "outputs": [],
   "source": []
  },
  {
   "cell_type": "code",
   "execution_count": null,
   "id": "5611d0dc",
   "metadata": {},
   "outputs": [],
   "source": []
  },
  {
   "cell_type": "code",
   "execution_count": null,
   "id": "57452ce6",
   "metadata": {},
   "outputs": [],
   "source": []
  },
  {
   "cell_type": "code",
   "execution_count": null,
   "id": "54f9f628",
   "metadata": {},
   "outputs": [],
   "source": []
  },
  {
   "cell_type": "code",
   "execution_count": null,
   "id": "24f4573c",
   "metadata": {},
   "outputs": [],
   "source": []
  }
 ],
 "metadata": {
  "kernelspec": {
   "display_name": "Python 3 (ipykernel)",
   "language": "python",
   "name": "python3"
  },
  "language_info": {
   "codemirror_mode": {
    "name": "ipython",
    "version": 3
   },
   "file_extension": ".py",
   "mimetype": "text/x-python",
   "name": "python",
   "nbconvert_exporter": "python",
   "pygments_lexer": "ipython3",
   "version": "3.9.13"
  }
 },
 "nbformat": 4,
 "nbformat_minor": 5
}
