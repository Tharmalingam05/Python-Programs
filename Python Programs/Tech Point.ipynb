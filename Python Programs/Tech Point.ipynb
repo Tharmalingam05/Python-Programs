{
 "cells": [
  {
   "cell_type": "code",
   "execution_count": 1,
   "id": "36070028",
   "metadata": {},
   "outputs": [
    {
     "name": "stdout",
     "output_type": "stream",
     "text": [
      "2020\n",
      "Leap Year\n"
     ]
    }
   ],
   "source": [
    "# Leap Year not Leap year\n",
    "\n",
    "year=int(input())\n",
    "\n",
    "if(year%4==0 and year%100!=0):\n",
    "    print(\"Leap Year\")\n",
    "\n",
    "else:\n",
    "    print(\"Not Laep Year\")"
   ]
  },
  {
   "cell_type": "code",
   "execution_count": 2,
   "id": "1d187166",
   "metadata": {},
   "outputs": [],
   "source": [
    "# Largest amount in Python\n",
    "    \n"
   ]
  },
  {
   "cell_type": "code",
   "execution_count": 1,
   "id": "9c25b252",
   "metadata": {},
   "outputs": [
    {
     "name": "stdout",
     "output_type": "stream",
     "text": [
      "5\n",
      " a prime Number\n"
     ]
    }
   ],
   "source": [
    "# Prime Or Not Prime\n",
    "\n",
    "n=int(input())\n",
    "\n",
    "for i in range(2,n):\n",
    "    if n%i==0:\n",
    "        print(n,\"is not a prime number\")\n",
    "        break\n",
    "else:\n",
    "    print(\" a prime Number\")"
   ]
  },
  {
   "cell_type": "code",
   "execution_count": 9,
   "id": "07bd69b4",
   "metadata": {},
   "outputs": [
    {
     "name": "stdout",
     "output_type": "stream",
     "text": [
      "1\n",
      "10\n",
      "1 2 3 5 7 "
     ]
    }
   ],
   "source": [
    "srt=int(input())\n",
    "end=int(input())\n",
    "\n",
    "for i in range(srt,end+1):\n",
    "    for j in range(2,i):\n",
    "        if i%j==0:\n",
    "            break\n",
    "            \n",
    "    else:\n",
    "        print(i,end=\" \")"
   ]
  },
  {
   "cell_type": "code",
   "execution_count": 11,
   "id": "5d8f0b8c",
   "metadata": {},
   "outputs": [
    {
     "name": "stdout",
     "output_type": "stream",
     "text": [
      "10\n",
      "0 1 1 2 3 5 8 13 21 34 "
     ]
    }
   ],
   "source": [
    "n=int(input())\n",
    "\n",
    "n1=0\n",
    "n2=1\n",
    "\n",
    "sum=0\n",
    "\n",
    "for i in range(0,n):\n",
    "    print(sum,end=\" \")\n",
    "    \n",
    "    n1=n2\n",
    "    n2=sum\n",
    "    sum=n1+n2"
   ]
  },
  {
   "cell_type": "code",
   "execution_count": 14,
   "id": "fd5b39f6",
   "metadata": {},
   "outputs": [
    {
     "name": "stdout",
     "output_type": "stream",
     "text": [
      "Santhosh\n",
      "Snthsh\n"
     ]
    }
   ],
   "source": [
    "# Remove vowels\n",
    "\n",
    "str=input()\n",
    "\n",
    "vow=\"aeiouAEIOU\"\n",
    "\n",
    "for i in str:\n",
    "    if i in vow:\n",
    "        str=str.replace(i,\"\")\n",
    "print(str)"
   ]
  },
  {
   "cell_type": "code",
   "execution_count": 15,
   "id": "debacde3",
   "metadata": {},
   "outputs": [
    {
     "name": "stdout",
     "output_type": "stream",
     "text": [
      "Sandy\n",
      "Sndy\n"
     ]
    }
   ],
   "source": [
    "str=input()\n",
    "\n",
    "vow=\"aeiouAEIOU\"\n",
    "\n",
    "for i in str:\n",
    "    if i in vow:\n",
    "        str=str.replace(i,\"\")\n",
    "print(str)"
   ]
  },
  {
   "cell_type": "code",
   "execution_count": 7,
   "id": "b8532019",
   "metadata": {},
   "outputs": [
    {
     "name": "stdout",
     "output_type": "stream",
     "text": [
      "Sandy\n"
     ]
    },
    {
     "data": {
      "text/plain": [
       "'Sndy'"
      ]
     },
     "execution_count": 7,
     "metadata": {},
     "output_type": "execute_result"
    }
   ],
   "source": [
    "def rem(string):\n",
    "    vow=('a','i','o','e','u','A','E','I','O','U')\n",
    "    \n",
    "    for i in string:\n",
    "        if i in vow:\n",
    "            string=string.replace(i,\"\")\n",
    "#   print(string)\n",
    "    return string\n",
    "\n",
    "\n",
    "string=input()\n",
    "rem(string)\n"
   ]
  },
  {
   "cell_type": "code",
   "execution_count": 14,
   "id": "e9928e68",
   "metadata": {},
   "outputs": [
    {
     "name": "stdout",
     "output_type": "stream",
     "text": [
      "santhosh\n",
      "a \n",
      "o \n",
      "2\n"
     ]
    }
   ],
   "source": [
    "# Count vowels letters\n",
    "\n",
    "st=input()\n",
    "\n",
    "string=st.lower()\n",
    "\n",
    "list=['a','i','o','e','u']\n",
    "\n",
    "count=0\n",
    "\n",
    "for i in string:\n",
    "    if i in list:\n",
    "        print(i,end=\" \")\n",
    "        count=count+1\n",
    "        \n",
    "print(count)"
   ]
  },
  {
   "cell_type": "code",
   "execution_count": 22,
   "id": "a5a0aac0",
   "metadata": {},
   "outputs": [
    {
     "name": "stdout",
     "output_type": "stream",
     "text": [
      "5\n",
      "1\n",
      "2\n",
      "3\n",
      "1\n",
      "2\n",
      "[1, 2, 3, 1, 2]\n",
      "[1, 2, 3]\n",
      "[1, 2]\n"
     ]
    }
   ],
   "source": [
    "# Remove duplicate element\n",
    "\n",
    "list=[]\n",
    "\n",
    "l=int(input())\n",
    "\n",
    "for i in range(1,l+1):\n",
    "    val=int(input())\n",
    "    list.append(val)\n",
    "    \n",
    "print(list)\n",
    "\n",
    "uni=[]\n",
    "dup=[]\n",
    "\n",
    "for i in list:\n",
    "    if i not in uni:\n",
    "        uni.append(i)\n",
    "        \n",
    "    elif i not in dup:\n",
    "        dup.append(i)\n",
    "        \n",
    "print(uni)\n",
    "print(dup)"
   ]
  },
  {
   "cell_type": "code",
   "execution_count": 25,
   "id": "273d14de",
   "metadata": {},
   "outputs": [
    {
     "name": "stdout",
     "output_type": "stream",
     "text": [
      "2\n",
      "2 5\n"
     ]
    }
   ],
   "source": [
    "# Number of occurence\n",
    "\n",
    "list=[1,2,1,2,3,2,2,2,4,5,6]\n",
    "\n",
    "x=int(input())\n",
    "\n",
    "count=0\n",
    "\n",
    "for i in list:\n",
    "    if i==x:\n",
    "        count=count+1\n",
    "        \n",
    "print(x,count)"
   ]
  },
  {
   "cell_type": "code",
   "execution_count": 27,
   "id": "b44225fd",
   "metadata": {},
   "outputs": [
    {
     "name": "stdout",
     "output_type": "stream",
     "text": [
      "1\n",
      "1 2\n"
     ]
    }
   ],
   "source": [
    "y=int(input())\n",
    "\n",
    "print(y,list.count(y))"
   ]
  },
  {
   "cell_type": "code",
   "execution_count": 28,
   "id": "f7261bf9",
   "metadata": {},
   "outputs": [
    {
     "name": "stdout",
     "output_type": "stream",
     "text": [
      "santhosh\n",
      "s\n",
      "s 2\n"
     ]
    }
   ],
   "source": [
    "val=input()\n",
    "\n",
    "newval=val.lower()\n",
    "\n",
    "fin=input()\n",
    "\n",
    "count=0\n",
    "\n",
    "for i in newval:\n",
    "    if i == fin:\n",
    "        count=count+1\n",
    "        \n",
    "print(fin,count)"
   ]
  },
  {
   "cell_type": "code",
   "execution_count": null,
   "id": "7f0ffdb1",
   "metadata": {},
   "outputs": [],
   "source": []
  }
 ],
 "metadata": {
  "kernelspec": {
   "display_name": "Python 3 (ipykernel)",
   "language": "python",
   "name": "python3"
  },
  "language_info": {
   "codemirror_mode": {
    "name": "ipython",
    "version": 3
   },
   "file_extension": ".py",
   "mimetype": "text/x-python",
   "name": "python",
   "nbconvert_exporter": "python",
   "pygments_lexer": "ipython3",
   "version": "3.9.13"
  }
 },
 "nbformat": 4,
 "nbformat_minor": 5
}
